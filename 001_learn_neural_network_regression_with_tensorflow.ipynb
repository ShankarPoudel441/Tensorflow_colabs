{
  "nbformat": 4,
  "nbformat_minor": 0,
  "metadata": {
    "colab": {
      "name": "001-learn-neural-network-regression-with-tensorflow.ipynb",
      "provenance": [],
      "collapsed_sections": [],
      "mount_file_id": "1H3HVkAyL-jupWHN6NAZXVWY-DLsVIct_",
      "authorship_tag": "ABX9TyMRIKAsXHqnL1bT3ZOjk+kV",
      "include_colab_link": true
    },
    "kernelspec": {
      "name": "python3",
      "display_name": "Python 3"
    },
    "language_info": {
      "name": "python"
    },
    "accelerator": "GPU"
  },
  "cells": [
    {
      "cell_type": "markdown",
      "metadata": {
        "id": "view-in-github",
        "colab_type": "text"
      },
      "source": [
        "<a href=\"https://colab.research.google.com/github/ShankarPoudel441/Tensorflow_colabs/blob/master/001_learn_neural_network_regression_with_tensorflow.ipynb\" target=\"_parent\"><img src=\"https://colab.research.google.com/assets/colab-badge.svg\" alt=\"Open In Colab\"/></a>"
      ]
    },
    {
      "cell_type": "code",
      "execution_count": null,
      "metadata": {
        "id": "vnY5fb5XeH-Y"
      },
      "outputs": [],
      "source": [
        "import tensorflow as tf\n",
        "import numpy as np\n",
        "import pandas as pd\n",
        "import datetime\n",
        "import matplotlib.pyplot as plt"
      ]
    },
    {
      "cell_type": "code",
      "source": [
        "print(tf.__version__)"
      ],
      "metadata": {
        "colab": {
          "base_uri": "https://localhost:8080/"
        },
        "id": "nZ9QCAI8iwwt",
        "outputId": "6e045c16-0225-462e-e2db-96fe0551c9e3"
      },
      "execution_count": null,
      "outputs": [
        {
          "output_type": "stream",
          "name": "stdout",
          "text": [
            "2.7.0\n"
          ]
        }
      ]
    },
    {
      "cell_type": "code",
      "source": [
        "#Create features:\n",
        "X=np.array([-7.0, -4, -1, 2, 5, 8, 11,14])\n",
        "\n",
        "#Create labels\n",
        "y=np.array([3.0,6,9,12,15,18,21,24])\n",
        "\n",
        "plt.scatter(X,y)"
      ],
      "metadata": {
        "colab": {
          "base_uri": "https://localhost:8080/",
          "height": 286
        },
        "id": "A7JuolIdjDrC",
        "outputId": "b36fe09d-01eb-4d78-9b28-a69d8b641d37"
      },
      "execution_count": null,
      "outputs": [
        {
          "output_type": "execute_result",
          "data": {
            "text/plain": [
              "<matplotlib.collections.PathCollection at 0x7fc4d0d3a450>"
            ]
          },
          "metadata": {},
          "execution_count": 3
        },
        {
          "output_type": "display_data",
          "data": {
            "image/png": "[encoded data removed]",
            "text/plain": [
              "<Figure size 432x288 with 1 Axes>"
            ]
          },
          "metadata": {
            "needs_background": "light"
          }
        }
      ]
    },
    {
      "cell_type": "markdown",
      "source": [
        "Input and Output shapes"
      ],
      "metadata": {
        "id": "1gcAM5Szjry2"
      }
    },
    {
      "cell_type": "code",
      "source": [
        "#Create demo tensor for our housing price prediction problem\n",
        "\n",
        "house_info=tf.constant([\"bedroom\",\"bathrooms\",\"garage\"])\n",
        "house_prince=tf.constant([939700])\n",
        "house_info,house_prince"
      ],
      "metadata": {
        "colab": {
          "base_uri": "https://localhost:8080/"
        },
        "id": "6jZB_CRKj2YV",
        "outputId": "3cf33db4-d0a6-4484-e600-a43127631c53"
      },
      "execution_count": null,
      "outputs": [
        {
          "output_type": "execute_result",
          "data": {
            "text/plain": [
              "(<tf.Tensor: shape=(3,), dtype=string, numpy=array([b'bedroom', b'bathrooms', b'garage'], dtype=object)>,\n",
              " <tf.Tensor: shape=(1,), dtype=int32, numpy=array([939700], dtype=int32)>)"
            ]
          },
          "metadata": {},
          "execution_count": 4
        }
      ]
    },
    {
      "cell_type": "code",
      "source": [
        " #Turn numpy array into tensors\n",
        "\n",
        "X=tf.cast(tf.constant(X), dtype=tf.float32)\n",
        "y=tf.cast(tf.constant(y), dtype=tf.float32)\n",
        "X,y"
      ],
      "metadata": {
        "colab": {
          "base_uri": "https://localhost:8080/"
        },
        "id": "mtY9TPiGkUw3",
        "outputId": "a2929471-a50b-40a0-ed7f-dd810c6aeb96"
      },
      "execution_count": null,
      "outputs": [
        {
          "output_type": "execute_result",
          "data": {
            "text/plain": [
              "(<tf.Tensor: shape=(8,), dtype=float32, numpy=array([-7., -4., -1.,  2.,  5.,  8., 11., 14.], dtype=float32)>,\n",
              " <tf.Tensor: shape=(8,), dtype=float32, numpy=array([ 3.,  6.,  9., 12., 15., 18., 21., 24.], dtype=float32)>)"
            ]
          },
          "metadata": {},
          "execution_count": 5
        }
      ]
    },
    {
      "cell_type": "code",
      "source": [
        "input_shape=X[0].shape\n",
        "output_shape=y[0].shape\n",
        "input_shape,output_shape"
      ],
      "metadata": {
        "colab": {
          "base_uri": "https://localhost:8080/"
        },
        "id": "r9FOgBfjl-JM",
        "outputId": "b06a5e05-b6ab-4987-daba-2af4c73f44cf"
      },
      "execution_count": null,
      "outputs": [
        {
          "output_type": "execute_result",
          "data": {
            "text/plain": [
              "(TensorShape([]), TensorShape([]))"
            ]
          },
          "metadata": {},
          "execution_count": 6
        }
      ]
    },
    {
      "cell_type": "code",
      "source": [
        "plt.scatter(X,y)"
      ],
      "metadata": {
        "colab": {
          "base_uri": "https://localhost:8080/",
          "height": 286
        },
        "id": "dmpWv94pmG-I",
        "outputId": "1aab94fe-5abd-4af1-de5b-dde1c9fb7a97"
      },
      "execution_count": null,
      "outputs": [
        {
          "output_type": "execute_result",
          "data": {
            "text/plain": [
              "<matplotlib.collections.PathCollection at 0x7fc4d0ca13d0>"
            ]
          },
          "metadata": {},
          "execution_count": 7
        },
        {
          "output_type": "display_data",
          "data": {
            "image/png": "[encoded data removed]",
            "text/plain": [
              "<Figure size 432x288 with 1 Axes>"
            ]
          },
          "metadata": {
            "needs_background": "light"
          }
        }
      ]
    },
    {
      "cell_type": "code",
      "source": [
        ""
      ],
      "metadata": {
        "id": "bL3oM9snmJ7D"
      },
      "execution_count": null,
      "outputs": []
    },
    {
      "cell_type": "markdown",
      "source": [
        "## Steps in modelling with Tensorflow\n",
        "\n",
        "1. Creating a model - define the input and output layers, as well as the\n",
        "  hidden layers of a deep learning model.\n",
        "2. Compiling a model- define the loss function (in other words, the \n",
        "which tells our model how wring it is) and the optimizer (tells our\n",
        "model how to improve the patterns and its learning) and evaluation \n",
        "metrics (what we can use to intrepret the performance of our model).\n",
        "3. Fitting a model - letting the model try to find the patterns between\n",
        "X and y (features and labels).\n",
        "4. Evaluate the model trained"
      ],
      "metadata": {
        "id": "cuRbaan9mMof"
      }
    },
    {
      "cell_type": "markdown",
      "source": [
        "\n"
      ],
      "metadata": {
        "id": "MxJBmMFaniFw"
      }
    },
    {
      "cell_type": "code",
      "source": [
        ""
      ],
      "metadata": {
        "id": "8W1NIinPt98m"
      },
      "execution_count": null,
      "outputs": []
    },
    {
      "cell_type": "code",
      "source": [
        "#Set random seed\n",
        "tf.random.set_seed(42)\n",
        "\n",
        "#1. Create a modle using sequential API\n",
        "model= tf.keras.Sequential([\n",
        "    tf.keras.layers.Dense(1,)\n",
        "])\n",
        "\n",
        "#2. Compile the model\n",
        "model.compile(\n",
        "    loss=tf.keras.losses.mae,  #mae is short for mean absolute error\n",
        "    optimizer=tf.keras.optimizers.SGD(),  #sgd is short for stochastic gradiet descent\n",
        "    metrics=[\"mae\"]\n",
        ")\n",
        "\n",
        "#Fit the model\n",
        "model.fit(tf.expand_dims(X, axis=-1), y, epochs=5)"
      ],
      "metadata": {
        "colab": {
          "base_uri": "https://localhost:8080/"
        },
        "id": "pwhsvRhunk4P",
        "outputId": "d1a86e70-41be-4126-d3ad-265adb5bbea1"
      },
      "execution_count": null,
      "outputs": [
        {
          "output_type": "stream",
          "name": "stdout",
          "text": [
            "Epoch 1/5\n",
            "1/1 [==============================] - 1s 1s/step - loss: 11.5048 - mae: 11.5048\n",
            "Epoch 2/5\n",
            "1/1 [==============================] - 0s 9ms/step - loss: 11.3723 - mae: 11.3723\n",
            "Epoch 3/5\n",
            "1/1 [==============================] - 0s 17ms/step - loss: 11.2398 - mae: 11.2398\n",
            "Epoch 4/5\n",
            "1/1 [==============================] - 0s 10ms/step - loss: 11.1073 - mae: 11.1073\n",
            "Epoch 5/5\n",
            "1/1 [==============================] - 0s 14ms/step - loss: 10.9748 - mae: 10.9748\n"
          ]
        },
        {
          "output_type": "execute_result",
          "data": {
            "text/plain": [
              "<keras.callbacks.History at 0x7fc4cc68c850>"
            ]
          },
          "metadata": {},
          "execution_count": 8
        }
      ]
    },
    {
      "cell_type": "code",
      "source": [
        "model.predict([17])"
      ],
      "metadata": {
        "colab": {
          "base_uri": "https://localhost:8080/"
        },
        "id": "nVx6pOGMpHJF",
        "outputId": "46745adb-cc5d-45d3-f26d-9ac30730e6df"
      },
      "execution_count": null,
      "outputs": [
        {
          "output_type": "execute_result",
          "data": {
            "text/plain": [
              "array([[12.716021]], dtype=float32)"
            ]
          },
          "metadata": {},
          "execution_count": 9
        }
      ]
    },
    {
      "cell_type": "code",
      "source": [
        "#Evaluate a model\n",
        "# model.Evaluate(X_test,y_test)"
      ],
      "metadata": {
        "id": "LWMyYJOsxhUT"
      },
      "execution_count": null,
      "outputs": []
    },
    {
      "cell_type": "markdown",
      "source": [
        "#Improve our model\n",
        "\n",
        "We can improve the model by altering the steps we took to create a model.\n",
        "\n",
        "1. **Createing a model** - here we might add more layers, increase the number of hidden units (all called neurons) within each of the hidden layers, change the activation function of eadch layer.\n",
        "2. **Compiling a model** -here we might change the optizization function or the **learning rate** of said optimization function.\n",
        "3. **Fitting a model** -here we might fit a model **epochs** (leave it to training for longer) or on more data (give the model more examples to learn from)\n",
        "\n",
        "\n",
        "- adding layers\n",
        "- increase the no. of hidden layers\n",
        "- change the activation \n",
        "- change the optimizer function\n",
        "- change the learning rate\n",
        "- fitting on more data\n",
        "- fitting for longer (more epoxhes)"
      ],
      "metadata": {
        "id": "OkHRhM3VwGJV"
      }
    },
    {
      "cell_type": "code",
      "source": [
        "#Set random seed\n",
        "tf.random.set_seed(42)\n",
        "\n",
        "#1. Create a modle using sequential API\n",
        "model= tf.keras.Sequential([\n",
        "    # tf.keras.layers.Dense(100,activation=\"relu\"),\n",
        "    # tf.keras.layers.Dense(100, activation=\"relu\"),\n",
        "    # tf.keras.layers.Dense(100, activation=\"relu\"),\n",
        "    tf.keras.layers.Dense(1)\n",
        "])\n",
        "\n",
        "#2. Compile the model\n",
        "model.compile(\n",
        "    loss=tf.keras.losses.mae,  #mae is short for mean absolute error\n",
        "    optimizer=tf.keras.optimizers.SGD(), \n",
        "    # optimizer=tf.keras.optimizers.Adam(lr=0.0001),  #sgd is short for stochastic gradiet descent\n",
        "    metrics=[\"mae\"]\n",
        ")\n",
        "\n",
        "#Fit the model\n",
        "model.fit(tf.expand_dims(X, axis=-1), y, epochs=100)"
      ],
      "metadata": {
        "colab": {
          "base_uri": "https://localhost:8080/"
        },
        "id": "R4gxefEBwJWr",
        "outputId": "2d41dd17-10bb-4476-f427-2aedd6e43d8e"
      },
      "execution_count": null,
      "outputs": [
        {
          "output_type": "stream",
          "name": "stdout",
          "text": [
            "Epoch 1/100\n",
            "1/1 [==============================] - 1s 705ms/step - loss: 11.5048 - mae: 11.5048\n",
            "Epoch 2/100\n",
            "1/1 [==============================] - 0s 16ms/step - loss: 11.3723 - mae: 11.3723\n",
            "Epoch 3/100\n",
            "1/1 [==============================] - 0s 12ms/step - loss: 11.2398 - mae: 11.2398\n",
            "Epoch 4/100\n",
            "1/1 [==============================] - 0s 8ms/step - loss: 11.1073 - mae: 11.1073\n",
            "Epoch 5/100\n",
            "1/1 [==============================] - 0s 18ms/step - loss: 10.9748 - mae: 10.9748\n",
            "Epoch 6/100\n",
            "1/1 [==============================] - 0s 19ms/step - loss: 10.8423 - mae: 10.8423\n",
            "Epoch 7/100\n",
            "1/1 [==============================] - 0s 12ms/step - loss: 10.7098 - mae: 10.7098\n",
            "Epoch 8/100\n",
            "1/1 [==============================] - 0s 18ms/step - loss: 10.5773 - mae: 10.5773\n",
            "Epoch 9/100\n",
            "1/1 [==============================] - 0s 28ms/step - loss: 10.4448 - mae: 10.4448\n",
            "Epoch 10/100\n",
            "1/1 [==============================] - 0s 22ms/step - loss: 10.3123 - mae: 10.3123\n",
            "Epoch 11/100\n",
            "1/1 [==============================] - 0s 35ms/step - loss: 10.1798 - mae: 10.1798\n",
            "Epoch 12/100\n",
            "1/1 [==============================] - 0s 10ms/step - loss: 10.0473 - mae: 10.0473\n",
            "Epoch 13/100\n",
            "1/1 [==============================] - 0s 17ms/step - loss: 9.9148 - mae: 9.9148\n",
            "Epoch 14/100\n",
            "1/1 [==============================] - 0s 10ms/step - loss: 9.7823 - mae: 9.7823\n",
            "Epoch 15/100\n",
            "1/1 [==============================] - 0s 10ms/step - loss: 9.6498 - mae: 9.6498\n",
            "Epoch 16/100\n",
            "1/1 [==============================] - 0s 12ms/step - loss: 9.5173 - mae: 9.5173\n",
            "Epoch 17/100\n",
            "1/1 [==============================] - 0s 25ms/step - loss: 9.3848 - mae: 9.3848\n",
            "Epoch 18/100\n",
            "1/1 [==============================] - 0s 11ms/step - loss: 9.2523 - mae: 9.2523\n",
            "Epoch 19/100\n",
            "1/1 [==============================] - 0s 16ms/step - loss: 9.1198 - mae: 9.1198\n",
            "Epoch 20/100\n",
            "1/1 [==============================] - 0s 13ms/step - loss: 8.9873 - mae: 8.9873\n",
            "Epoch 21/100\n",
            "1/1 [==============================] - 0s 13ms/step - loss: 8.8548 - mae: 8.8548\n",
            "Epoch 22/100\n",
            "1/1 [==============================] - 0s 19ms/step - loss: 8.7223 - mae: 8.7223\n",
            "Epoch 23/100\n",
            "1/1 [==============================] - 0s 11ms/step - loss: 8.5898 - mae: 8.5898\n",
            "Epoch 24/100\n",
            "1/1 [==============================] - 0s 17ms/step - loss: 8.4573 - mae: 8.4573\n",
            "Epoch 25/100\n",
            "1/1 [==============================] - 0s 18ms/step - loss: 8.3248 - mae: 8.3248\n",
            "Epoch 26/100\n",
            "1/1 [==============================] - 0s 19ms/step - loss: 8.1923 - mae: 8.1923\n",
            "Epoch 27/100\n",
            "1/1 [==============================] - 0s 9ms/step - loss: 8.0598 - mae: 8.0598\n",
            "Epoch 28/100\n",
            "1/1 [==============================] - 0s 6ms/step - loss: 7.9273 - mae: 7.9273\n",
            "Epoch 29/100\n",
            "1/1 [==============================] - 0s 6ms/step - loss: 7.7948 - mae: 7.7948\n",
            "Epoch 30/100\n",
            "1/1 [==============================] - 0s 13ms/step - loss: 7.6623 - mae: 7.6623\n",
            "Epoch 31/100\n",
            "1/1 [==============================] - 0s 10ms/step - loss: 7.5298 - mae: 7.5298\n",
            "Epoch 32/100\n",
            "1/1 [==============================] - 0s 10ms/step - loss: 7.3973 - mae: 7.3973\n",
            "Epoch 33/100\n",
            "1/1 [==============================] - 0s 10ms/step - loss: 7.2648 - mae: 7.2648\n",
            "Epoch 34/100\n",
            "1/1 [==============================] - 0s 13ms/step - loss: 7.2525 - mae: 7.2525\n",
            "Epoch 35/100\n",
            "1/1 [==============================] - 0s 10ms/step - loss: 7.2469 - mae: 7.2469\n",
            "Epoch 36/100\n",
            "1/1 [==============================] - 0s 9ms/step - loss: 7.2413 - mae: 7.2413\n",
            "Epoch 37/100\n",
            "1/1 [==============================] - 0s 8ms/step - loss: 7.2356 - mae: 7.2356\n",
            "Epoch 38/100\n",
            "1/1 [==============================] - 0s 12ms/step - loss: 7.2300 - mae: 7.2300\n",
            "Epoch 39/100\n",
            "1/1 [==============================] - 0s 16ms/step - loss: 7.2244 - mae: 7.2244\n",
            "Epoch 40/100\n",
            "1/1 [==============================] - 0s 20ms/step - loss: 7.2188 - mae: 7.2188\n",
            "Epoch 41/100\n",
            "1/1 [==============================] - 0s 19ms/step - loss: 7.2131 - mae: 7.2131\n",
            "Epoch 42/100\n",
            "1/1 [==============================] - 0s 9ms/step - loss: 7.2075 - mae: 7.2075\n",
            "Epoch 43/100\n",
            "1/1 [==============================] - 0s 15ms/step - loss: 7.2019 - mae: 7.2019\n",
            "Epoch 44/100\n",
            "1/1 [==============================] - 0s 9ms/step - loss: 7.1963 - mae: 7.1963\n",
            "Epoch 45/100\n",
            "1/1 [==============================] - 0s 9ms/step - loss: 7.1906 - mae: 7.1906\n",
            "Epoch 46/100\n",
            "1/1 [==============================] - 0s 20ms/step - loss: 7.1850 - mae: 7.1850\n",
            "Epoch 47/100\n",
            "1/1 [==============================] - 0s 22ms/step - loss: 7.1794 - mae: 7.1794\n",
            "Epoch 48/100\n",
            "1/1 [==============================] - 0s 29ms/step - loss: 7.1738 - mae: 7.1738\n",
            "Epoch 49/100\n",
            "1/1 [==============================] - 0s 7ms/step - loss: 7.1681 - mae: 7.1681\n",
            "Epoch 50/100\n",
            "1/1 [==============================] - 0s 7ms/step - loss: 7.1625 - mae: 7.1625\n",
            "Epoch 51/100\n",
            "1/1 [==============================] - 0s 5ms/step - loss: 7.1569 - mae: 7.1569\n",
            "Epoch 52/100\n",
            "1/1 [==============================] - 0s 26ms/step - loss: 7.1512 - mae: 7.1512\n",
            "Epoch 53/100\n",
            "1/1 [==============================] - 0s 15ms/step - loss: 7.1456 - mae: 7.1456\n",
            "Epoch 54/100\n",
            "1/1 [==============================] - 0s 13ms/step - loss: 7.1400 - mae: 7.1400\n",
            "Epoch 55/100\n",
            "1/1 [==============================] - 0s 15ms/step - loss: 7.1344 - mae: 7.1344\n",
            "Epoch 56/100\n",
            "1/1 [==============================] - 0s 6ms/step - loss: 7.1287 - mae: 7.1287\n",
            "Epoch 57/100\n",
            "1/1 [==============================] - 0s 11ms/step - loss: 7.1231 - mae: 7.1231\n",
            "Epoch 58/100\n",
            "1/1 [==============================] - 0s 14ms/step - loss: 7.1175 - mae: 7.1175\n",
            "Epoch 59/100\n",
            "1/1 [==============================] - 0s 11ms/step - loss: 7.1119 - mae: 7.1119\n",
            "Epoch 60/100\n",
            "1/1 [==============================] - 0s 21ms/step - loss: 7.1063 - mae: 7.1063\n",
            "Epoch 61/100\n",
            "1/1 [==============================] - 0s 6ms/step - loss: 7.1006 - mae: 7.1006\n",
            "Epoch 62/100\n",
            "1/1 [==============================] - 0s 7ms/step - loss: 7.0950 - mae: 7.0950\n",
            "Epoch 63/100\n",
            "1/1 [==============================] - 0s 11ms/step - loss: 7.0894 - mae: 7.0894\n",
            "Epoch 64/100\n",
            "1/1 [==============================] - 0s 12ms/step - loss: 7.0838 - mae: 7.0838\n",
            "Epoch 65/100\n",
            "1/1 [==============================] - 0s 19ms/step - loss: 7.0781 - mae: 7.0781\n",
            "Epoch 66/100\n",
            "1/1 [==============================] - 0s 15ms/step - loss: 7.0725 - mae: 7.0725\n",
            "Epoch 67/100\n",
            "1/1 [==============================] - 0s 12ms/step - loss: 7.0669 - mae: 7.0669\n",
            "Epoch 68/100\n",
            "1/1 [==============================] - 0s 7ms/step - loss: 7.0613 - mae: 7.0613\n",
            "Epoch 69/100\n",
            "1/1 [==============================] - 0s 10ms/step - loss: 7.0556 - mae: 7.0556\n",
            "Epoch 70/100\n",
            "1/1 [==============================] - 0s 7ms/step - loss: 7.0500 - mae: 7.0500\n",
            "Epoch 71/100\n",
            "1/1 [==============================] - 0s 17ms/step - loss: 7.0444 - mae: 7.0444\n",
            "Epoch 72/100\n",
            "1/1 [==============================] - 0s 9ms/step - loss: 7.0388 - mae: 7.0388\n",
            "Epoch 73/100\n",
            "1/1 [==============================] - 0s 27ms/step - loss: 7.0331 - mae: 7.0331\n",
            "Epoch 74/100\n",
            "1/1 [==============================] - 0s 48ms/step - loss: 7.0275 - mae: 7.0275\n",
            "Epoch 75/100\n",
            "1/1 [==============================] - 0s 6ms/step - loss: 7.0219 - mae: 7.0219\n",
            "Epoch 76/100\n",
            "1/1 [==============================] - 0s 12ms/step - loss: 7.0163 - mae: 7.0163\n",
            "Epoch 77/100\n",
            "1/1 [==============================] - 0s 12ms/step - loss: 7.0106 - mae: 7.0106\n",
            "Epoch 78/100\n",
            "1/1 [==============================] - 0s 9ms/step - loss: 7.0050 - mae: 7.0050\n",
            "Epoch 79/100\n",
            "1/1 [==============================] - 0s 30ms/step - loss: 6.9994 - mae: 6.9994\n",
            "Epoch 80/100\n",
            "1/1 [==============================] - 0s 17ms/step - loss: 6.9938 - mae: 6.9938\n",
            "Epoch 81/100\n",
            "1/1 [==============================] - 0s 15ms/step - loss: 6.9881 - mae: 6.9881\n",
            "Epoch 82/100\n",
            "1/1 [==============================] - 0s 6ms/step - loss: 6.9825 - mae: 6.9825\n",
            "Epoch 83/100\n",
            "1/1 [==============================] - 0s 15ms/step - loss: 6.9769 - mae: 6.9769\n",
            "Epoch 84/100\n",
            "1/1 [==============================] - 0s 6ms/step - loss: 6.9713 - mae: 6.9713\n",
            "Epoch 85/100\n",
            "1/1 [==============================] - 0s 9ms/step - loss: 6.9656 - mae: 6.9656\n",
            "Epoch 86/100\n",
            "1/1 [==============================] - 0s 24ms/step - loss: 6.9600 - mae: 6.9600\n",
            "Epoch 87/100\n",
            "1/1 [==============================] - 0s 8ms/step - loss: 6.9544 - mae: 6.9544\n",
            "Epoch 88/100\n",
            "1/1 [==============================] - 0s 13ms/step - loss: 6.9488 - mae: 6.9488\n",
            "Epoch 89/100\n",
            "1/1 [==============================] - 0s 16ms/step - loss: 6.9431 - mae: 6.9431\n",
            "Epoch 90/100\n",
            "1/1 [==============================] - 0s 32ms/step - loss: 6.9375 - mae: 6.9375\n",
            "Epoch 91/100\n",
            "1/1 [==============================] - 0s 8ms/step - loss: 6.9319 - mae: 6.9319\n",
            "Epoch 92/100\n",
            "1/1 [==============================] - 0s 7ms/step - loss: 6.9263 - mae: 6.9263\n",
            "Epoch 93/100\n",
            "1/1 [==============================] - 0s 17ms/step - loss: 6.9206 - mae: 6.9206\n",
            "Epoch 94/100\n",
            "1/1 [==============================] - 0s 23ms/step - loss: 6.9150 - mae: 6.9150\n",
            "Epoch 95/100\n",
            "1/1 [==============================] - 0s 21ms/step - loss: 6.9094 - mae: 6.9094\n",
            "Epoch 96/100\n",
            "1/1 [==============================] - 0s 15ms/step - loss: 6.9038 - mae: 6.9038\n",
            "Epoch 97/100\n",
            "1/1 [==============================] - 0s 10ms/step - loss: 6.8981 - mae: 6.8981\n",
            "Epoch 98/100\n",
            "1/1 [==============================] - 0s 5ms/step - loss: 6.8925 - mae: 6.8925\n",
            "Epoch 99/100\n",
            "1/1 [==============================] - 0s 4ms/step - loss: 6.8869 - mae: 6.8869\n",
            "Epoch 100/100\n",
            "1/1 [==============================] - 0s 9ms/step - loss: 6.8813 - mae: 6.8813\n"
          ]
        },
        {
          "output_type": "execute_result",
          "data": {
            "text/plain": [
              "<keras.callbacks.History at 0x7fc4cac8d890>"
            ]
          },
          "metadata": {},
          "execution_count": 11
        }
      ]
    },
    {
      "cell_type": "code",
      "source": [
        "# See if model's prediction has increased\n",
        "\n",
        "model.predict([17])"
      ],
      "metadata": {
        "colab": {
          "base_uri": "https://localhost:8080/"
        },
        "id": "k-zUznBI015B",
        "outputId": "8fef0205-0ebe-460f-a612-4b14845f9d2e"
      },
      "execution_count": null,
      "outputs": [
        {
          "output_type": "execute_result",
          "data": {
            "text/plain": [
              "array([[30.158512]], dtype=float32)"
            ]
          },
          "metadata": {},
          "execution_count": 12
        }
      ]
    },
    {
      "cell_type": "code",
      "source": [
        "##Shp try\n",
        "\n",
        "model=tf.keras.Sequential([\n",
        "    tf.keras.layers.Dense(50,activation=None),\n",
        "    tf.keras.layers.Dense(1)\n",
        "])\n",
        "\n",
        "model.compile(\n",
        "    loss=tf.keras.losses.mae,\n",
        "    optimizer=tf.keras.optimizers.Adam(lr=0.01),\n",
        "    metrics=[\"mae\"]\n",
        ")\n",
        "\n",
        "model.fit( tf.expand_dims(X,axis=-1), y, epochs=100)"
      ],
      "metadata": {
        "colab": {
          "base_uri": "https://localhost:8080/"
        },
        "id": "sqrfVSTJ1a2H",
        "outputId": "1746fbab-e594-4470-8579-4dc001e020a1"
      },
      "execution_count": null,
      "outputs": [
        {
          "output_type": "stream",
          "name": "stderr",
          "text": [
            "/usr/local/lib/python3.7/dist-packages/keras/optimizer_v2/adam.py:105: UserWarning: The `lr` argument is deprecated, use `learning_rate` instead.\n",
            "  super(Adam, self).__init__(name, **kwargs)\n"
          ]
        },
        {
          "output_type": "stream",
          "name": "stdout",
          "text": [
            "Epoch 1/100\n",
            "1/1 [==============================] - 1s 1s/step - loss: 14.6466 - mae: 14.6466\n",
            "Epoch 2/100\n",
            "1/1 [==============================] - 0s 28ms/step - loss: 13.9532 - mae: 13.9532\n",
            "Epoch 3/100\n",
            "1/1 [==============================] - 0s 12ms/step - loss: 13.2603 - mae: 13.2603\n",
            "Epoch 4/100\n",
            "1/1 [==============================] - 0s 13ms/step - loss: 12.5659 - mae: 12.5659\n",
            "Epoch 5/100\n",
            "1/1 [==============================] - 0s 21ms/step - loss: 11.8675 - mae: 11.8675\n",
            "Epoch 6/100\n",
            "1/1 [==============================] - 0s 12ms/step - loss: 11.1621 - mae: 11.1621\n",
            "Epoch 7/100\n",
            "1/1 [==============================] - 0s 10ms/step - loss: 10.4475 - mae: 10.4475\n",
            "Epoch 8/100\n",
            "1/1 [==============================] - 0s 11ms/step - loss: 9.7214 - mae: 9.7214\n",
            "Epoch 9/100\n",
            "1/1 [==============================] - 0s 14ms/step - loss: 8.9817 - mae: 8.9817\n",
            "Epoch 10/100\n",
            "1/1 [==============================] - 0s 7ms/step - loss: 8.2262 - mae: 8.2262\n",
            "Epoch 11/100\n",
            "1/1 [==============================] - 0s 8ms/step - loss: 7.4526 - mae: 7.4526\n",
            "Epoch 12/100\n",
            "1/1 [==============================] - 0s 9ms/step - loss: 6.6585 - mae: 6.6585\n",
            "Epoch 13/100\n",
            "1/1 [==============================] - 0s 7ms/step - loss: 6.6244 - mae: 6.6244\n",
            "Epoch 14/100\n",
            "1/1 [==============================] - 0s 9ms/step - loss: 6.9777 - mae: 6.9777\n",
            "Epoch 15/100\n",
            "1/1 [==============================] - 0s 10ms/step - loss: 7.2653 - mae: 7.2653\n",
            "Epoch 16/100\n",
            "1/1 [==============================] - 0s 8ms/step - loss: 7.4820 - mae: 7.4820\n",
            "Epoch 17/100\n",
            "1/1 [==============================] - 0s 11ms/step - loss: 7.4879 - mae: 7.4879\n",
            "Epoch 18/100\n",
            "1/1 [==============================] - 0s 8ms/step - loss: 7.3301 - mae: 7.3301\n",
            "Epoch 19/100\n",
            "1/1 [==============================] - 0s 8ms/step - loss: 7.0454 - mae: 7.0454\n",
            "Epoch 20/100\n",
            "1/1 [==============================] - 0s 9ms/step - loss: 6.7251 - mae: 6.7251\n",
            "Epoch 21/100\n",
            "1/1 [==============================] - 0s 9ms/step - loss: 6.4643 - mae: 6.4643\n",
            "Epoch 22/100\n",
            "1/1 [==============================] - 0s 24ms/step - loss: 6.1900 - mae: 6.1900\n",
            "Epoch 23/100\n",
            "1/1 [==============================] - 0s 18ms/step - loss: 5.9246 - mae: 5.9246\n",
            "Epoch 24/100\n",
            "1/1 [==============================] - 0s 15ms/step - loss: 5.8782 - mae: 5.8782\n",
            "Epoch 25/100\n",
            "1/1 [==============================] - 0s 35ms/step - loss: 5.8276 - mae: 5.8276\n",
            "Epoch 26/100\n",
            "1/1 [==============================] - 0s 18ms/step - loss: 5.9724 - mae: 5.9724\n",
            "Epoch 27/100\n",
            "1/1 [==============================] - 0s 13ms/step - loss: 6.0130 - mae: 6.0130\n",
            "Epoch 28/100\n",
            "1/1 [==============================] - 0s 22ms/step - loss: 5.9583 - mae: 5.9583\n",
            "Epoch 29/100\n",
            "1/1 [==============================] - 0s 25ms/step - loss: 5.8190 - mae: 5.8190\n",
            "Epoch 30/100\n",
            "1/1 [==============================] - 0s 49ms/step - loss: 5.6030 - mae: 5.6030\n",
            "Epoch 31/100\n",
            "1/1 [==============================] - 0s 9ms/step - loss: 5.3433 - mae: 5.3433\n",
            "Epoch 32/100\n",
            "1/1 [==============================] - 0s 29ms/step - loss: 5.2352 - mae: 5.2352\n",
            "Epoch 33/100\n",
            "1/1 [==============================] - 0s 20ms/step - loss: 5.1239 - mae: 5.1239\n",
            "Epoch 34/100\n",
            "1/1 [==============================] - 0s 24ms/step - loss: 5.0746 - mae: 5.0746\n",
            "Epoch 35/100\n",
            "1/1 [==============================] - 0s 12ms/step - loss: 5.0523 - mae: 5.0523\n",
            "Epoch 36/100\n",
            "1/1 [==============================] - 0s 23ms/step - loss: 4.9871 - mae: 4.9871\n",
            "Epoch 37/100\n",
            "1/1 [==============================] - 0s 14ms/step - loss: 4.8824 - mae: 4.8824\n",
            "Epoch 38/100\n",
            "1/1 [==============================] - 0s 16ms/step - loss: 4.7409 - mae: 4.7409\n",
            "Epoch 39/100\n",
            "1/1 [==============================] - 0s 28ms/step - loss: 4.5658 - mae: 4.5658\n",
            "Epoch 40/100\n",
            "1/1 [==============================] - 0s 16ms/step - loss: 4.4020 - mae: 4.4020\n",
            "Epoch 41/100\n",
            "1/1 [==============================] - 0s 20ms/step - loss: 4.3009 - mae: 4.3009\n",
            "Epoch 42/100\n",
            "1/1 [==============================] - 0s 11ms/step - loss: 4.1923 - mae: 4.1923\n",
            "Epoch 43/100\n",
            "1/1 [==============================] - 0s 12ms/step - loss: 4.0760 - mae: 4.0760\n",
            "Epoch 44/100\n",
            "1/1 [==============================] - 0s 11ms/step - loss: 4.0086 - mae: 4.0086\n",
            "Epoch 45/100\n",
            "1/1 [==============================] - 0s 19ms/step - loss: 3.8364 - mae: 3.8364\n",
            "Epoch 46/100\n",
            "1/1 [==============================] - 0s 20ms/step - loss: 3.6514 - mae: 3.6514\n",
            "Epoch 47/100\n",
            "1/1 [==============================] - 0s 20ms/step - loss: 3.4858 - mae: 3.4858\n",
            "Epoch 48/100\n",
            "1/1 [==============================] - 0s 7ms/step - loss: 3.3568 - mae: 3.3568\n",
            "Epoch 49/100\n",
            "1/1 [==============================] - 0s 21ms/step - loss: 3.2428 - mae: 3.2428\n",
            "Epoch 50/100\n",
            "1/1 [==============================] - 0s 21ms/step - loss: 3.0760 - mae: 3.0760\n",
            "Epoch 51/100\n",
            "1/1 [==============================] - 0s 8ms/step - loss: 2.8591 - mae: 2.8591\n",
            "Epoch 52/100\n",
            "1/1 [==============================] - 0s 25ms/step - loss: 2.6501 - mae: 2.6501\n",
            "Epoch 53/100\n",
            "1/1 [==============================] - 0s 29ms/step - loss: 2.4760 - mae: 2.4760\n",
            "Epoch 54/100\n",
            "1/1 [==============================] - 0s 12ms/step - loss: 2.3457 - mae: 2.3457\n",
            "Epoch 55/100\n",
            "1/1 [==============================] - 0s 11ms/step - loss: 2.1065 - mae: 2.1065\n",
            "Epoch 56/100\n",
            "1/1 [==============================] - 0s 11ms/step - loss: 1.8523 - mae: 1.8523\n",
            "Epoch 57/100\n",
            "1/1 [==============================] - 0s 8ms/step - loss: 1.7208 - mae: 1.7208\n",
            "Epoch 58/100\n",
            "1/1 [==============================] - 0s 11ms/step - loss: 1.5507 - mae: 1.5507\n",
            "Epoch 59/100\n",
            "1/1 [==============================] - 0s 10ms/step - loss: 1.2700 - mae: 1.2700\n",
            "Epoch 60/100\n",
            "1/1 [==============================] - 0s 21ms/step - loss: 0.9323 - mae: 0.9323\n",
            "Epoch 61/100\n",
            "1/1 [==============================] - 0s 19ms/step - loss: 0.8599 - mae: 0.8599\n",
            "Epoch 62/100\n",
            "1/1 [==============================] - 0s 29ms/step - loss: 0.6865 - mae: 0.6865\n",
            "Epoch 63/100\n",
            "1/1 [==============================] - 0s 6ms/step - loss: 0.3405 - mae: 0.3405\n",
            "Epoch 64/100\n",
            "1/1 [==============================] - 0s 7ms/step - loss: 0.1659 - mae: 0.1659\n",
            "Epoch 65/100\n",
            "1/1 [==============================] - 0s 10ms/step - loss: 0.4224 - mae: 0.4224\n",
            "Epoch 66/100\n",
            "1/1 [==============================] - 0s 11ms/step - loss: 0.4802 - mae: 0.4802\n",
            "Epoch 67/100\n",
            "1/1 [==============================] - 0s 12ms/step - loss: 0.6473 - mae: 0.6473\n",
            "Epoch 68/100\n",
            "1/1 [==============================] - 0s 28ms/step - loss: 0.6601 - mae: 0.6601\n",
            "Epoch 69/100\n",
            "1/1 [==============================] - 0s 15ms/step - loss: 0.7372 - mae: 0.7372\n",
            "Epoch 70/100\n",
            "1/1 [==============================] - 0s 14ms/step - loss: 0.7022 - mae: 0.7022\n",
            "Epoch 71/100\n",
            "1/1 [==============================] - 0s 16ms/step - loss: 0.6318 - mae: 0.6318\n",
            "Epoch 72/100\n",
            "1/1 [==============================] - 0s 20ms/step - loss: 0.6151 - mae: 0.6151\n",
            "Epoch 73/100\n",
            "1/1 [==============================] - 0s 22ms/step - loss: 0.4329 - mae: 0.4329\n",
            "Epoch 74/100\n",
            "1/1 [==============================] - 0s 11ms/step - loss: 0.4277 - mae: 0.4277\n",
            "Epoch 75/100\n",
            "1/1 [==============================] - 0s 25ms/step - loss: 0.3097 - mae: 0.3097\n",
            "Epoch 76/100\n",
            "1/1 [==============================] - 0s 15ms/step - loss: 0.0356 - mae: 0.0356\n",
            "Epoch 77/100\n",
            "1/1 [==============================] - 0s 9ms/step - loss: 0.4880 - mae: 0.4880\n",
            "Epoch 78/100\n",
            "1/1 [==============================] - 0s 29ms/step - loss: 0.6479 - mae: 0.6479\n",
            "Epoch 79/100\n",
            "1/1 [==============================] - 0s 9ms/step - loss: 0.6174 - mae: 0.6174\n",
            "Epoch 80/100\n",
            "1/1 [==============================] - 0s 28ms/step - loss: 0.4529 - mae: 0.4529\n",
            "Epoch 81/100\n",
            "1/1 [==============================] - 0s 18ms/step - loss: 0.6294 - mae: 0.6294\n",
            "Epoch 82/100\n",
            "1/1 [==============================] - 0s 18ms/step - loss: 0.7850 - mae: 0.7850\n",
            "Epoch 83/100\n",
            "1/1 [==============================] - 0s 14ms/step - loss: 0.6653 - mae: 0.6653\n",
            "Epoch 84/100\n",
            "1/1 [==============================] - 0s 9ms/step - loss: 0.3935 - mae: 0.3935\n",
            "Epoch 85/100\n",
            "1/1 [==============================] - 0s 7ms/step - loss: 0.5590 - mae: 0.5590\n",
            "Epoch 86/100\n",
            "1/1 [==============================] - 0s 14ms/step - loss: 0.6263 - mae: 0.6263\n",
            "Epoch 87/100\n",
            "1/1 [==============================] - 0s 26ms/step - loss: 0.5316 - mae: 0.5316\n",
            "Epoch 88/100\n",
            "1/1 [==============================] - 0s 32ms/step - loss: 0.2161 - mae: 0.2161\n",
            "Epoch 89/100\n",
            "1/1 [==============================] - 0s 9ms/step - loss: 0.3441 - mae: 0.3441\n",
            "Epoch 90/100\n",
            "1/1 [==============================] - 0s 19ms/step - loss: 0.5325 - mae: 0.5325\n",
            "Epoch 91/100\n",
            "1/1 [==============================] - 0s 60ms/step - loss: 0.4389 - mae: 0.4389\n",
            "Epoch 92/100\n",
            "1/1 [==============================] - 0s 13ms/step - loss: 0.2560 - mae: 0.2560\n",
            "Epoch 93/100\n",
            "1/1 [==============================] - 0s 30ms/step - loss: 0.5795 - mae: 0.5795\n",
            "Epoch 94/100\n",
            "1/1 [==============================] - 0s 14ms/step - loss: 0.7585 - mae: 0.7585\n",
            "Epoch 95/100\n",
            "1/1 [==============================] - 0s 10ms/step - loss: 0.6773 - mae: 0.6773\n",
            "Epoch 96/100\n",
            "1/1 [==============================] - 0s 9ms/step - loss: 0.3691 - mae: 0.3691\n",
            "Epoch 97/100\n",
            "1/1 [==============================] - 0s 18ms/step - loss: 0.3135 - mae: 0.3135\n",
            "Epoch 98/100\n",
            "1/1 [==============================] - 0s 13ms/step - loss: 0.5528 - mae: 0.5528\n",
            "Epoch 99/100\n",
            "1/1 [==============================] - 0s 8ms/step - loss: 0.5451 - mae: 0.5451\n",
            "Epoch 100/100\n",
            "1/1 [==============================] - 0s 8ms/step - loss: 0.2902 - mae: 0.2902\n"
          ]
        },
        {
          "output_type": "execute_result",
          "data": {
            "text/plain": [
              "<keras.callbacks.History at 0x7fc4cbd21310>"
            ]
          },
          "metadata": {},
          "execution_count": 13
        }
      ]
    },
    {
      "cell_type": "code",
      "source": [
        "model.predict([17.0])"
      ],
      "metadata": {
        "colab": {
          "base_uri": "https://localhost:8080/"
        },
        "id": "ku_tCIkv2x9v",
        "outputId": "6e4d12bf-f69e-4bc3-f501-846ce3a17a7d"
      },
      "execution_count": null,
      "outputs": [
        {
          "output_type": "execute_result",
          "data": {
            "text/plain": [
              "array([[26.434414]], dtype=float32)"
            ]
          },
          "metadata": {},
          "execution_count": 14
        }
      ]
    },
    {
      "cell_type": "markdown",
      "source": [
        "# Evaluating a model\n",
        " In practise, a typical workflow you'll go through when building neural network is:\n",
        "\n",
        "Build a model -> fit it -> evaluate it -> tweak the model -> fit it -> evaluate it -> ......"
      ],
      "metadata": {
        "id": "dL23aPMv21IK"
      }
    },
    {
      "cell_type": "markdown",
      "source": [
        "When it comes to evaluation .. there are 3 words you should memorize: \n",
        "> Visualize, visualize , visualize\n",
        "It's a good idea to visualize:\n",
        "* The data - what data are we workin with? What does it look like?\n",
        "* The model itself - what does our modle look like?\n",
        "* The training of model - how does the model performs while it learns?\n",
        "* The prediction of the model - how do the predictions of a model line up against the ground truth (the original labels)?"
      ],
      "metadata": {
        "id": "Srtp8eCs5T56"
      }
    },
    {
      "cell_type": "code",
      "source": [
        "# Make a bigger dataset\n",
        "X=tf.range(-100,100,4)\n",
        "X"
      ],
      "metadata": {
        "colab": {
          "base_uri": "https://localhost:8080/"
        },
        "id": "cjh0Cczv6BCm",
        "outputId": "a07b0c06-32b0-4769-ba48-4dd01fc21983"
      },
      "execution_count": null,
      "outputs": [
        {
          "output_type": "execute_result",
          "data": {
            "text/plain": [
              "<tf.Tensor: shape=(50,), dtype=int32, numpy=\n",
              "array([-100,  -96,  -92,  -88,  -84,  -80,  -76,  -72,  -68,  -64,  -60,\n",
              "        -56,  -52,  -48,  -44,  -40,  -36,  -32,  -28,  -24,  -20,  -16,\n",
              "        -12,   -8,   -4,    0,    4,    8,   12,   16,   20,   24,   28,\n",
              "         32,   36,   40,   44,   48,   52,   56,   60,   64,   68,   72,\n",
              "         76,   80,   84,   88,   92,   96], dtype=int32)>"
            ]
          },
          "metadata": {},
          "execution_count": 15
        }
      ]
    },
    {
      "cell_type": "code",
      "source": [
        "#Make labels for the dataset\n",
        "y = X+10\n",
        "y"
      ],
      "metadata": {
        "colab": {
          "base_uri": "https://localhost:8080/"
        },
        "id": "xZ5KqeKQ60DK",
        "outputId": "3165a713-a7bd-4bf0-862f-6eb51e1232b9"
      },
      "execution_count": null,
      "outputs": [
        {
          "output_type": "execute_result",
          "data": {
            "text/plain": [
              "<tf.Tensor: shape=(50,), dtype=int32, numpy=\n",
              "array([-90, -86, -82, -78, -74, -70, -66, -62, -58, -54, -50, -46, -42,\n",
              "       -38, -34, -30, -26, -22, -18, -14, -10,  -6,  -2,   2,   6,  10,\n",
              "        14,  18,  22,  26,  30,  34,  38,  42,  46,  50,  54,  58,  62,\n",
              "        66,  70,  74,  78,  82,  86,  90,  94,  98, 102, 106], dtype=int32)>"
            ]
          },
          "metadata": {},
          "execution_count": 16
        }
      ]
    },
    {
      "cell_type": "code",
      "source": [
        "# Visualixe the data?\n",
        "import matplotlib.pyplot as plt\n",
        "\n",
        "plt.scatter(X,y)\n",
        "# plt.plot(X,y)"
      ],
      "metadata": {
        "colab": {
          "base_uri": "https://localhost:8080/",
          "height": 282
        },
        "id": "b2ofz5U069yj",
        "outputId": "c2292ec5-64b8-4025-fa6d-8bd5410a49d9"
      },
      "execution_count": null,
      "outputs": [
        {
          "output_type": "execute_result",
          "data": {
            "text/plain": [
              "<matplotlib.collections.PathCollection at 0x7fc4cd02bf90>"
            ]
          },
          "metadata": {},
          "execution_count": 17
        },
        {
          "output_type": "display_data",
          "data": {
            "image/png": "[encoded data removed]",
            "text/plain": [
              "<Figure size 432x288 with 1 Axes>"
            ]
          },
          "metadata": {
            "needs_background": "light"
          }
        }
      ]
    },
    {
      "cell_type": "markdown",
      "source": [
        "# The three sets ... \n",
        "> split into training and testing  (and validation)\n",
        "\n",
        "* Training set - the model learnd from this data, which is typically 70-80% of the data.\n",
        "* Validataion data- the model gets tuned on this data, which is typically 10-15% of the data available.\n",
        "* Test data - the model gets evaluate on this test what it has learned, this set is typically 10-15% of the data available.\n",
        "\n",
        "\n",
        "\n",
        "\n"
      ],
      "metadata": {
        "id": "p2kLwMgE7Ba5"
      }
    },
    {
      "cell_type": "code",
      "source": [
        "#Check the length of how many data we have\n",
        "len(X)"
      ],
      "metadata": {
        "colab": {
          "base_uri": "https://localhost:8080/"
        },
        "id": "Yaf5zx2o8L6J",
        "outputId": "f7d8a02f-d649-4a10-c4c0-c7fbd69b8e90"
      },
      "execution_count": null,
      "outputs": [
        {
          "output_type": "execute_result",
          "data": {
            "text/plain": [
              "50"
            ]
          },
          "metadata": {},
          "execution_count": 18
        }
      ]
    },
    {
      "cell_type": "code",
      "source": [
        "X_train=X[:40]\n",
        "X_test=X[40:]\n",
        "\n",
        "y_train=y[:40]\n",
        "y_test=y[40:]\n",
        "\n",
        "len(X_train), len(y_train), len(X_test), len(y_test)"
      ],
      "metadata": {
        "colab": {
          "base_uri": "https://localhost:8080/"
        },
        "id": "o8O-SMy68QnL",
        "outputId": "1ca98798-a976-4e3c-97ec-f0d87d33c484"
      },
      "execution_count": null,
      "outputs": [
        {
          "output_type": "execute_result",
          "data": {
            "text/plain": [
              "(40, 40, 10, 10)"
            ]
          },
          "metadata": {},
          "execution_count": 19
        }
      ]
    },
    {
      "cell_type": "markdown",
      "source": [
        "### Visualizing the data\n",
        "\n",
        "Now we've data in training and test data"
      ],
      "metadata": {
        "id": "PMuggqIz9FqI"
      }
    },
    {
      "cell_type": "code",
      "source": [
        "plt.figure(figsize=(10,7))\n",
        "#Plot training data in blue\n",
        "plt.scatter(X_train,y_train, c='b', label=\"Training data\")\n",
        "#Plot test data in green\n",
        "plt.scatter(X_test,y_test, c= 'g', label= \"Testing data\")\n",
        "#show a legend\n",
        "plt.legend()\n"
      ],
      "metadata": {
        "colab": {
          "base_uri": "https://localhost:8080/",
          "height": 445
        },
        "id": "1Mg3f6qc9Rpp",
        "outputId": "2699db82-8652-4305-a091-bc8ee9aefb10"
      },
      "execution_count": null,
      "outputs": [
        {
          "output_type": "execute_result",
          "data": {
            "text/plain": [
              "<matplotlib.legend.Legend at 0x7fc4cb62e490>"
            ]
          },
          "metadata": {},
          "execution_count": 20
        },
        {
          "output_type": "display_data",
          "data": {
            "image/png": "[encoded data removed]",
            "text/plain": [
              "<Figure size 720x504 with 1 Axes>"
            ]
          },
          "metadata": {
            "needs_background": "light"
          }
        }
      ]
    },
    {
      "cell_type": "code",
      "source": [
        "# Lets build the neural network for the data\n",
        "\n",
        "model = tf.keras.Sequential([\n",
        "    tf.keras.layers.Dense(1)\n",
        "])\n",
        "\n",
        "model.compile(loss=tf.keras.losses.mae,\n",
        "              optimizer=tf.keras.optimizers.SGD(),\n",
        "              metrics=[\"mae\"])\n",
        "\n",
        "# model.fit((tf.expand_dims(X_train, axis=-1), y_train, epochs=100)"
      ],
      "metadata": {
        "id": "okZj3q2L95U7"
      },
      "execution_count": null,
      "outputs": []
    },
    {
      "cell_type": "code",
      "source": [
        "# # Need of input_shape in thr input layer for the summary\n",
        "# model.summary()    "
      ],
      "metadata": {
        "id": "o_2Jyz2H_J66"
      },
      "execution_count": null,
      "outputs": []
    },
    {
      "cell_type": "code",
      "source": [
        "#Lets create a model which buils automatically by defining the input_shape argument in the first layer\n",
        "\n",
        "tf.random.set_seed(42)\n",
        "\n",
        "# 1. Create a model (same as above)\n",
        "model = tf.keras.Sequential([\n",
        "    tf.keras.layers.Dense(10, input_shape=[1],name=\"input_layer\"),\n",
        "    tf.keras.layers.Dense(1,name=\"output_layer\")                \n",
        "],name=\"model_1\")\n",
        "\n",
        "# 2. Compile the model\n",
        "model.compile(loss=tf.losses.mae,\n",
        "              optimizer=tf.keras.optimizers.SGD(),\n",
        "              metrics=[\"mae\"])"
      ],
      "metadata": {
        "id": "wLOmmInG_Ljo"
      },
      "execution_count": null,
      "outputs": []
    },
    {
      "cell_type": "code",
      "source": [
        "# model.summary()"
      ],
      "metadata": {
        "id": "7uZc32XjAnL4"
      },
      "execution_count": null,
      "outputs": []
    },
    {
      "cell_type": "markdown",
      "source": [
        "* Total params - total number of parameters in the model\n",
        "* Trainable paramenters - these are paramenters (patterns) the model can update as it trains\n",
        "* Non-trainable params - these parameters are't updates during training (this is typically when you bring in already trained/learned patterns or paramenters from other models during **transfer learning**) "
      ],
      "metadata": {
        "id": "tJbgDW5uAp2g"
      }
    },
    {
      "cell_type": "code",
      "source": [
        "model.fit(tf.expand_dims(X_train,axis=-1), y_train, epochs=100, verbose=0)"
      ],
      "metadata": {
        "colab": {
          "base_uri": "https://localhost:8080/"
        },
        "id": "_EWk0iVgB07v",
        "outputId": "4d4d5aac-cc0f-4b22-acbe-2e7be23412fe"
      },
      "execution_count": null,
      "outputs": [
        {
          "output_type": "execute_result",
          "data": {
            "text/plain": [
              "<keras.callbacks.History at 0x7fc4cb5c1810>"
            ]
          },
          "metadata": {},
          "execution_count": 25
        }
      ]
    },
    {
      "cell_type": "markdown",
      "source": [
        ""
      ],
      "metadata": {
        "id": "4XjEx64TfJgZ"
      }
    },
    {
      "cell_type": "code",
      "source": [
        "model=tf.keras.Sequential([\n",
        "    tf.keras.layers.Dense(10, input_shape=[1],name=\"input_layer\"),\n",
        "    tf.keras.layers.Dense(1,name=\"output_layer\")\n",
        "],name=\"model_1\")\n",
        "\n",
        "model.compile(loss=tf.losses.mae,\n",
        "              optimizer=tf.keras.optimizers.Adam(lr=0.1),\n",
        "              metrics=[\"mae\"]\n",
        "              )"
      ],
      "metadata": {
        "colab": {
          "base_uri": "https://localhost:8080/"
        },
        "id": "rXL1jiePZ6wV",
        "outputId": "29ca0188-50c6-4ad3-d429-95a66f3f2388"
      },
      "execution_count": null,
      "outputs": [
        {
          "output_type": "stream",
          "name": "stderr",
          "text": [
            "/usr/local/lib/python3.7/dist-packages/keras/optimizer_v2/adam.py:105: UserWarning: The `lr` argument is deprecated, use `learning_rate` instead.\n",
            "  super(Adam, self).__init__(name, **kwargs)\n"
          ]
        }
      ]
    },
    {
      "cell_type": "code",
      "source": [
        "model.summary()"
      ],
      "metadata": {
        "id": "pJ0pfVXWDweV",
        "colab": {
          "base_uri": "https://localhost:8080/"
        },
        "outputId": "49a5c6ff-907d-45e8-c861-27cb8ff2cab7"
      },
      "execution_count": null,
      "outputs": [
        {
          "output_type": "stream",
          "name": "stdout",
          "text": [
            "Model: \"model_1\"\n",
            "_________________________________________________________________\n",
            " Layer (type)                Output Shape              Param #   \n",
            "=================================================================\n",
            " input_layer (Dense)         (None, 10)                20        \n",
            "                                                                 \n",
            " output_layer (Dense)        (None, 1)                 11        \n",
            "                                                                 \n",
            "=================================================================\n",
            "Total params: 31\n",
            "Trainable params: 31\n",
            "Non-trainable params: 0\n",
            "_________________________________________________________________\n"
          ]
        }
      ]
    },
    {
      "cell_type": "code",
      "source": [
        "model.fit(tf.expand_dims(X_train,axis=-1), y_train, epochs=100, verbose=0)"
      ],
      "metadata": {
        "colab": {
          "base_uri": "https://localhost:8080/"
        },
        "id": "0GlpsmRqe6--",
        "outputId": "412dbec0-1db4-4c54-c5b7-30151f952d08"
      },
      "execution_count": null,
      "outputs": [
        {
          "output_type": "execute_result",
          "data": {
            "text/plain": [
              "<keras.callbacks.History at 0x7fc4cb5c12d0>"
            ]
          },
          "metadata": {},
          "execution_count": 28
        }
      ]
    },
    {
      "cell_type": "code",
      "source": [
        "from tensorflow.keras.utils import plot_model"
      ],
      "metadata": {
        "id": "l4Vt-S4CWpAe"
      },
      "execution_count": null,
      "outputs": []
    },
    {
      "cell_type": "code",
      "source": [
        "plot_model(model=model,show_shapes=True)"
      ],
      "metadata": {
        "colab": {
          "base_uri": "https://localhost:8080/",
          "height": 312
        },
        "id": "f-BPj4dZW3Xy",
        "outputId": "3f223932-69dc-4b69-a68c-f58fac2008b0"
      },
      "execution_count": null,
      "outputs": [
        {
          "output_type": "execute_result",
          "data": {
            "image/png": "[encoded data removed]",
            "text/plain": [
              "<IPython.core.display.Image object>"
            ]
          },
          "metadata": {},
          "execution_count": 30
        }
      ]
    },
    {
      "cell_type": "markdown",
      "source": [
        "### Visualize our model's prediction\n",
        "\n",
        " To visualize prediction, it's good idea to plot them against the ground truth labels.\n",
        " Often you'll see this in the form of `y_test` and `y_true` versus `y_pred` (ground truth vs your model prediction)"
      ],
      "metadata": {
        "id": "0qMkt7a6XKP3"
      }
    },
    {
      "cell_type": "code",
      "source": [
        "#Make some prediction\n",
        "y_pred=model.predict(X_test)\n",
        "y_pred"
      ],
      "metadata": {
        "colab": {
          "base_uri": "https://localhost:8080/"
        },
        "id": "1lYEz43mgLLL",
        "outputId": "1cf909cb-611a-4d21-f107-dfc0d53f195a"
      },
      "execution_count": null,
      "outputs": [
        {
          "output_type": "execute_result",
          "data": {
            "text/plain": [
              "array([[65.51562 ],\n",
              "       [69.21834 ],\n",
              "       [72.92105 ],\n",
              "       [76.62377 ],\n",
              "       [80.3265  ],\n",
              "       [84.02921 ],\n",
              "       [87.73193 ],\n",
              "       [91.434654],\n",
              "       [95.13737 ],\n",
              "       [98.84009 ]], dtype=float32)"
            ]
          },
          "metadata": {},
          "execution_count": 31
        }
      ]
    },
    {
      "cell_type": "code",
      "source": [
        "y_test"
      ],
      "metadata": {
        "colab": {
          "base_uri": "https://localhost:8080/"
        },
        "id": "CeZjOHq-gT_L",
        "outputId": "5b89e5bc-c42d-4712-edf5-b12409523d9a"
      },
      "execution_count": null,
      "outputs": [
        {
          "output_type": "execute_result",
          "data": {
            "text/plain": [
              "<tf.Tensor: shape=(10,), dtype=int32, numpy=array([ 70,  74,  78,  82,  86,  90,  94,  98, 102, 106], dtype=int32)>"
            ]
          },
          "metadata": {},
          "execution_count": 32
        }
      ]
    },
    {
      "cell_type": "code",
      "source": [
        "# Let's create a plotting function\n",
        "def plot_prediction(train_data=X_train,\n",
        "                    train_labels=y_train,\n",
        "                    test_data=X_test,\n",
        "                    test_labels=y_test,\n",
        "                    predictions=y_pred):\n",
        "  \"\"\"\n",
        "  Plots training data, test data and compares prediction to ground_truth data\n",
        "  \"\"\"\n",
        "\n",
        "  plt.figure(figsize=(10,7))\n",
        "  #Plot training data in blue\n",
        "  plt.scatter(train_data, train_labels, c=\"b\", label=\"Training data\")\n",
        "  #Plot testing data in green\n",
        "  plt.scatter(test_data,test_labels, c=\"g\", label=\"Test data\")\n",
        "  #Plot model's prediction in red\n",
        "  plt.scatter(test_data, predictions, c=\"r\", label=\"Predictions\")\n",
        "  #Show the legends\n",
        "  plt.legend()\n"
      ],
      "metadata": {
        "id": "AgBvhiwNgW-R"
      },
      "execution_count": null,
      "outputs": []
    },
    {
      "cell_type": "code",
      "source": [
        "plot_prediction(train_data=X_train,\n",
        "                train_labels=y_train,\n",
        "                test_data=X_test,\n",
        "                test_labels=y_test,\n",
        "                predictions=y_pred)"
      ],
      "metadata": {
        "colab": {
          "base_uri": "https://localhost:8080/",
          "height": 428
        },
        "id": "C6kJUf-riD--",
        "outputId": "8809295a-e8e0-4726-a132-10ae1d50dce9"
      },
      "execution_count": null,
      "outputs": [
        {
          "output_type": "display_data",
          "data": {
            "image/png": "[encoded data removed]",
            "text/plain": [
              "<Figure size 720x504 with 1 Axes>"
            ]
          },
          "metadata": {
            "needs_background": "light"
          }
        }
      ]
    },
    {
      "cell_type": "markdown",
      "source": [
        "### Evaluating the predictions with regression evaluation meterices\n",
        "\n",
        "DEpending on the problem you're working on, there will be different evaluation metrics to evaluate your model's performance.\n",
        "Since we're working on a regression, two major metrics:\n",
        "* MAE -mean absolute error, on average how wrong is my model's prediction \n",
        "* MSE - mean square error, average of the square of the error\n",
        "*Huber - Combination of both MAE and MSE; and it is less sensitive to outliers"
      ],
      "metadata": {
        "id": "OVy4PaOaiIpf"
      }
    },
    {
      "cell_type": "code",
      "source": [
        "# Evaluate in the test or validation data set\n",
        "model.evaluate(X_test, y_test)"
      ],
      "metadata": {
        "colab": {
          "base_uri": "https://localhost:8080/"
        },
        "id": "wQEY8BwEjGYz",
        "outputId": "4380a225-d012-463a-98d7-5d0750633eb2"
      },
      "execution_count": null,
      "outputs": [
        {
          "output_type": "stream",
          "name": "stdout",
          "text": [
            "1/1 [==============================] - 0s 396ms/step - loss: 5.8221 - mae: 5.8221\n"
          ]
        },
        {
          "output_type": "execute_result",
          "data": {
            "text/plain": [
              "[5.822147369384766, 5.822147369384766]"
            ]
          },
          "metadata": {},
          "execution_count": 35
        }
      ]
    },
    {
      "cell_type": "code",
      "source": [
        "#Calculte the mean absolute error\n",
        "mae = tf.metrics.mean_absolute_error(y_test,tf.constant(y_pred))\n",
        "mae"
      ],
      "metadata": {
        "colab": {
          "base_uri": "https://localhost:8080/"
        },
        "id": "cdERUyks36N0",
        "outputId": "c0172321-bc9b-4168-9086-8b2d5e2ee352"
      },
      "execution_count": null,
      "outputs": [
        {
          "output_type": "execute_result",
          "data": {
            "text/plain": [
              "<tf.Tensor: shape=(10,), dtype=float32, numpy=\n",
              "array([22.484383, 18.781662, 15.663159, 13.225737, 11.4694  , 10.394157,\n",
              "       10.      , 10.286931, 11.254947, 12.904053], dtype=float32)>"
            ]
          },
          "metadata": {},
          "execution_count": 36
        }
      ]
    },
    {
      "cell_type": "code",
      "source": [
        "y_test"
      ],
      "metadata": {
        "colab": {
          "base_uri": "https://localhost:8080/"
        },
        "id": "TnFyfFNM4XgD",
        "outputId": "677c0499-53ac-4797-b236-efbb063e776a"
      },
      "execution_count": null,
      "outputs": [
        {
          "output_type": "execute_result",
          "data": {
            "text/plain": [
              "<tf.Tensor: shape=(10,), dtype=int32, numpy=array([ 70,  74,  78,  82,  86,  90,  94,  98, 102, 106], dtype=int32)>"
            ]
          },
          "metadata": {},
          "execution_count": 37
        }
      ]
    },
    {
      "cell_type": "code",
      "source": [
        "tf.constant(y_pred)"
      ],
      "metadata": {
        "colab": {
          "base_uri": "https://localhost:8080/"
        },
        "id": "f-8EOEZ943E4",
        "outputId": "5ef1e255-7ac3-47ce-dcfe-6e1d9f231433"
      },
      "execution_count": null,
      "outputs": [
        {
          "output_type": "execute_result",
          "data": {
            "text/plain": [
              "<tf.Tensor: shape=(10, 1), dtype=float32, numpy=\n",
              "array([[65.51562 ],\n",
              "       [69.21834 ],\n",
              "       [72.92105 ],\n",
              "       [76.62377 ],\n",
              "       [80.3265  ],\n",
              "       [84.02921 ],\n",
              "       [87.73193 ],\n",
              "       [91.434654],\n",
              "       [95.13737 ],\n",
              "       [98.84009 ]], dtype=float32)>"
            ]
          },
          "metadata": {},
          "execution_count": 38
        }
      ]
    },
    {
      "cell_type": "code",
      "source": [
        "#Squeeze\n",
        "tf.squeeze(y_pred)"
      ],
      "metadata": {
        "colab": {
          "base_uri": "https://localhost:8080/"
        },
        "id": "qWEzQ42a47QT",
        "outputId": "5b8dff6b-f4c7-46bc-d92e-9db3dc543a0c"
      },
      "execution_count": null,
      "outputs": [
        {
          "output_type": "execute_result",
          "data": {
            "text/plain": [
              "<tf.Tensor: shape=(10,), dtype=float32, numpy=\n",
              "array([65.51562 , 69.21834 , 72.92105 , 76.62377 , 80.3265  , 84.02921 ,\n",
              "       87.73193 , 91.434654, 95.13737 , 98.84009 ], dtype=float32)>"
            ]
          },
          "metadata": {},
          "execution_count": 39
        }
      ]
    },
    {
      "cell_type": "code",
      "source": [
        "#Calculate the mae\n",
        "\n",
        "mae= tf.metrics.mean_absolute_error(y_true=y_test,\n",
        "                                    y_pred=tf.squeeze(y_pred))\n",
        "mae"
      ],
      "metadata": {
        "colab": {
          "base_uri": "https://localhost:8080/"
        },
        "id": "VqoTwY605F-X",
        "outputId": "fbabd8ff-4fad-4537-c697-88ec443ff0c3"
      },
      "execution_count": null,
      "outputs": [
        {
          "output_type": "execute_result",
          "data": {
            "text/plain": [
              "<tf.Tensor: shape=(), dtype=float32, numpy=5.8221464>"
            ]
          },
          "metadata": {},
          "execution_count": 40
        }
      ]
    },
    {
      "cell_type": "code",
      "source": [
        "#Calculate the mse\n",
        "mse = tf.metrics.mean_squared_error(y_true=y_test,\n",
        "                                    y_pred=tf.squeeze(y_pred))\n",
        "mse"
      ],
      "metadata": {
        "colab": {
          "base_uri": "https://localhost:8080/"
        },
        "id": "3oOgsMab5a-2",
        "outputId": "1d6cc940-03cb-4417-c24d-2ee79768affc"
      },
      "execution_count": null,
      "outputs": [
        {
          "output_type": "execute_result",
          "data": {
            "text/plain": [
              "<tf.Tensor: shape=(), dtype=float32, numpy=34.626495>"
            ]
          },
          "metadata": {},
          "execution_count": 41
        }
      ]
    },
    {
      "cell_type": "code",
      "source": [
        "#Calculate Huber value\n",
        "huber = tf.keras.losses.Huber()\n",
        "huber(y_test,y_pred).numpy()"
      ],
      "metadata": {
        "colab": {
          "base_uri": "https://localhost:8080/"
        },
        "id": "YY4wGKMl5uDi",
        "outputId": "6eedd60d-67c3-4cfc-ed03-1bee573e99c3"
      },
      "execution_count": null,
      "outputs": [
        {
          "output_type": "execute_result",
          "data": {
            "text/plain": [
              "13.14681"
            ]
          },
          "metadata": {},
          "execution_count": 42
        }
      ]
    },
    {
      "cell_type": "code",
      "source": [
        "#Make function for mae and mse\n",
        "\n",
        "def mae(y_true, y_pred):\n",
        "  return tf.metrics.mean_absolute_error(y_true=y_true,\n",
        "                                         y_pred=tf.squeeze(y_pred))\n",
        "def mse(y_true,y_pred):\n",
        "  return tf.metrics.mean_squared_error(y_true=y_true,\n",
        "                                        y_pred=tf.squeeze(y_pred))\n",
        "  "
      ],
      "metadata": {
        "id": "m0rtcOIo6Po2"
      },
      "execution_count": null,
      "outputs": []
    },
    {
      "cell_type": "code",
      "source": [
        ""
      ],
      "metadata": {
        "id": "TdTN7sq77K74"
      },
      "execution_count": null,
      "outputs": []
    },
    {
      "cell_type": "markdown",
      "source": [
        "### Running experiments to improve our model\n",
        "\n",
        "```\n",
        "Biuld a model -> fit it -> evaluate it -> tweak it -> fit it -> evaluate it \n",
        "-> tweak it -> fit it -> evaluate it -> tweak it ...\n",
        "```\n",
        "\n",
        "1. Get more data- get more examples for your model to trian on (more opportunities to learn patterns or reltionships between features and labels).\n",
        "2. Make larger model (using a more complex model) -this might come in form of more layers or more hidden units in each layer.\n",
        "3. Train for longer - give your data more chance to find patterns in the data .\n",
        "\n",
        "Let's do three modelling experiments:\n",
        " 1 `model_1` - same as the original model, 1 layer, trained for 100 epochs.\n",
        " 2. `model_2` - 2 layers, trained for 100 epochs.\n",
        " 3. `model_3` - 2 layers, trained for 500 epochs.\n",
        " 4. `model_4` -\n",
        " 5. `model_5` -\n",
        "\n",
        " **Build model_1**"
      ],
      "metadata": {
        "id": "3vRq49ZF7RvQ"
      }
    },
    {
      "cell_type": "code",
      "source": [
        "# X_train, y_train"
      ],
      "metadata": {
        "id": "6m03qcJN7oLe"
      },
      "execution_count": null,
      "outputs": []
    },
    {
      "cell_type": "code",
      "source": [
        "#Set the random_seed\n",
        "tf.random.set_seed(42)\n",
        "\n",
        "#1.create the model\n",
        "model_1 = tf.keras.Sequential([\n",
        "  tf.keras.layers.Dense(1)\n",
        "])\n",
        "\n",
        "#2. Compile the model\n",
        "model_1.compile(loss=tf.keras.losses.mae,\n",
        "              optimizer= tf.keras.optimizers.SGD(),\n",
        "              metrics= [\"mae\"])\n",
        "\n",
        "#3. Fit the model\n",
        "model_1.fit(tf.expand_dims(X_train,axis=-1),y_train,epochs=100)"
      ],
      "metadata": {
        "colab": {
          "base_uri": "https://localhost:8080/"
        },
        "id": "37N2fyM08YgR",
        "outputId": "012a8100-8e22-42f0-e463-a69191dd21f0"
      },
      "execution_count": null,
      "outputs": [
        {
          "output_type": "stream",
          "name": "stdout",
          "text": [
            "Epoch 1/100\n",
            "2/2 [==============================] - 1s 10ms/step - loss: 15.9024 - mae: 15.9024\n",
            "Epoch 2/100\n",
            "2/2 [==============================] - 0s 8ms/step - loss: 11.2837 - mae: 11.2837\n",
            "Epoch 3/100\n",
            "2/2 [==============================] - 0s 10ms/step - loss: 11.1074 - mae: 11.1074\n",
            "Epoch 4/100\n",
            "2/2 [==============================] - 0s 9ms/step - loss: 9.2991 - mae: 9.2991\n",
            "Epoch 5/100\n",
            "2/2 [==============================] - 0s 10ms/step - loss: 10.1677 - mae: 10.1677\n",
            "Epoch 6/100\n",
            "2/2 [==============================] - 0s 9ms/step - loss: 9.4303 - mae: 9.4303\n",
            "Epoch 7/100\n",
            "2/2 [==============================] - 0s 10ms/step - loss: 8.5704 - mae: 8.5704\n",
            "Epoch 8/100\n",
            "2/2 [==============================] - 0s 6ms/step - loss: 9.0442 - mae: 9.0442\n",
            "Epoch 9/100\n",
            "2/2 [==============================] - 0s 6ms/step - loss: 18.7517 - mae: 18.7517\n",
            "Epoch 10/100\n",
            "2/2 [==============================] - 0s 7ms/step - loss: 10.1142 - mae: 10.1142\n",
            "Epoch 11/100\n",
            "2/2 [==============================] - 0s 22ms/step - loss: 8.3980 - mae: 8.3980\n",
            "Epoch 12/100\n",
            "2/2 [==============================] - 0s 8ms/step - loss: 10.6639 - mae: 10.6639\n",
            "Epoch 13/100\n",
            "2/2 [==============================] - 0s 13ms/step - loss: 9.7977 - mae: 9.7977\n",
            "Epoch 14/100\n",
            "2/2 [==============================] - 0s 10ms/step - loss: 16.0103 - mae: 16.0103\n",
            "Epoch 15/100\n",
            "2/2 [==============================] - 0s 10ms/step - loss: 11.4068 - mae: 11.4068\n",
            "Epoch 16/100\n",
            "2/2 [==============================] - 0s 14ms/step - loss: 8.5393 - mae: 8.5393\n",
            "Epoch 17/100\n",
            "2/2 [==============================] - 0s 9ms/step - loss: 13.6348 - mae: 13.6348\n",
            "Epoch 18/100\n",
            "2/2 [==============================] - 0s 10ms/step - loss: 11.4629 - mae: 11.4629\n",
            "Epoch 19/100\n",
            "2/2 [==============================] - 0s 4ms/step - loss: 17.9148 - mae: 17.9148\n",
            "Epoch 20/100\n",
            "2/2 [==============================] - 0s 10ms/step - loss: 15.0494 - mae: 15.0494\n",
            "Epoch 21/100\n",
            "2/2 [==============================] - 0s 12ms/step - loss: 11.0216 - mae: 11.0216\n",
            "Epoch 22/100\n",
            "2/2 [==============================] - 0s 8ms/step - loss: 8.1558 - mae: 8.1558\n",
            "Epoch 23/100\n",
            "2/2 [==============================] - 0s 6ms/step - loss: 9.5138 - mae: 9.5138\n",
            "Epoch 24/100\n",
            "2/2 [==============================] - 0s 13ms/step - loss: 7.6617 - mae: 7.6617\n",
            "Epoch 25/100\n",
            "2/2 [==============================] - 0s 28ms/step - loss: 13.1859 - mae: 13.1859\n",
            "Epoch 26/100\n",
            "2/2 [==============================] - 0s 8ms/step - loss: 16.4211 - mae: 16.4211\n",
            "Epoch 27/100\n",
            "2/2 [==============================] - 0s 11ms/step - loss: 13.1660 - mae: 13.1660\n",
            "Epoch 28/100\n",
            "2/2 [==============================] - 0s 7ms/step - loss: 14.2559 - mae: 14.2559\n",
            "Epoch 29/100\n",
            "2/2 [==============================] - 0s 8ms/step - loss: 10.0670 - mae: 10.0670\n",
            "Epoch 30/100\n",
            "2/2 [==============================] - 0s 8ms/step - loss: 16.3409 - mae: 16.3409\n",
            "Epoch 31/100\n",
            "2/2 [==============================] - 0s 12ms/step - loss: 23.6444 - mae: 23.6444\n",
            "Epoch 32/100\n",
            "2/2 [==============================] - 0s 16ms/step - loss: 7.6215 - mae: 7.6215\n",
            "Epoch 33/100\n",
            "2/2 [==============================] - 0s 15ms/step - loss: 9.3221 - mae: 9.3221\n",
            "Epoch 34/100\n",
            "2/2 [==============================] - 0s 8ms/step - loss: 13.7313 - mae: 13.7313\n",
            "Epoch 35/100\n",
            "2/2 [==============================] - 0s 13ms/step - loss: 11.1276 - mae: 11.1276\n",
            "Epoch 36/100\n",
            "2/2 [==============================] - 0s 19ms/step - loss: 13.3222 - mae: 13.3222\n",
            "Epoch 37/100\n",
            "2/2 [==============================] - 0s 5ms/step - loss: 9.4763 - mae: 9.4763\n",
            "Epoch 38/100\n",
            "2/2 [==============================] - 0s 8ms/step - loss: 10.1381 - mae: 10.1381\n",
            "Epoch 39/100\n",
            "2/2 [==============================] - 0s 9ms/step - loss: 10.1793 - mae: 10.1793\n",
            "Epoch 40/100\n",
            "2/2 [==============================] - 0s 8ms/step - loss: 10.9137 - mae: 10.9137\n",
            "Epoch 41/100\n",
            "2/2 [==============================] - 0s 15ms/step - loss: 7.9063 - mae: 7.9063\n",
            "Epoch 42/100\n",
            "2/2 [==============================] - 0s 10ms/step - loss: 10.0914 - mae: 10.0914\n",
            "Epoch 43/100\n",
            "2/2 [==============================] - 0s 7ms/step - loss: 8.7006 - mae: 8.7006\n",
            "Epoch 44/100\n",
            "2/2 [==============================] - 0s 11ms/step - loss: 12.2047 - mae: 12.2047\n",
            "Epoch 45/100\n",
            "2/2 [==============================] - 0s 10ms/step - loss: 13.7970 - mae: 13.7970\n",
            "Epoch 46/100\n",
            "2/2 [==============================] - 0s 8ms/step - loss: 8.4687 - mae: 8.4687\n",
            "Epoch 47/100\n",
            "2/2 [==============================] - 0s 8ms/step - loss: 9.1330 - mae: 9.1330\n",
            "Epoch 48/100\n",
            "2/2 [==============================] - 0s 9ms/step - loss: 10.6190 - mae: 10.6190\n",
            "Epoch 49/100\n",
            "2/2 [==============================] - 0s 9ms/step - loss: 7.7503 - mae: 7.7503\n",
            "Epoch 50/100\n",
            "2/2 [==============================] - 0s 6ms/step - loss: 9.5407 - mae: 9.5407\n",
            "Epoch 51/100\n",
            "2/2 [==============================] - 0s 5ms/step - loss: 9.1584 - mae: 9.1584\n",
            "Epoch 52/100\n",
            "2/2 [==============================] - 0s 13ms/step - loss: 16.3630 - mae: 16.3630\n",
            "Epoch 53/100\n",
            "2/2 [==============================] - 0s 18ms/step - loss: 14.1299 - mae: 14.1299\n",
            "Epoch 54/100\n",
            "2/2 [==============================] - 0s 7ms/step - loss: 21.1247 - mae: 21.1247\n",
            "Epoch 55/100\n",
            "2/2 [==============================] - 0s 5ms/step - loss: 16.3961 - mae: 16.3961\n",
            "Epoch 56/100\n",
            "2/2 [==============================] - 0s 14ms/step - loss: 9.9806 - mae: 9.9806\n",
            "Epoch 57/100\n",
            "2/2 [==============================] - 0s 8ms/step - loss: 9.9606 - mae: 9.9606\n",
            "Epoch 58/100\n",
            "2/2 [==============================] - 0s 13ms/step - loss: 9.2209 - mae: 9.2209\n",
            "Epoch 59/100\n",
            "2/2 [==============================] - 0s 9ms/step - loss: 8.4239 - mae: 8.4239\n",
            "Epoch 60/100\n",
            "2/2 [==============================] - 0s 14ms/step - loss: 9.4869 - mae: 9.4869\n",
            "Epoch 61/100\n",
            "2/2 [==============================] - 0s 20ms/step - loss: 11.4355 - mae: 11.4355\n",
            "Epoch 62/100\n",
            "2/2 [==============================] - 0s 5ms/step - loss: 11.6887 - mae: 11.6887\n",
            "Epoch 63/100\n",
            "2/2 [==============================] - 0s 9ms/step - loss: 7.0838 - mae: 7.0838\n",
            "Epoch 64/100\n",
            "2/2 [==============================] - 0s 15ms/step - loss: 16.9675 - mae: 16.9675\n",
            "Epoch 65/100\n",
            "2/2 [==============================] - 0s 12ms/step - loss: 12.4599 - mae: 12.4599\n",
            "Epoch 66/100\n",
            "2/2 [==============================] - 0s 17ms/step - loss: 13.0184 - mae: 13.0184\n",
            "Epoch 67/100\n",
            "2/2 [==============================] - 0s 5ms/step - loss: 8.0600 - mae: 8.0600\n",
            "Epoch 68/100\n",
            "2/2 [==============================] - 0s 9ms/step - loss: 10.1888 - mae: 10.1888\n",
            "Epoch 69/100\n",
            "2/2 [==============================] - 0s 6ms/step - loss: 12.3633 - mae: 12.3633\n",
            "Epoch 70/100\n",
            "2/2 [==============================] - 0s 5ms/step - loss: 9.0516 - mae: 9.0516\n",
            "Epoch 71/100\n",
            "2/2 [==============================] - 0s 7ms/step - loss: 10.0378 - mae: 10.0378\n",
            "Epoch 72/100\n",
            "2/2 [==============================] - 0s 14ms/step - loss: 10.0516 - mae: 10.0516\n",
            "Epoch 73/100\n",
            "2/2 [==============================] - 0s 7ms/step - loss: 12.6151 - mae: 12.6151\n",
            "Epoch 74/100\n",
            "2/2 [==============================] - 0s 9ms/step - loss: 10.3819 - mae: 10.3819\n",
            "Epoch 75/100\n",
            "2/2 [==============================] - 0s 5ms/step - loss: 9.7229 - mae: 9.7229\n",
            "Epoch 76/100\n",
            "2/2 [==============================] - 0s 9ms/step - loss: 11.2252 - mae: 11.2252\n",
            "Epoch 77/100\n",
            "2/2 [==============================] - 0s 5ms/step - loss: 8.3642 - mae: 8.3642\n",
            "Epoch 78/100\n",
            "2/2 [==============================] - 0s 4ms/step - loss: 9.1274 - mae: 9.1274\n",
            "Epoch 79/100\n",
            "2/2 [==============================] - 0s 4ms/step - loss: 19.5039 - mae: 19.5039\n",
            "Epoch 80/100\n",
            "2/2 [==============================] - 0s 5ms/step - loss: 14.8945 - mae: 14.8945\n",
            "Epoch 81/100\n",
            "2/2 [==============================] - 0s 5ms/step - loss: 9.0034 - mae: 9.0034\n",
            "Epoch 82/100\n",
            "2/2 [==============================] - 0s 10ms/step - loss: 13.0206 - mae: 13.0206\n",
            "Epoch 83/100\n",
            "2/2 [==============================] - 0s 15ms/step - loss: 7.9299 - mae: 7.9299\n",
            "Epoch 84/100\n",
            "2/2 [==============================] - 0s 10ms/step - loss: 7.6872 - mae: 7.6872\n",
            "Epoch 85/100\n",
            "2/2 [==============================] - 0s 9ms/step - loss: 10.0328 - mae: 10.0328\n",
            "Epoch 86/100\n",
            "2/2 [==============================] - 0s 10ms/step - loss: 9.2433 - mae: 9.2433\n",
            "Epoch 87/100\n",
            "2/2 [==============================] - 0s 9ms/step - loss: 12.0209 - mae: 12.0209\n",
            "Epoch 88/100\n",
            "2/2 [==============================] - 0s 5ms/step - loss: 10.6389 - mae: 10.6389\n",
            "Epoch 89/100\n",
            "2/2 [==============================] - 0s 8ms/step - loss: 7.2667 - mae: 7.2667\n",
            "Epoch 90/100\n",
            "2/2 [==============================] - 0s 6ms/step - loss: 12.7786 - mae: 12.7786\n",
            "Epoch 91/100\n",
            "2/2 [==============================] - 0s 4ms/step - loss: 7.3481 - mae: 7.3481\n",
            "Epoch 92/100\n",
            "2/2 [==============================] - 0s 17ms/step - loss: 7.7175 - mae: 7.7175\n",
            "Epoch 93/100\n",
            "2/2 [==============================] - 0s 4ms/step - loss: 7.1263 - mae: 7.1263\n",
            "Epoch 94/100\n",
            "2/2 [==============================] - 0s 10ms/step - loss: 12.6190 - mae: 12.6190\n",
            "Epoch 95/100\n",
            "2/2 [==============================] - 0s 9ms/step - loss: 10.0912 - mae: 10.0912\n",
            "Epoch 96/100\n",
            "2/2 [==============================] - 0s 11ms/step - loss: 9.3558 - mae: 9.3558\n",
            "Epoch 97/100\n",
            "2/2 [==============================] - 0s 4ms/step - loss: 12.6834 - mae: 12.6834\n",
            "Epoch 98/100\n",
            "2/2 [==============================] - 0s 9ms/step - loss: 8.6762 - mae: 8.6762\n",
            "Epoch 99/100\n",
            "2/2 [==============================] - 0s 7ms/step - loss: 9.4693 - mae: 9.4693\n",
            "Epoch 100/100\n",
            "2/2 [==============================] - 0s 14ms/step - loss: 8.7067 - mae: 8.7067\n"
          ]
        },
        {
          "output_type": "execute_result",
          "data": {
            "text/plain": [
              "<keras.callbacks.History at 0x7fc54954fe10>"
            ]
          },
          "metadata": {},
          "execution_count": 45
        }
      ]
    },
    {
      "cell_type": "code",
      "source": [
        "#Make and plot predictions for model_1\n",
        "\n",
        "y_preds_1 = model_1.predict(X_test)\n",
        "plot_prediction(predictions=y_preds_1)"
      ],
      "metadata": {
        "colab": {
          "base_uri": "https://localhost:8080/",
          "height": 465
        },
        "id": "QUsgoMoC9yFi",
        "outputId": "62a3efeb-5d8f-42ac-dcae-5f22e2d673bf"
      },
      "execution_count": null,
      "outputs": [
        {
          "output_type": "stream",
          "name": "stdout",
          "text": [
            "WARNING:tensorflow:5 out of the last 5 calls to <function Model.make_predict_function.<locals>.predict_function at 0x7fc549573440> triggered tf.function retracing. Tracing is expensive and the excessive number of tracings could be due to (1) creating @tf.function repeatedly in a loop, (2) passing tensors with different shapes, (3) passing Python objects instead of tensors. For (1), please define your @tf.function outside of the loop. For (2), @tf.function has experimental_relax_shapes=True option that relaxes argument shapes that can avoid unnecessary retracing. For (3), please refer to https://www.tensorflow.org/guide/function#controlling_retracing and https://www.tensorflow.org/api_docs/python/tf/function for  more details.\n"
          ]
        },
        {
          "output_type": "display_data",
          "data": {
            "image/png": "[encoded data removed]",
            "text/plain": [
              "<Figure size 720x504 with 1 Axes>"
            ]
          },
          "metadata": {
            "needs_background": "light"
          }
        }
      ]
    },
    {
      "cell_type": "code",
      "source": [
        "# Calculate model_1 evaluation metrics\n",
        "mae_1=mae(y_test, y_preds_1)\n",
        "mse_1=mse(y_test, y_preds_1)\n",
        "mae_1,mse_1"
      ],
      "metadata": {
        "colab": {
          "base_uri": "https://localhost:8080/"
        },
        "id": "ZgDvaXQk-1o_",
        "outputId": "f24e1202-a4a0-44ce-90b5-0fa6312cb323"
      },
      "execution_count": null,
      "outputs": [
        {
          "output_type": "execute_result",
          "data": {
            "text/plain": [
              "(<tf.Tensor: shape=(), dtype=float32, numpy=18.745327>,\n",
              " <tf.Tensor: shape=(), dtype=float32, numpy=353.57336>)"
            ]
          },
          "metadata": {},
          "execution_count": 48
        }
      ]
    },
    {
      "cell_type": "markdown",
      "source": [
        "**Build model_2**\n",
        "\n",
        "* 2 dense layers, trained fro 100 epohs"
      ],
      "metadata": {
        "id": "-vGDPpIcAZNH"
      }
    },
    {
      "cell_type": "code",
      "source": [
        "#Set the random seed\n",
        "tf.random.set_seed(42)\n",
        "\n",
        "#Ceate model_2\n",
        "model_2 = tf.keras.Sequential([\n",
        "    tf.keras.layers.Dense(10),\n",
        "    tf.keras.layers.Dense(1)\n",
        "])\n",
        "\n",
        "#Compile model_2\n",
        "model_2.compile(loss=tf.losses.mae,\n",
        "                optimizer= tf.keras.optimizers.SGD(),\n",
        "                metrics=[\"mse\"])\n",
        "\n",
        "#Fit the model\n",
        "model_2.fit(tf.expand_dims(X_train,axis=-1),y_train,epochs=100)"
      ],
      "metadata": {
        "colab": {
          "base_uri": "https://localhost:8080/"
        },
        "id": "uZW_FThSCZq8",
        "outputId": "227cde23-a769-4f32-89d3-d22fe2c360b2"
      },
      "execution_count": null,
      "outputs": [
        {
          "output_type": "stream",
          "name": "stdout",
          "text": [
            "Epoch 1/100\n",
            "2/2 [==============================] - 0s 8ms/step - loss: 27.4058 - mse: 1084.1482\n",
            "Epoch 2/100\n",
            "2/2 [==============================] - 0s 15ms/step - loss: 24.6339 - mse: 777.9203\n",
            "Epoch 3/100\n",
            "2/2 [==============================] - 0s 4ms/step - loss: 29.8935 - mse: 1334.8956\n",
            "Epoch 4/100\n",
            "2/2 [==============================] - 0s 8ms/step - loss: 27.4055 - mse: 1106.8035\n",
            "Epoch 5/100\n",
            "2/2 [==============================] - 0s 14ms/step - loss: 14.9463 - mse: 281.1077\n",
            "Epoch 6/100\n",
            "2/2 [==============================] - 0s 5ms/step - loss: 11.8819 - mse: 168.6621\n",
            "Epoch 7/100\n",
            "2/2 [==============================] - 0s 5ms/step - loss: 11.1988 - mse: 151.3509\n",
            "Epoch 8/100\n",
            "2/2 [==============================] - 0s 5ms/step - loss: 11.0910 - mse: 160.3745\n",
            "Epoch 9/100\n",
            "2/2 [==============================] - 0s 12ms/step - loss: 40.4763 - mse: 2586.0090\n",
            "Epoch 10/100\n",
            "2/2 [==============================] - 0s 7ms/step - loss: 27.8688 - mse: 1094.4382\n",
            "Epoch 11/100\n",
            "2/2 [==============================] - 0s 6ms/step - loss: 10.2473 - mse: 147.9359\n",
            "Epoch 12/100\n",
            "2/2 [==============================] - 0s 4ms/step - loss: 25.2803 - mse: 890.3866\n",
            "Epoch 13/100\n",
            "2/2 [==============================] - 0s 5ms/step - loss: 16.9897 - mse: 399.9678\n",
            "Epoch 14/100\n",
            "2/2 [==============================] - 0s 7ms/step - loss: 25.9217 - mse: 1049.5515\n",
            "Epoch 15/100\n",
            "2/2 [==============================] - 0s 7ms/step - loss: 17.9948 - mse: 450.2580\n",
            "Epoch 16/100\n",
            "2/2 [==============================] - 0s 7ms/step - loss: 7.3510 - mse: 80.6206\n",
            "Epoch 17/100\n",
            "2/2 [==============================] - 0s 4ms/step - loss: 10.8636 - mse: 174.7868\n",
            "Epoch 18/100\n",
            "2/2 [==============================] - 0s 5ms/step - loss: 19.5304 - mse: 565.8053\n",
            "Epoch 19/100\n",
            "2/2 [==============================] - 0s 5ms/step - loss: 10.3469 - mse: 167.7749\n",
            "Epoch 20/100\n",
            "2/2 [==============================] - 0s 7ms/step - loss: 17.6985 - mse: 455.7096\n",
            "Epoch 21/100\n",
            "2/2 [==============================] - 0s 6ms/step - loss: 15.8984 - mse: 347.1929\n",
            "Epoch 22/100\n",
            "2/2 [==============================] - 0s 5ms/step - loss: 14.1991 - mse: 285.1767\n",
            "Epoch 23/100\n",
            "2/2 [==============================] - 0s 7ms/step - loss: 8.7720 - mse: 91.7852\n",
            "Epoch 24/100\n",
            "2/2 [==============================] - 0s 11ms/step - loss: 11.0570 - mse: 153.7430\n",
            "Epoch 25/100\n",
            "2/2 [==============================] - 0s 9ms/step - loss: 12.6838 - mse: 233.2949\n",
            "Epoch 26/100\n",
            "2/2 [==============================] - 0s 10ms/step - loss: 26.1877 - mse: 1024.6091\n",
            "Epoch 27/100\n",
            "2/2 [==============================] - 0s 9ms/step - loss: 11.7432 - mse: 194.8454\n",
            "Epoch 28/100\n",
            "2/2 [==============================] - 0s 5ms/step - loss: 22.8730 - mse: 835.6074\n",
            "Epoch 29/100\n",
            "2/2 [==============================] - 0s 6ms/step - loss: 9.2459 - mse: 96.7786\n",
            "Epoch 30/100\n",
            "2/2 [==============================] - 0s 7ms/step - loss: 29.2641 - mse: 1535.1349\n",
            "Epoch 31/100\n",
            "2/2 [==============================] - 0s 5ms/step - loss: 53.0225 - mse: 5030.2988\n",
            "Epoch 32/100\n",
            "2/2 [==============================] - 0s 6ms/step - loss: 11.9951 - mse: 211.7025\n",
            "Epoch 33/100\n",
            "2/2 [==============================] - 0s 6ms/step - loss: 15.6357 - mse: 337.3666\n",
            "Epoch 34/100\n",
            "2/2 [==============================] - 0s 5ms/step - loss: 12.6925 - mse: 214.4824\n",
            "Epoch 35/100\n",
            "2/2 [==============================] - 0s 8ms/step - loss: 9.2398 - mse: 92.9126\n",
            "Epoch 36/100\n",
            "2/2 [==============================] - 0s 5ms/step - loss: 16.6497 - mse: 403.6573\n",
            "Epoch 37/100\n",
            "2/2 [==============================] - 0s 6ms/step - loss: 11.0382 - mse: 192.3919\n",
            "Epoch 38/100\n",
            "2/2 [==============================] - 0s 5ms/step - loss: 18.1634 - mse: 433.6717\n",
            "Epoch 39/100\n",
            "2/2 [==============================] - 0s 9ms/step - loss: 19.1013 - mse: 529.6439\n",
            "Epoch 40/100\n",
            "2/2 [==============================] - 0s 7ms/step - loss: 20.4324 - mse: 610.1324\n",
            "Epoch 41/100\n",
            "2/2 [==============================] - 0s 5ms/step - loss: 14.9102 - mse: 279.6183\n",
            "Epoch 42/100\n",
            "2/2 [==============================] - 0s 4ms/step - loss: 12.2809 - mse: 186.6180\n",
            "Epoch 43/100\n",
            "2/2 [==============================] - 0s 4ms/step - loss: 10.7333 - mse: 167.0952\n",
            "Epoch 44/100\n",
            "2/2 [==============================] - 0s 4ms/step - loss: 23.0260 - mse: 830.4244\n",
            "Epoch 45/100\n",
            "2/2 [==============================] - 0s 4ms/step - loss: 10.3897 - mse: 128.9549\n",
            "Epoch 46/100\n",
            "2/2 [==============================] - 0s 4ms/step - loss: 11.7904 - mse: 181.9212\n",
            "Epoch 47/100\n",
            "2/2 [==============================] - 0s 4ms/step - loss: 9.6438 - mse: 153.8708\n",
            "Epoch 48/100\n",
            "2/2 [==============================] - 0s 4ms/step - loss: 17.2335 - mse: 402.8494\n",
            "Epoch 49/100\n",
            "2/2 [==============================] - 0s 4ms/step - loss: 9.5729 - mse: 99.8337\n",
            "Epoch 50/100\n",
            "2/2 [==============================] - 0s 5ms/step - loss: 13.8185 - mse: 260.3670\n",
            "Epoch 51/100\n",
            "2/2 [==============================] - 0s 5ms/step - loss: 11.5958 - mse: 154.7956\n",
            "Epoch 52/100\n",
            "2/2 [==============================] - 0s 5ms/step - loss: 30.5538 - mse: 1613.0886\n",
            "Epoch 53/100\n",
            "2/2 [==============================] - 0s 6ms/step - loss: 14.3541 - mse: 302.5293\n",
            "Epoch 54/100\n",
            "2/2 [==============================] - 0s 5ms/step - loss: 23.9713 - mse: 859.3983\n",
            "Epoch 55/100\n",
            "2/2 [==============================] - 0s 4ms/step - loss: 23.1938 - mse: 805.5452\n",
            "Epoch 56/100\n",
            "2/2 [==============================] - 0s 5ms/step - loss: 10.8837 - mse: 170.9834\n",
            "Epoch 57/100\n",
            "2/2 [==============================] - 0s 4ms/step - loss: 12.7445 - mse: 198.7015\n",
            "Epoch 58/100\n",
            "2/2 [==============================] - 0s 4ms/step - loss: 9.5995 - mse: 102.5890\n",
            "Epoch 59/100\n",
            "2/2 [==============================] - 0s 4ms/step - loss: 12.5172 - mse: 216.3367\n",
            "Epoch 60/100\n",
            "2/2 [==============================] - 0s 11ms/step - loss: 12.3200 - mse: 208.6371\n",
            "Epoch 61/100\n",
            "2/2 [==============================] - 0s 4ms/step - loss: 17.4604 - mse: 428.6393\n",
            "Epoch 62/100\n",
            "2/2 [==============================] - 0s 9ms/step - loss: 10.6052 - mse: 136.9777\n",
            "Epoch 63/100\n",
            "2/2 [==============================] - 0s 7ms/step - loss: 10.4893 - mse: 152.4555\n",
            "Epoch 64/100\n",
            "2/2 [==============================] - 0s 4ms/step - loss: 24.8450 - mse: 911.7512\n",
            "Epoch 65/100\n",
            "2/2 [==============================] - 0s 5ms/step - loss: 10.6761 - mse: 142.7374\n",
            "Epoch 66/100\n",
            "2/2 [==============================] - 0s 6ms/step - loss: 21.7809 - mse: 704.4492\n",
            "Epoch 67/100\n",
            "2/2 [==============================] - 0s 6ms/step - loss: 10.7136 - mse: 136.0194\n",
            "Epoch 68/100\n",
            "2/2 [==============================] - 0s 8ms/step - loss: 10.6397 - mse: 149.2300\n",
            "Epoch 69/100\n",
            "2/2 [==============================] - 0s 6ms/step - loss: 22.6914 - mse: 742.1761\n",
            "Epoch 70/100\n",
            "2/2 [==============================] - 0s 5ms/step - loss: 9.3316 - mse: 166.1628\n",
            "Epoch 71/100\n",
            "2/2 [==============================] - 0s 5ms/step - loss: 15.4355 - mse: 323.0843\n",
            "Epoch 72/100\n",
            "2/2 [==============================] - 0s 7ms/step - loss: 6.7437 - mse: 67.0210\n",
            "Epoch 73/100\n",
            "2/2 [==============================] - 0s 5ms/step - loss: 11.6891 - mse: 183.7296\n",
            "Epoch 74/100\n",
            "2/2 [==============================] - 0s 12ms/step - loss: 24.0400 - mse: 908.8992\n",
            "Epoch 75/100\n",
            "2/2 [==============================] - 0s 8ms/step - loss: 9.5896 - mse: 149.3948\n",
            "Epoch 76/100\n",
            "2/2 [==============================] - 0s 4ms/step - loss: 12.4371 - mse: 188.3310\n",
            "Epoch 77/100\n",
            "2/2 [==============================] - 0s 5ms/step - loss: 16.6489 - mse: 429.2708\n",
            "Epoch 78/100\n",
            "2/2 [==============================] - 0s 9ms/step - loss: 9.0614 - mse: 95.4870\n",
            "Epoch 79/100\n",
            "2/2 [==============================] - 0s 8ms/step - loss: 23.9675 - mse: 864.0864\n",
            "Epoch 80/100\n",
            "2/2 [==============================] - 0s 5ms/step - loss: 26.7463 - mse: 1104.4032\n",
            "Epoch 81/100\n",
            "2/2 [==============================] - 0s 5ms/step - loss: 11.6714 - mse: 170.7055\n",
            "Epoch 82/100\n",
            "2/2 [==============================] - 0s 5ms/step - loss: 12.0228 - mse: 211.9191\n",
            "Epoch 83/100\n",
            "2/2 [==============================] - 0s 9ms/step - loss: 17.4218 - mse: 395.5589\n",
            "Epoch 84/100\n",
            "2/2 [==============================] - 0s 10ms/step - loss: 7.2629 - mse: 73.0935\n",
            "Epoch 85/100\n",
            "2/2 [==============================] - 0s 5ms/step - loss: 14.9650 - mse: 312.8361\n",
            "Epoch 86/100\n",
            "2/2 [==============================] - 0s 4ms/step - loss: 15.2862 - mse: 315.3605\n",
            "Epoch 87/100\n",
            "2/2 [==============================] - 0s 5ms/step - loss: 19.1086 - mse: 521.2534\n",
            "Epoch 88/100\n",
            "2/2 [==============================] - 0s 5ms/step - loss: 29.8229 - mse: 1287.1907\n",
            "Epoch 89/100\n",
            "2/2 [==============================] - 0s 5ms/step - loss: 10.1742 - mse: 124.1342\n",
            "Epoch 90/100\n",
            "2/2 [==============================] - 0s 5ms/step - loss: 21.5240 - mse: 663.8611\n",
            "Epoch 91/100\n",
            "2/2 [==============================] - 0s 5ms/step - loss: 10.5716 - mse: 161.7467\n",
            "Epoch 92/100\n",
            "2/2 [==============================] - 0s 5ms/step - loss: 18.3977 - mse: 464.1326\n",
            "Epoch 93/100\n",
            "2/2 [==============================] - 0s 5ms/step - loss: 7.4138 - mse: 81.9820\n",
            "Epoch 94/100\n",
            "2/2 [==============================] - 0s 9ms/step - loss: 17.7380 - mse: 445.7379\n",
            "Epoch 95/100\n",
            "2/2 [==============================] - 0s 7ms/step - loss: 11.1144 - mse: 164.0820\n",
            "Epoch 96/100\n",
            "2/2 [==============================] - 0s 7ms/step - loss: 19.4346 - mse: 510.5842\n",
            "Epoch 97/100\n",
            "2/2 [==============================] - 0s 7ms/step - loss: 12.1593 - mse: 209.9755\n",
            "Epoch 98/100\n",
            "2/2 [==============================] - 0s 6ms/step - loss: 11.5653 - mse: 169.4052\n",
            "Epoch 99/100\n",
            "2/2 [==============================] - 0s 4ms/step - loss: 13.8827 - mse: 265.4630\n",
            "Epoch 100/100\n",
            "2/2 [==============================] - 0s 4ms/step - loss: 20.2277 - mse: 608.8218\n"
          ]
        },
        {
          "output_type": "execute_result",
          "data": {
            "text/plain": [
              "<keras.callbacks.History at 0x7fc4cb68fa10>"
            ]
          },
          "metadata": {},
          "execution_count": 49
        }
      ]
    },
    {
      "cell_type": "code",
      "source": [
        "y_preds_2=model_2.predict(X_test)"
      ],
      "metadata": {
        "id": "flEtzEZnDJRN",
        "colab": {
          "base_uri": "https://localhost:8080/"
        },
        "outputId": "009d159c-ce9e-4561-8308-7f626f7777c5"
      },
      "execution_count": null,
      "outputs": [
        {
          "output_type": "stream",
          "name": "stdout",
          "text": [
            "WARNING:tensorflow:6 out of the last 6 calls to <function Model.make_predict_function.<locals>.predict_function at 0x7fc549462560> triggered tf.function retracing. Tracing is expensive and the excessive number of tracings could be due to (1) creating @tf.function repeatedly in a loop, (2) passing tensors with different shapes, (3) passing Python objects instead of tensors. For (1), please define your @tf.function outside of the loop. For (2), @tf.function has experimental_relax_shapes=True option that relaxes argument shapes that can avoid unnecessary retracing. For (3), please refer to https://www.tensorflow.org/guide/function#controlling_retracing and https://www.tensorflow.org/api_docs/python/tf/function for  more details.\n"
          ]
        }
      ]
    },
    {
      "cell_type": "code",
      "source": [
        "# Plot predictions\n",
        "plot_prediction(predictions=y_preds_2)"
      ],
      "metadata": {
        "colab": {
          "base_uri": "https://localhost:8080/",
          "height": 428
        },
        "id": "QL3JrHMVDgVU",
        "outputId": "fd8cf08d-d626-450d-e989-02dc6434759a"
      },
      "execution_count": null,
      "outputs": [
        {
          "output_type": "display_data",
          "data": {
            "image/png": "[encoded data removed]",
            "text/plain": [
              "<Figure size 720x504 with 1 Axes>"
            ]
          },
          "metadata": {
            "needs_background": "light"
          }
        }
      ]
    },
    {
      "cell_type": "code",
      "source": [
        "# Calculate model_2 evaluation metrics\n",
        "mae_2=mae(y_true=y_test, y_pred=y_preds_2)\n",
        "mse_2=mse(y_true=y_test, y_pred=y_preds_2)\n",
        "mae_2,mse_2"
      ],
      "metadata": {
        "colab": {
          "base_uri": "https://localhost:8080/"
        },
        "id": "sQv5m4h6D4d8",
        "outputId": "44a37020-1f28-4c94-8015-7041e755713b"
      },
      "execution_count": null,
      "outputs": [
        {
          "output_type": "execute_result",
          "data": {
            "text/plain": [
              "(<tf.Tensor: shape=(), dtype=float32, numpy=3.1969407>,\n",
              " <tf.Tensor: shape=(), dtype=float32, numpy=13.070143>)"
            ]
          },
          "metadata": {},
          "execution_count": 52
        }
      ]
    },
    {
      "cell_type": "markdown",
      "source": [
        "**Build model 3**\n",
        "\n",
        "* 2 layer with 500 epochs"
      ],
      "metadata": {
        "id": "H8-68Gx2Ehil"
      }
    },
    {
      "cell_type": "code",
      "source": [
        "#Fix the seed for reproduciability\n",
        "tf.random.set_seed(42)\n",
        "\n",
        "#1. Create the model_3\n",
        "model_3=tf.keras.Sequential([\n",
        "    tf.keras.layers.Dense(10),\n",
        "    tf.keras.layers.Dense(1)\n",
        "])\n",
        "\n",
        "#2. Compile the model_3\n",
        "model_3.compile(loss=tf.losses.mae,\n",
        "                optimizer=tf.keras.optimizers.SGD(),\n",
        "                metrics=[\"mae\"])\n",
        "\n",
        "#3. Fit the moodel_3\n",
        "model_3.fit(tf.expand_dims(X_train,axis=-1), y_train, epochs=500)"
      ],
      "metadata": {
        "colab": {
          "base_uri": "https://localhost:8080/"
        },
        "id": "Tc6ISt4QE5no",
        "outputId": "0253061d-a9f5-4e79-d12e-db9af3985c66"
      },
      "execution_count": null,
      "outputs": [
        {
          "output_type": "stream",
          "name": "stdout",
          "text": [
            "Epoch 1/500\n",
            "2/2 [==============================] - 0s 6ms/step - loss: 27.4058 - mae: 27.4058\n",
            "Epoch 2/500\n",
            "2/2 [==============================] - 0s 7ms/step - loss: 24.6339 - mae: 24.6339\n",
            "Epoch 3/500\n",
            "2/2 [==============================] - 0s 6ms/step - loss: 29.8935 - mae: 29.8935\n",
            "Epoch 4/500\n",
            "2/2 [==============================] - 0s 5ms/step - loss: 27.4055 - mae: 27.4055\n",
            "Epoch 5/500\n",
            "2/2 [==============================] - 0s 5ms/step - loss: 14.9463 - mae: 14.9463\n",
            "Epoch 6/500\n",
            "2/2 [==============================] - 0s 5ms/step - loss: 11.8819 - mae: 11.8819\n",
            "Epoch 7/500\n",
            "2/2 [==============================] - 0s 6ms/step - loss: 11.1988 - mae: 11.1988\n",
            "Epoch 8/500\n",
            "2/2 [==============================] - 0s 6ms/step - loss: 11.0910 - mae: 11.0910\n",
            "Epoch 9/500\n",
            "2/2 [==============================] - 0s 5ms/step - loss: 40.4763 - mae: 40.4763\n",
            "Epoch 10/500\n",
            "2/2 [==============================] - 0s 4ms/step - loss: 27.8688 - mae: 27.8688\n",
            "Epoch 11/500\n",
            "2/2 [==============================] - 0s 7ms/step - loss: 10.2473 - mae: 10.2473\n",
            "Epoch 12/500\n",
            "2/2 [==============================] - 0s 9ms/step - loss: 25.2803 - mae: 25.2803\n",
            "Epoch 13/500\n",
            "2/2 [==============================] - 0s 11ms/step - loss: 16.9897 - mae: 16.9897\n",
            "Epoch 14/500\n",
            "2/2 [==============================] - 0s 7ms/step - loss: 25.9217 - mae: 25.9217\n",
            "Epoch 15/500\n",
            "2/2 [==============================] - 0s 9ms/step - loss: 17.9948 - mae: 17.9948\n",
            "Epoch 16/500\n",
            "2/2 [==============================] - 0s 5ms/step - loss: 7.3510 - mae: 7.3510\n",
            "Epoch 17/500\n",
            "2/2 [==============================] - 0s 9ms/step - loss: 10.8636 - mae: 10.8636\n",
            "Epoch 18/500\n",
            "2/2 [==============================] - 0s 8ms/step - loss: 19.5304 - mae: 19.5304\n",
            "Epoch 19/500\n",
            "2/2 [==============================] - 0s 5ms/step - loss: 10.3469 - mae: 10.3469\n",
            "Epoch 20/500\n",
            "2/2 [==============================] - 0s 9ms/step - loss: 17.6985 - mae: 17.6985\n",
            "Epoch 21/500\n",
            "2/2 [==============================] - 0s 5ms/step - loss: 15.8984 - mae: 15.8984\n",
            "Epoch 22/500\n",
            "2/2 [==============================] - 0s 5ms/step - loss: 14.1991 - mae: 14.1991\n",
            "Epoch 23/500\n",
            "2/2 [==============================] - 0s 9ms/step - loss: 8.7720 - mae: 8.7720\n",
            "Epoch 24/500\n",
            "2/2 [==============================] - 0s 6ms/step - loss: 11.0570 - mae: 11.0570\n",
            "Epoch 25/500\n",
            "2/2 [==============================] - 0s 5ms/step - loss: 12.6838 - mae: 12.6838\n",
            "Epoch 26/500\n",
            "2/2 [==============================] - 0s 6ms/step - loss: 26.1877 - mae: 26.1877\n",
            "Epoch 27/500\n",
            "2/2 [==============================] - 0s 5ms/step - loss: 11.7432 - mae: 11.7432\n",
            "Epoch 28/500\n",
            "2/2 [==============================] - 0s 5ms/step - loss: 22.8730 - mae: 22.8730\n",
            "Epoch 29/500\n",
            "2/2 [==============================] - 0s 6ms/step - loss: 9.2459 - mae: 9.2459\n",
            "Epoch 30/500\n",
            "2/2 [==============================] - 0s 6ms/step - loss: 29.2641 - mae: 29.2641\n",
            "Epoch 31/500\n",
            "2/2 [==============================] - 0s 5ms/step - loss: 53.0225 - mae: 53.0225\n",
            "Epoch 32/500\n",
            "2/2 [==============================] - 0s 5ms/step - loss: 11.9951 - mae: 11.9951\n",
            "Epoch 33/500\n",
            "2/2 [==============================] - 0s 7ms/step - loss: 15.6357 - mae: 15.6357\n",
            "Epoch 34/500\n",
            "2/2 [==============================] - 0s 6ms/step - loss: 12.6925 - mae: 12.6925\n",
            "Epoch 35/500\n",
            "2/2 [==============================] - 0s 7ms/step - loss: 9.2398 - mae: 9.2398\n",
            "Epoch 36/500\n",
            "2/2 [==============================] - 0s 7ms/step - loss: 16.6497 - mae: 16.6497\n",
            "Epoch 37/500\n",
            "2/2 [==============================] - 0s 7ms/step - loss: 11.0382 - mae: 11.0382\n",
            "Epoch 38/500\n",
            "2/2 [==============================] - 0s 6ms/step - loss: 18.1634 - mae: 18.1634\n",
            "Epoch 39/500\n",
            "2/2 [==============================] - 0s 6ms/step - loss: 19.1013 - mae: 19.1013\n",
            "Epoch 40/500\n",
            "2/2 [==============================] - 0s 7ms/step - loss: 20.4324 - mae: 20.4324\n",
            "Epoch 41/500\n",
            "2/2 [==============================] - 0s 7ms/step - loss: 14.9102 - mae: 14.9102\n",
            "Epoch 42/500\n",
            "2/2 [==============================] - 0s 6ms/step - loss: 12.2809 - mae: 12.2809\n",
            "Epoch 43/500\n",
            "2/2 [==============================] - 0s 6ms/step - loss: 10.7333 - mae: 10.7333\n",
            "Epoch 44/500\n",
            "2/2 [==============================] - 0s 7ms/step - loss: 23.0260 - mae: 23.0260\n",
            "Epoch 45/500\n",
            "2/2 [==============================] - 0s 8ms/step - loss: 10.3897 - mae: 10.3897\n",
            "Epoch 46/500\n",
            "2/2 [==============================] - 0s 6ms/step - loss: 11.7904 - mae: 11.7904\n",
            "Epoch 47/500\n",
            "2/2 [==============================] - 0s 7ms/step - loss: 9.6438 - mae: 9.6438\n",
            "Epoch 48/500\n",
            "2/2 [==============================] - 0s 5ms/step - loss: 17.2335 - mae: 17.2335\n",
            "Epoch 49/500\n",
            "2/2 [==============================] - 0s 7ms/step - loss: 9.5729 - mae: 9.5729\n",
            "Epoch 50/500\n",
            "2/2 [==============================] - 0s 5ms/step - loss: 13.8185 - mae: 13.8185\n",
            "Epoch 51/500\n",
            "2/2 [==============================] - 0s 5ms/step - loss: 11.5958 - mae: 11.5958\n",
            "Epoch 52/500\n",
            "2/2 [==============================] - 0s 5ms/step - loss: 30.5538 - mae: 30.5538\n",
            "Epoch 53/500\n",
            "2/2 [==============================] - 0s 5ms/step - loss: 14.3541 - mae: 14.3541\n",
            "Epoch 54/500\n",
            "2/2 [==============================] - 0s 5ms/step - loss: 23.9713 - mae: 23.9713\n",
            "Epoch 55/500\n",
            "2/2 [==============================] - 0s 6ms/step - loss: 23.1938 - mae: 23.1938\n",
            "Epoch 56/500\n",
            "2/2 [==============================] - 0s 7ms/step - loss: 10.8837 - mae: 10.8837\n",
            "Epoch 57/500\n",
            "2/2 [==============================] - 0s 5ms/step - loss: 12.7445 - mae: 12.7445\n",
            "Epoch 58/500\n",
            "2/2 [==============================] - 0s 5ms/step - loss: 9.5995 - mae: 9.5995\n",
            "Epoch 59/500\n",
            "2/2 [==============================] - 0s 10ms/step - loss: 12.5172 - mae: 12.5172\n",
            "Epoch 60/500\n",
            "2/2 [==============================] - 0s 11ms/step - loss: 12.3200 - mae: 12.3200\n",
            "Epoch 61/500\n",
            "2/2 [==============================] - 0s 7ms/step - loss: 17.4604 - mae: 17.4604\n",
            "Epoch 62/500\n",
            "2/2 [==============================] - 0s 11ms/step - loss: 10.6052 - mae: 10.6052\n",
            "Epoch 63/500\n",
            "2/2 [==============================] - 0s 7ms/step - loss: 10.4893 - mae: 10.4893\n",
            "Epoch 64/500\n",
            "2/2 [==============================] - 0s 5ms/step - loss: 24.8450 - mae: 24.8450\n",
            "Epoch 65/500\n",
            "2/2 [==============================] - 0s 8ms/step - loss: 10.6761 - mae: 10.6761\n",
            "Epoch 66/500\n",
            "2/2 [==============================] - 0s 7ms/step - loss: 21.7809 - mae: 21.7809\n",
            "Epoch 67/500\n",
            "2/2 [==============================] - 0s 8ms/step - loss: 10.7136 - mae: 10.7136\n",
            "Epoch 68/500\n",
            "2/2 [==============================] - 0s 6ms/step - loss: 10.6397 - mae: 10.6397\n",
            "Epoch 69/500\n",
            "2/2 [==============================] - 0s 11ms/step - loss: 22.6914 - mae: 22.6914\n",
            "Epoch 70/500\n",
            "2/2 [==============================] - 0s 9ms/step - loss: 9.3316 - mae: 9.3316\n",
            "Epoch 71/500\n",
            "2/2 [==============================] - 0s 7ms/step - loss: 15.4355 - mae: 15.4355\n",
            "Epoch 72/500\n",
            "2/2 [==============================] - 0s 10ms/step - loss: 6.7437 - mae: 6.7437\n",
            "Epoch 73/500\n",
            "2/2 [==============================] - 0s 12ms/step - loss: 11.6891 - mae: 11.6891\n",
            "Epoch 74/500\n",
            "2/2 [==============================] - 0s 4ms/step - loss: 24.0400 - mae: 24.0400\n",
            "Epoch 75/500\n",
            "2/2 [==============================] - 0s 6ms/step - loss: 9.5896 - mae: 9.5896\n",
            "Epoch 76/500\n",
            "2/2 [==============================] - 0s 15ms/step - loss: 12.4371 - mae: 12.4371\n",
            "Epoch 77/500\n",
            "2/2 [==============================] - 0s 4ms/step - loss: 16.6489 - mae: 16.6489\n",
            "Epoch 78/500\n",
            "2/2 [==============================] - 0s 7ms/step - loss: 9.0614 - mae: 9.0614\n",
            "Epoch 79/500\n",
            "2/2 [==============================] - 0s 5ms/step - loss: 23.9675 - mae: 23.9675\n",
            "Epoch 80/500\n",
            "2/2 [==============================] - 0s 6ms/step - loss: 26.7463 - mae: 26.7463\n",
            "Epoch 81/500\n",
            "2/2 [==============================] - 0s 4ms/step - loss: 11.6714 - mae: 11.6714\n",
            "Epoch 82/500\n",
            "2/2 [==============================] - 0s 4ms/step - loss: 12.0228 - mae: 12.0228\n",
            "Epoch 83/500\n",
            "2/2 [==============================] - 0s 4ms/step - loss: 17.4218 - mae: 17.4218\n",
            "Epoch 84/500\n",
            "2/2 [==============================] - 0s 4ms/step - loss: 7.2629 - mae: 7.2629\n",
            "Epoch 85/500\n",
            "2/2 [==============================] - 0s 4ms/step - loss: 14.9650 - mae: 14.9650\n",
            "Epoch 86/500\n",
            "2/2 [==============================] - 0s 4ms/step - loss: 15.2862 - mae: 15.2862\n",
            "Epoch 87/500\n",
            "2/2 [==============================] - 0s 9ms/step - loss: 19.1086 - mae: 19.1086\n",
            "Epoch 88/500\n",
            "2/2 [==============================] - 0s 4ms/step - loss: 29.8229 - mae: 29.8229\n",
            "Epoch 89/500\n",
            "2/2 [==============================] - 0s 4ms/step - loss: 10.1742 - mae: 10.1742\n",
            "Epoch 90/500\n",
            "2/2 [==============================] - 0s 7ms/step - loss: 21.5240 - mae: 21.5240\n",
            "Epoch 91/500\n",
            "2/2 [==============================] - 0s 8ms/step - loss: 10.5716 - mae: 10.5716\n",
            "Epoch 92/500\n",
            "2/2 [==============================] - 0s 8ms/step - loss: 18.3977 - mae: 18.3977\n",
            "Epoch 93/500\n",
            "2/2 [==============================] - 0s 7ms/step - loss: 7.4138 - mae: 7.4138\n",
            "Epoch 94/500\n",
            "2/2 [==============================] - 0s 10ms/step - loss: 17.7380 - mae: 17.7380\n",
            "Epoch 95/500\n",
            "2/2 [==============================] - 0s 12ms/step - loss: 11.1144 - mae: 11.1144\n",
            "Epoch 96/500\n",
            "2/2 [==============================] - 0s 7ms/step - loss: 19.4346 - mae: 19.4346\n",
            "Epoch 97/500\n",
            "2/2 [==============================] - 0s 6ms/step - loss: 12.1593 - mae: 12.1593\n",
            "Epoch 98/500\n",
            "2/2 [==============================] - 0s 6ms/step - loss: 11.5653 - mae: 11.5653\n",
            "Epoch 99/500\n",
            "2/2 [==============================] - 0s 8ms/step - loss: 13.8827 - mae: 13.8827\n",
            "Epoch 100/500\n",
            "2/2 [==============================] - 0s 8ms/step - loss: 20.2277 - mae: 20.2277\n",
            "Epoch 101/500\n",
            "2/2 [==============================] - 0s 4ms/step - loss: 11.4479 - mae: 11.4479\n",
            "Epoch 102/500\n",
            "2/2 [==============================] - 0s 5ms/step - loss: 17.4842 - mae: 17.4842\n",
            "Epoch 103/500\n",
            "2/2 [==============================] - 0s 9ms/step - loss: 7.0217 - mae: 7.0217\n",
            "Epoch 104/500\n",
            "2/2 [==============================] - 0s 5ms/step - loss: 23.5789 - mae: 23.5789\n",
            "Epoch 105/500\n",
            "2/2 [==============================] - 0s 5ms/step - loss: 16.8932 - mae: 16.8932\n",
            "Epoch 106/500\n",
            "2/2 [==============================] - 0s 7ms/step - loss: 9.2954 - mae: 9.2954\n",
            "Epoch 107/500\n",
            "2/2 [==============================] - 0s 9ms/step - loss: 25.3749 - mae: 25.3749\n",
            "Epoch 108/500\n",
            "2/2 [==============================] - 0s 5ms/step - loss: 13.4621 - mae: 13.4621\n",
            "Epoch 109/500\n",
            "2/2 [==============================] - 0s 12ms/step - loss: 9.5238 - mae: 9.5238\n",
            "Epoch 110/500\n",
            "2/2 [==============================] - 0s 9ms/step - loss: 9.6722 - mae: 9.6722\n",
            "Epoch 111/500\n",
            "2/2 [==============================] - 0s 6ms/step - loss: 14.5987 - mae: 14.5987\n",
            "Epoch 112/500\n",
            "2/2 [==============================] - 0s 9ms/step - loss: 9.5670 - mae: 9.5670\n",
            "Epoch 113/500\n",
            "2/2 [==============================] - 0s 8ms/step - loss: 17.8092 - mae: 17.8092\n",
            "Epoch 114/500\n",
            "2/2 [==============================] - 0s 5ms/step - loss: 17.1782 - mae: 17.1782\n",
            "Epoch 115/500\n",
            "2/2 [==============================] - 0s 5ms/step - loss: 11.1182 - mae: 11.1182\n",
            "Epoch 116/500\n",
            "2/2 [==============================] - 0s 9ms/step - loss: 23.3071 - mae: 23.3071\n",
            "Epoch 117/500\n",
            "2/2 [==============================] - 0s 4ms/step - loss: 9.6144 - mae: 9.6144\n",
            "Epoch 118/500\n",
            "2/2 [==============================] - 0s 7ms/step - loss: 10.6899 - mae: 10.6899\n",
            "Epoch 119/500\n",
            "2/2 [==============================] - 0s 9ms/step - loss: 8.0355 - mae: 8.0355\n",
            "Epoch 120/500\n",
            "2/2 [==============================] - 0s 7ms/step - loss: 29.6859 - mae: 29.6859\n",
            "Epoch 121/500\n",
            "2/2 [==============================] - 0s 6ms/step - loss: 8.0714 - mae: 8.0714\n",
            "Epoch 122/500\n",
            "2/2 [==============================] - 0s 5ms/step - loss: 28.3086 - mae: 28.3086\n",
            "Epoch 123/500\n",
            "2/2 [==============================] - 0s 5ms/step - loss: 32.9014 - mae: 32.9014\n",
            "Epoch 124/500\n",
            "2/2 [==============================] - 0s 5ms/step - loss: 19.6291 - mae: 19.6291\n",
            "Epoch 125/500\n",
            "2/2 [==============================] - 0s 6ms/step - loss: 7.0095 - mae: 7.0095\n",
            "Epoch 126/500\n",
            "2/2 [==============================] - 0s 9ms/step - loss: 21.8056 - mae: 21.8056\n",
            "Epoch 127/500\n",
            "2/2 [==============================] - 0s 15ms/step - loss: 7.9812 - mae: 7.9812\n",
            "Epoch 128/500\n",
            "2/2 [==============================] - 0s 8ms/step - loss: 21.0585 - mae: 21.0585\n",
            "Epoch 129/500\n",
            "2/2 [==============================] - 0s 8ms/step - loss: 9.0107 - mae: 9.0107\n",
            "Epoch 130/500\n",
            "2/2 [==============================] - 0s 7ms/step - loss: 24.0502 - mae: 24.0502\n",
            "Epoch 131/500\n",
            "2/2 [==============================] - 0s 9ms/step - loss: 9.7537 - mae: 9.7537\n",
            "Epoch 132/500\n",
            "2/2 [==============================] - 0s 6ms/step - loss: 18.3052 - mae: 18.3052\n",
            "Epoch 133/500\n",
            "2/2 [==============================] - 0s 5ms/step - loss: 7.5833 - mae: 7.5833\n",
            "Epoch 134/500\n",
            "2/2 [==============================] - 0s 6ms/step - loss: 18.5755 - mae: 18.5755\n",
            "Epoch 135/500\n",
            "2/2 [==============================] - 0s 6ms/step - loss: 10.5360 - mae: 10.5360\n",
            "Epoch 136/500\n",
            "2/2 [==============================] - 0s 6ms/step - loss: 18.2694 - mae: 18.2694\n",
            "Epoch 137/500\n",
            "2/2 [==============================] - 0s 6ms/step - loss: 23.1658 - mae: 23.1658\n",
            "Epoch 138/500\n",
            "2/2 [==============================] - 0s 6ms/step - loss: 9.1362 - mae: 9.1362\n",
            "Epoch 139/500\n",
            "2/2 [==============================] - 0s 6ms/step - loss: 8.9181 - mae: 8.9181\n",
            "Epoch 140/500\n",
            "2/2 [==============================] - 0s 6ms/step - loss: 16.4732 - mae: 16.4732\n",
            "Epoch 141/500\n",
            "2/2 [==============================] - 0s 6ms/step - loss: 8.4208 - mae: 8.4208\n",
            "Epoch 142/500\n",
            "2/2 [==============================] - 0s 6ms/step - loss: 36.9540 - mae: 36.9540\n",
            "Epoch 143/500\n",
            "2/2 [==============================] - 0s 5ms/step - loss: 25.5820 - mae: 25.5820\n",
            "Epoch 144/500\n",
            "2/2 [==============================] - 0s 14ms/step - loss: 9.5392 - mae: 9.5392\n",
            "Epoch 145/500\n",
            "2/2 [==============================] - 0s 9ms/step - loss: 26.6058 - mae: 26.6058\n",
            "Epoch 146/500\n",
            "2/2 [==============================] - 0s 5ms/step - loss: 8.7248 - mae: 8.7248\n",
            "Epoch 147/500\n",
            "2/2 [==============================] - 0s 6ms/step - loss: 15.6172 - mae: 15.6172\n",
            "Epoch 148/500\n",
            "2/2 [==============================] - 0s 7ms/step - loss: 18.3065 - mae: 18.3065\n",
            "Epoch 149/500\n",
            "2/2 [==============================] - 0s 12ms/step - loss: 8.1994 - mae: 8.1994\n",
            "Epoch 150/500\n",
            "2/2 [==============================] - 0s 7ms/step - loss: 7.4964 - mae: 7.4964\n",
            "Epoch 151/500\n",
            "2/2 [==============================] - 0s 5ms/step - loss: 18.3374 - mae: 18.3374\n",
            "Epoch 152/500\n",
            "2/2 [==============================] - 0s 7ms/step - loss: 10.2895 - mae: 10.2895\n",
            "Epoch 153/500\n",
            "2/2 [==============================] - 0s 11ms/step - loss: 29.6425 - mae: 29.6425\n",
            "Epoch 154/500\n",
            "2/2 [==============================] - 0s 9ms/step - loss: 10.5556 - mae: 10.5556\n",
            "Epoch 155/500\n",
            "2/2 [==============================] - 0s 7ms/step - loss: 15.4537 - mae: 15.4537\n",
            "Epoch 156/500\n",
            "2/2 [==============================] - 0s 13ms/step - loss: 17.0174 - mae: 17.0174\n",
            "Epoch 157/500\n",
            "2/2 [==============================] - 0s 5ms/step - loss: 32.8218 - mae: 32.8218\n",
            "Epoch 158/500\n",
            "2/2 [==============================] - 0s 5ms/step - loss: 10.7038 - mae: 10.7038\n",
            "Epoch 159/500\n",
            "2/2 [==============================] - 0s 6ms/step - loss: 8.9054 - mae: 8.9054\n",
            "Epoch 160/500\n",
            "2/2 [==============================] - 0s 9ms/step - loss: 22.1321 - mae: 22.1321\n",
            "Epoch 161/500\n",
            "2/2 [==============================] - 0s 5ms/step - loss: 11.7113 - mae: 11.7113\n",
            "Epoch 162/500\n",
            "2/2 [==============================] - 0s 5ms/step - loss: 21.5734 - mae: 21.5734\n",
            "Epoch 163/500\n",
            "2/2 [==============================] - 0s 8ms/step - loss: 19.2485 - mae: 19.2485\n",
            "Epoch 164/500\n",
            "2/2 [==============================] - 0s 7ms/step - loss: 11.0156 - mae: 11.0156\n",
            "Epoch 165/500\n",
            "2/2 [==============================] - 0s 6ms/step - loss: 9.6187 - mae: 9.6187\n",
            "Epoch 166/500\n",
            "2/2 [==============================] - 0s 7ms/step - loss: 21.5908 - mae: 21.5908\n",
            "Epoch 167/500\n",
            "2/2 [==============================] - 0s 5ms/step - loss: 26.2851 - mae: 26.2851\n",
            "Epoch 168/500\n",
            "2/2 [==============================] - 0s 5ms/step - loss: 9.8525 - mae: 9.8525\n",
            "Epoch 169/500\n",
            "2/2 [==============================] - 0s 5ms/step - loss: 22.5630 - mae: 22.5630\n",
            "Epoch 170/500\n",
            "2/2 [==============================] - 0s 9ms/step - loss: 10.1499 - mae: 10.1499\n",
            "Epoch 171/500\n",
            "2/2 [==============================] - 0s 11ms/step - loss: 18.0464 - mae: 18.0464\n",
            "Epoch 172/500\n",
            "2/2 [==============================] - 0s 4ms/step - loss: 28.8377 - mae: 28.8377\n",
            "Epoch 173/500\n",
            "2/2 [==============================] - 0s 4ms/step - loss: 16.5279 - mae: 16.5279\n",
            "Epoch 174/500\n",
            "2/2 [==============================] - 0s 4ms/step - loss: 11.2115 - mae: 11.2115\n",
            "Epoch 175/500\n",
            "2/2 [==============================] - 0s 4ms/step - loss: 27.5839 - mae: 27.5839\n",
            "Epoch 176/500\n",
            "2/2 [==============================] - 0s 7ms/step - loss: 8.2680 - mae: 8.2680\n",
            "Epoch 177/500\n",
            "2/2 [==============================] - 0s 11ms/step - loss: 9.2580 - mae: 9.2580\n",
            "Epoch 178/500\n",
            "2/2 [==============================] - 0s 4ms/step - loss: 18.1440 - mae: 18.1440\n",
            "Epoch 179/500\n",
            "2/2 [==============================] - 0s 4ms/step - loss: 10.5995 - mae: 10.5995\n",
            "Epoch 180/500\n",
            "2/2 [==============================] - 0s 4ms/step - loss: 7.8992 - mae: 7.8992\n",
            "Epoch 181/500\n",
            "2/2 [==============================] - 0s 8ms/step - loss: 17.4015 - mae: 17.4015\n",
            "Epoch 182/500\n",
            "2/2 [==============================] - 0s 7ms/step - loss: 11.0089 - mae: 11.0089\n",
            "Epoch 183/500\n",
            "2/2 [==============================] - 0s 7ms/step - loss: 11.7027 - mae: 11.7027\n",
            "Epoch 184/500\n",
            "2/2 [==============================] - 0s 5ms/step - loss: 30.4062 - mae: 30.4062\n",
            "Epoch 185/500\n",
            "2/2 [==============================] - 0s 8ms/step - loss: 7.5557 - mae: 7.5557\n",
            "Epoch 186/500\n",
            "2/2 [==============================] - 0s 8ms/step - loss: 15.9905 - mae: 15.9905\n",
            "Epoch 187/500\n",
            "2/2 [==============================] - 0s 6ms/step - loss: 8.5579 - mae: 8.5579\n",
            "Epoch 188/500\n",
            "2/2 [==============================] - 0s 5ms/step - loss: 28.7339 - mae: 28.7339\n",
            "Epoch 189/500\n",
            "2/2 [==============================] - 0s 4ms/step - loss: 13.1689 - mae: 13.1689\n",
            "Epoch 190/500\n",
            "2/2 [==============================] - 0s 6ms/step - loss: 18.3101 - mae: 18.3101\n",
            "Epoch 191/500\n",
            "2/2 [==============================] - 0s 5ms/step - loss: 13.7376 - mae: 13.7376\n",
            "Epoch 192/500\n",
            "2/2 [==============================] - 0s 6ms/step - loss: 13.7104 - mae: 13.7104\n",
            "Epoch 193/500\n",
            "2/2 [==============================] - 0s 7ms/step - loss: 28.5842 - mae: 28.5842\n",
            "Epoch 194/500\n",
            "2/2 [==============================] - 0s 9ms/step - loss: 7.0707 - mae: 7.0707\n",
            "Epoch 195/500\n",
            "2/2 [==============================] - 0s 4ms/step - loss: 7.0550 - mae: 7.0550\n",
            "Epoch 196/500\n",
            "2/2 [==============================] - 0s 8ms/step - loss: 22.0067 - mae: 22.0067\n",
            "Epoch 197/500\n",
            "2/2 [==============================] - 0s 8ms/step - loss: 20.8443 - mae: 20.8443\n",
            "Epoch 198/500\n",
            "2/2 [==============================] - 0s 6ms/step - loss: 12.4713 - mae: 12.4713\n",
            "Epoch 199/500\n",
            "2/2 [==============================] - 0s 8ms/step - loss: 17.9099 - mae: 17.9099\n",
            "Epoch 200/500\n",
            "2/2 [==============================] - 0s 8ms/step - loss: 13.7494 - mae: 13.7494\n",
            "Epoch 201/500\n",
            "2/2 [==============================] - 0s 7ms/step - loss: 5.4687 - mae: 5.4687\n",
            "Epoch 202/500\n",
            "2/2 [==============================] - 0s 4ms/step - loss: 13.7006 - mae: 13.7006\n",
            "Epoch 203/500\n",
            "2/2 [==============================] - 0s 5ms/step - loss: 9.4142 - mae: 9.4142\n",
            "Epoch 204/500\n",
            "2/2 [==============================] - 0s 4ms/step - loss: 20.9796 - mae: 20.9796\n",
            "Epoch 205/500\n",
            "2/2 [==============================] - 0s 5ms/step - loss: 9.5470 - mae: 9.5470\n",
            "Epoch 206/500\n",
            "2/2 [==============================] - 0s 9ms/step - loss: 11.7256 - mae: 11.7256\n",
            "Epoch 207/500\n",
            "2/2 [==============================] - 0s 5ms/step - loss: 14.3772 - mae: 14.3772\n",
            "Epoch 208/500\n",
            "2/2 [==============================] - 0s 5ms/step - loss: 14.8579 - mae: 14.8579\n",
            "Epoch 209/500\n",
            "2/2 [==============================] - 0s 6ms/step - loss: 14.9706 - mae: 14.9706\n",
            "Epoch 210/500\n",
            "2/2 [==============================] - 0s 10ms/step - loss: 17.8998 - mae: 17.8998\n",
            "Epoch 211/500\n",
            "2/2 [==============================] - 0s 4ms/step - loss: 9.8327 - mae: 9.8327\n",
            "Epoch 212/500\n",
            "2/2 [==============================] - 0s 4ms/step - loss: 18.3352 - mae: 18.3352\n",
            "Epoch 213/500\n",
            "2/2 [==============================] - 0s 4ms/step - loss: 15.0383 - mae: 15.0383\n",
            "Epoch 214/500\n",
            "2/2 [==============================] - 0s 4ms/step - loss: 14.5874 - mae: 14.5874\n",
            "Epoch 215/500\n",
            "2/2 [==============================] - 0s 7ms/step - loss: 23.3015 - mae: 23.3015\n",
            "Epoch 216/500\n",
            "2/2 [==============================] - 0s 12ms/step - loss: 13.3613 - mae: 13.3613\n",
            "Epoch 217/500\n",
            "2/2 [==============================] - 0s 6ms/step - loss: 9.8517 - mae: 9.8517\n",
            "Epoch 218/500\n",
            "2/2 [==============================] - 0s 11ms/step - loss: 12.5451 - mae: 12.5451\n",
            "Epoch 219/500\n",
            "2/2 [==============================] - 0s 6ms/step - loss: 4.9472 - mae: 4.9472\n",
            "Epoch 220/500\n",
            "2/2 [==============================] - 0s 6ms/step - loss: 7.1130 - mae: 7.1130\n",
            "Epoch 221/500\n",
            "2/2 [==============================] - 0s 6ms/step - loss: 35.4567 - mae: 35.4567\n",
            "Epoch 222/500\n",
            "2/2 [==============================] - 0s 9ms/step - loss: 34.8634 - mae: 34.8634\n",
            "Epoch 223/500\n",
            "2/2 [==============================] - 0s 8ms/step - loss: 7.9846 - mae: 7.9846\n",
            "Epoch 224/500\n",
            "2/2 [==============================] - 0s 6ms/step - loss: 14.7004 - mae: 14.7004\n",
            "Epoch 225/500\n",
            "2/2 [==============================] - 0s 6ms/step - loss: 16.7196 - mae: 16.7196\n",
            "Epoch 226/500\n",
            "2/2 [==============================] - 0s 7ms/step - loss: 15.9329 - mae: 15.9329\n",
            "Epoch 227/500\n",
            "2/2 [==============================] - 0s 7ms/step - loss: 16.1644 - mae: 16.1644\n",
            "Epoch 228/500\n",
            "2/2 [==============================] - 0s 7ms/step - loss: 13.9324 - mae: 13.9324\n",
            "Epoch 229/500\n",
            "2/2 [==============================] - 0s 6ms/step - loss: 18.0504 - mae: 18.0504\n",
            "Epoch 230/500\n",
            "2/2 [==============================] - 0s 6ms/step - loss: 15.6120 - mae: 15.6120\n",
            "Epoch 231/500\n",
            "2/2 [==============================] - 0s 8ms/step - loss: 21.2041 - mae: 21.2041\n",
            "Epoch 232/500\n",
            "2/2 [==============================] - 0s 7ms/step - loss: 25.2732 - mae: 25.2732\n",
            "Epoch 233/500\n",
            "2/2 [==============================] - 0s 7ms/step - loss: 16.3176 - mae: 16.3176\n",
            "Epoch 234/500\n",
            "2/2 [==============================] - 0s 9ms/step - loss: 7.2729 - mae: 7.2729\n",
            "Epoch 235/500\n",
            "2/2 [==============================] - 0s 6ms/step - loss: 16.9688 - mae: 16.9688\n",
            "Epoch 236/500\n",
            "2/2 [==============================] - 0s 6ms/step - loss: 7.1225 - mae: 7.1225\n",
            "Epoch 237/500\n",
            "2/2 [==============================] - 0s 8ms/step - loss: 9.2058 - mae: 9.2058\n",
            "Epoch 238/500\n",
            "2/2 [==============================] - 0s 9ms/step - loss: 8.0961 - mae: 8.0961\n",
            "Epoch 239/500\n",
            "2/2 [==============================] - 0s 7ms/step - loss: 17.0538 - mae: 17.0538\n",
            "Epoch 240/500\n",
            "2/2 [==============================] - 0s 6ms/step - loss: 8.8627 - mae: 8.8627\n",
            "Epoch 241/500\n",
            "2/2 [==============================] - 0s 7ms/step - loss: 13.1711 - mae: 13.1711\n",
            "Epoch 242/500\n",
            "2/2 [==============================] - 0s 9ms/step - loss: 8.7886 - mae: 8.7886\n",
            "Epoch 243/500\n",
            "2/2 [==============================] - 0s 5ms/step - loss: 18.8161 - mae: 18.8161\n",
            "Epoch 244/500\n",
            "2/2 [==============================] - 0s 5ms/step - loss: 14.0531 - mae: 14.0531\n",
            "Epoch 245/500\n",
            "2/2 [==============================] - 0s 5ms/step - loss: 14.6831 - mae: 14.6831\n",
            "Epoch 246/500\n",
            "2/2 [==============================] - 0s 8ms/step - loss: 15.8045 - mae: 15.8045\n",
            "Epoch 247/500\n",
            "2/2 [==============================] - 0s 8ms/step - loss: 17.6810 - mae: 17.6810\n",
            "Epoch 248/500\n",
            "2/2 [==============================] - 0s 5ms/step - loss: 13.2367 - mae: 13.2367\n",
            "Epoch 249/500\n",
            "2/2 [==============================] - 0s 8ms/step - loss: 14.5070 - mae: 14.5070\n",
            "Epoch 250/500\n",
            "2/2 [==============================] - 0s 6ms/step - loss: 23.2322 - mae: 23.2322\n",
            "Epoch 251/500\n",
            "2/2 [==============================] - 0s 5ms/step - loss: 9.3009 - mae: 9.3009\n",
            "Epoch 252/500\n",
            "2/2 [==============================] - 0s 5ms/step - loss: 36.6569 - mae: 36.6569\n",
            "Epoch 253/500\n",
            "2/2 [==============================] - 0s 5ms/step - loss: 21.8205 - mae: 21.8205\n",
            "Epoch 254/500\n",
            "2/2 [==============================] - 0s 5ms/step - loss: 7.2792 - mae: 7.2792\n",
            "Epoch 255/500\n",
            "2/2 [==============================] - 0s 8ms/step - loss: 24.7127 - mae: 24.7127\n",
            "Epoch 256/500\n",
            "2/2 [==============================] - 0s 5ms/step - loss: 12.4220 - mae: 12.4220\n",
            "Epoch 257/500\n",
            "2/2 [==============================] - 0s 4ms/step - loss: 10.5823 - mae: 10.5823\n",
            "Epoch 258/500\n",
            "2/2 [==============================] - 0s 8ms/step - loss: 14.4883 - mae: 14.4883\n",
            "Epoch 259/500\n",
            "2/2 [==============================] - 0s 11ms/step - loss: 8.6132 - mae: 8.6132\n",
            "Epoch 260/500\n",
            "2/2 [==============================] - 0s 4ms/step - loss: 43.0580 - mae: 43.0580\n",
            "Epoch 261/500\n",
            "2/2 [==============================] - 0s 4ms/step - loss: 18.4611 - mae: 18.4611\n",
            "Epoch 262/500\n",
            "2/2 [==============================] - 0s 4ms/step - loss: 6.8820 - mae: 6.8820\n",
            "Epoch 263/500\n",
            "2/2 [==============================] - 0s 5ms/step - loss: 13.7211 - mae: 13.7211\n",
            "Epoch 264/500\n",
            "2/2 [==============================] - 0s 4ms/step - loss: 21.0154 - mae: 21.0154\n",
            "Epoch 265/500\n",
            "2/2 [==============================] - 0s 5ms/step - loss: 19.3731 - mae: 19.3731\n",
            "Epoch 266/500\n",
            "2/2 [==============================] - 0s 9ms/step - loss: 11.4735 - mae: 11.4735\n",
            "Epoch 267/500\n",
            "2/2 [==============================] - 0s 4ms/step - loss: 7.5302 - mae: 7.5302\n",
            "Epoch 268/500\n",
            "2/2 [==============================] - 0s 5ms/step - loss: 21.6453 - mae: 21.6453\n",
            "Epoch 269/500\n",
            "2/2 [==============================] - 0s 7ms/step - loss: 33.1785 - mae: 33.1785\n",
            "Epoch 270/500\n",
            "2/2 [==============================] - 0s 10ms/step - loss: 10.0833 - mae: 10.0833\n",
            "Epoch 271/500\n",
            "2/2 [==============================] - 0s 4ms/step - loss: 12.1012 - mae: 12.1012\n",
            "Epoch 272/500\n",
            "2/2 [==============================] - 0s 12ms/step - loss: 26.1372 - mae: 26.1372\n",
            "Epoch 273/500\n",
            "2/2 [==============================] - 0s 4ms/step - loss: 12.1751 - mae: 12.1751\n",
            "Epoch 274/500\n",
            "2/2 [==============================] - 0s 5ms/step - loss: 13.3272 - mae: 13.3272\n",
            "Epoch 275/500\n",
            "2/2 [==============================] - 0s 11ms/step - loss: 29.3775 - mae: 29.3775\n",
            "Epoch 276/500\n",
            "2/2 [==============================] - 0s 5ms/step - loss: 7.3329 - mae: 7.3329\n",
            "Epoch 277/500\n",
            "2/2 [==============================] - 0s 4ms/step - loss: 31.1362 - mae: 31.1362\n",
            "Epoch 278/500\n",
            "2/2 [==============================] - 0s 5ms/step - loss: 12.3015 - mae: 12.3015\n",
            "Epoch 279/500\n",
            "2/2 [==============================] - 0s 11ms/step - loss: 16.4103 - mae: 16.4103\n",
            "Epoch 280/500\n",
            "2/2 [==============================] - 0s 12ms/step - loss: 21.9118 - mae: 21.9118\n",
            "Epoch 281/500\n",
            "2/2 [==============================] - 0s 5ms/step - loss: 22.1501 - mae: 22.1501\n",
            "Epoch 282/500\n",
            "2/2 [==============================] - 0s 6ms/step - loss: 7.7429 - mae: 7.7429\n",
            "Epoch 283/500\n",
            "2/2 [==============================] - 0s 8ms/step - loss: 8.1429 - mae: 8.1429\n",
            "Epoch 284/500\n",
            "2/2 [==============================] - 0s 6ms/step - loss: 24.9435 - mae: 24.9435\n",
            "Epoch 285/500\n",
            "2/2 [==============================] - 0s 7ms/step - loss: 13.6958 - mae: 13.6958\n",
            "Epoch 286/500\n",
            "2/2 [==============================] - 0s 6ms/step - loss: 6.8926 - mae: 6.8926\n",
            "Epoch 287/500\n",
            "2/2 [==============================] - 0s 7ms/step - loss: 24.5352 - mae: 24.5352\n",
            "Epoch 288/500\n",
            "2/2 [==============================] - 0s 10ms/step - loss: 20.1721 - mae: 20.1721\n",
            "Epoch 289/500\n",
            "2/2 [==============================] - 0s 8ms/step - loss: 11.9658 - mae: 11.9658\n",
            "Epoch 290/500\n",
            "2/2 [==============================] - 0s 11ms/step - loss: 16.5391 - mae: 16.5391\n",
            "Epoch 291/500\n",
            "2/2 [==============================] - 0s 5ms/step - loss: 16.8017 - mae: 16.8017\n",
            "Epoch 292/500\n",
            "2/2 [==============================] - 0s 6ms/step - loss: 9.4642 - mae: 9.4642\n",
            "Epoch 293/500\n",
            "2/2 [==============================] - 0s 6ms/step - loss: 15.2711 - mae: 15.2711\n",
            "Epoch 294/500\n",
            "2/2 [==============================] - 0s 11ms/step - loss: 22.7179 - mae: 22.7179\n",
            "Epoch 295/500\n",
            "2/2 [==============================] - 0s 6ms/step - loss: 17.9234 - mae: 17.9234\n",
            "Epoch 296/500\n",
            "2/2 [==============================] - 0s 8ms/step - loss: 6.1743 - mae: 6.1743\n",
            "Epoch 297/500\n",
            "2/2 [==============================] - 0s 6ms/step - loss: 10.9440 - mae: 10.9440\n",
            "Epoch 298/500\n",
            "2/2 [==============================] - 0s 6ms/step - loss: 23.1530 - mae: 23.1530\n",
            "Epoch 299/500\n",
            "2/2 [==============================] - 0s 6ms/step - loss: 17.7331 - mae: 17.7331\n",
            "Epoch 300/500\n",
            "2/2 [==============================] - 0s 7ms/step - loss: 6.9824 - mae: 6.9824\n",
            "Epoch 301/500\n",
            "2/2 [==============================] - 0s 4ms/step - loss: 25.1857 - mae: 25.1857\n",
            "Epoch 302/500\n",
            "2/2 [==============================] - 0s 7ms/step - loss: 8.9025 - mae: 8.9025\n",
            "Epoch 303/500\n",
            "2/2 [==============================] - 0s 6ms/step - loss: 17.7668 - mae: 17.7668\n",
            "Epoch 304/500\n",
            "2/2 [==============================] - 0s 8ms/step - loss: 11.0002 - mae: 11.0002\n",
            "Epoch 305/500\n",
            "2/2 [==============================] - 0s 8ms/step - loss: 12.9191 - mae: 12.9191\n",
            "Epoch 306/500\n",
            "2/2 [==============================] - 0s 6ms/step - loss: 8.4033 - mae: 8.4033\n",
            "Epoch 307/500\n",
            "2/2 [==============================] - 0s 8ms/step - loss: 13.6094 - mae: 13.6094\n",
            "Epoch 308/500\n",
            "2/2 [==============================] - 0s 7ms/step - loss: 7.4404 - mae: 7.4404\n",
            "Epoch 309/500\n",
            "2/2 [==============================] - 0s 6ms/step - loss: 9.4642 - mae: 9.4642\n",
            "Epoch 310/500\n",
            "2/2 [==============================] - 0s 4ms/step - loss: 10.7099 - mae: 10.7099\n",
            "Epoch 311/500\n",
            "2/2 [==============================] - 0s 7ms/step - loss: 13.2814 - mae: 13.2814\n",
            "Epoch 312/500\n",
            "2/2 [==============================] - 0s 7ms/step - loss: 29.9763 - mae: 29.9763\n",
            "Epoch 313/500\n",
            "2/2 [==============================] - 0s 7ms/step - loss: 7.6304 - mae: 7.6304\n",
            "Epoch 314/500\n",
            "2/2 [==============================] - 0s 5ms/step - loss: 9.9106 - mae: 9.9106\n",
            "Epoch 315/500\n",
            "2/2 [==============================] - 0s 7ms/step - loss: 23.7669 - mae: 23.7669\n",
            "Epoch 316/500\n",
            "2/2 [==============================] - 0s 8ms/step - loss: 16.3937 - mae: 16.3937\n",
            "Epoch 317/500\n",
            "2/2 [==============================] - 0s 6ms/step - loss: 21.0758 - mae: 21.0758\n",
            "Epoch 318/500\n",
            "2/2 [==============================] - 0s 9ms/step - loss: 7.9367 - mae: 7.9367\n",
            "Epoch 319/500\n",
            "2/2 [==============================] - 0s 6ms/step - loss: 17.9731 - mae: 17.9731\n",
            "Epoch 320/500\n",
            "2/2 [==============================] - 0s 13ms/step - loss: 10.2375 - mae: 10.2375\n",
            "Epoch 321/500\n",
            "2/2 [==============================] - 0s 6ms/step - loss: 8.3338 - mae: 8.3338\n",
            "Epoch 322/500\n",
            "2/2 [==============================] - 0s 7ms/step - loss: 5.0621 - mae: 5.0621\n",
            "Epoch 323/500\n",
            "2/2 [==============================] - 0s 8ms/step - loss: 23.5109 - mae: 23.5109\n",
            "Epoch 324/500\n",
            "2/2 [==============================] - 0s 10ms/step - loss: 6.8309 - mae: 6.8309\n",
            "Epoch 325/500\n",
            "2/2 [==============================] - 0s 7ms/step - loss: 16.3863 - mae: 16.3863\n",
            "Epoch 326/500\n",
            "2/2 [==============================] - 0s 15ms/step - loss: 7.5019 - mae: 7.5019\n",
            "Epoch 327/500\n",
            "2/2 [==============================] - 0s 9ms/step - loss: 20.0573 - mae: 20.0573\n",
            "Epoch 328/500\n",
            "2/2 [==============================] - 0s 7ms/step - loss: 13.7661 - mae: 13.7661\n",
            "Epoch 329/500\n",
            "2/2 [==============================] - 0s 9ms/step - loss: 16.8282 - mae: 16.8282\n",
            "Epoch 330/500\n",
            "2/2 [==============================] - 0s 8ms/step - loss: 7.0514 - mae: 7.0514\n",
            "Epoch 331/500\n",
            "2/2 [==============================] - 0s 6ms/step - loss: 21.4846 - mae: 21.4846\n",
            "Epoch 332/500\n",
            "2/2 [==============================] - 0s 11ms/step - loss: 12.2880 - mae: 12.2880\n",
            "Epoch 333/500\n",
            "2/2 [==============================] - 0s 6ms/step - loss: 11.8117 - mae: 11.8117\n",
            "Epoch 334/500\n",
            "2/2 [==============================] - 0s 6ms/step - loss: 8.3600 - mae: 8.3600\n",
            "Epoch 335/500\n",
            "2/2 [==============================] - 0s 9ms/step - loss: 12.4833 - mae: 12.4833\n",
            "Epoch 336/500\n",
            "2/2 [==============================] - 0s 6ms/step - loss: 32.2171 - mae: 32.2171\n",
            "Epoch 337/500\n",
            "2/2 [==============================] - 0s 9ms/step - loss: 10.4477 - mae: 10.4477\n",
            "Epoch 338/500\n",
            "2/2 [==============================] - 0s 6ms/step - loss: 19.6832 - mae: 19.6832\n",
            "Epoch 339/500\n",
            "2/2 [==============================] - 0s 5ms/step - loss: 35.0762 - mae: 35.0762\n",
            "Epoch 340/500\n",
            "2/2 [==============================] - 0s 6ms/step - loss: 10.4192 - mae: 10.4192\n",
            "Epoch 341/500\n",
            "2/2 [==============================] - 0s 6ms/step - loss: 9.7625 - mae: 9.7625\n",
            "Epoch 342/500\n",
            "2/2 [==============================] - 0s 5ms/step - loss: 11.9500 - mae: 11.9500\n",
            "Epoch 343/500\n",
            "2/2 [==============================] - 0s 7ms/step - loss: 9.3943 - mae: 9.3943\n",
            "Epoch 344/500\n",
            "2/2 [==============================] - 0s 7ms/step - loss: 5.6071 - mae: 5.6071\n",
            "Epoch 345/500\n",
            "2/2 [==============================] - 0s 9ms/step - loss: 37.4876 - mae: 37.4876\n",
            "Epoch 346/500\n",
            "2/2 [==============================] - 0s 7ms/step - loss: 16.8830 - mae: 16.8830\n",
            "Epoch 347/500\n",
            "2/2 [==============================] - 0s 7ms/step - loss: 12.8748 - mae: 12.8748\n",
            "Epoch 348/500\n",
            "2/2 [==============================] - 0s 7ms/step - loss: 8.1960 - mae: 8.1960\n",
            "Epoch 349/500\n",
            "2/2 [==============================] - 0s 6ms/step - loss: 13.5568 - mae: 13.5568\n",
            "Epoch 350/500\n",
            "2/2 [==============================] - 0s 6ms/step - loss: 15.4354 - mae: 15.4354\n",
            "Epoch 351/500\n",
            "2/2 [==============================] - 0s 6ms/step - loss: 32.9626 - mae: 32.9626\n",
            "Epoch 352/500\n",
            "2/2 [==============================] - 0s 11ms/step - loss: 14.2040 - mae: 14.2040\n",
            "Epoch 353/500\n",
            "2/2 [==============================] - 0s 8ms/step - loss: 15.9196 - mae: 15.9196\n",
            "Epoch 354/500\n",
            "2/2 [==============================] - 0s 8ms/step - loss: 19.0878 - mae: 19.0878\n",
            "Epoch 355/500\n",
            "2/2 [==============================] - 0s 6ms/step - loss: 34.1178 - mae: 34.1178\n",
            "Epoch 356/500\n",
            "2/2 [==============================] - 0s 6ms/step - loss: 7.6798 - mae: 7.6798\n",
            "Epoch 357/500\n",
            "2/2 [==============================] - 0s 5ms/step - loss: 25.2287 - mae: 25.2287\n",
            "Epoch 358/500\n",
            "2/2 [==============================] - 0s 4ms/step - loss: 22.6759 - mae: 22.6759\n",
            "Epoch 359/500\n",
            "2/2 [==============================] - 0s 8ms/step - loss: 8.8765 - mae: 8.8765\n",
            "Epoch 360/500\n",
            "2/2 [==============================] - 0s 9ms/step - loss: 21.4709 - mae: 21.4709\n",
            "Epoch 361/500\n",
            "2/2 [==============================] - 0s 9ms/step - loss: 20.6073 - mae: 20.6073\n",
            "Epoch 362/500\n",
            "2/2 [==============================] - 0s 5ms/step - loss: 7.0611 - mae: 7.0611\n",
            "Epoch 363/500\n",
            "2/2 [==============================] - 0s 7ms/step - loss: 25.8117 - mae: 25.8117\n",
            "Epoch 364/500\n",
            "2/2 [==============================] - 0s 6ms/step - loss: 32.2247 - mae: 32.2247\n",
            "Epoch 365/500\n",
            "2/2 [==============================] - 0s 5ms/step - loss: 10.0204 - mae: 10.0204\n",
            "Epoch 366/500\n",
            "2/2 [==============================] - 0s 7ms/step - loss: 9.6722 - mae: 9.6722\n",
            "Epoch 367/500\n",
            "2/2 [==============================] - 0s 6ms/step - loss: 30.4171 - mae: 30.4171\n",
            "Epoch 368/500\n",
            "2/2 [==============================] - 0s 6ms/step - loss: 10.5020 - mae: 10.5020\n",
            "Epoch 369/500\n",
            "2/2 [==============================] - 0s 9ms/step - loss: 14.9909 - mae: 14.9909\n",
            "Epoch 370/500\n",
            "2/2 [==============================] - 0s 10ms/step - loss: 14.6580 - mae: 14.6580\n",
            "Epoch 371/500\n",
            "2/2 [==============================] - 0s 7ms/step - loss: 23.3672 - mae: 23.3672\n",
            "Epoch 372/500\n",
            "2/2 [==============================] - 0s 8ms/step - loss: 13.1025 - mae: 13.1025\n",
            "Epoch 373/500\n",
            "2/2 [==============================] - 0s 5ms/step - loss: 9.2586 - mae: 9.2586\n",
            "Epoch 374/500\n",
            "2/2 [==============================] - 0s 6ms/step - loss: 9.6648 - mae: 9.6648\n",
            "Epoch 375/500\n",
            "2/2 [==============================] - 0s 7ms/step - loss: 13.0041 - mae: 13.0041\n",
            "Epoch 376/500\n",
            "2/2 [==============================] - 0s 8ms/step - loss: 14.8863 - mae: 14.8863\n",
            "Epoch 377/500\n",
            "2/2 [==============================] - 0s 8ms/step - loss: 14.7932 - mae: 14.7932\n",
            "Epoch 378/500\n",
            "2/2 [==============================] - 0s 7ms/step - loss: 16.2751 - mae: 16.2751\n",
            "Epoch 379/500\n",
            "2/2 [==============================] - 0s 7ms/step - loss: 20.8307 - mae: 20.8307\n",
            "Epoch 380/500\n",
            "2/2 [==============================] - 0s 8ms/step - loss: 33.5317 - mae: 33.5317\n",
            "Epoch 381/500\n",
            "2/2 [==============================] - 0s 6ms/step - loss: 8.2166 - mae: 8.2166\n",
            "Epoch 382/500\n",
            "2/2 [==============================] - 0s 5ms/step - loss: 13.0960 - mae: 13.0960\n",
            "Epoch 383/500\n",
            "2/2 [==============================] - 0s 6ms/step - loss: 8.3999 - mae: 8.3999\n",
            "Epoch 384/500\n",
            "2/2 [==============================] - 0s 9ms/step - loss: 7.1283 - mae: 7.1283\n",
            "Epoch 385/500\n",
            "2/2 [==============================] - 0s 7ms/step - loss: 10.9390 - mae: 10.9390\n",
            "Epoch 386/500\n",
            "2/2 [==============================] - 0s 5ms/step - loss: 19.7654 - mae: 19.7654\n",
            "Epoch 387/500\n",
            "2/2 [==============================] - 0s 9ms/step - loss: 24.8625 - mae: 24.8625\n",
            "Epoch 388/500\n",
            "2/2 [==============================] - 0s 6ms/step - loss: 8.7422 - mae: 8.7422\n",
            "Epoch 389/500\n",
            "2/2 [==============================] - 0s 9ms/step - loss: 5.9488 - mae: 5.9488\n",
            "Epoch 390/500\n",
            "2/2 [==============================] - 0s 6ms/step - loss: 24.4400 - mae: 24.4400\n",
            "Epoch 391/500\n",
            "2/2 [==============================] - 0s 9ms/step - loss: 5.9771 - mae: 5.9771\n",
            "Epoch 392/500\n",
            "2/2 [==============================] - 0s 6ms/step - loss: 16.3250 - mae: 16.3250\n",
            "Epoch 393/500\n",
            "2/2 [==============================] - 0s 7ms/step - loss: 6.0917 - mae: 6.0917\n",
            "Epoch 394/500\n",
            "2/2 [==============================] - 0s 6ms/step - loss: 11.0963 - mae: 11.0963\n",
            "Epoch 395/500\n",
            "2/2 [==============================] - 0s 4ms/step - loss: 14.9601 - mae: 14.9601\n",
            "Epoch 396/500\n",
            "2/2 [==============================] - 0s 6ms/step - loss: 7.6462 - mae: 7.6462\n",
            "Epoch 397/500\n",
            "2/2 [==============================] - 0s 6ms/step - loss: 8.7654 - mae: 8.7654\n",
            "Epoch 398/500\n",
            "2/2 [==============================] - 0s 5ms/step - loss: 14.5991 - mae: 14.5991\n",
            "Epoch 399/500\n",
            "2/2 [==============================] - 0s 9ms/step - loss: 11.3166 - mae: 11.3166\n",
            "Epoch 400/500\n",
            "2/2 [==============================] - 0s 5ms/step - loss: 21.9080 - mae: 21.9080\n",
            "Epoch 401/500\n",
            "2/2 [==============================] - 0s 9ms/step - loss: 14.8653 - mae: 14.8653\n",
            "Epoch 402/500\n",
            "2/2 [==============================] - 0s 8ms/step - loss: 8.4970 - mae: 8.4970\n",
            "Epoch 403/500\n",
            "2/2 [==============================] - 0s 7ms/step - loss: 10.3957 - mae: 10.3957\n",
            "Epoch 404/500\n",
            "2/2 [==============================] - 0s 5ms/step - loss: 10.2556 - mae: 10.2556\n",
            "Epoch 405/500\n",
            "2/2 [==============================] - 0s 5ms/step - loss: 6.3392 - mae: 6.3392\n",
            "Epoch 406/500\n",
            "2/2 [==============================] - 0s 6ms/step - loss: 17.4602 - mae: 17.4602\n",
            "Epoch 407/500\n",
            "2/2 [==============================] - 0s 5ms/step - loss: 11.4627 - mae: 11.4627\n",
            "Epoch 408/500\n",
            "2/2 [==============================] - 0s 8ms/step - loss: 20.7294 - mae: 20.7294\n",
            "Epoch 409/500\n",
            "2/2 [==============================] - 0s 6ms/step - loss: 31.3338 - mae: 31.3338\n",
            "Epoch 410/500\n",
            "2/2 [==============================] - 0s 7ms/step - loss: 9.2542 - mae: 9.2542\n",
            "Epoch 411/500\n",
            "2/2 [==============================] - 0s 7ms/step - loss: 14.8621 - mae: 14.8621\n",
            "Epoch 412/500\n",
            "2/2 [==============================] - 0s 8ms/step - loss: 21.7182 - mae: 21.7182\n",
            "Epoch 413/500\n",
            "2/2 [==============================] - 0s 5ms/step - loss: 12.6615 - mae: 12.6615\n",
            "Epoch 414/500\n",
            "2/2 [==============================] - 0s 5ms/step - loss: 6.0687 - mae: 6.0687\n",
            "Epoch 415/500\n",
            "2/2 [==============================] - 0s 5ms/step - loss: 13.2201 - mae: 13.2201\n",
            "Epoch 416/500\n",
            "2/2 [==============================] - 0s 5ms/step - loss: 27.4244 - mae: 27.4244\n",
            "Epoch 417/500\n",
            "2/2 [==============================] - 0s 5ms/step - loss: 10.6407 - mae: 10.6407\n",
            "Epoch 418/500\n",
            "2/2 [==============================] - 0s 5ms/step - loss: 12.8230 - mae: 12.8230\n",
            "Epoch 419/500\n",
            "2/2 [==============================] - 0s 5ms/step - loss: 15.8836 - mae: 15.8836\n",
            "Epoch 420/500\n",
            "2/2 [==============================] - 0s 5ms/step - loss: 24.7510 - mae: 24.7510\n",
            "Epoch 421/500\n",
            "2/2 [==============================] - 0s 6ms/step - loss: 17.3753 - mae: 17.3753\n",
            "Epoch 422/500\n",
            "2/2 [==============================] - 0s 13ms/step - loss: 7.8241 - mae: 7.8241\n",
            "Epoch 423/500\n",
            "2/2 [==============================] - 0s 4ms/step - loss: 25.3789 - mae: 25.3789\n",
            "Epoch 424/500\n",
            "2/2 [==============================] - 0s 6ms/step - loss: 15.1031 - mae: 15.1031\n",
            "Epoch 425/500\n",
            "2/2 [==============================] - 0s 4ms/step - loss: 7.1643 - mae: 7.1643\n",
            "Epoch 426/500\n",
            "2/2 [==============================] - 0s 5ms/step - loss: 20.3318 - mae: 20.3318\n",
            "Epoch 427/500\n",
            "2/2 [==============================] - 0s 5ms/step - loss: 6.3283 - mae: 6.3283\n",
            "Epoch 428/500\n",
            "2/2 [==============================] - 0s 10ms/step - loss: 12.9961 - mae: 12.9961\n",
            "Epoch 429/500\n",
            "2/2 [==============================] - 0s 10ms/step - loss: 10.7869 - mae: 10.7869\n",
            "Epoch 430/500\n",
            "2/2 [==============================] - 0s 7ms/step - loss: 11.4007 - mae: 11.4007\n",
            "Epoch 431/500\n",
            "2/2 [==============================] - 0s 7ms/step - loss: 10.6152 - mae: 10.6152\n",
            "Epoch 432/500\n",
            "2/2 [==============================] - 0s 7ms/step - loss: 11.4582 - mae: 11.4582\n",
            "Epoch 433/500\n",
            "2/2 [==============================] - 0s 6ms/step - loss: 11.3851 - mae: 11.3851\n",
            "Epoch 434/500\n",
            "2/2 [==============================] - 0s 4ms/step - loss: 30.3986 - mae: 30.3986\n",
            "Epoch 435/500\n",
            "2/2 [==============================] - 0s 6ms/step - loss: 10.5052 - mae: 10.5052\n",
            "Epoch 436/500\n",
            "2/2 [==============================] - 0s 7ms/step - loss: 28.8810 - mae: 28.8810\n",
            "Epoch 437/500\n",
            "2/2 [==============================] - 0s 5ms/step - loss: 8.5916 - mae: 8.5916\n",
            "Epoch 438/500\n",
            "2/2 [==============================] - 0s 13ms/step - loss: 12.7378 - mae: 12.7378\n",
            "Epoch 439/500\n",
            "2/2 [==============================] - 0s 9ms/step - loss: 33.6754 - mae: 33.6754\n",
            "Epoch 440/500\n",
            "2/2 [==============================] - 0s 6ms/step - loss: 15.0963 - mae: 15.0963\n",
            "Epoch 441/500\n",
            "2/2 [==============================] - 0s 6ms/step - loss: 17.4813 - mae: 17.4813\n",
            "Epoch 442/500\n",
            "2/2 [==============================] - 0s 6ms/step - loss: 22.3049 - mae: 22.3049\n",
            "Epoch 443/500\n",
            "2/2 [==============================] - 0s 8ms/step - loss: 23.5841 - mae: 23.5841\n",
            "Epoch 444/500\n",
            "2/2 [==============================] - 0s 7ms/step - loss: 11.0008 - mae: 11.0008\n",
            "Epoch 445/500\n",
            "2/2 [==============================] - 0s 6ms/step - loss: 14.9175 - mae: 14.9175\n",
            "Epoch 446/500\n",
            "2/2 [==============================] - 0s 5ms/step - loss: 17.9979 - mae: 17.9979\n",
            "Epoch 447/500\n",
            "2/2 [==============================] - 0s 9ms/step - loss: 5.4482 - mae: 5.4482\n",
            "Epoch 448/500\n",
            "2/2 [==============================] - 0s 7ms/step - loss: 10.0527 - mae: 10.0527\n",
            "Epoch 449/500\n",
            "2/2 [==============================] - 0s 8ms/step - loss: 14.0052 - mae: 14.0052\n",
            "Epoch 450/500\n",
            "2/2 [==============================] - 0s 6ms/step - loss: 16.7782 - mae: 16.7782\n",
            "Epoch 451/500\n",
            "2/2 [==============================] - 0s 7ms/step - loss: 14.2937 - mae: 14.2937\n",
            "Epoch 452/500\n",
            "2/2 [==============================] - 0s 6ms/step - loss: 30.6193 - mae: 30.6193\n",
            "Epoch 453/500\n",
            "2/2 [==============================] - 0s 7ms/step - loss: 7.6541 - mae: 7.6541\n",
            "Epoch 454/500\n",
            "2/2 [==============================] - 0s 7ms/step - loss: 28.1428 - mae: 28.1428\n",
            "Epoch 455/500\n",
            "2/2 [==============================] - 0s 6ms/step - loss: 8.0017 - mae: 8.0017\n",
            "Epoch 456/500\n",
            "2/2 [==============================] - 0s 5ms/step - loss: 10.3933 - mae: 10.3933\n",
            "Epoch 457/500\n",
            "2/2 [==============================] - 0s 8ms/step - loss: 15.0242 - mae: 15.0242\n",
            "Epoch 458/500\n",
            "2/2 [==============================] - 0s 11ms/step - loss: 16.5653 - mae: 16.5653\n",
            "Epoch 459/500\n",
            "2/2 [==============================] - 0s 13ms/step - loss: 26.8566 - mae: 26.8566\n",
            "Epoch 460/500\n",
            "2/2 [==============================] - 0s 9ms/step - loss: 12.4852 - mae: 12.4852\n",
            "Epoch 461/500\n",
            "2/2 [==============================] - 0s 10ms/step - loss: 12.4784 - mae: 12.4784\n",
            "Epoch 462/500\n",
            "2/2 [==============================] - 0s 9ms/step - loss: 13.3186 - mae: 13.3186\n",
            "Epoch 463/500\n",
            "2/2 [==============================] - 0s 8ms/step - loss: 29.5524 - mae: 29.5524\n",
            "Epoch 464/500\n",
            "2/2 [==============================] - 0s 5ms/step - loss: 3.4664 - mae: 3.4664\n",
            "Epoch 465/500\n",
            "2/2 [==============================] - 0s 7ms/step - loss: 15.2136 - mae: 15.2136\n",
            "Epoch 466/500\n",
            "2/2 [==============================] - 0s 6ms/step - loss: 20.8327 - mae: 20.8327\n",
            "Epoch 467/500\n",
            "2/2 [==============================] - 0s 7ms/step - loss: 30.5108 - mae: 30.5108\n",
            "Epoch 468/500\n",
            "2/2 [==============================] - 0s 7ms/step - loss: 11.0597 - mae: 11.0597\n",
            "Epoch 469/500\n",
            "2/2 [==============================] - 0s 6ms/step - loss: 12.8372 - mae: 12.8372\n",
            "Epoch 470/500\n",
            "2/2 [==============================] - 0s 6ms/step - loss: 3.2398 - mae: 3.2398\n",
            "Epoch 471/500\n",
            "2/2 [==============================] - 0s 6ms/step - loss: 16.6964 - mae: 16.6964\n",
            "Epoch 472/500\n",
            "2/2 [==============================] - 0s 8ms/step - loss: 13.3883 - mae: 13.3883\n",
            "Epoch 473/500\n",
            "2/2 [==============================] - 0s 6ms/step - loss: 15.2771 - mae: 15.2771\n",
            "Epoch 474/500\n",
            "2/2 [==============================] - 0s 5ms/step - loss: 11.7448 - mae: 11.7448\n",
            "Epoch 475/500\n",
            "2/2 [==============================] - 0s 6ms/step - loss: 16.4113 - mae: 16.4113\n",
            "Epoch 476/500\n",
            "2/2 [==============================] - 0s 6ms/step - loss: 13.8785 - mae: 13.8785\n",
            "Epoch 477/500\n",
            "2/2 [==============================] - 0s 5ms/step - loss: 30.6702 - mae: 30.6702\n",
            "Epoch 478/500\n",
            "2/2 [==============================] - 0s 6ms/step - loss: 8.5880 - mae: 8.5880\n",
            "Epoch 479/500\n",
            "2/2 [==============================] - 0s 7ms/step - loss: 10.7384 - mae: 10.7384\n",
            "Epoch 480/500\n",
            "2/2 [==============================] - 0s 6ms/step - loss: 17.9051 - mae: 17.9051\n",
            "Epoch 481/500\n",
            "2/2 [==============================] - 0s 6ms/step - loss: 15.8095 - mae: 15.8095\n",
            "Epoch 482/500\n",
            "2/2 [==============================] - 0s 6ms/step - loss: 21.3054 - mae: 21.3054\n",
            "Epoch 483/500\n",
            "2/2 [==============================] - 0s 7ms/step - loss: 25.3845 - mae: 25.3845\n",
            "Epoch 484/500\n",
            "2/2 [==============================] - 0s 6ms/step - loss: 23.9815 - mae: 23.9815\n",
            "Epoch 485/500\n",
            "2/2 [==============================] - 0s 5ms/step - loss: 5.7734 - mae: 5.7734\n",
            "Epoch 486/500\n",
            "2/2 [==============================] - 0s 6ms/step - loss: 20.0010 - mae: 20.0010\n",
            "Epoch 487/500\n",
            "2/2 [==============================] - 0s 6ms/step - loss: 14.0419 - mae: 14.0419\n",
            "Epoch 488/500\n",
            "2/2 [==============================] - 0s 6ms/step - loss: 30.6088 - mae: 30.6088\n",
            "Epoch 489/500\n",
            "2/2 [==============================] - 0s 7ms/step - loss: 11.9409 - mae: 11.9409\n",
            "Epoch 490/500\n",
            "2/2 [==============================] - 0s 6ms/step - loss: 12.7352 - mae: 12.7352\n",
            "Epoch 491/500\n",
            "2/2 [==============================] - 0s 4ms/step - loss: 23.6139 - mae: 23.6139\n",
            "Epoch 492/500\n",
            "2/2 [==============================] - 0s 5ms/step - loss: 20.5365 - mae: 20.5365\n",
            "Epoch 493/500\n",
            "2/2 [==============================] - 0s 8ms/step - loss: 4.9942 - mae: 4.9942\n",
            "Epoch 494/500\n",
            "2/2 [==============================] - 0s 9ms/step - loss: 12.7986 - mae: 12.7986\n",
            "Epoch 495/500\n",
            "2/2 [==============================] - 0s 7ms/step - loss: 13.3772 - mae: 13.3772\n",
            "Epoch 496/500\n",
            "2/2 [==============================] - 0s 6ms/step - loss: 12.6727 - mae: 12.6727\n",
            "Epoch 497/500\n",
            "2/2 [==============================] - 0s 7ms/step - loss: 17.6192 - mae: 17.6192\n",
            "Epoch 498/500\n",
            "2/2 [==============================] - 0s 5ms/step - loss: 23.5629 - mae: 23.5629\n",
            "Epoch 499/500\n",
            "2/2 [==============================] - 0s 8ms/step - loss: 9.3755 - mae: 9.3755\n",
            "Epoch 500/500\n",
            "2/2 [==============================] - 0s 7ms/step - loss: 14.6316 - mae: 14.6316\n"
          ]
        },
        {
          "output_type": "execute_result",
          "data": {
            "text/plain": [
              "<keras.callbacks.History at 0x7fc5493087d0>"
            ]
          },
          "metadata": {},
          "execution_count": 53
        }
      ]
    },
    {
      "cell_type": "code",
      "source": [
        "#Predict and plot the predictions\n",
        "y_preds_3=model_3.predict(X_test)\n",
        "plot_prediction(predictions=y_preds_3)"
      ],
      "metadata": {
        "colab": {
          "base_uri": "https://localhost:8080/",
          "height": 428
        },
        "id": "TGhTUplcFtAX",
        "outputId": "5bd6ef53-b7bf-45a2-aad1-e3b8a4ac87d3"
      },
      "execution_count": null,
      "outputs": [
        {
          "output_type": "display_data",
          "data": {
            "image/png": "[encoded data removed]",
            "text/plain": [
              "<Figure size 720x504 with 1 Axes>"
            ]
          },
          "metadata": {
            "needs_background": "light"
          }
        }
      ]
    },
    {
      "cell_type": "code",
      "source": [
        "#Calculate the evaluation metrices of the model_3\n",
        "mae_3=mae(y_test,y_preds_3)\n",
        "mse_3=mse(y_test,y_preds_3)\n",
        "mae_3,mse_3"
      ],
      "metadata": {
        "colab": {
          "base_uri": "https://localhost:8080/"
        },
        "id": "gQylfBajGFCh",
        "outputId": "43b0f62c-bdf8-4fe3-d31e-0128043e1f14"
      },
      "execution_count": null,
      "outputs": [
        {
          "output_type": "execute_result",
          "data": {
            "text/plain": [
              "(<tf.Tensor: shape=(), dtype=float32, numpy=68.713615>,\n",
              " <tf.Tensor: shape=(), dtype=float32, numpy=4808.0273>)"
            ]
          },
          "metadata": {},
          "execution_count": 55
        }
      ]
    },
    {
      "cell_type": "markdown",
      "source": [
        "**Note:** You want to start with small experiments (small model) and increase their scale and complexity when and where necessary. "
      ],
      "metadata": {
        "id": "ao0WLTkjI1Ts"
      }
    },
    {
      "cell_type": "markdown",
      "source": [
        "###Comparing the results\n",
        "\n",
        "We have a few results to compare the results"
      ],
      "metadata": {
        "id": "C7_6eZh0GaR1"
      }
    },
    {
      "cell_type": "code",
      "source": [
        "#Let's compare our models' results using a pandas Dataframe\n",
        "\n",
        "import pandas as pd\n",
        "\n",
        "model_results=[[\"model_1\",mae_1.numpy(),mse_1.numpy()],\n",
        "               [\"model_2\",mae_2.numpy(), mse_2.numpy()],\n",
        "               [\"model_3\",mae_3.numpy(),mse_3.numpy()]]"
      ],
      "metadata": {
        "id": "dt8VBQzbIsgh"
      },
      "execution_count": null,
      "outputs": []
    },
    {
      "cell_type": "code",
      "source": [
        "all_results=pd.DataFrame(model_results, columns=[\"model\",\"mae\",\"mse\"])\n",
        "all_results"
      ],
      "metadata": {
        "colab": {
          "base_uri": "https://localhost:8080/",
          "height": 143
        },
        "id": "dBWTW9OkJTRp",
        "outputId": "4494c942-579e-41d4-862c-333eca16004f"
      },
      "execution_count": null,
      "outputs": [
        {
          "output_type": "execute_result",
          "data": {
            "text/html": [
              "\n",
              "  <div id=\"df-d4e70bae-9627-4ffd-8005-e0f5bf64b628\">\n",
              "    <div class=\"colab-df-container\">\n",
              "      <div>\n",
              "<style scoped>\n",
              "    .dataframe tbody tr th:only-of-type {\n",
              "        vertical-align: middle;\n",
              "    }\n",
              "\n",
              "    .dataframe tbody tr th {\n",
              "        vertical-align: top;\n",
              "    }\n",
              "\n",
              "    .dataframe thead th {\n",
              "        text-align: right;\n",
              "    }\n",
              "</style>\n",
              "<table border=\"1\" class=\"dataframe\">\n",
              "  <thead>\n",
              "    <tr style=\"text-align: right;\">\n",
              "      <th></th>\n",
              "      <th>model</th>\n",
              "      <th>mae</th>\n",
              "      <th>mse</th>\n",
              "    </tr>\n",
              "  </thead>\n",
              "  <tbody>\n",
              "    <tr>\n",
              "      <th>0</th>\n",
              "      <td>model_1</td>\n",
              "      <td>18.745327</td>\n",
              "      <td>353.573364</td>\n",
              "    </tr>\n",
              "    <tr>\n",
              "      <th>1</th>\n",
              "      <td>model_2</td>\n",
              "      <td>3.196941</td>\n",
              "      <td>13.070143</td>\n",
              "    </tr>\n",
              "    <tr>\n",
              "      <th>2</th>\n",
              "      <td>model_3</td>\n",
              "      <td>68.713615</td>\n",
              "      <td>4808.027344</td>\n",
              "    </tr>\n",
              "  </tbody>\n",
              "</table>\n",
              "</div>\n",
              "      <button class=\"colab-df-convert\" onclick=\"convertToInteractive('df-d4e70bae-9627-4ffd-8005-e0f5bf64b628')\"\n",
              "              title=\"Convert this dataframe to an interactive table.\"\n",
              "              style=\"display:none;\">\n",
              "        \n",
              "  <svg xmlns=\"http://www.w3.org/2000/svg\" height=\"24px\"viewBox=\"0 0 24 24\"\n",
              "       width=\"24px\">\n",
              "    <path d=\"M0 0h24v24H0V0z\" fill=\"none\"/>\n",
              "    <path d=\"M18.56 5.44l.94 2.06.94-2.06 2.06-.94-2.06-.94-.94-2.06-.94 2.06-2.06.94zm-11 1L8.5 8.5l.94-2.06 2.06-.94-2.06-.94L8.5 2.5l-.94 2.06-2.06.94zm10 10l.94 2.06.94-2.06 2.06-.94-2.06-.94-.94-2.06-.94 2.06-2.06.94z\"/><path d=\"M17.41 7.96l-1.37-1.37c-.4-.4-.92-.59-1.43-.59-.52 0-1.04.2-1.43.59L10.3 9.45l-7.72 7.72c-.78.78-.78 2.05 0 2.83L4 21.41c.39.39.9.59 1.41.59.51 0 1.02-.2 1.41-.59l7.78-7.78 2.81-2.81c.8-.78.8-2.07 0-2.86zM5.41 20L4 18.59l7.72-7.72 1.47 1.35L5.41 20z\"/>\n",
              "  </svg>\n",
              "      </button>\n",
              "      \n",
              "  <style>\n",
              "    .colab-df-container {\n",
              "      display:flex;\n",
              "      flex-wrap:wrap;\n",
              "      gap: 12px;\n",
              "    }\n",
              "\n",
              "    .colab-df-convert {\n",
              "      background-color: #E8F0FE;\n",
              "      border: none;\n",
              "      border-radius: 50%;\n",
              "      cursor: pointer;\n",
              "      display: none;\n",
              "      fill: #1967D2;\n",
              "      height: 32px;\n",
              "      padding: 0 0 0 0;\n",
              "      width: 32px;\n",
              "    }\n",
              "\n",
              "    .colab-df-convert:hover {\n",
              "      background-color: #E2EBFA;\n",
              "      box-shadow: 0px 1px 2px rgba(60, 64, 67, 0.3), 0px 1px 3px 1px rgba(60, 64, 67, 0.15);\n",
              "      fill: #174EA6;\n",
              "    }\n",
              "\n",
              "    [theme=dark] .colab-df-convert {\n",
              "      background-color: #3B4455;\n",
              "      fill: #D2E3FC;\n",
              "    }\n",
              "\n",
              "    [theme=dark] .colab-df-convert:hover {\n",
              "      background-color: #434B5C;\n",
              "      box-shadow: 0px 1px 3px 1px rgba(0, 0, 0, 0.15);\n",
              "      filter: drop-shadow(0px 1px 2px rgba(0, 0, 0, 0.3));\n",
              "      fill: #FFFFFF;\n",
              "    }\n",
              "  </style>\n",
              "\n",
              "      <script>\n",
              "        const buttonEl =\n",
              "          document.querySelector('#df-d4e70bae-9627-4ffd-8005-e0f5bf64b628 button.colab-df-convert');\n",
              "        buttonEl.style.display =\n",
              "          google.colab.kernel.accessAllowed ? 'block' : 'none';\n",
              "\n",
              "        async function convertToInteractive(key) {\n",
              "          const element = document.querySelector('#df-d4e70bae-9627-4ffd-8005-e0f5bf64b628');\n",
              "          const dataTable =\n",
              "            await google.colab.kernel.invokeFunction('convertToInteractive',\n",
              "                                                     [key], {});\n",
              "          if (!dataTable) return;\n",
              "\n",
              "          const docLinkHtml = 'Like what you see? Visit the ' +\n",
              "            '<a target=\"_blank\" href=https://colab.research.google.com/notebooks/data_table.ipynb>data table notebook</a>'\n",
              "            + ' to learn more about interactive tables.';\n",
              "          element.innerHTML = '';\n",
              "          dataTable['output_type'] = 'display_data';\n",
              "          await google.colab.output.renderOutput(dataTable, element);\n",
              "          const docLink = document.createElement('div');\n",
              "          docLink.innerHTML = docLinkHtml;\n",
              "          element.appendChild(docLink);\n",
              "        }\n",
              "      </script>\n",
              "    </div>\n",
              "  </div>\n",
              "  "
            ],
            "text/plain": [
              "     model        mae          mse\n",
              "0  model_1  18.745327   353.573364\n",
              "1  model_2   3.196941    13.070143\n",
              "2  model_3  68.713615  4808.027344"
            ]
          },
          "metadata": {},
          "execution_count": 57
        }
      ]
    },
    {
      "cell_type": "code",
      "source": [
        "model_2.summary()"
      ],
      "metadata": {
        "colab": {
          "base_uri": "https://localhost:8080/"
        },
        "id": "vmJi47FFJ4rD",
        "outputId": "463e234f-0d92-4f4e-c6cd-371111c14ad7"
      },
      "execution_count": null,
      "outputs": [
        {
          "output_type": "stream",
          "name": "stdout",
          "text": [
            "Model: \"sequential_5\"\n",
            "_________________________________________________________________\n",
            " Layer (type)                Output Shape              Param #   \n",
            "=================================================================\n",
            " dense_6 (Dense)             (None, 10)                20        \n",
            "                                                                 \n",
            " dense_7 (Dense)             (None, 1)                 11        \n",
            "                                                                 \n",
            "=================================================================\n",
            "Total params: 31\n",
            "Trainable params: 31\n",
            "Non-trainable params: 0\n",
            "_________________________________________________________________\n"
          ]
        }
      ]
    },
    {
      "cell_type": "markdown",
      "source": [
        " **Note:** One of your main goal is to minimize the time between your experiments. The more the experiments you do, the more things you figure out which don't work and in turn, get closer to figuring out what does work. Remember the machine learning practioneer's motto: \"experiment, experiment, experiment\"."
      ],
      "metadata": {
        "id": "ReWywABlKFUX"
      }
    },
    {
      "cell_type": "markdown",
      "source": [
        "## Tracking your experiments\n",
        " One really good habit in ML modelling is to track the results of your experiments.\n",
        " And when doing so, it can get tedious if you're running lots of experiments.\n",
        " Luckily, there are tools to help us!\n",
        "\n",
        " **Resources:** As you build more models, you'll want to look into using:\n",
        "\n",
        "* TensorBoard - a component of Tensorflow library to help track modelling experiments (we'll see this one later).\n",
        "* Weights & Biases - a tool for tracking all kinds of ml experiments (plus straight into TensorBoard)."
      ],
      "metadata": {
        "id": "4P-LCz2qK3qp"
      }
    },
    {
      "cell_type": "markdown",
      "source": [
        "## Saving our models\n",
        "\n",
        "SAving our models allows to use our trained model outside of training area (outside google colab) like in mobile and web applications.\n",
        "\n",
        "There are two major format to save the models\n",
        "1. SavedModel format (Compatable with Tensorflow Serving)\n",
        "2. HDF5 format"
      ],
      "metadata": {
        "id": "YpT6OjQtMJqY"
      }
    },
    {
      "cell_type": "code",
      "source": [
        "# Save model using SaveModel format\n",
        "\n",
        "model_2.save(\"best_model_now_model_2\")"
      ],
      "metadata": {
        "colab": {
          "base_uri": "https://localhost:8080/"
        },
        "id": "haWuAABhZtu8",
        "outputId": "f9a1cb76-323d-4bcd-8f85-3cf98db510f1"
      },
      "execution_count": null,
      "outputs": [
        {
          "output_type": "stream",
          "name": "stdout",
          "text": [
            "INFO:tensorflow:Assets written to: best_model_now_model_2/assets\n"
          ]
        }
      ]
    },
    {
      "cell_type": "code",
      "source": [
        "#Save model using HDF5 format\n",
        "\n",
        "model_2.save(\"best_model_now_model_2.h5\")"
      ],
      "metadata": {
        "id": "7I0r08y7aKfr"
      },
      "execution_count": null,
      "outputs": []
    },
    {
      "cell_type": "markdown",
      "source": [
        "## Load a saved model"
      ],
      "metadata": {
        "id": "augGFk0wbWsW"
      }
    },
    {
      "cell_type": "code",
      "source": [
        "#Load the model from SavedModel format\n",
        "loaded_SaveModel_format = tf.keras.models.load_model(\"best_model_now_model_2\")\n",
        "loaded_SaveModel_format.summary()"
      ],
      "metadata": {
        "colab": {
          "base_uri": "https://localhost:8080/"
        },
        "id": "hEC7D743bGSy",
        "outputId": "f30f153b-be3b-46e5-8b1c-6dba88135fec"
      },
      "execution_count": null,
      "outputs": [
        {
          "output_type": "stream",
          "name": "stdout",
          "text": [
            "Model: \"sequential_5\"\n",
            "_________________________________________________________________\n",
            " Layer (type)                Output Shape              Param #   \n",
            "=================================================================\n",
            " dense_6 (Dense)             (None, 10)                20        \n",
            "                                                                 \n",
            " dense_7 (Dense)             (None, 1)                 11        \n",
            "                                                                 \n",
            "=================================================================\n",
            "Total params: 31\n",
            "Trainable params: 31\n",
            "Non-trainable params: 0\n",
            "_________________________________________________________________\n"
          ]
        }
      ]
    },
    {
      "cell_type": "code",
      "source": [
        "#Compare model_2 preiction with SaveModel format prediction\n",
        "\n",
        "model_2_preds = model_2.predict(X_test)\n",
        "loaded_SaveModel_format_preds=loaded_SaveModel_format.predict(X_test)\n",
        "model_2_preds == loaded_SaveModel_format_preds"
      ],
      "metadata": {
        "colab": {
          "base_uri": "https://localhost:8080/"
        },
        "id": "fpYx3MAvb5Yp",
        "outputId": "a05c23f3-12bd-4694-f208-8b0bb6cc58d6"
      },
      "execution_count": null,
      "outputs": [
        {
          "output_type": "execute_result",
          "data": {
            "text/plain": [
              "array([[ True],\n",
              "       [ True],\n",
              "       [ True],\n",
              "       [ True],\n",
              "       [ True],\n",
              "       [ True],\n",
              "       [ True],\n",
              "       [ True],\n",
              "       [ True],\n",
              "       [ True]])"
            ]
          },
          "metadata": {},
          "execution_count": 68
        }
      ]
    },
    {
      "cell_type": "code",
      "source": [
        "#Load the model from HDF5 format\n",
        "\n",
        "loaded_h5_model= tf.keras.models.load_model(\"/content/best_model_now_model_2.h5\")\n",
        "loaded_h5_model.summary()\n"
      ],
      "metadata": {
        "id": "gd4NuXWqbPTo",
        "colab": {
          "base_uri": "https://localhost:8080/"
        },
        "outputId": "fbe235aa-47d2-455f-8758-b6fe74276bfc"
      },
      "execution_count": null,
      "outputs": [
        {
          "output_type": "stream",
          "name": "stdout",
          "text": [
            "Model: \"sequential_5\"\n",
            "_________________________________________________________________\n",
            " Layer (type)                Output Shape              Param #   \n",
            "=================================================================\n",
            " dense_6 (Dense)             (None, 10)                20        \n",
            "                                                                 \n",
            " dense_7 (Dense)             (None, 1)                 11        \n",
            "                                                                 \n",
            "=================================================================\n",
            "Total params: 31\n",
            "Trainable params: 31\n",
            "Non-trainable params: 0\n",
            "_________________________________________________________________\n"
          ]
        }
      ]
    },
    {
      "cell_type": "code",
      "source": [
        "#Check if the loaded_h5_model's prediction is same as the model_2 prediction\n",
        "\n",
        "loaded_h5_model_preds=loaded_h5_model.predict(X_test)\n",
        "model_2_preds=model_2.predict(X_test)\n",
        "loaded_h5_model_preds == model_2_preds"
      ],
      "metadata": {
        "id": "06Vv5cSPbR7P",
        "colab": {
          "base_uri": "https://localhost:8080/"
        },
        "outputId": "5cea3885-cd32-4dad-ec09-7be6aa4cd039"
      },
      "execution_count": null,
      "outputs": [
        {
          "output_type": "execute_result",
          "data": {
            "text/plain": [
              "array([[ True],\n",
              "       [ True],\n",
              "       [ True],\n",
              "       [ True],\n",
              "       [ True],\n",
              "       [ True],\n",
              "       [ True],\n",
              "       [ True],\n",
              "       [ True],\n",
              "       [ True]])"
            ]
          },
          "metadata": {},
          "execution_count": 82
        }
      ]
    },
    {
      "cell_type": "markdown",
      "source": [
        "## Download the model (or any files) from google colab\n",
        "\n",
        "If you want to download the fiels from google colab:\n",
        "\n",
        " 1.You go to your files(folder), right click and click download.\n",
        " 2. Use code (see the cell below)\n",
        " 3. Save it to google drive by connecting to google drive and copying it to Google Drive (See 2nd cell below)\n"
      ],
      "metadata": {
        "id": "M7kFcxO5eYd5"
      }
    },
    {
      "cell_type": "code",
      "source": [
        "# Download a file from Google Colab\n",
        "\n",
        "from google.colab import files\n",
        "files.download(\"/content/best_model_now_model_2.h5\")"
      ],
      "metadata": {
        "colab": {
          "base_uri": "https://localhost:8080/",
          "height": 34
        },
        "id": "lwdBOzlKfIJn",
        "outputId": "1f1d3495-de09-4d83-a383-d9eaae982b93"
      },
      "execution_count": null,
      "outputs": [
        {
          "output_type": "display_data",
          "data": {
            "application/javascript": [
              "\n",
              "    async function download(id, filename, size) {\n",
              "      if (!google.colab.kernel.accessAllowed) {\n",
              "        return;\n",
              "      }\n",
              "      const div = document.createElement('div');\n",
              "      const label = document.createElement('label');\n",
              "      label.textContent = `Downloading \"${filename}\": `;\n",
              "      div.appendChild(label);\n",
              "      const progress = document.createElement('progress');\n",
              "      progress.max = size;\n",
              "      div.appendChild(progress);\n",
              "      document.body.appendChild(div);\n",
              "\n",
              "      const buffers = [];\n",
              "      let downloaded = 0;\n",
              "\n",
              "      const channel = await google.colab.kernel.comms.open(id);\n",
              "      // Send a message to notify the kernel that we're ready.\n",
              "      channel.send({})\n",
              "\n",
              "      for await (const message of channel.messages) {\n",
              "        // Send a message to notify the kernel that we're ready.\n",
              "        channel.send({})\n",
              "        if (message.buffers) {\n",
              "          for (const buffer of message.buffers) {\n",
              "            buffers.push(buffer);\n",
              "            downloaded += buffer.byteLength;\n",
              "            progress.value = downloaded;\n",
              "          }\n",
              "        }\n",
              "      }\n",
              "      const blob = new Blob(buffers, {type: 'application/binary'});\n",
              "      const a = document.createElement('a');\n",
              "      a.href = window.URL.createObjectURL(blob);\n",
              "      a.download = filename;\n",
              "      div.appendChild(a);\n",
              "      a.click();\n",
              "      div.remove();\n",
              "    }\n",
              "  "
            ],
            "text/plain": [
              "<IPython.core.display.Javascript object>"
            ]
          },
          "metadata": {}
        },
        {
          "output_type": "display_data",
          "data": {
            "application/javascript": [
              "download(\"download_eeef5213-ec78-494b-b1a7-c5027a675501\", \"best_model_now_model_2.h5\", 17872)"
            ],
            "text/plain": [
              "<IPython.core.display.Javascript object>"
            ]
          },
          "metadata": {}
        }
      ]
    },
    {
      "cell_type": "code",
      "source": [
        " # SAve a file from Google Colab to Google Drive (requires mounting the Google Drive)\n",
        "! cp \"/content/best_model_now_model_2.h5\" \"/content/drive/MyDrive/Learn tf\""
      ],
      "metadata": {
        "id": "V5NT2dbnfwML"
      },
      "execution_count": null,
      "outputs": []
    },
    {
      "cell_type": "code",
      "source": [
        "! ls \"/content/drive/MyDrive/Learn tf\""
      ],
      "metadata": {
        "colab": {
          "base_uri": "https://localhost:8080/"
        },
        "id": "pOjBdvLWjhSO",
        "outputId": "11a0c13a-bbd4-4ec2-d67a-12a4226de4bf"
      },
      "execution_count": null,
      "outputs": [
        {
          "output_type": "stream",
          "name": "stdout",
          "text": [
            "best_model_now_model_2.h5\n"
          ]
        }
      ]
    },
    {
      "cell_type": "markdown",
      "source": [
        "# A larger data example\n"
      ],
      "metadata": {
        "id": "ujlZUmtxjmf4"
      }
    },
    {
      "cell_type": "code",
      "source": [
        "# Import required libraries\n",
        "import tensorflow as tf\n",
        "import pandas as pd\n",
        "import matplotlib.pyplot as plt\n",
        "import numpy as np\n",
        "import sklearn as sk"
      ],
      "metadata": {
        "id": "-OthSCgpk6Ww"
      },
      "execution_count": null,
      "outputs": []
    },
    {
      "cell_type": "code",
      "source": [
        "# Read insurande dataset\n",
        "insurance = pd.read_csv(\"https://raw.githubusercontent.com/stedy/Machine-Learning-with-R-datasets/master/insurance.csv\")"
      ],
      "metadata": {
        "id": "5BRBeuVhl0J8"
      },
      "execution_count": null,
      "outputs": []
    },
    {
      "cell_type": "code",
      "source": [
        "insurance"
      ],
      "metadata": {
        "colab": {
          "base_uri": "https://localhost:8080/",
          "height": 424
        },
        "id": "dWjsmNRel5jq",
        "outputId": "bc6ac7e8-81a2-4abf-ae19-977fb46b06a3"
      },
      "execution_count": null,
      "outputs": [
        {
          "output_type": "execute_result",
          "data": {
            "text/html": [
              "\n",
              "  <div id=\"df-c9cca8c7-a194-4c00-9d5f-cd7c26abf955\">\n",
              "    <div class=\"colab-df-container\">\n",
              "      <div>\n",
              "<style scoped>\n",
              "    .dataframe tbody tr th:only-of-type {\n",
              "        vertical-align: middle;\n",
              "    }\n",
              "\n",
              "    .dataframe tbody tr th {\n",
              "        vertical-align: top;\n",
              "    }\n",
              "\n",
              "    .dataframe thead th {\n",
              "        text-align: right;\n",
              "    }\n",
              "</style>\n",
              "<table border=\"1\" class=\"dataframe\">\n",
              "  <thead>\n",
              "    <tr style=\"text-align: right;\">\n",
              "      <th></th>\n",
              "      <th>age</th>\n",
              "      <th>sex</th>\n",
              "      <th>bmi</th>\n",
              "      <th>children</th>\n",
              "      <th>smoker</th>\n",
              "      <th>region</th>\n",
              "      <th>charges</th>\n",
              "    </tr>\n",
              "  </thead>\n",
              "  <tbody>\n",
              "    <tr>\n",
              "      <th>0</th>\n",
              "      <td>19</td>\n",
              "      <td>female</td>\n",
              "      <td>27.900</td>\n",
              "      <td>0</td>\n",
              "      <td>yes</td>\n",
              "      <td>southwest</td>\n",
              "      <td>16884.92400</td>\n",
              "    </tr>\n",
              "    <tr>\n",
              "      <th>1</th>\n",
              "      <td>18</td>\n",
              "      <td>male</td>\n",
              "      <td>33.770</td>\n",
              "      <td>1</td>\n",
              "      <td>no</td>\n",
              "      <td>southeast</td>\n",
              "      <td>1725.55230</td>\n",
              "    </tr>\n",
              "    <tr>\n",
              "      <th>2</th>\n",
              "      <td>28</td>\n",
              "      <td>male</td>\n",
              "      <td>33.000</td>\n",
              "      <td>3</td>\n",
              "      <td>no</td>\n",
              "      <td>southeast</td>\n",
              "      <td>4449.46200</td>\n",
              "    </tr>\n",
              "    <tr>\n",
              "      <th>3</th>\n",
              "      <td>33</td>\n",
              "      <td>male</td>\n",
              "      <td>22.705</td>\n",
              "      <td>0</td>\n",
              "      <td>no</td>\n",
              "      <td>northwest</td>\n",
              "      <td>21984.47061</td>\n",
              "    </tr>\n",
              "    <tr>\n",
              "      <th>4</th>\n",
              "      <td>32</td>\n",
              "      <td>male</td>\n",
              "      <td>28.880</td>\n",
              "      <td>0</td>\n",
              "      <td>no</td>\n",
              "      <td>northwest</td>\n",
              "      <td>3866.85520</td>\n",
              "    </tr>\n",
              "    <tr>\n",
              "      <th>...</th>\n",
              "      <td>...</td>\n",
              "      <td>...</td>\n",
              "      <td>...</td>\n",
              "      <td>...</td>\n",
              "      <td>...</td>\n",
              "      <td>...</td>\n",
              "      <td>...</td>\n",
              "    </tr>\n",
              "    <tr>\n",
              "      <th>1333</th>\n",
              "      <td>50</td>\n",
              "      <td>male</td>\n",
              "      <td>30.970</td>\n",
              "      <td>3</td>\n",
              "      <td>no</td>\n",
              "      <td>northwest</td>\n",
              "      <td>10600.54830</td>\n",
              "    </tr>\n",
              "    <tr>\n",
              "      <th>1334</th>\n",
              "      <td>18</td>\n",
              "      <td>female</td>\n",
              "      <td>31.920</td>\n",
              "      <td>0</td>\n",
              "      <td>no</td>\n",
              "      <td>northeast</td>\n",
              "      <td>2205.98080</td>\n",
              "    </tr>\n",
              "    <tr>\n",
              "      <th>1335</th>\n",
              "      <td>18</td>\n",
              "      <td>female</td>\n",
              "      <td>36.850</td>\n",
              "      <td>0</td>\n",
              "      <td>no</td>\n",
              "      <td>southeast</td>\n",
              "      <td>1629.83350</td>\n",
              "    </tr>\n",
              "    <tr>\n",
              "      <th>1336</th>\n",
              "      <td>21</td>\n",
              "      <td>female</td>\n",
              "      <td>25.800</td>\n",
              "      <td>0</td>\n",
              "      <td>no</td>\n",
              "      <td>southwest</td>\n",
              "      <td>2007.94500</td>\n",
              "    </tr>\n",
              "    <tr>\n",
              "      <th>1337</th>\n",
              "      <td>61</td>\n",
              "      <td>female</td>\n",
              "      <td>29.070</td>\n",
              "      <td>0</td>\n",
              "      <td>yes</td>\n",
              "      <td>northwest</td>\n",
              "      <td>29141.36030</td>\n",
              "    </tr>\n",
              "  </tbody>\n",
              "</table>\n",
              "<p>1338 rows × 7 columns</p>\n",
              "</div>\n",
              "      <button class=\"colab-df-convert\" onclick=\"convertToInteractive('df-c9cca8c7-a194-4c00-9d5f-cd7c26abf955')\"\n",
              "              title=\"Convert this dataframe to an interactive table.\"\n",
              "              style=\"display:none;\">\n",
              "        \n",
              "  <svg xmlns=\"http://www.w3.org/2000/svg\" height=\"24px\"viewBox=\"0 0 24 24\"\n",
              "       width=\"24px\">\n",
              "    <path d=\"M0 0h24v24H0V0z\" fill=\"none\"/>\n",
              "    <path d=\"M18.56 5.44l.94 2.06.94-2.06 2.06-.94-2.06-.94-.94-2.06-.94 2.06-2.06.94zm-11 1L8.5 8.5l.94-2.06 2.06-.94-2.06-.94L8.5 2.5l-.94 2.06-2.06.94zm10 10l.94 2.06.94-2.06 2.06-.94-2.06-.94-.94-2.06-.94 2.06-2.06.94z\"/><path d=\"M17.41 7.96l-1.37-1.37c-.4-.4-.92-.59-1.43-.59-.52 0-1.04.2-1.43.59L10.3 9.45l-7.72 7.72c-.78.78-.78 2.05 0 2.83L4 21.41c.39.39.9.59 1.41.59.51 0 1.02-.2 1.41-.59l7.78-7.78 2.81-2.81c.8-.78.8-2.07 0-2.86zM5.41 20L4 18.59l7.72-7.72 1.47 1.35L5.41 20z\"/>\n",
              "  </svg>\n",
              "      </button>\n",
              "      \n",
              "  <style>\n",
              "    .colab-df-container {\n",
              "      display:flex;\n",
              "      flex-wrap:wrap;\n",
              "      gap: 12px;\n",
              "    }\n",
              "\n",
              "    .colab-df-convert {\n",
              "      background-color: #E8F0FE;\n",
              "      border: none;\n",
              "      border-radius: 50%;\n",
              "      cursor: pointer;\n",
              "      display: none;\n",
              "      fill: #1967D2;\n",
              "      height: 32px;\n",
              "      padding: 0 0 0 0;\n",
              "      width: 32px;\n",
              "    }\n",
              "\n",
              "    .colab-df-convert:hover {\n",
              "      background-color: #E2EBFA;\n",
              "      box-shadow: 0px 1px 2px rgba(60, 64, 67, 0.3), 0px 1px 3px 1px rgba(60, 64, 67, 0.15);\n",
              "      fill: #174EA6;\n",
              "    }\n",
              "\n",
              "    [theme=dark] .colab-df-convert {\n",
              "      background-color: #3B4455;\n",
              "      fill: #D2E3FC;\n",
              "    }\n",
              "\n",
              "    [theme=dark] .colab-df-convert:hover {\n",
              "      background-color: #434B5C;\n",
              "      box-shadow: 0px 1px 3px 1px rgba(0, 0, 0, 0.15);\n",
              "      filter: drop-shadow(0px 1px 2px rgba(0, 0, 0, 0.3));\n",
              "      fill: #FFFFFF;\n",
              "    }\n",
              "  </style>\n",
              "\n",
              "      <script>\n",
              "        const buttonEl =\n",
              "          document.querySelector('#df-c9cca8c7-a194-4c00-9d5f-cd7c26abf955 button.colab-df-convert');\n",
              "        buttonEl.style.display =\n",
              "          google.colab.kernel.accessAllowed ? 'block' : 'none';\n",
              "\n",
              "        async function convertToInteractive(key) {\n",
              "          const element = document.querySelector('#df-c9cca8c7-a194-4c00-9d5f-cd7c26abf955');\n",
              "          const dataTable =\n",
              "            await google.colab.kernel.invokeFunction('convertToInteractive',\n",
              "                                                     [key], {});\n",
              "          if (!dataTable) return;\n",
              "\n",
              "          const docLinkHtml = 'Like what you see? Visit the ' +\n",
              "            '<a target=\"_blank\" href=https://colab.research.google.com/notebooks/data_table.ipynb>data table notebook</a>'\n",
              "            + ' to learn more about interactive tables.';\n",
              "          element.innerHTML = '';\n",
              "          dataTable['output_type'] = 'display_data';\n",
              "          await google.colab.output.renderOutput(dataTable, element);\n",
              "          const docLink = document.createElement('div');\n",
              "          docLink.innerHTML = docLinkHtml;\n",
              "          element.appendChild(docLink);\n",
              "        }\n",
              "      </script>\n",
              "    </div>\n",
              "  </div>\n",
              "  "
            ],
            "text/plain": [
              "      age     sex     bmi  children smoker     region      charges\n",
              "0      19  female  27.900         0    yes  southwest  16884.92400\n",
              "1      18    male  33.770         1     no  southeast   1725.55230\n",
              "2      28    male  33.000         3     no  southeast   4449.46200\n",
              "3      33    male  22.705         0     no  northwest  21984.47061\n",
              "4      32    male  28.880         0     no  northwest   3866.85520\n",
              "...   ...     ...     ...       ...    ...        ...          ...\n",
              "1333   50    male  30.970         3     no  northwest  10600.54830\n",
              "1334   18  female  31.920         0     no  northeast   2205.98080\n",
              "1335   18  female  36.850         0     no  southeast   1629.83350\n",
              "1336   21  female  25.800         0     no  southwest   2007.94500\n",
              "1337   61  female  29.070         0    yes  northwest  29141.36030\n",
              "\n",
              "[1338 rows x 7 columns]"
            ]
          },
          "metadata": {},
          "execution_count": 4
        }
      ]
    },
    {
      "cell_type": "code",
      "source": [
        "# One-hot encoding the pandas dataframe\n",
        "\n",
        "insurance_one_hot=pd.get_dummies(insurance)\n",
        "insurance_one_hot"
      ],
      "metadata": {
        "colab": {
          "base_uri": "https://localhost:8080/",
          "height": 488
        },
        "id": "JwJYzkSFl6z2",
        "outputId": "7fab6afe-a048-47bf-827c-0c7567b8c453"
      },
      "execution_count": null,
      "outputs": [
        {
          "output_type": "execute_result",
          "data": {
            "text/html": [
              "\n",
              "  <div id=\"df-5f95ee95-e058-451d-af89-9623daa077c1\">\n",
              "    <div class=\"colab-df-container\">\n",
              "      <div>\n",
              "<style scoped>\n",
              "    .dataframe tbody tr th:only-of-type {\n",
              "        vertical-align: middle;\n",
              "    }\n",
              "\n",
              "    .dataframe tbody tr th {\n",
              "        vertical-align: top;\n",
              "    }\n",
              "\n",
              "    .dataframe thead th {\n",
              "        text-align: right;\n",
              "    }\n",
              "</style>\n",
              "<table border=\"1\" class=\"dataframe\">\n",
              "  <thead>\n",
              "    <tr style=\"text-align: right;\">\n",
              "      <th></th>\n",
              "      <th>age</th>\n",
              "      <th>bmi</th>\n",
              "      <th>children</th>\n",
              "      <th>charges</th>\n",
              "      <th>sex_female</th>\n",
              "      <th>sex_male</th>\n",
              "      <th>smoker_no</th>\n",
              "      <th>smoker_yes</th>\n",
              "      <th>region_northeast</th>\n",
              "      <th>region_northwest</th>\n",
              "      <th>region_southeast</th>\n",
              "      <th>region_southwest</th>\n",
              "    </tr>\n",
              "  </thead>\n",
              "  <tbody>\n",
              "    <tr>\n",
              "      <th>0</th>\n",
              "      <td>19</td>\n",
              "      <td>27.900</td>\n",
              "      <td>0</td>\n",
              "      <td>16884.92400</td>\n",
              "      <td>1</td>\n",
              "      <td>0</td>\n",
              "      <td>0</td>\n",
              "      <td>1</td>\n",
              "      <td>0</td>\n",
              "      <td>0</td>\n",
              "      <td>0</td>\n",
              "      <td>1</td>\n",
              "    </tr>\n",
              "    <tr>\n",
              "      <th>1</th>\n",
              "      <td>18</td>\n",
              "      <td>33.770</td>\n",
              "      <td>1</td>\n",
              "      <td>1725.55230</td>\n",
              "      <td>0</td>\n",
              "      <td>1</td>\n",
              "      <td>1</td>\n",
              "      <td>0</td>\n",
              "      <td>0</td>\n",
              "      <td>0</td>\n",
              "      <td>1</td>\n",
              "      <td>0</td>\n",
              "    </tr>\n",
              "    <tr>\n",
              "      <th>2</th>\n",
              "      <td>28</td>\n",
              "      <td>33.000</td>\n",
              "      <td>3</td>\n",
              "      <td>4449.46200</td>\n",
              "      <td>0</td>\n",
              "      <td>1</td>\n",
              "      <td>1</td>\n",
              "      <td>0</td>\n",
              "      <td>0</td>\n",
              "      <td>0</td>\n",
              "      <td>1</td>\n",
              "      <td>0</td>\n",
              "    </tr>\n",
              "    <tr>\n",
              "      <th>3</th>\n",
              "      <td>33</td>\n",
              "      <td>22.705</td>\n",
              "      <td>0</td>\n",
              "      <td>21984.47061</td>\n",
              "      <td>0</td>\n",
              "      <td>1</td>\n",
              "      <td>1</td>\n",
              "      <td>0</td>\n",
              "      <td>0</td>\n",
              "      <td>1</td>\n",
              "      <td>0</td>\n",
              "      <td>0</td>\n",
              "    </tr>\n",
              "    <tr>\n",
              "      <th>4</th>\n",
              "      <td>32</td>\n",
              "      <td>28.880</td>\n",
              "      <td>0</td>\n",
              "      <td>3866.85520</td>\n",
              "      <td>0</td>\n",
              "      <td>1</td>\n",
              "      <td>1</td>\n",
              "      <td>0</td>\n",
              "      <td>0</td>\n",
              "      <td>1</td>\n",
              "      <td>0</td>\n",
              "      <td>0</td>\n",
              "    </tr>\n",
              "    <tr>\n",
              "      <th>...</th>\n",
              "      <td>...</td>\n",
              "      <td>...</td>\n",
              "      <td>...</td>\n",
              "      <td>...</td>\n",
              "      <td>...</td>\n",
              "      <td>...</td>\n",
              "      <td>...</td>\n",
              "      <td>...</td>\n",
              "      <td>...</td>\n",
              "      <td>...</td>\n",
              "      <td>...</td>\n",
              "      <td>...</td>\n",
              "    </tr>\n",
              "    <tr>\n",
              "      <th>1333</th>\n",
              "      <td>50</td>\n",
              "      <td>30.970</td>\n",
              "      <td>3</td>\n",
              "      <td>10600.54830</td>\n",
              "      <td>0</td>\n",
              "      <td>1</td>\n",
              "      <td>1</td>\n",
              "      <td>0</td>\n",
              "      <td>0</td>\n",
              "      <td>1</td>\n",
              "      <td>0</td>\n",
              "      <td>0</td>\n",
              "    </tr>\n",
              "    <tr>\n",
              "      <th>1334</th>\n",
              "      <td>18</td>\n",
              "      <td>31.920</td>\n",
              "      <td>0</td>\n",
              "      <td>2205.98080</td>\n",
              "      <td>1</td>\n",
              "      <td>0</td>\n",
              "      <td>1</td>\n",
              "      <td>0</td>\n",
              "      <td>1</td>\n",
              "      <td>0</td>\n",
              "      <td>0</td>\n",
              "      <td>0</td>\n",
              "    </tr>\n",
              "    <tr>\n",
              "      <th>1335</th>\n",
              "      <td>18</td>\n",
              "      <td>36.850</td>\n",
              "      <td>0</td>\n",
              "      <td>1629.83350</td>\n",
              "      <td>1</td>\n",
              "      <td>0</td>\n",
              "      <td>1</td>\n",
              "      <td>0</td>\n",
              "      <td>0</td>\n",
              "      <td>0</td>\n",
              "      <td>1</td>\n",
              "      <td>0</td>\n",
              "    </tr>\n",
              "    <tr>\n",
              "      <th>1336</th>\n",
              "      <td>21</td>\n",
              "      <td>25.800</td>\n",
              "      <td>0</td>\n",
              "      <td>2007.94500</td>\n",
              "      <td>1</td>\n",
              "      <td>0</td>\n",
              "      <td>1</td>\n",
              "      <td>0</td>\n",
              "      <td>0</td>\n",
              "      <td>0</td>\n",
              "      <td>0</td>\n",
              "      <td>1</td>\n",
              "    </tr>\n",
              "    <tr>\n",
              "      <th>1337</th>\n",
              "      <td>61</td>\n",
              "      <td>29.070</td>\n",
              "      <td>0</td>\n",
              "      <td>29141.36030</td>\n",
              "      <td>1</td>\n",
              "      <td>0</td>\n",
              "      <td>0</td>\n",
              "      <td>1</td>\n",
              "      <td>0</td>\n",
              "      <td>1</td>\n",
              "      <td>0</td>\n",
              "      <td>0</td>\n",
              "    </tr>\n",
              "  </tbody>\n",
              "</table>\n",
              "<p>1338 rows × 12 columns</p>\n",
              "</div>\n",
              "      <button class=\"colab-df-convert\" onclick=\"convertToInteractive('df-5f95ee95-e058-451d-af89-9623daa077c1')\"\n",
              "              title=\"Convert this dataframe to an interactive table.\"\n",
              "              style=\"display:none;\">\n",
              "        \n",
              "  <svg xmlns=\"http://www.w3.org/2000/svg\" height=\"24px\"viewBox=\"0 0 24 24\"\n",
              "       width=\"24px\">\n",
              "    <path d=\"M0 0h24v24H0V0z\" fill=\"none\"/>\n",
              "    <path d=\"M18.56 5.44l.94 2.06.94-2.06 2.06-.94-2.06-.94-.94-2.06-.94 2.06-2.06.94zm-11 1L8.5 8.5l.94-2.06 2.06-.94-2.06-.94L8.5 2.5l-.94 2.06-2.06.94zm10 10l.94 2.06.94-2.06 2.06-.94-2.06-.94-.94-2.06-.94 2.06-2.06.94z\"/><path d=\"M17.41 7.96l-1.37-1.37c-.4-.4-.92-.59-1.43-.59-.52 0-1.04.2-1.43.59L10.3 9.45l-7.72 7.72c-.78.78-.78 2.05 0 2.83L4 21.41c.39.39.9.59 1.41.59.51 0 1.02-.2 1.41-.59l7.78-7.78 2.81-2.81c.8-.78.8-2.07 0-2.86zM5.41 20L4 18.59l7.72-7.72 1.47 1.35L5.41 20z\"/>\n",
              "  </svg>\n",
              "      </button>\n",
              "      \n",
              "  <style>\n",
              "    .colab-df-container {\n",
              "      display:flex;\n",
              "      flex-wrap:wrap;\n",
              "      gap: 12px;\n",
              "    }\n",
              "\n",
              "    .colab-df-convert {\n",
              "      background-color: #E8F0FE;\n",
              "      border: none;\n",
              "      border-radius: 50%;\n",
              "      cursor: pointer;\n",
              "      display: none;\n",
              "      fill: #1967D2;\n",
              "      height: 32px;\n",
              "      padding: 0 0 0 0;\n",
              "      width: 32px;\n",
              "    }\n",
              "\n",
              "    .colab-df-convert:hover {\n",
              "      background-color: #E2EBFA;\n",
              "      box-shadow: 0px 1px 2px rgba(60, 64, 67, 0.3), 0px 1px 3px 1px rgba(60, 64, 67, 0.15);\n",
              "      fill: #174EA6;\n",
              "    }\n",
              "\n",
              "    [theme=dark] .colab-df-convert {\n",
              "      background-color: #3B4455;\n",
              "      fill: #D2E3FC;\n",
              "    }\n",
              "\n",
              "    [theme=dark] .colab-df-convert:hover {\n",
              "      background-color: #434B5C;\n",
              "      box-shadow: 0px 1px 3px 1px rgba(0, 0, 0, 0.15);\n",
              "      filter: drop-shadow(0px 1px 2px rgba(0, 0, 0, 0.3));\n",
              "      fill: #FFFFFF;\n",
              "    }\n",
              "  </style>\n",
              "\n",
              "      <script>\n",
              "        const buttonEl =\n",
              "          document.querySelector('#df-5f95ee95-e058-451d-af89-9623daa077c1 button.colab-df-convert');\n",
              "        buttonEl.style.display =\n",
              "          google.colab.kernel.accessAllowed ? 'block' : 'none';\n",
              "\n",
              "        async function convertToInteractive(key) {\n",
              "          const element = document.querySelector('#df-5f95ee95-e058-451d-af89-9623daa077c1');\n",
              "          const dataTable =\n",
              "            await google.colab.kernel.invokeFunction('convertToInteractive',\n",
              "                                                     [key], {});\n",
              "          if (!dataTable) return;\n",
              "\n",
              "          const docLinkHtml = 'Like what you see? Visit the ' +\n",
              "            '<a target=\"_blank\" href=https://colab.research.google.com/notebooks/data_table.ipynb>data table notebook</a>'\n",
              "            + ' to learn more about interactive tables.';\n",
              "          element.innerHTML = '';\n",
              "          dataTable['output_type'] = 'display_data';\n",
              "          await google.colab.output.renderOutput(dataTable, element);\n",
              "          const docLink = document.createElement('div');\n",
              "          docLink.innerHTML = docLinkHtml;\n",
              "          element.appendChild(docLink);\n",
              "        }\n",
              "      </script>\n",
              "    </div>\n",
              "  </div>\n",
              "  "
            ],
            "text/plain": [
              "      age     bmi  ...  region_southeast  region_southwest\n",
              "0      19  27.900  ...                 0                 1\n",
              "1      18  33.770  ...                 1                 0\n",
              "2      28  33.000  ...                 1                 0\n",
              "3      33  22.705  ...                 0                 0\n",
              "4      32  28.880  ...                 0                 0\n",
              "...   ...     ...  ...               ...               ...\n",
              "1333   50  30.970  ...                 0                 0\n",
              "1334   18  31.920  ...                 0                 0\n",
              "1335   18  36.850  ...                 1                 0\n",
              "1336   21  25.800  ...                 0                 1\n",
              "1337   61  29.070  ...                 0                 0\n",
              "\n",
              "[1338 rows x 12 columns]"
            ]
          },
          "metadata": {},
          "execution_count": 5
        }
      ]
    },
    {
      "cell_type": "code",
      "source": [
        "#Fix the random seed\n",
        "tf.random.set_seed(42)\n",
        "\n",
        "# Create the X and ycharges\n",
        "X_pd=insurance_one_hot.drop(\"charges\",axis=1)\n",
        "# X_pd = insurance_one_hot[[\"age\",\"bmi\",\"children\",\"sex_female\",\"sex_male\",\"smoker_yes\",\"smoker_no\",\"region_northeast\",\"region_southeast\",\"region_northwest\",\"region_southwest\"]]\n",
        "y_pd = insurance_one_hot[\"charges\"] \n"
      ],
      "metadata": {
        "id": "ShlH25HfqqxQ"
      },
      "execution_count": null,
      "outputs": []
    },
    {
      "cell_type": "code",
      "source": [
        "X_pd.head()"
      ],
      "metadata": {
        "colab": {
          "base_uri": "https://localhost:8080/",
          "height": 270
        },
        "id": "YtXNF_ZC1Ej-",
        "outputId": "e8f6098a-a08d-4224-ac8d-6fda726b2cc4"
      },
      "execution_count": null,
      "outputs": [
        {
          "output_type": "execute_result",
          "data": {
            "text/html": [
              "\n",
              "  <div id=\"df-7d11cd6c-c8a2-4e80-af2f-e1ab8e65a392\">\n",
              "    <div class=\"colab-df-container\">\n",
              "      <div>\n",
              "<style scoped>\n",
              "    .dataframe tbody tr th:only-of-type {\n",
              "        vertical-align: middle;\n",
              "    }\n",
              "\n",
              "    .dataframe tbody tr th {\n",
              "        vertical-align: top;\n",
              "    }\n",
              "\n",
              "    .dataframe thead th {\n",
              "        text-align: right;\n",
              "    }\n",
              "</style>\n",
              "<table border=\"1\" class=\"dataframe\">\n",
              "  <thead>\n",
              "    <tr style=\"text-align: right;\">\n",
              "      <th></th>\n",
              "      <th>age</th>\n",
              "      <th>bmi</th>\n",
              "      <th>children</th>\n",
              "      <th>sex_female</th>\n",
              "      <th>sex_male</th>\n",
              "      <th>smoker_no</th>\n",
              "      <th>smoker_yes</th>\n",
              "      <th>region_northeast</th>\n",
              "      <th>region_northwest</th>\n",
              "      <th>region_southeast</th>\n",
              "      <th>region_southwest</th>\n",
              "    </tr>\n",
              "  </thead>\n",
              "  <tbody>\n",
              "    <tr>\n",
              "      <th>0</th>\n",
              "      <td>19</td>\n",
              "      <td>27.900</td>\n",
              "      <td>0</td>\n",
              "      <td>1</td>\n",
              "      <td>0</td>\n",
              "      <td>0</td>\n",
              "      <td>1</td>\n",
              "      <td>0</td>\n",
              "      <td>0</td>\n",
              "      <td>0</td>\n",
              "      <td>1</td>\n",
              "    </tr>\n",
              "    <tr>\n",
              "      <th>1</th>\n",
              "      <td>18</td>\n",
              "      <td>33.770</td>\n",
              "      <td>1</td>\n",
              "      <td>0</td>\n",
              "      <td>1</td>\n",
              "      <td>1</td>\n",
              "      <td>0</td>\n",
              "      <td>0</td>\n",
              "      <td>0</td>\n",
              "      <td>1</td>\n",
              "      <td>0</td>\n",
              "    </tr>\n",
              "    <tr>\n",
              "      <th>2</th>\n",
              "      <td>28</td>\n",
              "      <td>33.000</td>\n",
              "      <td>3</td>\n",
              "      <td>0</td>\n",
              "      <td>1</td>\n",
              "      <td>1</td>\n",
              "      <td>0</td>\n",
              "      <td>0</td>\n",
              "      <td>0</td>\n",
              "      <td>1</td>\n",
              "      <td>0</td>\n",
              "    </tr>\n",
              "    <tr>\n",
              "      <th>3</th>\n",
              "      <td>33</td>\n",
              "      <td>22.705</td>\n",
              "      <td>0</td>\n",
              "      <td>0</td>\n",
              "      <td>1</td>\n",
              "      <td>1</td>\n",
              "      <td>0</td>\n",
              "      <td>0</td>\n",
              "      <td>1</td>\n",
              "      <td>0</td>\n",
              "      <td>0</td>\n",
              "    </tr>\n",
              "    <tr>\n",
              "      <th>4</th>\n",
              "      <td>32</td>\n",
              "      <td>28.880</td>\n",
              "      <td>0</td>\n",
              "      <td>0</td>\n",
              "      <td>1</td>\n",
              "      <td>1</td>\n",
              "      <td>0</td>\n",
              "      <td>0</td>\n",
              "      <td>1</td>\n",
              "      <td>0</td>\n",
              "      <td>0</td>\n",
              "    </tr>\n",
              "  </tbody>\n",
              "</table>\n",
              "</div>\n",
              "      <button class=\"colab-df-convert\" onclick=\"convertToInteractive('df-7d11cd6c-c8a2-4e80-af2f-e1ab8e65a392')\"\n",
              "              title=\"Convert this dataframe to an interactive table.\"\n",
              "              style=\"display:none;\">\n",
              "        \n",
              "  <svg xmlns=\"http://www.w3.org/2000/svg\" height=\"24px\"viewBox=\"0 0 24 24\"\n",
              "       width=\"24px\">\n",
              "    <path d=\"M0 0h24v24H0V0z\" fill=\"none\"/>\n",
              "    <path d=\"M18.56 5.44l.94 2.06.94-2.06 2.06-.94-2.06-.94-.94-2.06-.94 2.06-2.06.94zm-11 1L8.5 8.5l.94-2.06 2.06-.94-2.06-.94L8.5 2.5l-.94 2.06-2.06.94zm10 10l.94 2.06.94-2.06 2.06-.94-2.06-.94-.94-2.06-.94 2.06-2.06.94z\"/><path d=\"M17.41 7.96l-1.37-1.37c-.4-.4-.92-.59-1.43-.59-.52 0-1.04.2-1.43.59L10.3 9.45l-7.72 7.72c-.78.78-.78 2.05 0 2.83L4 21.41c.39.39.9.59 1.41.59.51 0 1.02-.2 1.41-.59l7.78-7.78 2.81-2.81c.8-.78.8-2.07 0-2.86zM5.41 20L4 18.59l7.72-7.72 1.47 1.35L5.41 20z\"/>\n",
              "  </svg>\n",
              "      </button>\n",
              "      \n",
              "  <style>\n",
              "    .colab-df-container {\n",
              "      display:flex;\n",
              "      flex-wrap:wrap;\n",
              "      gap: 12px;\n",
              "    }\n",
              "\n",
              "    .colab-df-convert {\n",
              "      background-color: #E8F0FE;\n",
              "      border: none;\n",
              "      border-radius: 50%;\n",
              "      cursor: pointer;\n",
              "      display: none;\n",
              "      fill: #1967D2;\n",
              "      height: 32px;\n",
              "      padding: 0 0 0 0;\n",
              "      width: 32px;\n",
              "    }\n",
              "\n",
              "    .colab-df-convert:hover {\n",
              "      background-color: #E2EBFA;\n",
              "      box-shadow: 0px 1px 2px rgba(60, 64, 67, 0.3), 0px 1px 3px 1px rgba(60, 64, 67, 0.15);\n",
              "      fill: #174EA6;\n",
              "    }\n",
              "\n",
              "    [theme=dark] .colab-df-convert {\n",
              "      background-color: #3B4455;\n",
              "      fill: #D2E3FC;\n",
              "    }\n",
              "\n",
              "    [theme=dark] .colab-df-convert:hover {\n",
              "      background-color: #434B5C;\n",
              "      box-shadow: 0px 1px 3px 1px rgba(0, 0, 0, 0.15);\n",
              "      filter: drop-shadow(0px 1px 2px rgba(0, 0, 0, 0.3));\n",
              "      fill: #FFFFFF;\n",
              "    }\n",
              "  </style>\n",
              "\n",
              "      <script>\n",
              "        const buttonEl =\n",
              "          document.querySelector('#df-7d11cd6c-c8a2-4e80-af2f-e1ab8e65a392 button.colab-df-convert');\n",
              "        buttonEl.style.display =\n",
              "          google.colab.kernel.accessAllowed ? 'block' : 'none';\n",
              "\n",
              "        async function convertToInteractive(key) {\n",
              "          const element = document.querySelector('#df-7d11cd6c-c8a2-4e80-af2f-e1ab8e65a392');\n",
              "          const dataTable =\n",
              "            await google.colab.kernel.invokeFunction('convertToInteractive',\n",
              "                                                     [key], {});\n",
              "          if (!dataTable) return;\n",
              "\n",
              "          const docLinkHtml = 'Like what you see? Visit the ' +\n",
              "            '<a target=\"_blank\" href=https://colab.research.google.com/notebooks/data_table.ipynb>data table notebook</a>'\n",
              "            + ' to learn more about interactive tables.';\n",
              "          element.innerHTML = '';\n",
              "          dataTable['output_type'] = 'display_data';\n",
              "          await google.colab.output.renderOutput(dataTable, element);\n",
              "          const docLink = document.createElement('div');\n",
              "          docLink.innerHTML = docLinkHtml;\n",
              "          element.appendChild(docLink);\n",
              "        }\n",
              "      </script>\n",
              "    </div>\n",
              "  </div>\n",
              "  "
            ],
            "text/plain": [
              "   age     bmi  children  ...  region_northwest  region_southeast  region_southwest\n",
              "0   19  27.900         0  ...                 0                 0                 1\n",
              "1   18  33.770         1  ...                 0                 1                 0\n",
              "2   28  33.000         3  ...                 0                 1                 0\n",
              "3   33  22.705         0  ...                 1                 0                 0\n",
              "4   32  28.880         0  ...                 1                 0                 0\n",
              "\n",
              "[5 rows x 11 columns]"
            ]
          },
          "metadata": {},
          "execution_count": 7
        }
      ]
    },
    {
      "cell_type": "code",
      "source": [
        "y_pd.head()"
      ],
      "metadata": {
        "colab": {
          "base_uri": "https://localhost:8080/"
        },
        "id": "hoW1Ebvd1Jij",
        "outputId": "2ed3e2d4-5919-4c7b-cb62-cd0cd38cb5ad"
      },
      "execution_count": null,
      "outputs": [
        {
          "output_type": "execute_result",
          "data": {
            "text/plain": [
              "0    16884.92400\n",
              "1     1725.55230\n",
              "2     4449.46200\n",
              "3    21984.47061\n",
              "4     3866.85520\n",
              "Name: charges, dtype: float64"
            ]
          },
          "metadata": {},
          "execution_count": 8
        }
      ]
    },
    {
      "cell_type": "code",
      "source": [
        "from sklearn.model_selection import train_test_split\n",
        "\n",
        "X_train, X_test, y_train, y_test = train_test_split(X_pd, y_pd, test_size=0.2, random_state=42)\n",
        "\n",
        "len(X_train), len(X_test), len(y_train) ,len(y_test)\n"
      ],
      "metadata": {
        "colab": {
          "base_uri": "https://localhost:8080/"
        },
        "id": "rCj4idiTsbEi",
        "outputId": "1176f3d2-4e8f-43e7-e714-be0c0cb8970f"
      },
      "execution_count": null,
      "outputs": [
        {
          "output_type": "execute_result",
          "data": {
            "text/plain": [
              "(1070, 268, 1070, 268)"
            ]
          },
          "metadata": {},
          "execution_count": 9
        }
      ]
    },
    {
      "cell_type": "code",
      "source": [
        "# X_train"
      ],
      "metadata": {
        "id": "6XNpjJ1G11WD"
      },
      "execution_count": null,
      "outputs": []
    },
    {
      "cell_type": "code",
      "source": [
        " # Set random seed\n",
        "tf.random.set_seed(42)\n",
        "\n",
        "#1. Create a model\n",
        "model_insurance=tf.keras.Sequential([\n",
        "      tf.keras.layers.Dense(10),\n",
        "      tf.keras.layers.Dense(1)\n",
        "])\n",
        "\n",
        "#compile the model\n",
        "model_insurance.compile(loss=tf.keras.losses.mae,\n",
        "                        optimizer=tf.keras.optimizers.SGD(),\n",
        "                        metrics=[\"mae\"])\n",
        "\n",
        "#Fit the model\n",
        "model_insurance.fit(X_train, y_train, epochs=100)\n"
      ],
      "metadata": {
        "colab": {
          "base_uri": "https://localhost:8080/"
        },
        "id": "jq6NG8cMsy7q",
        "outputId": "08713d4c-dc31-4c84-b5a6-5968b902cb66"
      },
      "execution_count": null,
      "outputs": [
        {
          "output_type": "stream",
          "name": "stdout",
          "text": [
            "Epoch 1/100\n",
            "34/34 [==============================] - 2s 3ms/step - loss: 8637.1006 - mae: 8637.1006\n",
            "Epoch 2/100\n",
            "34/34 [==============================] - 0s 3ms/step - loss: 7886.7759 - mae: 7886.7759\n",
            "Epoch 3/100\n",
            "34/34 [==============================] - 0s 3ms/step - loss: 7558.1475 - mae: 7558.1475\n",
            "Epoch 4/100\n",
            "34/34 [==============================] - 0s 3ms/step - loss: 7792.0225 - mae: 7792.0225\n",
            "Epoch 5/100\n",
            "34/34 [==============================] - 0s 3ms/step - loss: 7748.3887 - mae: 7748.3887\n",
            "Epoch 6/100\n",
            "34/34 [==============================] - 0s 3ms/step - loss: 7595.3945 - mae: 7595.3945\n",
            "Epoch 7/100\n",
            "34/34 [==============================] - 0s 3ms/step - loss: 7589.9844 - mae: 7589.9844\n",
            "Epoch 8/100\n",
            "34/34 [==============================] - 0s 3ms/step - loss: 7698.5591 - mae: 7698.5591\n",
            "Epoch 9/100\n",
            "34/34 [==============================] - 0s 3ms/step - loss: 7496.7788 - mae: 7496.7788\n",
            "Epoch 10/100\n",
            "34/34 [==============================] - 0s 3ms/step - loss: 7493.1738 - mae: 7493.1738\n",
            "Epoch 11/100\n",
            "34/34 [==============================] - 0s 3ms/step - loss: 7769.7305 - mae: 7769.7305\n",
            "Epoch 12/100\n",
            "34/34 [==============================] - 0s 3ms/step - loss: 7706.9043 - mae: 7706.9043\n",
            "Epoch 13/100\n",
            "34/34 [==============================] - 0s 3ms/step - loss: 7687.7231 - mae: 7687.7231\n",
            "Epoch 14/100\n",
            "34/34 [==============================] - 0s 3ms/step - loss: 7689.9004 - mae: 7689.9004\n",
            "Epoch 15/100\n",
            "34/34 [==============================] - 0s 3ms/step - loss: 7393.5327 - mae: 7393.5327\n",
            "Epoch 16/100\n",
            "34/34 [==============================] - 0s 3ms/step - loss: 7780.6992 - mae: 7780.6992\n",
            "Epoch 17/100\n",
            "34/34 [==============================] - 0s 3ms/step - loss: 7578.5098 - mae: 7578.5098\n",
            "Epoch 18/100\n",
            "34/34 [==============================] - 0s 3ms/step - loss: 7750.8350 - mae: 7750.8350\n",
            "Epoch 19/100\n",
            "34/34 [==============================] - 0s 3ms/step - loss: 7739.2144 - mae: 7739.2144\n",
            "Epoch 20/100\n",
            "34/34 [==============================] - 0s 3ms/step - loss: 7875.0654 - mae: 7875.0654\n",
            "Epoch 21/100\n",
            "34/34 [==============================] - 0s 3ms/step - loss: 7466.6768 - mae: 7466.6768\n",
            "Epoch 22/100\n",
            "34/34 [==============================] - 0s 3ms/step - loss: 7941.2329 - mae: 7941.2329\n",
            "Epoch 23/100\n",
            "34/34 [==============================] - 0s 3ms/step - loss: 7640.2725 - mae: 7640.2725\n",
            "Epoch 24/100\n",
            "34/34 [==============================] - 0s 3ms/step - loss: 7539.2671 - mae: 7539.2671\n",
            "Epoch 25/100\n",
            "34/34 [==============================] - 0s 3ms/step - loss: 7619.9658 - mae: 7619.9658\n",
            "Epoch 26/100\n",
            "34/34 [==============================] - 0s 3ms/step - loss: 7644.1709 - mae: 7644.1709\n",
            "Epoch 27/100\n",
            "34/34 [==============================] - 0s 3ms/step - loss: 7709.0371 - mae: 7709.0371\n",
            "Epoch 28/100\n",
            "34/34 [==============================] - 0s 3ms/step - loss: 7366.8662 - mae: 7366.8662\n",
            "Epoch 29/100\n",
            "34/34 [==============================] - 0s 3ms/step - loss: 7444.3159 - mae: 7444.3159\n",
            "Epoch 30/100\n",
            "34/34 [==============================] - 0s 4ms/step - loss: 7616.4082 - mae: 7616.4082\n",
            "Epoch 31/100\n",
            "34/34 [==============================] - 0s 3ms/step - loss: 7686.3857 - mae: 7686.3857\n",
            "Epoch 32/100\n",
            "34/34 [==============================] - 0s 3ms/step - loss: 7548.0986 - mae: 7548.0986\n",
            "Epoch 33/100\n",
            "34/34 [==============================] - 0s 3ms/step - loss: 7501.5542 - mae: 7501.5542\n",
            "Epoch 34/100\n",
            "34/34 [==============================] - 0s 3ms/step - loss: 7363.4170 - mae: 7363.4170\n",
            "Epoch 35/100\n",
            "34/34 [==============================] - 0s 3ms/step - loss: 7295.4473 - mae: 7295.4473\n",
            "Epoch 36/100\n",
            "34/34 [==============================] - 0s 3ms/step - loss: 7569.8823 - mae: 7569.8823\n",
            "Epoch 37/100\n",
            "34/34 [==============================] - 0s 3ms/step - loss: 7548.2007 - mae: 7548.2007\n",
            "Epoch 38/100\n",
            "34/34 [==============================] - 0s 3ms/step - loss: 7424.3975 - mae: 7424.3975\n",
            "Epoch 39/100\n",
            "34/34 [==============================] - 0s 3ms/step - loss: 7529.7734 - mae: 7529.7734\n",
            "Epoch 40/100\n",
            "34/34 [==============================] - 0s 3ms/step - loss: 7467.3242 - mae: 7467.3242\n",
            "Epoch 41/100\n",
            "34/34 [==============================] - 0s 3ms/step - loss: 7635.9282 - mae: 7635.9282\n",
            "Epoch 42/100\n",
            "34/34 [==============================] - 0s 3ms/step - loss: 7536.8403 - mae: 7536.8403\n",
            "Epoch 43/100\n",
            "34/34 [==============================] - 0s 3ms/step - loss: 7616.5845 - mae: 7616.5845\n",
            "Epoch 44/100\n",
            "34/34 [==============================] - 0s 3ms/step - loss: 7439.4937 - mae: 7439.4937\n",
            "Epoch 45/100\n",
            "34/34 [==============================] - 0s 3ms/step - loss: 7538.0142 - mae: 7538.0142\n",
            "Epoch 46/100\n",
            "34/34 [==============================] - 0s 3ms/step - loss: 7415.1470 - mae: 7415.1470\n",
            "Epoch 47/100\n",
            "34/34 [==============================] - 0s 3ms/step - loss: 7420.6943 - mae: 7420.6943\n",
            "Epoch 48/100\n",
            "34/34 [==============================] - 0s 3ms/step - loss: 7509.9839 - mae: 7509.9839\n",
            "Epoch 49/100\n",
            "34/34 [==============================] - 0s 3ms/step - loss: 7541.1133 - mae: 7541.1133\n",
            "Epoch 50/100\n",
            "34/34 [==============================] - 0s 3ms/step - loss: 7467.8633 - mae: 7467.8633\n",
            "Epoch 51/100\n",
            "34/34 [==============================] - 0s 3ms/step - loss: 7389.3545 - mae: 7389.3545\n",
            "Epoch 52/100\n",
            "34/34 [==============================] - 0s 3ms/step - loss: 7499.7759 - mae: 7499.7759\n",
            "Epoch 53/100\n",
            "34/34 [==============================] - 0s 3ms/step - loss: 7523.9277 - mae: 7523.9277\n",
            "Epoch 54/100\n",
            "34/34 [==============================] - 0s 3ms/step - loss: 7243.3115 - mae: 7243.3115\n",
            "Epoch 55/100\n",
            "34/34 [==============================] - 0s 3ms/step - loss: 7429.5859 - mae: 7429.5859\n",
            "Epoch 56/100\n",
            "34/34 [==============================] - 0s 3ms/step - loss: 7313.4009 - mae: 7313.4009\n",
            "Epoch 57/100\n",
            "34/34 [==============================] - 0s 3ms/step - loss: 7526.3887 - mae: 7526.3887\n",
            "Epoch 58/100\n",
            "34/34 [==============================] - 0s 3ms/step - loss: 7542.2666 - mae: 7542.2666\n",
            "Epoch 59/100\n",
            "34/34 [==============================] - 0s 3ms/step - loss: 7576.9277 - mae: 7576.9277\n",
            "Epoch 60/100\n",
            "34/34 [==============================] - 0s 3ms/step - loss: 7546.4053 - mae: 7546.4053\n",
            "Epoch 61/100\n",
            "34/34 [==============================] - 0s 3ms/step - loss: 7351.2266 - mae: 7351.2266\n",
            "Epoch 62/100\n",
            "34/34 [==============================] - 0s 3ms/step - loss: 7302.1436 - mae: 7302.1436\n",
            "Epoch 63/100\n",
            "34/34 [==============================] - 0s 3ms/step - loss: 7393.0874 - mae: 7393.0874\n",
            "Epoch 64/100\n",
            "34/34 [==============================] - 0s 3ms/step - loss: 7442.2886 - mae: 7442.2886\n",
            "Epoch 65/100\n",
            "34/34 [==============================] - 0s 6ms/step - loss: 7492.6782 - mae: 7492.6782\n",
            "Epoch 66/100\n",
            "34/34 [==============================] - 0s 3ms/step - loss: 7561.9170 - mae: 7561.9170\n",
            "Epoch 67/100\n",
            "34/34 [==============================] - 0s 3ms/step - loss: 7340.5142 - mae: 7340.5142\n",
            "Epoch 68/100\n",
            "34/34 [==============================] - 0s 3ms/step - loss: 7496.0854 - mae: 7496.0854\n",
            "Epoch 69/100\n",
            "34/34 [==============================] - 0s 3ms/step - loss: 7617.0298 - mae: 7617.0298\n",
            "Epoch 70/100\n",
            "34/34 [==============================] - 0s 3ms/step - loss: 7641.1948 - mae: 7641.1948\n",
            "Epoch 71/100\n",
            "34/34 [==============================] - 0s 3ms/step - loss: 7084.2744 - mae: 7084.2744\n",
            "Epoch 72/100\n",
            "34/34 [==============================] - 0s 3ms/step - loss: 7240.4912 - mae: 7240.4912\n",
            "Epoch 73/100\n",
            "34/34 [==============================] - 0s 3ms/step - loss: 7283.4893 - mae: 7283.4893\n",
            "Epoch 74/100\n",
            "34/34 [==============================] - 0s 3ms/step - loss: 7335.5068 - mae: 7335.5068\n",
            "Epoch 75/100\n",
            "34/34 [==============================] - 0s 3ms/step - loss: 7275.6392 - mae: 7275.6392\n",
            "Epoch 76/100\n",
            "34/34 [==============================] - 0s 3ms/step - loss: 7313.1851 - mae: 7313.1851\n",
            "Epoch 77/100\n",
            "34/34 [==============================] - 0s 3ms/step - loss: 7485.7588 - mae: 7485.7588\n",
            "Epoch 78/100\n",
            "34/34 [==============================] - 0s 3ms/step - loss: 7352.2798 - mae: 7352.2798\n",
            "Epoch 79/100\n",
            "34/34 [==============================] - 0s 3ms/step - loss: 7520.5703 - mae: 7520.5703\n",
            "Epoch 80/100\n",
            "34/34 [==============================] - 0s 3ms/step - loss: 7279.3774 - mae: 7279.3774\n",
            "Epoch 81/100\n",
            "34/34 [==============================] - 0s 3ms/step - loss: 7273.8477 - mae: 7273.8477\n",
            "Epoch 82/100\n",
            "34/34 [==============================] - 0s 3ms/step - loss: 7176.5205 - mae: 7176.5205\n",
            "Epoch 83/100\n",
            "34/34 [==============================] - 0s 3ms/step - loss: 7425.6289 - mae: 7425.6289\n",
            "Epoch 84/100\n",
            "34/34 [==============================] - 0s 3ms/step - loss: 7403.1294 - mae: 7403.1294\n",
            "Epoch 85/100\n",
            "34/34 [==============================] - 0s 3ms/step - loss: 7356.0088 - mae: 7356.0088\n",
            "Epoch 86/100\n",
            "34/34 [==============================] - 0s 3ms/step - loss: 7484.7271 - mae: 7484.7271\n",
            "Epoch 87/100\n",
            "34/34 [==============================] - 0s 3ms/step - loss: 7217.6074 - mae: 7217.6074\n",
            "Epoch 88/100\n",
            "34/34 [==============================] - 0s 3ms/step - loss: 7261.0000 - mae: 7261.0000\n",
            "Epoch 89/100\n",
            "34/34 [==============================] - 0s 3ms/step - loss: 7134.1558 - mae: 7134.1558\n",
            "Epoch 90/100\n",
            "34/34 [==============================] - 0s 3ms/step - loss: 7083.4355 - mae: 7083.4355\n",
            "Epoch 91/100\n",
            "34/34 [==============================] - 0s 3ms/step - loss: 7254.1792 - mae: 7254.1792\n",
            "Epoch 92/100\n",
            "34/34 [==============================] - 0s 3ms/step - loss: 7268.7466 - mae: 7268.7466\n",
            "Epoch 93/100\n",
            "34/34 [==============================] - 0s 3ms/step - loss: 7470.5215 - mae: 7470.5215\n",
            "Epoch 94/100\n",
            "34/34 [==============================] - 0s 3ms/step - loss: 7210.9541 - mae: 7210.9541\n",
            "Epoch 95/100\n",
            "34/34 [==============================] - 0s 3ms/step - loss: 7395.6802 - mae: 7395.6802\n",
            "Epoch 96/100\n",
            "34/34 [==============================] - 0s 3ms/step - loss: 7328.0889 - mae: 7328.0889\n",
            "Epoch 97/100\n",
            "34/34 [==============================] - 0s 3ms/step - loss: 7230.4380 - mae: 7230.4380\n",
            "Epoch 98/100\n",
            "34/34 [==============================] - 0s 3ms/step - loss: 7261.3940 - mae: 7261.3940\n",
            "Epoch 99/100\n",
            "34/34 [==============================] - 0s 3ms/step - loss: 7342.5674 - mae: 7342.5674\n",
            "Epoch 100/100\n",
            "34/34 [==============================] - 0s 3ms/step - loss: 7106.1709 - mae: 7106.1709\n"
          ]
        },
        {
          "output_type": "execute_result",
          "data": {
            "text/plain": [
              "<keras.callbacks.History at 0x7fa46042a850>"
            ]
          },
          "metadata": {},
          "execution_count": 11
        }
      ]
    },
    {
      "cell_type": "code",
      "source": [
        "model_insurance.summary()"
      ],
      "metadata": {
        "colab": {
          "base_uri": "https://localhost:8080/"
        },
        "id": "GLV5uGdwuNKB",
        "outputId": "3b3ddfc8-78fb-4f41-da96-ea14430199cb"
      },
      "execution_count": null,
      "outputs": [
        {
          "output_type": "stream",
          "name": "stdout",
          "text": [
            "Model: \"sequential\"\n",
            "_________________________________________________________________\n",
            " Layer (type)                Output Shape              Param #   \n",
            "=================================================================\n",
            " dense (Dense)               (None, 10)                120       \n",
            "                                                                 \n",
            " dense_1 (Dense)             (None, 1)                 11        \n",
            "                                                                 \n",
            "=================================================================\n",
            "Total params: 131\n",
            "Trainable params: 131\n",
            "Non-trainable params: 0\n",
            "_________________________________________________________________\n"
          ]
        }
      ]
    },
    {
      "cell_type": "code",
      "source": [
        "# Check the results in the test\n",
        "model_insurance.evaluate(X_test,y_test)"
      ],
      "metadata": {
        "colab": {
          "base_uri": "https://localhost:8080/"
        },
        "id": "ny3y5UDR2vkT",
        "outputId": "d6c40e5a-c220-4e43-ddca-2299be89fc40"
      },
      "execution_count": null,
      "outputs": [
        {
          "output_type": "stream",
          "name": "stdout",
          "text": [
            "9/9 [==============================] - 0s 3ms/step - loss: 7023.3281 - mae: 7023.3281\n"
          ]
        },
        {
          "output_type": "execute_result",
          "data": {
            "text/plain": [
              "[7023.328125, 7023.328125]"
            ]
          },
          "metadata": {},
          "execution_count": 13
        }
      ]
    },
    {
      "cell_type": "code",
      "source": [
        "y_train.median(), y_train.mean()"
      ],
      "metadata": {
        "colab": {
          "base_uri": "https://localhost:8080/"
        },
        "id": "BavrF3T_3OSf",
        "outputId": "d309ebf9-cb2c-46c8-fe1b-fd70afedbf8b"
      },
      "execution_count": null,
      "outputs": [
        {
          "output_type": "execute_result",
          "data": {
            "text/plain": [
              "(9575.4421, 13346.089736364489)"
            ]
          },
          "metadata": {},
          "execution_count": 14
        }
      ]
    },
    {
      "cell_type": "code",
      "source": [
        "# # Check the results in test\n",
        "# y_preds_insurance=model_insurance.predict(X_test)\n",
        "\n",
        "# mae_insurance = mae(y_preds_insurance, y_test)\n",
        "# mse_insurance = mse(y_preds_insurance, y_test)\n",
        "\n",
        "\n",
        "# # mae_insurance, mse_insurance \n",
        "\n",
        "# y_preds_insurance"
      ],
      "metadata": {
        "id": "rkqhnDDEuhIt"
      },
      "execution_count": null,
      "outputs": []
    },
    {
      "cell_type": "markdown",
      "source": [
        "#### Try Improvement of Model\n",
        "\n",
        "Try 1:\n",
        "1. Add one extra hidden layer and use adam optimizer\n",
        "2. Train for longer"
      ],
      "metadata": {
        "id": "SICz_Xp6u__K"
      }
    },
    {
      "cell_type": "code",
      "source": [
        "# RAndom seed\n",
        "tf.random.set_seed(42)\n",
        "\n",
        "#1. Create a model\n",
        "insurance_model_2= tf.keras.Sequential([\n",
        "        tf.keras.layers.Dense(100),\n",
        "        tf.keras.layers.Dense(10),\n",
        "        tf.keras.layers.Dense(1)\n",
        "])\n",
        "\n",
        "#2. Compile the model \n",
        "insurance_model_2.compile(loss=tf.keras.losses.mae,\n",
        "                          optimizer=tf.keras.optimizers.Adam(),\n",
        "                          metrics=[\"mae\"])\n",
        "\n",
        "#3. Fit the model\n",
        "history=insurance_model_2.fit(X_train, y_train, epochs=300)"
      ],
      "metadata": {
        "colab": {
          "base_uri": "https://localhost:8080/"
        },
        "id": "kqoHuxAh3XJa",
        "outputId": "2c8f2559-dab7-4f69-e891-3d3c36497fbe"
      },
      "execution_count": null,
      "outputs": [
        {
          "output_type": "stream",
          "name": "stdout",
          "text": [
            "Epoch 1/300\n",
            "34/34 [==============================] - 1s 3ms/step - loss: 13273.1602 - mae: 13273.1602\n",
            "Epoch 2/300\n",
            "34/34 [==============================] - 0s 3ms/step - loss: 13104.4287 - mae: 13104.4287\n",
            "Epoch 3/300\n",
            "34/34 [==============================] - 0s 4ms/step - loss: 12749.5400 - mae: 12749.5400\n",
            "Epoch 4/300\n",
            "34/34 [==============================] - 0s 3ms/step - loss: 12055.7500 - mae: 12055.7500\n",
            "Epoch 5/300\n",
            "34/34 [==============================] - 0s 3ms/step - loss: 10905.8135 - mae: 10905.8135\n",
            "Epoch 6/300\n",
            "34/34 [==============================] - 0s 4ms/step - loss: 9457.7188 - mae: 9457.7188\n",
            "Epoch 7/300\n",
            "34/34 [==============================] - 0s 4ms/step - loss: 8147.6533 - mae: 8147.6533\n",
            "Epoch 8/300\n",
            "34/34 [==============================] - 0s 3ms/step - loss: 7528.8398 - mae: 7528.8398\n",
            "Epoch 9/300\n",
            "34/34 [==============================] - 0s 4ms/step - loss: 7429.1528 - mae: 7429.1528\n",
            "Epoch 10/300\n",
            "34/34 [==============================] - 0s 3ms/step - loss: 7409.0811 - mae: 7409.0811\n",
            "Epoch 11/300\n",
            "34/34 [==============================] - 0s 3ms/step - loss: 7390.8042 - mae: 7390.8042\n",
            "Epoch 12/300\n",
            "34/34 [==============================] - 0s 3ms/step - loss: 7368.9170 - mae: 7368.9170\n",
            "Epoch 13/300\n",
            "34/34 [==============================] - 0s 3ms/step - loss: 7348.5195 - mae: 7348.5195\n",
            "Epoch 14/300\n",
            "34/34 [==============================] - 0s 3ms/step - loss: 7326.4893 - mae: 7326.4893\n",
            "Epoch 15/300\n",
            "34/34 [==============================] - 0s 3ms/step - loss: 7307.5811 - mae: 7307.5811\n",
            "Epoch 16/300\n",
            "34/34 [==============================] - 0s 4ms/step - loss: 7285.7739 - mae: 7285.7739\n",
            "Epoch 17/300\n",
            "34/34 [==============================] - 0s 4ms/step - loss: 7265.7100 - mae: 7265.7100\n",
            "Epoch 18/300\n",
            "34/34 [==============================] - 0s 3ms/step - loss: 7242.5498 - mae: 7242.5498\n",
            "Epoch 19/300\n",
            "34/34 [==============================] - 0s 3ms/step - loss: 7220.5068 - mae: 7220.5068\n",
            "Epoch 20/300\n",
            "34/34 [==============================] - 0s 3ms/step - loss: 7197.1978 - mae: 7197.1978\n",
            "Epoch 21/300\n",
            "34/34 [==============================] - 0s 3ms/step - loss: 7179.0195 - mae: 7179.0195\n",
            "Epoch 22/300\n",
            "34/34 [==============================] - 0s 4ms/step - loss: 7151.2100 - mae: 7151.2100\n",
            "Epoch 23/300\n",
            "34/34 [==============================] - 0s 3ms/step - loss: 7126.4639 - mae: 7126.4639\n",
            "Epoch 24/300\n",
            "34/34 [==============================] - 0s 4ms/step - loss: 7101.9194 - mae: 7101.9194\n",
            "Epoch 25/300\n",
            "34/34 [==============================] - 0s 3ms/step - loss: 7084.3379 - mae: 7084.3379\n",
            "Epoch 26/300\n",
            "34/34 [==============================] - 0s 4ms/step - loss: 7052.3291 - mae: 7052.3291\n",
            "Epoch 27/300\n",
            "34/34 [==============================] - 0s 3ms/step - loss: 7024.3511 - mae: 7024.3511\n",
            "Epoch 28/300\n",
            "34/34 [==============================] - 0s 3ms/step - loss: 6996.6963 - mae: 6996.6963\n",
            "Epoch 29/300\n",
            "34/34 [==============================] - 0s 3ms/step - loss: 6969.0117 - mae: 6969.0117\n",
            "Epoch 30/300\n",
            "34/34 [==============================] - 0s 3ms/step - loss: 6942.1899 - mae: 6942.1899\n",
            "Epoch 31/300\n",
            "34/34 [==============================] - 0s 3ms/step - loss: 6911.7280 - mae: 6911.7280\n",
            "Epoch 32/300\n",
            "34/34 [==============================] - 0s 4ms/step - loss: 6884.0205 - mae: 6884.0205\n",
            "Epoch 33/300\n",
            "34/34 [==============================] - 0s 3ms/step - loss: 6853.4644 - mae: 6853.4644\n",
            "Epoch 34/300\n",
            "34/34 [==============================] - 0s 3ms/step - loss: 6823.0684 - mae: 6823.0684\n",
            "Epoch 35/300\n",
            "34/34 [==============================] - 0s 3ms/step - loss: 6789.6865 - mae: 6789.6865\n",
            "Epoch 36/300\n",
            "34/34 [==============================] - 0s 3ms/step - loss: 6755.7646 - mae: 6755.7646\n",
            "Epoch 37/300\n",
            "34/34 [==============================] - 0s 3ms/step - loss: 6720.2026 - mae: 6720.2026\n",
            "Epoch 38/300\n",
            "34/34 [==============================] - 0s 3ms/step - loss: 6689.7163 - mae: 6689.7163\n",
            "Epoch 39/300\n",
            "34/34 [==============================] - 0s 3ms/step - loss: 6652.4619 - mae: 6652.4619\n",
            "Epoch 40/300\n",
            "34/34 [==============================] - 0s 3ms/step - loss: 6618.1011 - mae: 6618.1011\n",
            "Epoch 41/300\n",
            "34/34 [==============================] - 0s 4ms/step - loss: 6585.8643 - mae: 6585.8643\n",
            "Epoch 42/300\n",
            "34/34 [==============================] - 0s 3ms/step - loss: 6559.4956 - mae: 6559.4956\n",
            "Epoch 43/300\n",
            "34/34 [==============================] - 0s 4ms/step - loss: 6530.0444 - mae: 6530.0444\n",
            "Epoch 44/300\n",
            "34/34 [==============================] - 0s 3ms/step - loss: 6506.8071 - mae: 6506.8071\n",
            "Epoch 45/300\n",
            "34/34 [==============================] - 0s 3ms/step - loss: 6493.5718 - mae: 6493.5718\n",
            "Epoch 46/300\n",
            "34/34 [==============================] - 0s 3ms/step - loss: 6475.9258 - mae: 6475.9258\n",
            "Epoch 47/300\n",
            "34/34 [==============================] - 0s 3ms/step - loss: 6458.8979 - mae: 6458.8979\n",
            "Epoch 48/300\n",
            "34/34 [==============================] - 0s 3ms/step - loss: 6445.1494 - mae: 6445.1494\n",
            "Epoch 49/300\n",
            "34/34 [==============================] - 0s 3ms/step - loss: 6430.9639 - mae: 6430.9639\n",
            "Epoch 50/300\n",
            "34/34 [==============================] - 0s 3ms/step - loss: 6417.7510 - mae: 6417.7510\n",
            "Epoch 51/300\n",
            "34/34 [==============================] - 0s 3ms/step - loss: 6403.2764 - mae: 6403.2764\n",
            "Epoch 52/300\n",
            "34/34 [==============================] - 0s 3ms/step - loss: 6392.4141 - mae: 6392.4141\n",
            "Epoch 53/300\n",
            "34/34 [==============================] - 0s 3ms/step - loss: 6378.7456 - mae: 6378.7456\n",
            "Epoch 54/300\n",
            "34/34 [==============================] - 0s 3ms/step - loss: 6364.9131 - mae: 6364.9131\n",
            "Epoch 55/300\n",
            "34/34 [==============================] - 0s 3ms/step - loss: 6351.5273 - mae: 6351.5273\n",
            "Epoch 56/300\n",
            "34/34 [==============================] - 0s 4ms/step - loss: 6337.6606 - mae: 6337.6606\n",
            "Epoch 57/300\n",
            "34/34 [==============================] - 0s 3ms/step - loss: 6324.8369 - mae: 6324.8369\n",
            "Epoch 58/300\n",
            "34/34 [==============================] - 0s 3ms/step - loss: 6310.1948 - mae: 6310.1948\n",
            "Epoch 59/300\n",
            "34/34 [==============================] - 0s 4ms/step - loss: 6295.6035 - mae: 6295.6035\n",
            "Epoch 60/300\n",
            "34/34 [==============================] - 0s 3ms/step - loss: 6284.8696 - mae: 6284.8696\n",
            "Epoch 61/300\n",
            "34/34 [==============================] - 0s 4ms/step - loss: 6265.6416 - mae: 6265.6416\n",
            "Epoch 62/300\n",
            "34/34 [==============================] - 0s 3ms/step - loss: 6253.0103 - mae: 6253.0103\n",
            "Epoch 63/300\n",
            "34/34 [==============================] - 0s 3ms/step - loss: 6234.9292 - mae: 6234.9292\n",
            "Epoch 64/300\n",
            "34/34 [==============================] - 0s 3ms/step - loss: 6218.0435 - mae: 6218.0435\n",
            "Epoch 65/300\n",
            "34/34 [==============================] - 0s 3ms/step - loss: 6201.1899 - mae: 6201.1899\n",
            "Epoch 66/300\n",
            "34/34 [==============================] - 0s 4ms/step - loss: 6183.9595 - mae: 6183.9595\n",
            "Epoch 67/300\n",
            "34/34 [==============================] - 0s 3ms/step - loss: 6171.2998 - mae: 6171.2998\n",
            "Epoch 68/300\n",
            "34/34 [==============================] - 0s 3ms/step - loss: 6148.8403 - mae: 6148.8403\n",
            "Epoch 69/300\n",
            "34/34 [==============================] - 0s 4ms/step - loss: 6132.5991 - mae: 6132.5991\n",
            "Epoch 70/300\n",
            "34/34 [==============================] - 0s 3ms/step - loss: 6112.3853 - mae: 6112.3853\n",
            "Epoch 71/300\n",
            "34/34 [==============================] - 0s 3ms/step - loss: 6092.7207 - mae: 6092.7207\n",
            "Epoch 72/300\n",
            "34/34 [==============================] - 0s 3ms/step - loss: 6073.7422 - mae: 6073.7422\n",
            "Epoch 73/300\n",
            "34/34 [==============================] - 0s 3ms/step - loss: 6059.4883 - mae: 6059.4883\n",
            "Epoch 74/300\n",
            "34/34 [==============================] - 0s 3ms/step - loss: 6031.3857 - mae: 6031.3857\n",
            "Epoch 75/300\n",
            "34/34 [==============================] - 0s 3ms/step - loss: 6010.3354 - mae: 6010.3354\n",
            "Epoch 76/300\n",
            "34/34 [==============================] - 0s 3ms/step - loss: 5995.2188 - mae: 5995.2188\n",
            "Epoch 77/300\n",
            "34/34 [==============================] - 0s 3ms/step - loss: 5963.0718 - mae: 5963.0718\n",
            "Epoch 78/300\n",
            "34/34 [==============================] - 0s 3ms/step - loss: 5940.0610 - mae: 5940.0610\n",
            "Epoch 79/300\n",
            "34/34 [==============================] - 0s 3ms/step - loss: 5915.1064 - mae: 5915.1064\n",
            "Epoch 80/300\n",
            "34/34 [==============================] - 0s 3ms/step - loss: 5887.9995 - mae: 5887.9995\n",
            "Epoch 81/300\n",
            "34/34 [==============================] - 0s 3ms/step - loss: 5861.6992 - mae: 5861.6992\n",
            "Epoch 82/300\n",
            "34/34 [==============================] - 0s 3ms/step - loss: 5834.3081 - mae: 5834.3081\n",
            "Epoch 83/300\n",
            "34/34 [==============================] - 0s 4ms/step - loss: 5805.8242 - mae: 5805.8242\n",
            "Epoch 84/300\n",
            "34/34 [==============================] - 0s 3ms/step - loss: 5772.3237 - mae: 5772.3237\n",
            "Epoch 85/300\n",
            "34/34 [==============================] - 0s 4ms/step - loss: 5745.1519 - mae: 5745.1519\n",
            "Epoch 86/300\n",
            "34/34 [==============================] - 0s 3ms/step - loss: 5711.3491 - mae: 5711.3491\n",
            "Epoch 87/300\n",
            "34/34 [==============================] - 0s 3ms/step - loss: 5674.5220 - mae: 5674.5220\n",
            "Epoch 88/300\n",
            "34/34 [==============================] - 0s 4ms/step - loss: 5639.4932 - mae: 5639.4932\n",
            "Epoch 89/300\n",
            "34/34 [==============================] - 0s 3ms/step - loss: 5600.6665 - mae: 5600.6665\n",
            "Epoch 90/300\n",
            "34/34 [==============================] - 0s 3ms/step - loss: 5559.4326 - mae: 5559.4326\n",
            "Epoch 91/300\n",
            "34/34 [==============================] - 0s 4ms/step - loss: 5523.6196 - mae: 5523.6196\n",
            "Epoch 92/300\n",
            "34/34 [==============================] - 0s 3ms/step - loss: 5474.1260 - mae: 5474.1260\n",
            "Epoch 93/300\n",
            "34/34 [==============================] - 0s 3ms/step - loss: 5432.2661 - mae: 5432.2661\n",
            "Epoch 94/300\n",
            "34/34 [==============================] - 0s 3ms/step - loss: 5386.0532 - mae: 5386.0532\n",
            "Epoch 95/300\n",
            "34/34 [==============================] - 0s 3ms/step - loss: 5333.1812 - mae: 5333.1812\n",
            "Epoch 96/300\n",
            "34/34 [==============================] - 0s 3ms/step - loss: 5288.8169 - mae: 5288.8169\n",
            "Epoch 97/300\n",
            "34/34 [==============================] - 0s 3ms/step - loss: 5234.6797 - mae: 5234.6797\n",
            "Epoch 98/300\n",
            "34/34 [==============================] - 0s 3ms/step - loss: 5170.9375 - mae: 5170.9375\n",
            "Epoch 99/300\n",
            "34/34 [==============================] - 0s 4ms/step - loss: 5112.9453 - mae: 5112.9453\n",
            "Epoch 100/300\n",
            "34/34 [==============================] - 0s 4ms/step - loss: 5060.0874 - mae: 5060.0874\n",
            "Epoch 101/300\n",
            "34/34 [==============================] - 0s 4ms/step - loss: 4987.7427 - mae: 4987.7427\n",
            "Epoch 102/300\n",
            "34/34 [==============================] - 0s 3ms/step - loss: 4915.4482 - mae: 4915.4482\n",
            "Epoch 103/300\n",
            "34/34 [==============================] - 0s 3ms/step - loss: 4847.4873 - mae: 4847.4873\n",
            "Epoch 104/300\n",
            "34/34 [==============================] - 0s 4ms/step - loss: 4768.1816 - mae: 4768.1816\n",
            "Epoch 105/300\n",
            "34/34 [==============================] - 0s 3ms/step - loss: 4683.4653 - mae: 4683.4653\n",
            "Epoch 106/300\n",
            "34/34 [==============================] - 0s 3ms/step - loss: 4601.2075 - mae: 4601.2075\n",
            "Epoch 107/300\n",
            "34/34 [==============================] - 0s 4ms/step - loss: 4513.4639 - mae: 4513.4639\n",
            "Epoch 108/300\n",
            "34/34 [==============================] - 0s 4ms/step - loss: 4423.5952 - mae: 4423.5952\n",
            "Epoch 109/300\n",
            "34/34 [==============================] - 0s 3ms/step - loss: 4339.2173 - mae: 4339.2173\n",
            "Epoch 110/300\n",
            "34/34 [==============================] - 0s 4ms/step - loss: 4255.7876 - mae: 4255.7876\n",
            "Epoch 111/300\n",
            "34/34 [==============================] - 0s 3ms/step - loss: 4174.8779 - mae: 4174.8779\n",
            "Epoch 112/300\n",
            "34/34 [==============================] - 0s 3ms/step - loss: 4101.4253 - mae: 4101.4253\n",
            "Epoch 113/300\n",
            "34/34 [==============================] - 0s 3ms/step - loss: 4031.7214 - mae: 4031.7214\n",
            "Epoch 114/300\n",
            "34/34 [==============================] - 0s 4ms/step - loss: 3986.9094 - mae: 3986.9094\n",
            "Epoch 115/300\n",
            "34/34 [==============================] - 0s 3ms/step - loss: 3944.5925 - mae: 3944.5925\n",
            "Epoch 116/300\n",
            "34/34 [==============================] - 0s 4ms/step - loss: 3918.6155 - mae: 3918.6155\n",
            "Epoch 117/300\n",
            "34/34 [==============================] - 0s 3ms/step - loss: 3896.7400 - mae: 3896.7400\n",
            "Epoch 118/300\n",
            "34/34 [==============================] - 0s 3ms/step - loss: 3872.1240 - mae: 3872.1240\n",
            "Epoch 119/300\n",
            "34/34 [==============================] - 0s 3ms/step - loss: 3851.9661 - mae: 3851.9661\n",
            "Epoch 120/300\n",
            "34/34 [==============================] - 0s 3ms/step - loss: 3835.4458 - mae: 3835.4458\n",
            "Epoch 121/300\n",
            "34/34 [==============================] - 0s 3ms/step - loss: 3829.4529 - mae: 3829.4529\n",
            "Epoch 122/300\n",
            "34/34 [==============================] - 0s 3ms/step - loss: 3822.5408 - mae: 3822.5408\n",
            "Epoch 123/300\n",
            "34/34 [==============================] - 0s 4ms/step - loss: 3814.8994 - mae: 3814.8994\n",
            "Epoch 124/300\n",
            "34/34 [==============================] - 0s 4ms/step - loss: 3806.8062 - mae: 3806.8062\n",
            "Epoch 125/300\n",
            "34/34 [==============================] - 0s 3ms/step - loss: 3795.5425 - mae: 3795.5425\n",
            "Epoch 126/300\n",
            "34/34 [==============================] - 0s 4ms/step - loss: 3807.1846 - mae: 3807.1846\n",
            "Epoch 127/300\n",
            "34/34 [==============================] - 0s 3ms/step - loss: 3797.8484 - mae: 3797.8484\n",
            "Epoch 128/300\n",
            "34/34 [==============================] - 0s 3ms/step - loss: 3791.7207 - mae: 3791.7207\n",
            "Epoch 129/300\n",
            "34/34 [==============================] - 0s 3ms/step - loss: 3802.8037 - mae: 3802.8037\n",
            "Epoch 130/300\n",
            "34/34 [==============================] - 0s 4ms/step - loss: 3789.7969 - mae: 3789.7969\n",
            "Epoch 131/300\n",
            "34/34 [==============================] - 0s 3ms/step - loss: 3781.4001 - mae: 3781.4001\n",
            "Epoch 132/300\n",
            "34/34 [==============================] - 0s 4ms/step - loss: 3774.9463 - mae: 3774.9463\n",
            "Epoch 133/300\n",
            "34/34 [==============================] - 0s 3ms/step - loss: 3770.7559 - mae: 3770.7559\n",
            "Epoch 134/300\n",
            "34/34 [==============================] - 0s 3ms/step - loss: 3769.5464 - mae: 3769.5464\n",
            "Epoch 135/300\n",
            "34/34 [==============================] - 0s 3ms/step - loss: 3767.2349 - mae: 3767.2349\n",
            "Epoch 136/300\n",
            "34/34 [==============================] - 0s 3ms/step - loss: 3766.0596 - mae: 3766.0596\n",
            "Epoch 137/300\n",
            "34/34 [==============================] - 0s 4ms/step - loss: 3775.8567 - mae: 3775.8567\n",
            "Epoch 138/300\n",
            "34/34 [==============================] - 0s 3ms/step - loss: 3783.4233 - mae: 3783.4233\n",
            "Epoch 139/300\n",
            "34/34 [==============================] - 0s 3ms/step - loss: 3761.3586 - mae: 3761.3586\n",
            "Epoch 140/300\n",
            "34/34 [==============================] - 0s 4ms/step - loss: 3762.6267 - mae: 3762.6267\n",
            "Epoch 141/300\n",
            "34/34 [==============================] - 0s 4ms/step - loss: 3763.7031 - mae: 3763.7031\n",
            "Epoch 142/300\n",
            "34/34 [==============================] - 0s 3ms/step - loss: 3765.6418 - mae: 3765.6418\n",
            "Epoch 143/300\n",
            "34/34 [==============================] - 0s 4ms/step - loss: 3755.0134 - mae: 3755.0134\n",
            "Epoch 144/300\n",
            "34/34 [==============================] - 0s 3ms/step - loss: 3750.5750 - mae: 3750.5750\n",
            "Epoch 145/300\n",
            "34/34 [==============================] - 0s 4ms/step - loss: 3751.1663 - mae: 3751.1663\n",
            "Epoch 146/300\n",
            "34/34 [==============================] - 0s 4ms/step - loss: 3756.9319 - mae: 3756.9319\n",
            "Epoch 147/300\n",
            "34/34 [==============================] - 0s 3ms/step - loss: 3751.6331 - mae: 3751.6331\n",
            "Epoch 148/300\n",
            "34/34 [==============================] - 0s 4ms/step - loss: 3756.2720 - mae: 3756.2720\n",
            "Epoch 149/300\n",
            "34/34 [==============================] - 0s 4ms/step - loss: 3743.5862 - mae: 3743.5862\n",
            "Epoch 150/300\n",
            "34/34 [==============================] - 0s 4ms/step - loss: 3738.7124 - mae: 3738.7124\n",
            "Epoch 151/300\n",
            "34/34 [==============================] - 0s 3ms/step - loss: 3741.1475 - mae: 3741.1475\n",
            "Epoch 152/300\n",
            "34/34 [==============================] - 0s 3ms/step - loss: 3742.1658 - mae: 3742.1658\n",
            "Epoch 153/300\n",
            "34/34 [==============================] - 0s 4ms/step - loss: 3743.0059 - mae: 3743.0059\n",
            "Epoch 154/300\n",
            "34/34 [==============================] - 0s 3ms/step - loss: 3737.0342 - mae: 3737.0342\n",
            "Epoch 155/300\n",
            "34/34 [==============================] - 0s 4ms/step - loss: 3737.9741 - mae: 3737.9741\n",
            "Epoch 156/300\n",
            "34/34 [==============================] - 0s 4ms/step - loss: 3736.7346 - mae: 3736.7346\n",
            "Epoch 157/300\n",
            "34/34 [==============================] - 0s 3ms/step - loss: 3732.5813 - mae: 3732.5813\n",
            "Epoch 158/300\n",
            "34/34 [==============================] - 0s 3ms/step - loss: 3729.4280 - mae: 3729.4280\n",
            "Epoch 159/300\n",
            "34/34 [==============================] - 0s 4ms/step - loss: 3728.5610 - mae: 3728.5610\n",
            "Epoch 160/300\n",
            "34/34 [==============================] - 0s 3ms/step - loss: 3733.9954 - mae: 3733.9954\n",
            "Epoch 161/300\n",
            "34/34 [==============================] - 0s 3ms/step - loss: 3728.1082 - mae: 3728.1082\n",
            "Epoch 162/300\n",
            "34/34 [==============================] - 0s 3ms/step - loss: 3725.3667 - mae: 3725.3667\n",
            "Epoch 163/300\n",
            "34/34 [==============================] - 0s 4ms/step - loss: 3722.9509 - mae: 3722.9509\n",
            "Epoch 164/300\n",
            "34/34 [==============================] - 0s 4ms/step - loss: 3727.0618 - mae: 3727.0618\n",
            "Epoch 165/300\n",
            "34/34 [==============================] - 0s 3ms/step - loss: 3717.6619 - mae: 3717.6619\n",
            "Epoch 166/300\n",
            "34/34 [==============================] - 0s 3ms/step - loss: 3720.3694 - mae: 3720.3694\n",
            "Epoch 167/300\n",
            "34/34 [==============================] - 0s 4ms/step - loss: 3720.2910 - mae: 3720.2910\n",
            "Epoch 168/300\n",
            "34/34 [==============================] - 0s 4ms/step - loss: 3717.2761 - mae: 3717.2761\n",
            "Epoch 169/300\n",
            "34/34 [==============================] - 0s 3ms/step - loss: 3713.5610 - mae: 3713.5610\n",
            "Epoch 170/300\n",
            "34/34 [==============================] - 0s 3ms/step - loss: 3708.0085 - mae: 3708.0085\n",
            "Epoch 171/300\n",
            "34/34 [==============================] - 0s 3ms/step - loss: 3707.6399 - mae: 3707.6399\n",
            "Epoch 172/300\n",
            "34/34 [==============================] - 0s 4ms/step - loss: 3709.0312 - mae: 3709.0312\n",
            "Epoch 173/300\n",
            "34/34 [==============================] - 0s 3ms/step - loss: 3705.1497 - mae: 3705.1497\n",
            "Epoch 174/300\n",
            "34/34 [==============================] - 0s 3ms/step - loss: 3709.5408 - mae: 3709.5408\n",
            "Epoch 175/300\n",
            "34/34 [==============================] - 0s 4ms/step - loss: 3710.9670 - mae: 3710.9670\n",
            "Epoch 176/300\n",
            "34/34 [==============================] - 0s 3ms/step - loss: 3706.6677 - mae: 3706.6677\n",
            "Epoch 177/300\n",
            "34/34 [==============================] - 0s 3ms/step - loss: 3698.9155 - mae: 3698.9155\n",
            "Epoch 178/300\n",
            "34/34 [==============================] - 0s 3ms/step - loss: 3695.3816 - mae: 3695.3816\n",
            "Epoch 179/300\n",
            "34/34 [==============================] - 0s 4ms/step - loss: 3706.8621 - mae: 3706.8621\n",
            "Epoch 180/300\n",
            "34/34 [==============================] - 0s 4ms/step - loss: 3709.3879 - mae: 3709.3879\n",
            "Epoch 181/300\n",
            "34/34 [==============================] - 0s 4ms/step - loss: 3695.9614 - mae: 3695.9614\n",
            "Epoch 182/300\n",
            "34/34 [==============================] - 0s 4ms/step - loss: 3693.4851 - mae: 3693.4851\n",
            "Epoch 183/300\n",
            "34/34 [==============================] - 0s 3ms/step - loss: 3691.5906 - mae: 3691.5906\n",
            "Epoch 184/300\n",
            "34/34 [==============================] - 0s 3ms/step - loss: 3697.9917 - mae: 3697.9917\n",
            "Epoch 185/300\n",
            "34/34 [==============================] - 0s 4ms/step - loss: 3692.3057 - mae: 3692.3057\n",
            "Epoch 186/300\n",
            "34/34 [==============================] - 0s 4ms/step - loss: 3695.7458 - mae: 3695.7458\n",
            "Epoch 187/300\n",
            "34/34 [==============================] - 0s 3ms/step - loss: 3688.8062 - mae: 3688.8062\n",
            "Epoch 188/300\n",
            "34/34 [==============================] - 0s 4ms/step - loss: 3693.3767 - mae: 3693.3767\n",
            "Epoch 189/300\n",
            "34/34 [==============================] - 0s 4ms/step - loss: 3684.3003 - mae: 3684.3003\n",
            "Epoch 190/300\n",
            "34/34 [==============================] - 0s 3ms/step - loss: 3682.4170 - mae: 3682.4170\n",
            "Epoch 191/300\n",
            "34/34 [==============================] - 0s 3ms/step - loss: 3701.8777 - mae: 3701.8777\n",
            "Epoch 192/300\n",
            "34/34 [==============================] - 0s 4ms/step - loss: 3685.1748 - mae: 3685.1748\n",
            "Epoch 193/300\n",
            "34/34 [==============================] - 0s 4ms/step - loss: 3674.1245 - mae: 3674.1245\n",
            "Epoch 194/300\n",
            "34/34 [==============================] - 0s 3ms/step - loss: 3674.9353 - mae: 3674.9353\n",
            "Epoch 195/300\n",
            "34/34 [==============================] - 0s 4ms/step - loss: 3672.9138 - mae: 3672.9138\n",
            "Epoch 196/300\n",
            "34/34 [==============================] - 0s 4ms/step - loss: 3681.3555 - mae: 3681.3555\n",
            "Epoch 197/300\n",
            "34/34 [==============================] - 0s 3ms/step - loss: 3666.5703 - mae: 3666.5703\n",
            "Epoch 198/300\n",
            "34/34 [==============================] - 0s 4ms/step - loss: 3672.4158 - mae: 3672.4158\n",
            "Epoch 199/300\n",
            "34/34 [==============================] - 0s 3ms/step - loss: 3680.3145 - mae: 3680.3145\n",
            "Epoch 200/300\n",
            "34/34 [==============================] - 0s 4ms/step - loss: 3668.1567 - mae: 3668.1567\n",
            "Epoch 201/300\n",
            "34/34 [==============================] - 0s 4ms/step - loss: 3666.3308 - mae: 3666.3308\n",
            "Epoch 202/300\n",
            "34/34 [==============================] - 0s 3ms/step - loss: 3666.9375 - mae: 3666.9375\n",
            "Epoch 203/300\n",
            "34/34 [==============================] - 0s 3ms/step - loss: 3664.3235 - mae: 3664.3235\n",
            "Epoch 204/300\n",
            "34/34 [==============================] - 0s 4ms/step - loss: 3655.3020 - mae: 3655.3020\n",
            "Epoch 205/300\n",
            "34/34 [==============================] - 0s 3ms/step - loss: 3663.1963 - mae: 3663.1963\n",
            "Epoch 206/300\n",
            "34/34 [==============================] - 0s 4ms/step - loss: 3657.7798 - mae: 3657.7798\n",
            "Epoch 207/300\n",
            "34/34 [==============================] - 0s 4ms/step - loss: 3657.6453 - mae: 3657.6453\n",
            "Epoch 208/300\n",
            "34/34 [==============================] - 0s 3ms/step - loss: 3653.1609 - mae: 3653.1609\n",
            "Epoch 209/300\n",
            "34/34 [==============================] - 0s 4ms/step - loss: 3652.9924 - mae: 3652.9924\n",
            "Epoch 210/300\n",
            "34/34 [==============================] - 0s 4ms/step - loss: 3658.3430 - mae: 3658.3430\n",
            "Epoch 211/300\n",
            "34/34 [==============================] - 0s 3ms/step - loss: 3651.9136 - mae: 3651.9136\n",
            "Epoch 212/300\n",
            "34/34 [==============================] - 0s 4ms/step - loss: 3667.4397 - mae: 3667.4397\n",
            "Epoch 213/300\n",
            "34/34 [==============================] - 0s 3ms/step - loss: 3656.4399 - mae: 3656.4399\n",
            "Epoch 214/300\n",
            "34/34 [==============================] - 0s 3ms/step - loss: 3677.7415 - mae: 3677.7415\n",
            "Epoch 215/300\n",
            "34/34 [==============================] - 0s 3ms/step - loss: 3651.9272 - mae: 3651.9272\n",
            "Epoch 216/300\n",
            "34/34 [==============================] - 0s 4ms/step - loss: 3644.4092 - mae: 3644.4092\n",
            "Epoch 217/300\n",
            "34/34 [==============================] - 0s 4ms/step - loss: 3646.0906 - mae: 3646.0906\n",
            "Epoch 218/300\n",
            "34/34 [==============================] - 0s 4ms/step - loss: 3642.5212 - mae: 3642.5212\n",
            "Epoch 219/300\n",
            "34/34 [==============================] - 0s 4ms/step - loss: 3648.4817 - mae: 3648.4817\n",
            "Epoch 220/300\n",
            "34/34 [==============================] - 0s 4ms/step - loss: 3637.4031 - mae: 3637.4031\n",
            "Epoch 221/300\n",
            "34/34 [==============================] - 0s 4ms/step - loss: 3638.4221 - mae: 3638.4221\n",
            "Epoch 222/300\n",
            "34/34 [==============================] - 0s 4ms/step - loss: 3646.1248 - mae: 3646.1248\n",
            "Epoch 223/300\n",
            "34/34 [==============================] - 0s 4ms/step - loss: 3634.4280 - mae: 3634.4280\n",
            "Epoch 224/300\n",
            "34/34 [==============================] - 0s 4ms/step - loss: 3635.6528 - mae: 3635.6528\n",
            "Epoch 225/300\n",
            "34/34 [==============================] - 0s 4ms/step - loss: 3632.8652 - mae: 3632.8652\n",
            "Epoch 226/300\n",
            "34/34 [==============================] - 0s 4ms/step - loss: 3626.3130 - mae: 3626.3130\n",
            "Epoch 227/300\n",
            "34/34 [==============================] - 0s 4ms/step - loss: 3621.7319 - mae: 3621.7319\n",
            "Epoch 228/300\n",
            "34/34 [==============================] - 0s 4ms/step - loss: 3629.4231 - mae: 3629.4231\n",
            "Epoch 229/300\n",
            "34/34 [==============================] - 0s 4ms/step - loss: 3635.1113 - mae: 3635.1113\n",
            "Epoch 230/300\n",
            "34/34 [==============================] - 0s 4ms/step - loss: 3617.1777 - mae: 3617.1777\n",
            "Epoch 231/300\n",
            "34/34 [==============================] - 0s 4ms/step - loss: 3615.0081 - mae: 3615.0081\n",
            "Epoch 232/300\n",
            "34/34 [==============================] - 0s 4ms/step - loss: 3612.9307 - mae: 3612.9307\n",
            "Epoch 233/300\n",
            "34/34 [==============================] - 0s 4ms/step - loss: 3610.7583 - mae: 3610.7583\n",
            "Epoch 234/300\n",
            "34/34 [==============================] - 0s 4ms/step - loss: 3619.5615 - mae: 3619.5615\n",
            "Epoch 235/300\n",
            "34/34 [==============================] - 0s 4ms/step - loss: 3624.1367 - mae: 3624.1367\n",
            "Epoch 236/300\n",
            "34/34 [==============================] - 0s 4ms/step - loss: 3613.1226 - mae: 3613.1226\n",
            "Epoch 237/300\n",
            "34/34 [==============================] - 0s 3ms/step - loss: 3617.4788 - mae: 3617.4788\n",
            "Epoch 238/300\n",
            "34/34 [==============================] - 0s 4ms/step - loss: 3597.5608 - mae: 3597.5608\n",
            "Epoch 239/300\n",
            "34/34 [==============================] - 0s 4ms/step - loss: 3608.1821 - mae: 3608.1821\n",
            "Epoch 240/300\n",
            "34/34 [==============================] - 0s 4ms/step - loss: 3604.1812 - mae: 3604.1812\n",
            "Epoch 241/300\n",
            "34/34 [==============================] - 0s 4ms/step - loss: 3598.7773 - mae: 3598.7773\n",
            "Epoch 242/300\n",
            "34/34 [==============================] - 0s 4ms/step - loss: 3596.0942 - mae: 3596.0942\n",
            "Epoch 243/300\n",
            "34/34 [==============================] - 0s 4ms/step - loss: 3592.0955 - mae: 3592.0955\n",
            "Epoch 244/300\n",
            "34/34 [==============================] - 0s 3ms/step - loss: 3606.4678 - mae: 3606.4678\n",
            "Epoch 245/300\n",
            "34/34 [==============================] - 0s 4ms/step - loss: 3591.5386 - mae: 3591.5386\n",
            "Epoch 246/300\n",
            "34/34 [==============================] - 0s 4ms/step - loss: 3586.4485 - mae: 3586.4485\n",
            "Epoch 247/300\n",
            "34/34 [==============================] - 0s 4ms/step - loss: 3583.7664 - mae: 3583.7664\n",
            "Epoch 248/300\n",
            "34/34 [==============================] - 0s 4ms/step - loss: 3599.2007 - mae: 3599.2007\n",
            "Epoch 249/300\n",
            "34/34 [==============================] - 0s 4ms/step - loss: 3583.4297 - mae: 3583.4297\n",
            "Epoch 250/300\n",
            "34/34 [==============================] - 0s 4ms/step - loss: 3578.5381 - mae: 3578.5381\n",
            "Epoch 251/300\n",
            "34/34 [==============================] - 0s 4ms/step - loss: 3577.0000 - mae: 3577.0000\n",
            "Epoch 252/300\n",
            "34/34 [==============================] - 0s 3ms/step - loss: 3580.4485 - mae: 3580.4485\n",
            "Epoch 253/300\n",
            "34/34 [==============================] - 0s 4ms/step - loss: 3573.5864 - mae: 3573.5864\n",
            "Epoch 254/300\n",
            "34/34 [==============================] - 0s 4ms/step - loss: 3571.5078 - mae: 3571.5078\n",
            "Epoch 255/300\n",
            "34/34 [==============================] - 0s 4ms/step - loss: 3568.9036 - mae: 3568.9036\n",
            "Epoch 256/300\n",
            "34/34 [==============================] - 0s 4ms/step - loss: 3570.3928 - mae: 3570.3928\n",
            "Epoch 257/300\n",
            "34/34 [==============================] - 0s 4ms/step - loss: 3570.6450 - mae: 3570.6450\n",
            "Epoch 258/300\n",
            "34/34 [==============================] - 0s 4ms/step - loss: 3589.4768 - mae: 3589.4768\n",
            "Epoch 259/300\n",
            "34/34 [==============================] - 0s 4ms/step - loss: 3562.0237 - mae: 3562.0237\n",
            "Epoch 260/300\n",
            "34/34 [==============================] - 0s 4ms/step - loss: 3565.7744 - mae: 3565.7744\n",
            "Epoch 261/300\n",
            "34/34 [==============================] - 0s 3ms/step - loss: 3564.6875 - mae: 3564.6875\n",
            "Epoch 262/300\n",
            "34/34 [==============================] - 0s 4ms/step - loss: 3558.7058 - mae: 3558.7058\n",
            "Epoch 263/300\n",
            "34/34 [==============================] - 0s 4ms/step - loss: 3559.7395 - mae: 3559.7395\n",
            "Epoch 264/300\n",
            "34/34 [==============================] - 0s 4ms/step - loss: 3561.2422 - mae: 3561.2422\n",
            "Epoch 265/300\n",
            "34/34 [==============================] - 0s 4ms/step - loss: 3558.8181 - mae: 3558.8181\n",
            "Epoch 266/300\n",
            "34/34 [==============================] - 0s 4ms/step - loss: 3557.7285 - mae: 3557.7285\n",
            "Epoch 267/300\n",
            "34/34 [==============================] - 0s 4ms/step - loss: 3561.9951 - mae: 3561.9951\n",
            "Epoch 268/300\n",
            "34/34 [==============================] - 0s 3ms/step - loss: 3550.0403 - mae: 3550.0403\n",
            "Epoch 269/300\n",
            "34/34 [==============================] - 0s 4ms/step - loss: 3557.5984 - mae: 3557.5984\n",
            "Epoch 270/300\n",
            "34/34 [==============================] - 0s 3ms/step - loss: 3545.9810 - mae: 3545.9810\n",
            "Epoch 271/300\n",
            "34/34 [==============================] - 0s 4ms/step - loss: 3548.4001 - mae: 3548.4001\n",
            "Epoch 272/300\n",
            "34/34 [==============================] - 0s 4ms/step - loss: 3542.8303 - mae: 3542.8303\n",
            "Epoch 273/300\n",
            "34/34 [==============================] - 0s 4ms/step - loss: 3543.6746 - mae: 3543.6746\n",
            "Epoch 274/300\n",
            "34/34 [==============================] - 0s 4ms/step - loss: 3540.9963 - mae: 3540.9963\n",
            "Epoch 275/300\n",
            "34/34 [==============================] - 0s 3ms/step - loss: 3540.0596 - mae: 3540.0596\n",
            "Epoch 276/300\n",
            "34/34 [==============================] - 0s 4ms/step - loss: 3541.9219 - mae: 3541.9219\n",
            "Epoch 277/300\n",
            "34/34 [==============================] - 0s 4ms/step - loss: 3538.5476 - mae: 3538.5476\n",
            "Epoch 278/300\n",
            "34/34 [==============================] - 0s 4ms/step - loss: 3538.7588 - mae: 3538.7588\n",
            "Epoch 279/300\n",
            "34/34 [==============================] - 0s 4ms/step - loss: 3545.0630 - mae: 3545.0630\n",
            "Epoch 280/300\n",
            "34/34 [==============================] - 0s 4ms/step - loss: 3531.7361 - mae: 3531.7361\n",
            "Epoch 281/300\n",
            "34/34 [==============================] - 0s 4ms/step - loss: 3540.1760 - mae: 3540.1760\n",
            "Epoch 282/300\n",
            "34/34 [==============================] - 0s 4ms/step - loss: 3530.4587 - mae: 3530.4587\n",
            "Epoch 283/300\n",
            "34/34 [==============================] - 0s 4ms/step - loss: 3537.4697 - mae: 3537.4697\n",
            "Epoch 284/300\n",
            "34/34 [==============================] - 0s 3ms/step - loss: 3529.1868 - mae: 3529.1868\n",
            "Epoch 285/300\n",
            "34/34 [==============================] - 0s 4ms/step - loss: 3532.1785 - mae: 3532.1785\n",
            "Epoch 286/300\n",
            "34/34 [==============================] - 0s 4ms/step - loss: 3523.2847 - mae: 3523.2847\n",
            "Epoch 287/300\n",
            "34/34 [==============================] - 0s 4ms/step - loss: 3522.3088 - mae: 3522.3088\n",
            "Epoch 288/300\n",
            "34/34 [==============================] - 0s 4ms/step - loss: 3521.5957 - mae: 3521.5957\n",
            "Epoch 289/300\n",
            "34/34 [==============================] - 0s 4ms/step - loss: 3522.3752 - mae: 3522.3752\n",
            "Epoch 290/300\n",
            "34/34 [==============================] - 0s 4ms/step - loss: 3526.6382 - mae: 3526.6382\n",
            "Epoch 291/300\n",
            "34/34 [==============================] - 0s 4ms/step - loss: 3528.0081 - mae: 3528.0081\n",
            "Epoch 292/300\n",
            "34/34 [==============================] - 0s 4ms/step - loss: 3524.7476 - mae: 3524.7476\n",
            "Epoch 293/300\n",
            "34/34 [==============================] - 0s 4ms/step - loss: 3516.8408 - mae: 3516.8408\n",
            "Epoch 294/300\n",
            "34/34 [==============================] - 0s 4ms/step - loss: 3525.7117 - mae: 3525.7117\n",
            "Epoch 295/300\n",
            "34/34 [==============================] - 0s 4ms/step - loss: 3529.3379 - mae: 3529.3379\n",
            "Epoch 296/300\n",
            "34/34 [==============================] - 0s 4ms/step - loss: 3514.1941 - mae: 3514.1941\n",
            "Epoch 297/300\n",
            "34/34 [==============================] - 0s 4ms/step - loss: 3506.8745 - mae: 3506.8745\n",
            "Epoch 298/300\n",
            "34/34 [==============================] - 0s 4ms/step - loss: 3510.6389 - mae: 3510.6389\n",
            "Epoch 299/300\n",
            "34/34 [==============================] - 0s 3ms/step - loss: 3522.8489 - mae: 3522.8489\n",
            "Epoch 300/300\n",
            "34/34 [==============================] - 0s 4ms/step - loss: 3510.9636 - mae: 3510.9636\n"
          ]
        }
      ]
    },
    {
      "cell_type": "code",
      "source": [
        "insurance_model_2.evaluate(X_test,y_test)"
      ],
      "metadata": {
        "colab": {
          "base_uri": "https://localhost:8080/"
        },
        "id": "zf3zzNCp3XSf",
        "outputId": "7a328a23-d1bc-4a17-8a37-41d42edeb349"
      },
      "execution_count": null,
      "outputs": [
        {
          "output_type": "stream",
          "name": "stdout",
          "text": [
            "9/9 [==============================] - 0s 3ms/step - loss: 3216.0669 - mae: 3216.0669\n"
          ]
        },
        {
          "output_type": "execute_result",
          "data": {
            "text/plain": [
              "[3216.06689453125, 3216.06689453125]"
            ]
          },
          "metadata": {},
          "execution_count": 27
        }
      ]
    },
    {
      "cell_type": "code",
      "source": [
        "#Plot history (also known as a loss curve or a training curve)\n",
        "\n",
        "pd.DataFrame(history.history).plot()\n",
        "plt.ylabel(\"loss\")\n",
        "plt.xlabel(\"epochs\")"
      ],
      "metadata": {
        "colab": {
          "base_uri": "https://localhost:8080/",
          "height": 296
        },
        "id": "n4mgCMDU3Xb3",
        "outputId": "ee38aa00-f782-4f20-c9a5-d1b101a02565"
      },
      "execution_count": null,
      "outputs": [
        {
          "output_type": "execute_result",
          "data": {
            "text/plain": [
              "Text(0.5, 0, 'epochs')"
            ]
          },
          "metadata": {},
          "execution_count": 28
        },
        {
          "output_type": "display_data",
          "data": {
            "image/png": "[encoded data removed]",
            "text/plain": [
              "<Figure size 432x288 with 1 Axes>"
            ]
          },
          "metadata": {
            "needs_background": "light"
          }
        }
      ]
    },
    {
      "cell_type": "markdown",
      "source": [
        "###**How long** should we train?\n",
        "\n",
        "It depends. Really.... it depends on the problem you're working on. However, many people asked this question before... so TensorFlow has a solution! It's called the EarlyStopping Callback\n",
        " "
      ],
      "metadata": {
        "id": "OWIeb7vg3Xiz"
      }
    },
    {
      "cell_type": "code",
      "source": [
        "# Crate a Early stopping callback\n",
        "EarlyStopping_callback=tf.keras.callbacks.EarlyStopping(monitor=\"loss\", patience=5)\n",
        "\n",
        "#set the rendom seed\n",
        "tf.random.set_seed(42)\n",
        "\n",
        "# Create a model\n",
        "model_insurance_3=tf.keras.Sequential([\n",
        "    tf.keras.layers.Dense(100),\n",
        "    tf.keras.layers.Dense(10),\n",
        "    tf.keras.layers.Dense(1)\n",
        "])\n",
        "\n",
        "#Compile the model\n",
        "model_insurance_3.compile(loss=tf.keras.losses.mae,\n",
        "                          optimizer=tf.keras.optimizers.Adam(),\n",
        "                          metrics=[\"mae\"])\n",
        "\n",
        "#Fit the model\n",
        "history=model_insurance_3.fit(X_train,\n",
        "                              y_train,epochs=350,\n",
        "                              callbacks=[EarlyStopping_callback], \n",
        "                              verbose=1\n",
        ")"
      ],
      "metadata": {
        "colab": {
          "base_uri": "https://localhost:8080/"
        },
        "id": "4DA6jK8P3Xoe",
        "outputId": "95febedc-aeaf-491c-dea4-481eeba7eb93"
      },
      "execution_count": null,
      "outputs": [
        {
          "output_type": "stream",
          "name": "stdout",
          "text": [
            "Epoch 1/350\n",
            "34/34 [==============================] - 1s 5ms/step - loss: 13273.1602 - mae: 13273.1602\n",
            "Epoch 2/350\n",
            "34/34 [==============================] - 0s 5ms/step - loss: 13104.4287 - mae: 13104.4287\n",
            "Epoch 3/350\n",
            "34/34 [==============================] - 0s 6ms/step - loss: 12749.5400 - mae: 12749.5400\n",
            "Epoch 4/350\n",
            "34/34 [==============================] - 0s 5ms/step - loss: 12055.7500 - mae: 12055.7500\n",
            "Epoch 5/350\n",
            "34/34 [==============================] - 0s 6ms/step - loss: 10905.8135 - mae: 10905.8135\n",
            "Epoch 6/350\n",
            "34/34 [==============================] - 0s 5ms/step - loss: 9457.7188 - mae: 9457.7188\n",
            "Epoch 7/350\n",
            "34/34 [==============================] - 0s 5ms/step - loss: 8147.6533 - mae: 8147.6533\n",
            "Epoch 8/350\n",
            "34/34 [==============================] - 0s 6ms/step - loss: 7528.8398 - mae: 7528.8398\n",
            "Epoch 9/350\n",
            "34/34 [==============================] - 0s 5ms/step - loss: 7429.1528 - mae: 7429.1528\n",
            "Epoch 10/350\n",
            "34/34 [==============================] - 0s 5ms/step - loss: 7409.0811 - mae: 7409.0811\n",
            "Epoch 11/350\n",
            "34/34 [==============================] - 0s 5ms/step - loss: 7390.8042 - mae: 7390.8042\n",
            "Epoch 12/350\n",
            "34/34 [==============================] - 0s 5ms/step - loss: 7368.9170 - mae: 7368.9170\n",
            "Epoch 13/350\n",
            "34/34 [==============================] - 0s 5ms/step - loss: 7348.5195 - mae: 7348.5195\n",
            "Epoch 14/350\n",
            "34/34 [==============================] - 0s 6ms/step - loss: 7326.4893 - mae: 7326.4893\n",
            "Epoch 15/350\n",
            "34/34 [==============================] - 0s 5ms/step - loss: 7307.5811 - mae: 7307.5811\n",
            "Epoch 16/350\n",
            "34/34 [==============================] - 0s 5ms/step - loss: 7285.7739 - mae: 7285.7739\n",
            "Epoch 17/350\n",
            "34/34 [==============================] - 0s 5ms/step - loss: 7265.7100 - mae: 7265.7100\n",
            "Epoch 18/350\n",
            "34/34 [==============================] - 0s 6ms/step - loss: 7242.5498 - mae: 7242.5498\n",
            "Epoch 19/350\n",
            "34/34 [==============================] - 0s 6ms/step - loss: 7220.5068 - mae: 7220.5068\n",
            "Epoch 20/350\n",
            "34/34 [==============================] - 0s 6ms/step - loss: 7197.1978 - mae: 7197.1978\n",
            "Epoch 21/350\n",
            "34/34 [==============================] - 0s 5ms/step - loss: 7179.0195 - mae: 7179.0195\n",
            "Epoch 22/350\n",
            "34/34 [==============================] - 0s 6ms/step - loss: 7151.2100 - mae: 7151.2100\n",
            "Epoch 23/350\n",
            "34/34 [==============================] - 0s 5ms/step - loss: 7126.4639 - mae: 7126.4639\n",
            "Epoch 24/350\n",
            "34/34 [==============================] - 0s 5ms/step - loss: 7101.9194 - mae: 7101.9194\n",
            "Epoch 25/350\n",
            "34/34 [==============================] - 0s 6ms/step - loss: 7084.3379 - mae: 7084.3379\n",
            "Epoch 26/350\n",
            "34/34 [==============================] - 0s 5ms/step - loss: 7052.3291 - mae: 7052.3291\n",
            "Epoch 27/350\n",
            "34/34 [==============================] - 0s 4ms/step - loss: 7024.3511 - mae: 7024.3511\n",
            "Epoch 28/350\n",
            "34/34 [==============================] - 0s 5ms/step - loss: 6996.6963 - mae: 6996.6963\n",
            "Epoch 29/350\n",
            "34/34 [==============================] - 0s 5ms/step - loss: 6969.0117 - mae: 6969.0117\n",
            "Epoch 30/350\n",
            "34/34 [==============================] - 0s 5ms/step - loss: 6942.1899 - mae: 6942.1899\n",
            "Epoch 31/350\n",
            "34/34 [==============================] - 0s 6ms/step - loss: 6911.7280 - mae: 6911.7280\n",
            "Epoch 32/350\n",
            "34/34 [==============================] - 0s 5ms/step - loss: 6884.0205 - mae: 6884.0205\n",
            "Epoch 33/350\n",
            "34/34 [==============================] - 0s 5ms/step - loss: 6853.4644 - mae: 6853.4644\n",
            "Epoch 34/350\n",
            "34/34 [==============================] - 0s 5ms/step - loss: 6823.0684 - mae: 6823.0684\n",
            "Epoch 35/350\n",
            "34/34 [==============================] - 0s 5ms/step - loss: 6789.6865 - mae: 6789.6865\n",
            "Epoch 36/350\n",
            "34/34 [==============================] - 0s 6ms/step - loss: 6755.7646 - mae: 6755.7646\n",
            "Epoch 37/350\n",
            "34/34 [==============================] - 0s 7ms/step - loss: 6720.2026 - mae: 6720.2026\n",
            "Epoch 38/350\n",
            "34/34 [==============================] - 0s 5ms/step - loss: 6689.7163 - mae: 6689.7163\n",
            "Epoch 39/350\n",
            "34/34 [==============================] - 0s 5ms/step - loss: 6652.4619 - mae: 6652.4619\n",
            "Epoch 40/350\n",
            "34/34 [==============================] - 0s 5ms/step - loss: 6618.1011 - mae: 6618.1011\n",
            "Epoch 41/350\n",
            "34/34 [==============================] - 0s 6ms/step - loss: 6585.8643 - mae: 6585.8643\n",
            "Epoch 42/350\n",
            "34/34 [==============================] - 0s 5ms/step - loss: 6559.4956 - mae: 6559.4956\n",
            "Epoch 43/350\n",
            "34/34 [==============================] - 0s 6ms/step - loss: 6530.0444 - mae: 6530.0444\n",
            "Epoch 44/350\n",
            "34/34 [==============================] - 0s 6ms/step - loss: 6506.8071 - mae: 6506.8071\n",
            "Epoch 45/350\n",
            "34/34 [==============================] - 0s 5ms/step - loss: 6493.5718 - mae: 6493.5718\n",
            "Epoch 46/350\n",
            "34/34 [==============================] - 0s 6ms/step - loss: 6475.9258 - mae: 6475.9258\n",
            "Epoch 47/350\n",
            "34/34 [==============================] - 0s 5ms/step - loss: 6458.8979 - mae: 6458.8979\n",
            "Epoch 48/350\n",
            "34/34 [==============================] - 0s 5ms/step - loss: 6445.1494 - mae: 6445.1494\n",
            "Epoch 49/350\n",
            "34/34 [==============================] - 0s 5ms/step - loss: 6430.9639 - mae: 6430.9639\n",
            "Epoch 50/350\n",
            "34/34 [==============================] - 0s 5ms/step - loss: 6417.7510 - mae: 6417.7510\n",
            "Epoch 51/350\n",
            "34/34 [==============================] - 0s 6ms/step - loss: 6403.2764 - mae: 6403.2764\n",
            "Epoch 52/350\n",
            "34/34 [==============================] - 0s 5ms/step - loss: 6392.4141 - mae: 6392.4141\n",
            "Epoch 53/350\n",
            "34/34 [==============================] - 0s 6ms/step - loss: 6378.7456 - mae: 6378.7456\n",
            "Epoch 54/350\n",
            "34/34 [==============================] - 0s 7ms/step - loss: 6364.9131 - mae: 6364.9131\n",
            "Epoch 55/350\n",
            "34/34 [==============================] - 0s 5ms/step - loss: 6351.5273 - mae: 6351.5273\n",
            "Epoch 56/350\n",
            "34/34 [==============================] - 0s 5ms/step - loss: 6337.6606 - mae: 6337.6606\n",
            "Epoch 57/350\n",
            "34/34 [==============================] - 0s 5ms/step - loss: 6324.8369 - mae: 6324.8369\n",
            "Epoch 58/350\n",
            "34/34 [==============================] - 0s 6ms/step - loss: 6310.1948 - mae: 6310.1948\n",
            "Epoch 59/350\n",
            "34/34 [==============================] - 0s 6ms/step - loss: 6295.6035 - mae: 6295.6035\n",
            "Epoch 60/350\n",
            "34/34 [==============================] - 0s 6ms/step - loss: 6284.8696 - mae: 6284.8696\n",
            "Epoch 61/350\n",
            "34/34 [==============================] - 0s 5ms/step - loss: 6265.6416 - mae: 6265.6416\n",
            "Epoch 62/350\n",
            "34/34 [==============================] - 0s 6ms/step - loss: 6253.0103 - mae: 6253.0103\n",
            "Epoch 63/350\n",
            "34/34 [==============================] - 0s 5ms/step - loss: 6234.9292 - mae: 6234.9292\n",
            "Epoch 64/350\n",
            "34/34 [==============================] - 0s 5ms/step - loss: 6218.0435 - mae: 6218.0435\n",
            "Epoch 65/350\n",
            "34/34 [==============================] - 0s 5ms/step - loss: 6201.1899 - mae: 6201.1899\n",
            "Epoch 66/350\n",
            "34/34 [==============================] - 0s 5ms/step - loss: 6183.9595 - mae: 6183.9595\n",
            "Epoch 67/350\n",
            "34/34 [==============================] - 0s 6ms/step - loss: 6171.2998 - mae: 6171.2998\n",
            "Epoch 68/350\n",
            "34/34 [==============================] - 0s 6ms/step - loss: 6148.8403 - mae: 6148.8403\n",
            "Epoch 69/350\n",
            "34/34 [==============================] - 0s 6ms/step - loss: 6132.5991 - mae: 6132.5991\n",
            "Epoch 70/350\n",
            "34/34 [==============================] - 0s 5ms/step - loss: 6112.3853 - mae: 6112.3853\n",
            "Epoch 71/350\n",
            "34/34 [==============================] - 0s 5ms/step - loss: 6092.7207 - mae: 6092.7207\n",
            "Epoch 72/350\n",
            "34/34 [==============================] - 0s 5ms/step - loss: 6073.7422 - mae: 6073.7422\n",
            "Epoch 73/350\n",
            "34/34 [==============================] - 0s 5ms/step - loss: 6059.4883 - mae: 6059.4883\n",
            "Epoch 74/350\n",
            "34/34 [==============================] - 0s 5ms/step - loss: 6031.3857 - mae: 6031.3857\n",
            "Epoch 75/350\n",
            "34/34 [==============================] - 0s 6ms/step - loss: 6010.3354 - mae: 6010.3354\n",
            "Epoch 76/350\n",
            "34/34 [==============================] - 0s 6ms/step - loss: 5995.2188 - mae: 5995.2188\n",
            "Epoch 77/350\n",
            "34/34 [==============================] - 0s 6ms/step - loss: 5963.0718 - mae: 5963.0718\n",
            "Epoch 78/350\n",
            "34/34 [==============================] - 0s 6ms/step - loss: 5940.0610 - mae: 5940.0610\n",
            "Epoch 79/350\n",
            "34/34 [==============================] - 0s 6ms/step - loss: 5915.1064 - mae: 5915.1064\n",
            "Epoch 80/350\n",
            "34/34 [==============================] - 0s 5ms/step - loss: 5887.9995 - mae: 5887.9995\n",
            "Epoch 81/350\n",
            "34/34 [==============================] - 0s 5ms/step - loss: 5861.6992 - mae: 5861.6992\n",
            "Epoch 82/350\n",
            "34/34 [==============================] - 0s 5ms/step - loss: 5834.3081 - mae: 5834.3081\n",
            "Epoch 83/350\n",
            "34/34 [==============================] - 0s 6ms/step - loss: 5805.8242 - mae: 5805.8242\n",
            "Epoch 84/350\n",
            "34/34 [==============================] - 0s 6ms/step - loss: 5772.3237 - mae: 5772.3237\n",
            "Epoch 85/350\n",
            "34/34 [==============================] - 0s 6ms/step - loss: 5745.1519 - mae: 5745.1519\n",
            "Epoch 86/350\n",
            "34/34 [==============================] - 0s 5ms/step - loss: 5711.3491 - mae: 5711.3491\n",
            "Epoch 87/350\n",
            "34/34 [==============================] - 0s 6ms/step - loss: 5674.5220 - mae: 5674.5220\n",
            "Epoch 88/350\n",
            "34/34 [==============================] - 0s 6ms/step - loss: 5639.4932 - mae: 5639.4932\n",
            "Epoch 89/350\n",
            "34/34 [==============================] - 0s 6ms/step - loss: 5600.6665 - mae: 5600.6665\n",
            "Epoch 90/350\n",
            "34/34 [==============================] - 0s 5ms/step - loss: 5559.4326 - mae: 5559.4326\n",
            "Epoch 91/350\n",
            "34/34 [==============================] - 0s 5ms/step - loss: 5523.6196 - mae: 5523.6196\n",
            "Epoch 92/350\n",
            "34/34 [==============================] - 0s 6ms/step - loss: 5474.1260 - mae: 5474.1260\n",
            "Epoch 93/350\n",
            "34/34 [==============================] - 0s 5ms/step - loss: 5432.2661 - mae: 5432.2661\n",
            "Epoch 94/350\n",
            "34/34 [==============================] - 0s 6ms/step - loss: 5386.0532 - mae: 5386.0532\n",
            "Epoch 95/350\n",
            "34/34 [==============================] - 0s 5ms/step - loss: 5333.1812 - mae: 5333.1812\n",
            "Epoch 96/350\n",
            "34/34 [==============================] - 0s 5ms/step - loss: 5288.8169 - mae: 5288.8169\n",
            "Epoch 97/350\n",
            "34/34 [==============================] - 0s 6ms/step - loss: 5234.6797 - mae: 5234.6797\n",
            "Epoch 98/350\n",
            "34/34 [==============================] - 0s 5ms/step - loss: 5170.9375 - mae: 5170.9375\n",
            "Epoch 99/350\n",
            "34/34 [==============================] - 0s 6ms/step - loss: 5112.9453 - mae: 5112.9453\n",
            "Epoch 100/350\n",
            "34/34 [==============================] - 0s 5ms/step - loss: 5060.0874 - mae: 5060.0874\n",
            "Epoch 101/350\n",
            "34/34 [==============================] - 0s 6ms/step - loss: 4987.7427 - mae: 4987.7427\n",
            "Epoch 102/350\n",
            "34/34 [==============================] - 0s 6ms/step - loss: 4915.4482 - mae: 4915.4482\n",
            "Epoch 103/350\n",
            "34/34 [==============================] - 0s 5ms/step - loss: 4847.4873 - mae: 4847.4873\n",
            "Epoch 104/350\n",
            "34/34 [==============================] - 0s 5ms/step - loss: 4768.1816 - mae: 4768.1816\n",
            "Epoch 105/350\n",
            "34/34 [==============================] - 0s 5ms/step - loss: 4683.4653 - mae: 4683.4653\n",
            "Epoch 106/350\n",
            "34/34 [==============================] - 0s 5ms/step - loss: 4601.2075 - mae: 4601.2075\n",
            "Epoch 107/350\n",
            "34/34 [==============================] - 0s 5ms/step - loss: 4513.4639 - mae: 4513.4639\n",
            "Epoch 108/350\n",
            "34/34 [==============================] - 0s 5ms/step - loss: 4423.5952 - mae: 4423.5952\n",
            "Epoch 109/350\n",
            "34/34 [==============================] - 0s 5ms/step - loss: 4339.2173 - mae: 4339.2173\n",
            "Epoch 110/350\n",
            "34/34 [==============================] - 0s 6ms/step - loss: 4255.7876 - mae: 4255.7876\n",
            "Epoch 111/350\n",
            "34/34 [==============================] - 0s 5ms/step - loss: 4174.8779 - mae: 4174.8779\n",
            "Epoch 112/350\n",
            "34/34 [==============================] - 0s 5ms/step - loss: 4101.4253 - mae: 4101.4253\n",
            "Epoch 113/350\n",
            "34/34 [==============================] - 0s 5ms/step - loss: 4031.7214 - mae: 4031.7214\n",
            "Epoch 114/350\n",
            "34/34 [==============================] - 0s 5ms/step - loss: 3986.9094 - mae: 3986.9094\n",
            "Epoch 115/350\n",
            "34/34 [==============================] - 0s 6ms/step - loss: 3944.5925 - mae: 3944.5925\n",
            "Epoch 116/350\n",
            "34/34 [==============================] - 0s 6ms/step - loss: 3918.6155 - mae: 3918.6155\n",
            "Epoch 117/350\n",
            "34/34 [==============================] - 0s 5ms/step - loss: 3896.7400 - mae: 3896.7400\n",
            "Epoch 118/350\n",
            "34/34 [==============================] - 0s 6ms/step - loss: 3872.1240 - mae: 3872.1240\n",
            "Epoch 119/350\n",
            "34/34 [==============================] - 0s 6ms/step - loss: 3851.9661 - mae: 3851.9661\n",
            "Epoch 120/350\n",
            "34/34 [==============================] - 0s 6ms/step - loss: 3835.4458 - mae: 3835.4458\n",
            "Epoch 121/350\n",
            "34/34 [==============================] - 0s 5ms/step - loss: 3829.4529 - mae: 3829.4529\n",
            "Epoch 122/350\n",
            "34/34 [==============================] - 0s 5ms/step - loss: 3822.5408 - mae: 3822.5408\n",
            "Epoch 123/350\n",
            "34/34 [==============================] - 0s 6ms/step - loss: 3814.8994 - mae: 3814.8994\n",
            "Epoch 124/350\n",
            "34/34 [==============================] - 0s 5ms/step - loss: 3806.8062 - mae: 3806.8062\n",
            "Epoch 125/350\n",
            "34/34 [==============================] - 0s 6ms/step - loss: 3795.5425 - mae: 3795.5425\n",
            "Epoch 126/350\n",
            "34/34 [==============================] - 0s 6ms/step - loss: 3807.1846 - mae: 3807.1846\n",
            "Epoch 127/350\n",
            "34/34 [==============================] - 0s 6ms/step - loss: 3797.8484 - mae: 3797.8484\n",
            "Epoch 128/350\n",
            "34/34 [==============================] - 0s 5ms/step - loss: 3791.7207 - mae: 3791.7207\n",
            "Epoch 129/350\n",
            "34/34 [==============================] - 0s 5ms/step - loss: 3802.8037 - mae: 3802.8037\n",
            "Epoch 130/350\n",
            "34/34 [==============================] - 0s 6ms/step - loss: 3789.7969 - mae: 3789.7969\n",
            "Epoch 131/350\n",
            "34/34 [==============================] - 0s 5ms/step - loss: 3781.4001 - mae: 3781.4001\n",
            "Epoch 132/350\n",
            "34/34 [==============================] - 0s 6ms/step - loss: 3774.9463 - mae: 3774.9463\n",
            "Epoch 133/350\n",
            "34/34 [==============================] - 0s 5ms/step - loss: 3770.7559 - mae: 3770.7559\n",
            "Epoch 134/350\n",
            "34/34 [==============================] - 0s 6ms/step - loss: 3769.5464 - mae: 3769.5464\n",
            "Epoch 135/350\n",
            "34/34 [==============================] - 0s 5ms/step - loss: 3767.2349 - mae: 3767.2349\n",
            "Epoch 136/350\n",
            "34/34 [==============================] - 0s 6ms/step - loss: 3766.0596 - mae: 3766.0596\n",
            "Epoch 137/350\n",
            "34/34 [==============================] - 0s 5ms/step - loss: 3775.8567 - mae: 3775.8567\n",
            "Epoch 138/350\n",
            "34/34 [==============================] - 0s 6ms/step - loss: 3783.4233 - mae: 3783.4233\n",
            "Epoch 139/350\n",
            "34/34 [==============================] - 0s 5ms/step - loss: 3761.3586 - mae: 3761.3586\n",
            "Epoch 140/350\n",
            "34/34 [==============================] - 0s 6ms/step - loss: 3762.6267 - mae: 3762.6267\n",
            "Epoch 141/350\n",
            "34/34 [==============================] - 0s 6ms/step - loss: 3763.7031 - mae: 3763.7031\n",
            "Epoch 142/350\n",
            "34/34 [==============================] - 0s 6ms/step - loss: 3765.6418 - mae: 3765.6418\n",
            "Epoch 143/350\n",
            "34/34 [==============================] - 0s 6ms/step - loss: 3755.0134 - mae: 3755.0134\n",
            "Epoch 144/350\n",
            "34/34 [==============================] - 0s 6ms/step - loss: 3750.5750 - mae: 3750.5750\n",
            "Epoch 145/350\n",
            "34/34 [==============================] - 0s 6ms/step - loss: 3751.1663 - mae: 3751.1663\n",
            "Epoch 146/350\n",
            "34/34 [==============================] - 0s 6ms/step - loss: 3756.9319 - mae: 3756.9319\n",
            "Epoch 147/350\n",
            "34/34 [==============================] - 0s 5ms/step - loss: 3751.6331 - mae: 3751.6331\n",
            "Epoch 148/350\n",
            "34/34 [==============================] - 0s 6ms/step - loss: 3756.2720 - mae: 3756.2720\n",
            "Epoch 149/350\n",
            "34/34 [==============================] - 0s 6ms/step - loss: 3743.5862 - mae: 3743.5862\n",
            "Epoch 150/350\n",
            "34/34 [==============================] - 0s 5ms/step - loss: 3738.7124 - mae: 3738.7124\n",
            "Epoch 151/350\n",
            "34/34 [==============================] - 0s 6ms/step - loss: 3741.1475 - mae: 3741.1475\n",
            "Epoch 152/350\n",
            "34/34 [==============================] - 0s 5ms/step - loss: 3742.1658 - mae: 3742.1658\n",
            "Epoch 153/350\n",
            "34/34 [==============================] - 0s 6ms/step - loss: 3743.0059 - mae: 3743.0059\n",
            "Epoch 154/350\n",
            "34/34 [==============================] - 0s 6ms/step - loss: 3737.0342 - mae: 3737.0342\n",
            "Epoch 155/350\n",
            "34/34 [==============================] - 0s 6ms/step - loss: 3737.9741 - mae: 3737.9741\n",
            "Epoch 156/350\n",
            "34/34 [==============================] - 0s 6ms/step - loss: 3736.7346 - mae: 3736.7346\n",
            "Epoch 157/350\n",
            "34/34 [==============================] - 0s 6ms/step - loss: 3732.5813 - mae: 3732.5813\n",
            "Epoch 158/350\n",
            "34/34 [==============================] - 0s 6ms/step - loss: 3729.4280 - mae: 3729.4280\n",
            "Epoch 159/350\n",
            "34/34 [==============================] - 0s 6ms/step - loss: 3728.5610 - mae: 3728.5610\n",
            "Epoch 160/350\n",
            "34/34 [==============================] - 0s 6ms/step - loss: 3733.9954 - mae: 3733.9954\n",
            "Epoch 161/350\n",
            "34/34 [==============================] - 0s 6ms/step - loss: 3728.1082 - mae: 3728.1082\n",
            "Epoch 162/350\n",
            "34/34 [==============================] - 0s 5ms/step - loss: 3725.3667 - mae: 3725.3667\n",
            "Epoch 163/350\n",
            "34/34 [==============================] - 0s 5ms/step - loss: 3722.9509 - mae: 3722.9509\n",
            "Epoch 164/350\n",
            "34/34 [==============================] - 0s 6ms/step - loss: 3727.0618 - mae: 3727.0618\n",
            "Epoch 165/350\n",
            "34/34 [==============================] - 0s 6ms/step - loss: 3717.6619 - mae: 3717.6619\n",
            "Epoch 166/350\n",
            "34/34 [==============================] - 0s 5ms/step - loss: 3720.3694 - mae: 3720.3694\n",
            "Epoch 167/350\n",
            "34/34 [==============================] - 0s 6ms/step - loss: 3720.2910 - mae: 3720.2910\n",
            "Epoch 168/350\n",
            "34/34 [==============================] - 0s 5ms/step - loss: 3717.2761 - mae: 3717.2761\n",
            "Epoch 169/350\n",
            "34/34 [==============================] - 0s 5ms/step - loss: 3713.5610 - mae: 3713.5610\n",
            "Epoch 170/350\n",
            "34/34 [==============================] - 0s 6ms/step - loss: 3708.0085 - mae: 3708.0085\n",
            "Epoch 171/350\n",
            "34/34 [==============================] - 0s 6ms/step - loss: 3707.6399 - mae: 3707.6399\n",
            "Epoch 172/350\n",
            "34/34 [==============================] - 0s 6ms/step - loss: 3709.0312 - mae: 3709.0312\n",
            "Epoch 173/350\n",
            "34/34 [==============================] - 0s 6ms/step - loss: 3705.1497 - mae: 3705.1497\n",
            "Epoch 174/350\n",
            "34/34 [==============================] - 0s 6ms/step - loss: 3709.5408 - mae: 3709.5408\n",
            "Epoch 175/350\n",
            "34/34 [==============================] - 0s 6ms/step - loss: 3710.9670 - mae: 3710.9670\n",
            "Epoch 176/350\n",
            "34/34 [==============================] - 0s 5ms/step - loss: 3706.6677 - mae: 3706.6677\n",
            "Epoch 177/350\n",
            "34/34 [==============================] - 0s 6ms/step - loss: 3698.9155 - mae: 3698.9155\n",
            "Epoch 178/350\n",
            "34/34 [==============================] - 0s 6ms/step - loss: 3695.3816 - mae: 3695.3816\n",
            "Epoch 179/350\n",
            "34/34 [==============================] - 0s 6ms/step - loss: 3706.8621 - mae: 3706.8621\n",
            "Epoch 180/350\n",
            "34/34 [==============================] - 0s 5ms/step - loss: 3709.3879 - mae: 3709.3879\n",
            "Epoch 181/350\n",
            "34/34 [==============================] - 0s 7ms/step - loss: 3695.9614 - mae: 3695.9614\n",
            "Epoch 182/350\n",
            "34/34 [==============================] - 0s 6ms/step - loss: 3693.4851 - mae: 3693.4851\n",
            "Epoch 183/350\n",
            "34/34 [==============================] - 0s 5ms/step - loss: 3691.5906 - mae: 3691.5906\n",
            "Epoch 184/350\n",
            "34/34 [==============================] - 0s 5ms/step - loss: 3697.9917 - mae: 3697.9917\n",
            "Epoch 185/350\n",
            "34/34 [==============================] - 0s 5ms/step - loss: 3692.3057 - mae: 3692.3057\n",
            "Epoch 186/350\n",
            "34/34 [==============================] - 0s 4ms/step - loss: 3695.7458 - mae: 3695.7458\n",
            "Epoch 187/350\n",
            "34/34 [==============================] - 0s 6ms/step - loss: 3688.8062 - mae: 3688.8062\n",
            "Epoch 188/350\n",
            "34/34 [==============================] - 0s 6ms/step - loss: 3693.3767 - mae: 3693.3767\n",
            "Epoch 189/350\n",
            "34/34 [==============================] - 0s 5ms/step - loss: 3684.3003 - mae: 3684.3003\n",
            "Epoch 190/350\n",
            "34/34 [==============================] - 0s 6ms/step - loss: 3682.4170 - mae: 3682.4170\n",
            "Epoch 191/350\n",
            "34/34 [==============================] - 0s 4ms/step - loss: 3701.8777 - mae: 3701.8777\n",
            "Epoch 192/350\n",
            "34/34 [==============================] - 0s 7ms/step - loss: 3685.1748 - mae: 3685.1748\n",
            "Epoch 193/350\n",
            "34/34 [==============================] - 0s 6ms/step - loss: 3674.1245 - mae: 3674.1245\n",
            "Epoch 194/350\n",
            "34/34 [==============================] - 0s 5ms/step - loss: 3674.9353 - mae: 3674.9353\n",
            "Epoch 195/350\n",
            "34/34 [==============================] - 0s 5ms/step - loss: 3672.9138 - mae: 3672.9138\n",
            "Epoch 196/350\n",
            "34/34 [==============================] - 0s 6ms/step - loss: 3681.3555 - mae: 3681.3555\n",
            "Epoch 197/350\n",
            "34/34 [==============================] - 0s 6ms/step - loss: 3666.5703 - mae: 3666.5703\n",
            "Epoch 198/350\n",
            "34/34 [==============================] - 0s 5ms/step - loss: 3672.4158 - mae: 3672.4158\n",
            "Epoch 199/350\n",
            "34/34 [==============================] - 0s 5ms/step - loss: 3680.3145 - mae: 3680.3145\n",
            "Epoch 200/350\n",
            "34/34 [==============================] - 0s 5ms/step - loss: 3668.1567 - mae: 3668.1567\n",
            "Epoch 201/350\n",
            "34/34 [==============================] - 0s 6ms/step - loss: 3666.3308 - mae: 3666.3308\n",
            "Epoch 202/350\n",
            "34/34 [==============================] - 0s 6ms/step - loss: 3666.9375 - mae: 3666.9375\n",
            "Epoch 203/350\n",
            "34/34 [==============================] - 0s 6ms/step - loss: 3664.3235 - mae: 3664.3235\n",
            "Epoch 204/350\n",
            "34/34 [==============================] - 0s 6ms/step - loss: 3655.3020 - mae: 3655.3020\n",
            "Epoch 205/350\n",
            "34/34 [==============================] - 0s 6ms/step - loss: 3663.1963 - mae: 3663.1963\n",
            "Epoch 206/350\n",
            "34/34 [==============================] - 0s 6ms/step - loss: 3657.7798 - mae: 3657.7798\n",
            "Epoch 207/350\n",
            "34/34 [==============================] - 0s 7ms/step - loss: 3657.6453 - mae: 3657.6453\n",
            "Epoch 208/350\n",
            "34/34 [==============================] - 0s 5ms/step - loss: 3653.1609 - mae: 3653.1609\n",
            "Epoch 209/350\n",
            "34/34 [==============================] - 0s 6ms/step - loss: 3652.9924 - mae: 3652.9924\n",
            "Epoch 210/350\n",
            "34/34 [==============================] - 0s 6ms/step - loss: 3658.3430 - mae: 3658.3430\n",
            "Epoch 211/350\n",
            "34/34 [==============================] - 0s 6ms/step - loss: 3651.9136 - mae: 3651.9136\n",
            "Epoch 212/350\n",
            "34/34 [==============================] - 0s 6ms/step - loss: 3667.4397 - mae: 3667.4397\n",
            "Epoch 213/350\n",
            "34/34 [==============================] - 0s 5ms/step - loss: 3656.4399 - mae: 3656.4399\n",
            "Epoch 214/350\n",
            "34/34 [==============================] - 0s 7ms/step - loss: 3677.7415 - mae: 3677.7415\n",
            "Epoch 215/350\n",
            "34/34 [==============================] - 0s 6ms/step - loss: 3651.9272 - mae: 3651.9272\n",
            "Epoch 216/350\n",
            "34/34 [==============================] - 0s 6ms/step - loss: 3644.4092 - mae: 3644.4092\n",
            "Epoch 217/350\n",
            "34/34 [==============================] - 0s 6ms/step - loss: 3646.0906 - mae: 3646.0906\n",
            "Epoch 218/350\n",
            "34/34 [==============================] - 0s 6ms/step - loss: 3642.5212 - mae: 3642.5212\n",
            "Epoch 219/350\n",
            "34/34 [==============================] - 0s 6ms/step - loss: 3648.4817 - mae: 3648.4817\n",
            "Epoch 220/350\n",
            "34/34 [==============================] - 0s 5ms/step - loss: 3637.4031 - mae: 3637.4031\n",
            "Epoch 221/350\n",
            "34/34 [==============================] - 0s 7ms/step - loss: 3638.4221 - mae: 3638.4221\n",
            "Epoch 222/350\n",
            "34/34 [==============================] - 0s 6ms/step - loss: 3646.1248 - mae: 3646.1248\n",
            "Epoch 223/350\n",
            "34/34 [==============================] - 0s 5ms/step - loss: 3634.4280 - mae: 3634.4280\n",
            "Epoch 224/350\n",
            "34/34 [==============================] - 0s 6ms/step - loss: 3635.6528 - mae: 3635.6528\n",
            "Epoch 225/350\n",
            "34/34 [==============================] - 0s 5ms/step - loss: 3632.8652 - mae: 3632.8652\n",
            "Epoch 226/350\n",
            "34/34 [==============================] - 0s 7ms/step - loss: 3626.3130 - mae: 3626.3130\n",
            "Epoch 227/350\n",
            "34/34 [==============================] - 0s 7ms/step - loss: 3621.7319 - mae: 3621.7319\n",
            "Epoch 228/350\n",
            "34/34 [==============================] - 0s 6ms/step - loss: 3629.4231 - mae: 3629.4231\n",
            "Epoch 229/350\n",
            "34/34 [==============================] - 0s 6ms/step - loss: 3635.1113 - mae: 3635.1113\n",
            "Epoch 230/350\n",
            "34/34 [==============================] - 0s 6ms/step - loss: 3617.1777 - mae: 3617.1777\n",
            "Epoch 231/350\n",
            "34/34 [==============================] - 0s 6ms/step - loss: 3615.0081 - mae: 3615.0081\n",
            "Epoch 232/350\n",
            "34/34 [==============================] - 0s 5ms/step - loss: 3612.9307 - mae: 3612.9307\n",
            "Epoch 233/350\n",
            "34/34 [==============================] - 0s 5ms/step - loss: 3610.7583 - mae: 3610.7583\n",
            "Epoch 234/350\n",
            "34/34 [==============================] - 0s 5ms/step - loss: 3619.5615 - mae: 3619.5615\n",
            "Epoch 235/350\n",
            "34/34 [==============================] - 0s 6ms/step - loss: 3624.1367 - mae: 3624.1367\n",
            "Epoch 236/350\n",
            "34/34 [==============================] - 0s 5ms/step - loss: 3613.1226 - mae: 3613.1226\n",
            "Epoch 237/350\n",
            "34/34 [==============================] - 0s 6ms/step - loss: 3617.4788 - mae: 3617.4788\n",
            "Epoch 238/350\n",
            "34/34 [==============================] - 0s 5ms/step - loss: 3597.5608 - mae: 3597.5608\n",
            "Epoch 239/350\n",
            "34/34 [==============================] - 0s 6ms/step - loss: 3608.1821 - mae: 3608.1821\n",
            "Epoch 240/350\n",
            "34/34 [==============================] - 0s 5ms/step - loss: 3604.1812 - mae: 3604.1812\n",
            "Epoch 241/350\n",
            "34/34 [==============================] - 0s 6ms/step - loss: 3598.7773 - mae: 3598.7773\n",
            "Epoch 242/350\n",
            "34/34 [==============================] - 0s 6ms/step - loss: 3596.0942 - mae: 3596.0942\n",
            "Epoch 243/350\n",
            "34/34 [==============================] - 0s 6ms/step - loss: 3592.0955 - mae: 3592.0955\n",
            "Epoch 244/350\n",
            "34/34 [==============================] - 0s 6ms/step - loss: 3606.4678 - mae: 3606.4678\n",
            "Epoch 245/350\n",
            "34/34 [==============================] - 0s 5ms/step - loss: 3591.5386 - mae: 3591.5386\n",
            "Epoch 246/350\n",
            "34/34 [==============================] - 0s 6ms/step - loss: 3586.4485 - mae: 3586.4485\n",
            "Epoch 247/350\n",
            "34/34 [==============================] - 0s 6ms/step - loss: 3583.7664 - mae: 3583.7664\n",
            "Epoch 248/350\n",
            "34/34 [==============================] - 0s 6ms/step - loss: 3599.2007 - mae: 3599.2007\n",
            "Epoch 249/350\n",
            "34/34 [==============================] - 0s 5ms/step - loss: 3583.4297 - mae: 3583.4297\n",
            "Epoch 250/350\n",
            "34/34 [==============================] - 0s 6ms/step - loss: 3578.5381 - mae: 3578.5381\n",
            "Epoch 251/350\n",
            "34/34 [==============================] - 0s 5ms/step - loss: 3577.0000 - mae: 3577.0000\n",
            "Epoch 252/350\n",
            "34/34 [==============================] - 0s 6ms/step - loss: 3580.4485 - mae: 3580.4485\n",
            "Epoch 253/350\n",
            "34/34 [==============================] - 0s 7ms/step - loss: 3573.5864 - mae: 3573.5864\n",
            "Epoch 254/350\n",
            "34/34 [==============================] - 0s 7ms/step - loss: 3571.5078 - mae: 3571.5078\n",
            "Epoch 255/350\n",
            "34/34 [==============================] - 0s 7ms/step - loss: 3568.9036 - mae: 3568.9036\n",
            "Epoch 256/350\n",
            "34/34 [==============================] - 0s 8ms/step - loss: 3570.3928 - mae: 3570.3928\n",
            "Epoch 257/350\n",
            "34/34 [==============================] - 0s 9ms/step - loss: 3570.6450 - mae: 3570.6450\n",
            "Epoch 258/350\n",
            "34/34 [==============================] - 0s 9ms/step - loss: 3589.4768 - mae: 3589.4768\n",
            "Epoch 259/350\n",
            "34/34 [==============================] - 0s 7ms/step - loss: 3562.0237 - mae: 3562.0237\n",
            "Epoch 260/350\n",
            "34/34 [==============================] - 0s 8ms/step - loss: 3565.7744 - mae: 3565.7744\n",
            "Epoch 261/350\n",
            "34/34 [==============================] - 0s 7ms/step - loss: 3564.6875 - mae: 3564.6875\n",
            "Epoch 262/350\n",
            "34/34 [==============================] - 0s 9ms/step - loss: 3558.7058 - mae: 3558.7058\n",
            "Epoch 263/350\n",
            "34/34 [==============================] - 0s 7ms/step - loss: 3559.7395 - mae: 3559.7395\n",
            "Epoch 264/350\n",
            "34/34 [==============================] - 0s 7ms/step - loss: 3561.2422 - mae: 3561.2422\n",
            "Epoch 265/350\n",
            "34/34 [==============================] - 0s 6ms/step - loss: 3558.8181 - mae: 3558.8181\n",
            "Epoch 266/350\n",
            "34/34 [==============================] - 0s 6ms/step - loss: 3557.7285 - mae: 3557.7285\n",
            "Epoch 267/350\n",
            "34/34 [==============================] - 0s 6ms/step - loss: 3561.9951 - mae: 3561.9951\n",
            "Epoch 268/350\n",
            "34/34 [==============================] - 0s 7ms/step - loss: 3550.0403 - mae: 3550.0403\n",
            "Epoch 269/350\n",
            "34/34 [==============================] - 0s 6ms/step - loss: 3557.5984 - mae: 3557.5984\n",
            "Epoch 270/350\n",
            "34/34 [==============================] - 0s 5ms/step - loss: 3545.9810 - mae: 3545.9810\n",
            "Epoch 271/350\n",
            "34/34 [==============================] - 0s 6ms/step - loss: 3548.4001 - mae: 3548.4001\n",
            "Epoch 272/350\n",
            "34/34 [==============================] - 0s 7ms/step - loss: 3542.8303 - mae: 3542.8303\n",
            "Epoch 273/350\n",
            "34/34 [==============================] - 0s 7ms/step - loss: 3543.6746 - mae: 3543.6746\n",
            "Epoch 274/350\n",
            "34/34 [==============================] - 0s 5ms/step - loss: 3540.9963 - mae: 3540.9963\n",
            "Epoch 275/350\n",
            "34/34 [==============================] - 0s 6ms/step - loss: 3540.0596 - mae: 3540.0596\n",
            "Epoch 276/350\n",
            "34/34 [==============================] - 0s 6ms/step - loss: 3541.9219 - mae: 3541.9219\n",
            "Epoch 277/350\n",
            "34/34 [==============================] - 0s 7ms/step - loss: 3538.5476 - mae: 3538.5476\n",
            "Epoch 278/350\n",
            "34/34 [==============================] - 0s 5ms/step - loss: 3538.7588 - mae: 3538.7588\n",
            "Epoch 279/350\n",
            "34/34 [==============================] - 0s 6ms/step - loss: 3545.0630 - mae: 3545.0630\n",
            "Epoch 280/350\n",
            "34/34 [==============================] - 0s 6ms/step - loss: 3531.7361 - mae: 3531.7361\n",
            "Epoch 281/350\n",
            "34/34 [==============================] - 0s 7ms/step - loss: 3540.1760 - mae: 3540.1760\n",
            "Epoch 282/350\n",
            "34/34 [==============================] - 0s 6ms/step - loss: 3530.4587 - mae: 3530.4587\n",
            "Epoch 283/350\n",
            "34/34 [==============================] - 0s 7ms/step - loss: 3537.4697 - mae: 3537.4697\n",
            "Epoch 284/350\n",
            "34/34 [==============================] - 0s 6ms/step - loss: 3529.1868 - mae: 3529.1868\n",
            "Epoch 285/350\n",
            "34/34 [==============================] - 0s 7ms/step - loss: 3532.1785 - mae: 3532.1785\n",
            "Epoch 286/350\n",
            "34/34 [==============================] - 0s 9ms/step - loss: 3523.2847 - mae: 3523.2847\n",
            "Epoch 287/350\n",
            "34/34 [==============================] - 0s 7ms/step - loss: 3522.3088 - mae: 3522.3088\n",
            "Epoch 288/350\n",
            "34/34 [==============================] - 0s 6ms/step - loss: 3521.5957 - mae: 3521.5957\n",
            "Epoch 289/350\n",
            "34/34 [==============================] - 0s 6ms/step - loss: 3522.3752 - mae: 3522.3752\n",
            "Epoch 290/350\n",
            "34/34 [==============================] - 0s 5ms/step - loss: 3526.6382 - mae: 3526.6382\n",
            "Epoch 291/350\n",
            "34/34 [==============================] - 0s 5ms/step - loss: 3528.0081 - mae: 3528.0081\n",
            "Epoch 292/350\n",
            "34/34 [==============================] - 0s 6ms/step - loss: 3524.7476 - mae: 3524.7476\n",
            "Epoch 293/350\n",
            "34/34 [==============================] - 0s 5ms/step - loss: 3516.8408 - mae: 3516.8408\n",
            "Epoch 294/350\n",
            "34/34 [==============================] - 0s 6ms/step - loss: 3525.7117 - mae: 3525.7117\n",
            "Epoch 295/350\n",
            "34/34 [==============================] - 0s 7ms/step - loss: 3529.3379 - mae: 3529.3379\n",
            "Epoch 296/350\n",
            "34/34 [==============================] - 0s 6ms/step - loss: 3514.1941 - mae: 3514.1941\n",
            "Epoch 297/350\n",
            "34/34 [==============================] - 0s 6ms/step - loss: 3506.8745 - mae: 3506.8745\n",
            "Epoch 298/350\n",
            "34/34 [==============================] - 0s 7ms/step - loss: 3510.6389 - mae: 3510.6389\n",
            "Epoch 299/350\n",
            "34/34 [==============================] - 0s 6ms/step - loss: 3522.8489 - mae: 3522.8489\n",
            "Epoch 300/350\n",
            "34/34 [==============================] - 0s 6ms/step - loss: 3510.9636 - mae: 3510.9636\n",
            "Epoch 301/350\n",
            "34/34 [==============================] - 0s 7ms/step - loss: 3508.0730 - mae: 3508.0730\n",
            "Epoch 302/350\n",
            "34/34 [==============================] - 0s 7ms/step - loss: 3529.0054 - mae: 3529.0054\n"
          ]
        }
      ]
    },
    {
      "cell_type": "code",
      "source": [
        ""
      ],
      "metadata": {
        "id": "xUTQC9Z13Xtc"
      },
      "execution_count": null,
      "outputs": []
    },
    {
      "cell_type": "markdown",
      "source": [
        "### Preprocessing data (normalization and standardization)"
      ],
      "metadata": {
        "id": "2-PsWMJA3Xyw"
      }
    },
    {
      "cell_type": "code",
      "source": [
        "X_pd"
      ],
      "metadata": {
        "colab": {
          "base_uri": "https://localhost:8080/",
          "height": 488
        },
        "id": "SmXoEuCW3X3r",
        "outputId": "1007c123-b99c-4ccf-b8b7-cc7fc4f9f58f"
      },
      "execution_count": null,
      "outputs": [
        {
          "output_type": "execute_result",
          "data": {
            "text/html": [
              "\n",
              "  <div id=\"df-f07e3526-b6c9-490a-9b91-a12abd890ebc\">\n",
              "    <div class=\"colab-df-container\">\n",
              "      <div>\n",
              "<style scoped>\n",
              "    .dataframe tbody tr th:only-of-type {\n",
              "        vertical-align: middle;\n",
              "    }\n",
              "\n",
              "    .dataframe tbody tr th {\n",
              "        vertical-align: top;\n",
              "    }\n",
              "\n",
              "    .dataframe thead th {\n",
              "        text-align: right;\n",
              "    }\n",
              "</style>\n",
              "<table border=\"1\" class=\"dataframe\">\n",
              "  <thead>\n",
              "    <tr style=\"text-align: right;\">\n",
              "      <th></th>\n",
              "      <th>age</th>\n",
              "      <th>bmi</th>\n",
              "      <th>children</th>\n",
              "      <th>sex_female</th>\n",
              "      <th>sex_male</th>\n",
              "      <th>smoker_no</th>\n",
              "      <th>smoker_yes</th>\n",
              "      <th>region_northeast</th>\n",
              "      <th>region_northwest</th>\n",
              "      <th>region_southeast</th>\n",
              "      <th>region_southwest</th>\n",
              "    </tr>\n",
              "  </thead>\n",
              "  <tbody>\n",
              "    <tr>\n",
              "      <th>0</th>\n",
              "      <td>19</td>\n",
              "      <td>27.900</td>\n",
              "      <td>0</td>\n",
              "      <td>1</td>\n",
              "      <td>0</td>\n",
              "      <td>0</td>\n",
              "      <td>1</td>\n",
              "      <td>0</td>\n",
              "      <td>0</td>\n",
              "      <td>0</td>\n",
              "      <td>1</td>\n",
              "    </tr>\n",
              "    <tr>\n",
              "      <th>1</th>\n",
              "      <td>18</td>\n",
              "      <td>33.770</td>\n",
              "      <td>1</td>\n",
              "      <td>0</td>\n",
              "      <td>1</td>\n",
              "      <td>1</td>\n",
              "      <td>0</td>\n",
              "      <td>0</td>\n",
              "      <td>0</td>\n",
              "      <td>1</td>\n",
              "      <td>0</td>\n",
              "    </tr>\n",
              "    <tr>\n",
              "      <th>2</th>\n",
              "      <td>28</td>\n",
              "      <td>33.000</td>\n",
              "      <td>3</td>\n",
              "      <td>0</td>\n",
              "      <td>1</td>\n",
              "      <td>1</td>\n",
              "      <td>0</td>\n",
              "      <td>0</td>\n",
              "      <td>0</td>\n",
              "      <td>1</td>\n",
              "      <td>0</td>\n",
              "    </tr>\n",
              "    <tr>\n",
              "      <th>3</th>\n",
              "      <td>33</td>\n",
              "      <td>22.705</td>\n",
              "      <td>0</td>\n",
              "      <td>0</td>\n",
              "      <td>1</td>\n",
              "      <td>1</td>\n",
              "      <td>0</td>\n",
              "      <td>0</td>\n",
              "      <td>1</td>\n",
              "      <td>0</td>\n",
              "      <td>0</td>\n",
              "    </tr>\n",
              "    <tr>\n",
              "      <th>4</th>\n",
              "      <td>32</td>\n",
              "      <td>28.880</td>\n",
              "      <td>0</td>\n",
              "      <td>0</td>\n",
              "      <td>1</td>\n",
              "      <td>1</td>\n",
              "      <td>0</td>\n",
              "      <td>0</td>\n",
              "      <td>1</td>\n",
              "      <td>0</td>\n",
              "      <td>0</td>\n",
              "    </tr>\n",
              "    <tr>\n",
              "      <th>...</th>\n",
              "      <td>...</td>\n",
              "      <td>...</td>\n",
              "      <td>...</td>\n",
              "      <td>...</td>\n",
              "      <td>...</td>\n",
              "      <td>...</td>\n",
              "      <td>...</td>\n",
              "      <td>...</td>\n",
              "      <td>...</td>\n",
              "      <td>...</td>\n",
              "      <td>...</td>\n",
              "    </tr>\n",
              "    <tr>\n",
              "      <th>1333</th>\n",
              "      <td>50</td>\n",
              "      <td>30.970</td>\n",
              "      <td>3</td>\n",
              "      <td>0</td>\n",
              "      <td>1</td>\n",
              "      <td>1</td>\n",
              "      <td>0</td>\n",
              "      <td>0</td>\n",
              "      <td>1</td>\n",
              "      <td>0</td>\n",
              "      <td>0</td>\n",
              "    </tr>\n",
              "    <tr>\n",
              "      <th>1334</th>\n",
              "      <td>18</td>\n",
              "      <td>31.920</td>\n",
              "      <td>0</td>\n",
              "      <td>1</td>\n",
              "      <td>0</td>\n",
              "      <td>1</td>\n",
              "      <td>0</td>\n",
              "      <td>1</td>\n",
              "      <td>0</td>\n",
              "      <td>0</td>\n",
              "      <td>0</td>\n",
              "    </tr>\n",
              "    <tr>\n",
              "      <th>1335</th>\n",
              "      <td>18</td>\n",
              "      <td>36.850</td>\n",
              "      <td>0</td>\n",
              "      <td>1</td>\n",
              "      <td>0</td>\n",
              "      <td>1</td>\n",
              "      <td>0</td>\n",
              "      <td>0</td>\n",
              "      <td>0</td>\n",
              "      <td>1</td>\n",
              "      <td>0</td>\n",
              "    </tr>\n",
              "    <tr>\n",
              "      <th>1336</th>\n",
              "      <td>21</td>\n",
              "      <td>25.800</td>\n",
              "      <td>0</td>\n",
              "      <td>1</td>\n",
              "      <td>0</td>\n",
              "      <td>1</td>\n",
              "      <td>0</td>\n",
              "      <td>0</td>\n",
              "      <td>0</td>\n",
              "      <td>0</td>\n",
              "      <td>1</td>\n",
              "    </tr>\n",
              "    <tr>\n",
              "      <th>1337</th>\n",
              "      <td>61</td>\n",
              "      <td>29.070</td>\n",
              "      <td>0</td>\n",
              "      <td>1</td>\n",
              "      <td>0</td>\n",
              "      <td>0</td>\n",
              "      <td>1</td>\n",
              "      <td>0</td>\n",
              "      <td>1</td>\n",
              "      <td>0</td>\n",
              "      <td>0</td>\n",
              "    </tr>\n",
              "  </tbody>\n",
              "</table>\n",
              "<p>1338 rows × 11 columns</p>\n",
              "</div>\n",
              "      <button class=\"colab-df-convert\" onclick=\"convertToInteractive('df-f07e3526-b6c9-490a-9b91-a12abd890ebc')\"\n",
              "              title=\"Convert this dataframe to an interactive table.\"\n",
              "              style=\"display:none;\">\n",
              "        \n",
              "  <svg xmlns=\"http://www.w3.org/2000/svg\" height=\"24px\"viewBox=\"0 0 24 24\"\n",
              "       width=\"24px\">\n",
              "    <path d=\"M0 0h24v24H0V0z\" fill=\"none\"/>\n",
              "    <path d=\"M18.56 5.44l.94 2.06.94-2.06 2.06-.94-2.06-.94-.94-2.06-.94 2.06-2.06.94zm-11 1L8.5 8.5l.94-2.06 2.06-.94-2.06-.94L8.5 2.5l-.94 2.06-2.06.94zm10 10l.94 2.06.94-2.06 2.06-.94-2.06-.94-.94-2.06-.94 2.06-2.06.94z\"/><path d=\"M17.41 7.96l-1.37-1.37c-.4-.4-.92-.59-1.43-.59-.52 0-1.04.2-1.43.59L10.3 9.45l-7.72 7.72c-.78.78-.78 2.05 0 2.83L4 21.41c.39.39.9.59 1.41.59.51 0 1.02-.2 1.41-.59l7.78-7.78 2.81-2.81c.8-.78.8-2.07 0-2.86zM5.41 20L4 18.59l7.72-7.72 1.47 1.35L5.41 20z\"/>\n",
              "  </svg>\n",
              "      </button>\n",
              "      \n",
              "  <style>\n",
              "    .colab-df-container {\n",
              "      display:flex;\n",
              "      flex-wrap:wrap;\n",
              "      gap: 12px;\n",
              "    }\n",
              "\n",
              "    .colab-df-convert {\n",
              "      background-color: #E8F0FE;\n",
              "      border: none;\n",
              "      border-radius: 50%;\n",
              "      cursor: pointer;\n",
              "      display: none;\n",
              "      fill: #1967D2;\n",
              "      height: 32px;\n",
              "      padding: 0 0 0 0;\n",
              "      width: 32px;\n",
              "    }\n",
              "\n",
              "    .colab-df-convert:hover {\n",
              "      background-color: #E2EBFA;\n",
              "      box-shadow: 0px 1px 2px rgba(60, 64, 67, 0.3), 0px 1px 3px 1px rgba(60, 64, 67, 0.15);\n",
              "      fill: #174EA6;\n",
              "    }\n",
              "\n",
              "    [theme=dark] .colab-df-convert {\n",
              "      background-color: #3B4455;\n",
              "      fill: #D2E3FC;\n",
              "    }\n",
              "\n",
              "    [theme=dark] .colab-df-convert:hover {\n",
              "      background-color: #434B5C;\n",
              "      box-shadow: 0px 1px 3px 1px rgba(0, 0, 0, 0.15);\n",
              "      filter: drop-shadow(0px 1px 2px rgba(0, 0, 0, 0.3));\n",
              "      fill: #FFFFFF;\n",
              "    }\n",
              "  </style>\n",
              "\n",
              "      <script>\n",
              "        const buttonEl =\n",
              "          document.querySelector('#df-f07e3526-b6c9-490a-9b91-a12abd890ebc button.colab-df-convert');\n",
              "        buttonEl.style.display =\n",
              "          google.colab.kernel.accessAllowed ? 'block' : 'none';\n",
              "\n",
              "        async function convertToInteractive(key) {\n",
              "          const element = document.querySelector('#df-f07e3526-b6c9-490a-9b91-a12abd890ebc');\n",
              "          const dataTable =\n",
              "            await google.colab.kernel.invokeFunction('convertToInteractive',\n",
              "                                                     [key], {});\n",
              "          if (!dataTable) return;\n",
              "\n",
              "          const docLinkHtml = 'Like what you see? Visit the ' +\n",
              "            '<a target=\"_blank\" href=https://colab.research.google.com/notebooks/data_table.ipynb>data table notebook</a>'\n",
              "            + ' to learn more about interactive tables.';\n",
              "          element.innerHTML = '';\n",
              "          dataTable['output_type'] = 'display_data';\n",
              "          await google.colab.output.renderOutput(dataTable, element);\n",
              "          const docLink = document.createElement('div');\n",
              "          docLink.innerHTML = docLinkHtml;\n",
              "          element.appendChild(docLink);\n",
              "        }\n",
              "      </script>\n",
              "    </div>\n",
              "  </div>\n",
              "  "
            ],
            "text/plain": [
              "      age     bmi  ...  region_southeast  region_southwest\n",
              "0      19  27.900  ...                 0                 1\n",
              "1      18  33.770  ...                 1                 0\n",
              "2      28  33.000  ...                 1                 0\n",
              "3      33  22.705  ...                 0                 0\n",
              "4      32  28.880  ...                 0                 0\n",
              "...   ...     ...  ...               ...               ...\n",
              "1333   50  30.970  ...                 0                 0\n",
              "1334   18  31.920  ...                 0                 0\n",
              "1335   18  36.850  ...                 1                 0\n",
              "1336   21  25.800  ...                 0                 1\n",
              "1337   61  29.070  ...                 0                 0\n",
              "\n",
              "[1338 rows x 11 columns]"
            ]
          },
          "metadata": {},
          "execution_count": 44
        }
      ]
    },
    {
      "cell_type": "code",
      "source": [
        "X_pd[\"age\"].plot(kind=\"hist\")"
      ],
      "metadata": {
        "colab": {
          "base_uri": "https://localhost:8080/",
          "height": 282
        },
        "id": "vtWgKWIf3YTY",
        "outputId": "a675862b-7765-4b82-d05b-51905dfb08fc"
      },
      "execution_count": null,
      "outputs": [
        {
          "output_type": "execute_result",
          "data": {
            "text/plain": [
              "<matplotlib.axes._subplots.AxesSubplot at 0x7fa3f01d5410>"
            ]
          },
          "metadata": {},
          "execution_count": 45
        },
        {
          "output_type": "display_data",
          "data": {
            "image/png": "[encoded data removed]",
            "text/plain": [
              "<Figure size 432x288 with 1 Axes>"
            ]
          },
          "metadata": {
            "needs_background": "light"
          }
        }
      ]
    },
    {
      "cell_type": "code",
      "source": [
        "X_pd[\"bmi\"].plot(kind=\"hist\")"
      ],
      "metadata": {
        "colab": {
          "base_uri": "https://localhost:8080/",
          "height": 282
        },
        "id": "vGwyhUOy3Yd5",
        "outputId": "4cff9ea5-21de-4089-cc98-b7014545b7b5"
      },
      "execution_count": null,
      "outputs": [
        {
          "output_type": "execute_result",
          "data": {
            "text/plain": [
              "<matplotlib.axes._subplots.AxesSubplot at 0x7fa3f00465d0>"
            ]
          },
          "metadata": {},
          "execution_count": 46
        },
        {
          "output_type": "display_data",
          "data": {
            "image/png": "[encoded data removed]",
            "text/plain": [
              "<Figure size 432x288 with 1 Axes>"
            ]
          },
          "metadata": {
            "needs_background": "light"
          }
        }
      ]
    },
    {
      "cell_type": "code",
      "source": [
        "X_pd[\"children\"].value_counts()"
      ],
      "metadata": {
        "colab": {
          "base_uri": "https://localhost:8080/"
        },
        "id": "OAzEWA3eBmgR",
        "outputId": "b3c2b0c7-2b66-4273-f970-5f799ab00e75"
      },
      "execution_count": null,
      "outputs": [
        {
          "output_type": "execute_result",
          "data": {
            "text/plain": [
              "0    574\n",
              "1    324\n",
              "2    240\n",
              "3    157\n",
              "4     25\n",
              "5     18\n",
              "Name: children, dtype: int64"
            ]
          },
          "metadata": {},
          "execution_count": 47
        }
      ]
    },
    {
      "cell_type": "markdown",
      "source": [
        "###Types of scaling:\n",
        "1. Normalization :- Scaling between 0 and 1 whilst preserving the original distribution. (MinMaxScalar in scikit learn)\n",
        "2. Standardization :- Removes the mean and divides value by the standard deviation. (StandardScalar in scikit learn)\n",
        "\n",
        "* In terms of scaling value, neural networks prefer normalization."
      ],
      "metadata": {
        "id": "LX8SzMB2BvO6"
      }
    },
    {
      "cell_type": "code",
      "source": [
        "insurance"
      ],
      "metadata": {
        "colab": {
          "base_uri": "https://localhost:8080/",
          "height": 424
        },
        "id": "RRg5kAkXCY3G",
        "outputId": "69d5db44-26ac-4ef7-9a9a-93a62597c05c"
      },
      "execution_count": null,
      "outputs": [
        {
          "output_type": "execute_result",
          "data": {
            "text/html": [
              "\n",
              "  <div id=\"df-7fdbf7f3-fde7-422a-a736-bcaab2abee2a\">\n",
              "    <div class=\"colab-df-container\">\n",
              "      <div>\n",
              "<style scoped>\n",
              "    .dataframe tbody tr th:only-of-type {\n",
              "        vertical-align: middle;\n",
              "    }\n",
              "\n",
              "    .dataframe tbody tr th {\n",
              "        vertical-align: top;\n",
              "    }\n",
              "\n",
              "    .dataframe thead th {\n",
              "        text-align: right;\n",
              "    }\n",
              "</style>\n",
              "<table border=\"1\" class=\"dataframe\">\n",
              "  <thead>\n",
              "    <tr style=\"text-align: right;\">\n",
              "      <th></th>\n",
              "      <th>age</th>\n",
              "      <th>sex</th>\n",
              "      <th>bmi</th>\n",
              "      <th>children</th>\n",
              "      <th>smoker</th>\n",
              "      <th>region</th>\n",
              "      <th>charges</th>\n",
              "    </tr>\n",
              "  </thead>\n",
              "  <tbody>\n",
              "    <tr>\n",
              "      <th>0</th>\n",
              "      <td>19</td>\n",
              "      <td>female</td>\n",
              "      <td>27.900</td>\n",
              "      <td>0</td>\n",
              "      <td>yes</td>\n",
              "      <td>southwest</td>\n",
              "      <td>16884.92400</td>\n",
              "    </tr>\n",
              "    <tr>\n",
              "      <th>1</th>\n",
              "      <td>18</td>\n",
              "      <td>male</td>\n",
              "      <td>33.770</td>\n",
              "      <td>1</td>\n",
              "      <td>no</td>\n",
              "      <td>southeast</td>\n",
              "      <td>1725.55230</td>\n",
              "    </tr>\n",
              "    <tr>\n",
              "      <th>2</th>\n",
              "      <td>28</td>\n",
              "      <td>male</td>\n",
              "      <td>33.000</td>\n",
              "      <td>3</td>\n",
              "      <td>no</td>\n",
              "      <td>southeast</td>\n",
              "      <td>4449.46200</td>\n",
              "    </tr>\n",
              "    <tr>\n",
              "      <th>3</th>\n",
              "      <td>33</td>\n",
              "      <td>male</td>\n",
              "      <td>22.705</td>\n",
              "      <td>0</td>\n",
              "      <td>no</td>\n",
              "      <td>northwest</td>\n",
              "      <td>21984.47061</td>\n",
              "    </tr>\n",
              "    <tr>\n",
              "      <th>4</th>\n",
              "      <td>32</td>\n",
              "      <td>male</td>\n",
              "      <td>28.880</td>\n",
              "      <td>0</td>\n",
              "      <td>no</td>\n",
              "      <td>northwest</td>\n",
              "      <td>3866.85520</td>\n",
              "    </tr>\n",
              "    <tr>\n",
              "      <th>...</th>\n",
              "      <td>...</td>\n",
              "      <td>...</td>\n",
              "      <td>...</td>\n",
              "      <td>...</td>\n",
              "      <td>...</td>\n",
              "      <td>...</td>\n",
              "      <td>...</td>\n",
              "    </tr>\n",
              "    <tr>\n",
              "      <th>1333</th>\n",
              "      <td>50</td>\n",
              "      <td>male</td>\n",
              "      <td>30.970</td>\n",
              "      <td>3</td>\n",
              "      <td>no</td>\n",
              "      <td>northwest</td>\n",
              "      <td>10600.54830</td>\n",
              "    </tr>\n",
              "    <tr>\n",
              "      <th>1334</th>\n",
              "      <td>18</td>\n",
              "      <td>female</td>\n",
              "      <td>31.920</td>\n",
              "      <td>0</td>\n",
              "      <td>no</td>\n",
              "      <td>northeast</td>\n",
              "      <td>2205.98080</td>\n",
              "    </tr>\n",
              "    <tr>\n",
              "      <th>1335</th>\n",
              "      <td>18</td>\n",
              "      <td>female</td>\n",
              "      <td>36.850</td>\n",
              "      <td>0</td>\n",
              "      <td>no</td>\n",
              "      <td>southeast</td>\n",
              "      <td>1629.83350</td>\n",
              "    </tr>\n",
              "    <tr>\n",
              "      <th>1336</th>\n",
              "      <td>21</td>\n",
              "      <td>female</td>\n",
              "      <td>25.800</td>\n",
              "      <td>0</td>\n",
              "      <td>no</td>\n",
              "      <td>southwest</td>\n",
              "      <td>2007.94500</td>\n",
              "    </tr>\n",
              "    <tr>\n",
              "      <th>1337</th>\n",
              "      <td>61</td>\n",
              "      <td>female</td>\n",
              "      <td>29.070</td>\n",
              "      <td>0</td>\n",
              "      <td>yes</td>\n",
              "      <td>northwest</td>\n",
              "      <td>29141.36030</td>\n",
              "    </tr>\n",
              "  </tbody>\n",
              "</table>\n",
              "<p>1338 rows × 7 columns</p>\n",
              "</div>\n",
              "      <button class=\"colab-df-convert\" onclick=\"convertToInteractive('df-7fdbf7f3-fde7-422a-a736-bcaab2abee2a')\"\n",
              "              title=\"Convert this dataframe to an interactive table.\"\n",
              "              style=\"display:none;\">\n",
              "        \n",
              "  <svg xmlns=\"http://www.w3.org/2000/svg\" height=\"24px\"viewBox=\"0 0 24 24\"\n",
              "       width=\"24px\">\n",
              "    <path d=\"M0 0h24v24H0V0z\" fill=\"none\"/>\n",
              "    <path d=\"M18.56 5.44l.94 2.06.94-2.06 2.06-.94-2.06-.94-.94-2.06-.94 2.06-2.06.94zm-11 1L8.5 8.5l.94-2.06 2.06-.94-2.06-.94L8.5 2.5l-.94 2.06-2.06.94zm10 10l.94 2.06.94-2.06 2.06-.94-2.06-.94-.94-2.06-.94 2.06-2.06.94z\"/><path d=\"M17.41 7.96l-1.37-1.37c-.4-.4-.92-.59-1.43-.59-.52 0-1.04.2-1.43.59L10.3 9.45l-7.72 7.72c-.78.78-.78 2.05 0 2.83L4 21.41c.39.39.9.59 1.41.59.51 0 1.02-.2 1.41-.59l7.78-7.78 2.81-2.81c.8-.78.8-2.07 0-2.86zM5.41 20L4 18.59l7.72-7.72 1.47 1.35L5.41 20z\"/>\n",
              "  </svg>\n",
              "      </button>\n",
              "      \n",
              "  <style>\n",
              "    .colab-df-container {\n",
              "      display:flex;\n",
              "      flex-wrap:wrap;\n",
              "      gap: 12px;\n",
              "    }\n",
              "\n",
              "    .colab-df-convert {\n",
              "      background-color: #E8F0FE;\n",
              "      border: none;\n",
              "      border-radius: 50%;\n",
              "      cursor: pointer;\n",
              "      display: none;\n",
              "      fill: #1967D2;\n",
              "      height: 32px;\n",
              "      padding: 0 0 0 0;\n",
              "      width: 32px;\n",
              "    }\n",
              "\n",
              "    .colab-df-convert:hover {\n",
              "      background-color: #E2EBFA;\n",
              "      box-shadow: 0px 1px 2px rgba(60, 64, 67, 0.3), 0px 1px 3px 1px rgba(60, 64, 67, 0.15);\n",
              "      fill: #174EA6;\n",
              "    }\n",
              "\n",
              "    [theme=dark] .colab-df-convert {\n",
              "      background-color: #3B4455;\n",
              "      fill: #D2E3FC;\n",
              "    }\n",
              "\n",
              "    [theme=dark] .colab-df-convert:hover {\n",
              "      background-color: #434B5C;\n",
              "      box-shadow: 0px 1px 3px 1px rgba(0, 0, 0, 0.15);\n",
              "      filter: drop-shadow(0px 1px 2px rgba(0, 0, 0, 0.3));\n",
              "      fill: #FFFFFF;\n",
              "    }\n",
              "  </style>\n",
              "\n",
              "      <script>\n",
              "        const buttonEl =\n",
              "          document.querySelector('#df-7fdbf7f3-fde7-422a-a736-bcaab2abee2a button.colab-df-convert');\n",
              "        buttonEl.style.display =\n",
              "          google.colab.kernel.accessAllowed ? 'block' : 'none';\n",
              "\n",
              "        async function convertToInteractive(key) {\n",
              "          const element = document.querySelector('#df-7fdbf7f3-fde7-422a-a736-bcaab2abee2a');\n",
              "          const dataTable =\n",
              "            await google.colab.kernel.invokeFunction('convertToInteractive',\n",
              "                                                     [key], {});\n",
              "          if (!dataTable) return;\n",
              "\n",
              "          const docLinkHtml = 'Like what you see? Visit the ' +\n",
              "            '<a target=\"_blank\" href=https://colab.research.google.com/notebooks/data_table.ipynb>data table notebook</a>'\n",
              "            + ' to learn more about interactive tables.';\n",
              "          element.innerHTML = '';\n",
              "          dataTable['output_type'] = 'display_data';\n",
              "          await google.colab.output.renderOutput(dataTable, element);\n",
              "          const docLink = document.createElement('div');\n",
              "          docLink.innerHTML = docLinkHtml;\n",
              "          element.appendChild(docLink);\n",
              "        }\n",
              "      </script>\n",
              "    </div>\n",
              "  </div>\n",
              "  "
            ],
            "text/plain": [
              "      age     sex     bmi  children smoker     region      charges\n",
              "0      19  female  27.900         0    yes  southwest  16884.92400\n",
              "1      18    male  33.770         1     no  southeast   1725.55230\n",
              "2      28    male  33.000         3     no  southeast   4449.46200\n",
              "3      33    male  22.705         0     no  northwest  21984.47061\n",
              "4      32    male  28.880         0     no  northwest   3866.85520\n",
              "...   ...     ...     ...       ...    ...        ...          ...\n",
              "1333   50    male  30.970         3     no  northwest  10600.54830\n",
              "1334   18  female  31.920         0     no  northeast   2205.98080\n",
              "1335   18  female  36.850         0     no  southeast   1629.83350\n",
              "1336   21  female  25.800         0     no  southwest   2007.94500\n",
              "1337   61  female  29.070         0    yes  northwest  29141.36030\n",
              "\n",
              "[1338 rows x 7 columns]"
            ]
          },
          "metadata": {},
          "execution_count": 48
        }
      ]
    },
    {
      "cell_type": "code",
      "source": [
        "from sklearn.compose import make_column_transformer\n",
        "from sklearn.preprocessing import MinMaxScaler, OneHotEncoder\n",
        "from sklearn.model_selection import train_test_split\n",
        "\n",
        "#Create a cloumn transformer\n",
        "\n",
        "ct = make_column_transformer(\n",
        "    (MinMaxScaler(), [\"age\", \"bmi\", \"children\"]), # Turn all values between 0 and 1 \n",
        "    (OneHotEncoder(handle_unknown=\"ignore\"), [\"sex\", \"smoker\", \"region\"]) \n",
        ")\n",
        "\n",
        "#Create and X and Y values\n",
        "X=insurance.drop(\"charges\",axis=1)\n",
        "y=insurance[\"charges\"]\n",
        "\n",
        "#Build our train and test data sets\n",
        "X_train, X_test, y_train, y_test = train_test_split(X, y, test_size=0.2, random_state=42)\n",
        "\n",
        "# Fit the column transformer to our training data\n",
        "ct.fit(X_train)\n",
        "\n",
        "# Transform training and testing data with normalization (MinMaxScalar) and OneHotEncoder\n",
        "X_train_normal=ct.transform(X_train)\n",
        "X_test_normal=ct.transform(X_test)"
      ],
      "metadata": {
        "id": "vSm-j6fREIgf"
      },
      "execution_count": null,
      "outputs": []
    },
    {
      "cell_type": "code",
      "source": [
        "# What does our data look like now\n",
        "X_train.loc[0]"
      ],
      "metadata": {
        "colab": {
          "base_uri": "https://localhost:8080/"
        },
        "id": "aTd0WLewGivn",
        "outputId": "0726de01-83ad-4b0b-f1ce-2a49c0ebcd2f"
      },
      "execution_count": null,
      "outputs": [
        {
          "output_type": "execute_result",
          "data": {
            "text/plain": [
              "age                19\n",
              "sex            female\n",
              "bmi              27.9\n",
              "children            0\n",
              "smoker            yes\n",
              "region      southwest\n",
              "Name: 0, dtype: object"
            ]
          },
          "metadata": {},
          "execution_count": 51
        }
      ]
    },
    {
      "cell_type": "code",
      "source": [
        "X_train_normal[0]"
      ],
      "metadata": {
        "colab": {
          "base_uri": "https://localhost:8080/"
        },
        "id": "-1MayYu5HBqQ",
        "outputId": "76ef6fec-edf3-4245-9679-556a9a3e4f08"
      },
      "execution_count": null,
      "outputs": [
        {
          "output_type": "execute_result",
          "data": {
            "text/plain": [
              "array([[0.60869565, 0.10734463, 0.4       , ..., 1.        , 0.        ,\n",
              "        0.        ],\n",
              "       [0.63043478, 0.22491256, 0.        , ..., 0.        , 0.        ,\n",
              "        0.        ],\n",
              "       [0.73913043, 0.23944041, 0.        , ..., 0.        , 1.        ,\n",
              "        0.        ],\n",
              "       ...,\n",
              "       [0.86956522, 0.24791499, 0.        , ..., 0.        , 0.        ,\n",
              "        0.        ],\n",
              "       [0.41304348, 0.85122411, 0.4       , ..., 0.        , 0.        ,\n",
              "        1.        ],\n",
              "       [0.80434783, 0.37503363, 0.        , ..., 0.        , 0.        ,\n",
              "        1.        ]])"
            ]
          },
          "metadata": {},
          "execution_count": 54
        }
      ]
    },
    {
      "cell_type": "code",
      "source": [
        "X_train.shape, X_train_normal.shape"
      ],
      "metadata": {
        "colab": {
          "base_uri": "https://localhost:8080/"
        },
        "id": "MRUeZ4wIHEgM",
        "outputId": "22734d3f-6181-4640-b470-60abf9960324"
      },
      "execution_count": null,
      "outputs": [
        {
          "output_type": "execute_result",
          "data": {
            "text/plain": [
              "((1070, 6), (1070, 11))"
            ]
          },
          "metadata": {},
          "execution_count": 55
        }
      ]
    },
    {
      "cell_type": "code",
      "source": [
        "# Build a nn and fit it and evaluate it in test dataset\n",
        "\n",
        "tf.random.set_seed(42)\n",
        "\n",
        "model_normalized=tf.keras.Sequential([\n",
        "        tf.keras.layers.Dense(100),\n",
        "        tf.keras.layers.Dense(10),\n",
        "        tf.keras.layers.Dense(1)\n",
        "])\n",
        "\n",
        "model_normalized.compile(loss=tf.keras.losses.mae,\n",
        "                         optimizer=tf.keras.optimizers.Adam(),\n",
        "                         metrics=[\"mae\"])\n",
        "\n",
        "model_normalized.fit(X_train_normal,y_train, epochs=150)"
      ],
      "metadata": {
        "colab": {
          "base_uri": "https://localhost:8080/"
        },
        "id": "Dpj3gICBHiu3",
        "outputId": "235dd174-f742-44c7-8aaa-cf1aa0d430af"
      },
      "execution_count": null,
      "outputs": [
        {
          "output_type": "stream",
          "name": "stdout",
          "text": [
            "Epoch 1/150\n",
            "34/34 [==============================] - 1s 6ms/step - loss: 13342.6494 - mae: 13342.6494\n",
            "Epoch 2/150\n",
            "34/34 [==============================] - 0s 5ms/step - loss: 13333.4795 - mae: 13333.4795\n",
            "Epoch 3/150\n",
            "34/34 [==============================] - 0s 6ms/step - loss: 13312.0234 - mae: 13312.0234\n",
            "Epoch 4/150\n",
            "34/34 [==============================] - 0s 6ms/step - loss: 13267.7930 - mae: 13267.7930\n",
            "Epoch 5/150\n",
            "34/34 [==============================] - 0s 6ms/step - loss: 13189.5850 - mae: 13189.5850\n",
            "Epoch 6/150\n",
            "34/34 [==============================] - 0s 6ms/step - loss: 13066.4482 - mae: 13066.4482\n",
            "Epoch 7/150\n",
            "34/34 [==============================] - 0s 6ms/step - loss: 12888.1953 - mae: 12888.1953\n",
            "Epoch 8/150\n",
            "34/34 [==============================] - 0s 6ms/step - loss: 12644.6523 - mae: 12644.6523\n",
            "Epoch 9/150\n",
            "34/34 [==============================] - 0s 5ms/step - loss: 12325.5469 - mae: 12325.5469\n",
            "Epoch 10/150\n",
            "34/34 [==============================] - 0s 6ms/step - loss: 11925.9658 - mae: 11925.9658\n",
            "Epoch 11/150\n",
            "34/34 [==============================] - 0s 5ms/step - loss: 11454.3350 - mae: 11454.3350\n",
            "Epoch 12/150\n",
            "34/34 [==============================] - 0s 6ms/step - loss: 10949.8066 - mae: 10949.8066\n",
            "Epoch 13/150\n",
            "34/34 [==============================] - 0s 6ms/step - loss: 10448.9395 - mae: 10448.9395\n",
            "Epoch 14/150\n",
            "34/34 [==============================] - 0s 5ms/step - loss: 9951.6250 - mae: 9951.6250\n",
            "Epoch 15/150\n",
            "34/34 [==============================] - 0s 5ms/step - loss: 9482.7422 - mae: 9482.7422\n",
            "Epoch 16/150\n",
            "34/34 [==============================] - 0s 6ms/step - loss: 9066.7461 - mae: 9066.7461\n",
            "Epoch 17/150\n",
            "34/34 [==============================] - 0s 5ms/step - loss: 8721.9844 - mae: 8721.9844\n",
            "Epoch 18/150\n",
            "34/34 [==============================] - 0s 6ms/step - loss: 8441.1992 - mae: 8441.1992\n",
            "Epoch 19/150\n",
            "34/34 [==============================] - 0s 6ms/step - loss: 8227.5117 - mae: 8227.5117\n",
            "Epoch 20/150\n",
            "34/34 [==============================] - 0s 6ms/step - loss: 8081.9775 - mae: 8081.9775\n",
            "Epoch 21/150\n",
            "34/34 [==============================] - 0s 6ms/step - loss: 7973.8945 - mae: 7973.8945\n",
            "Epoch 22/150\n",
            "34/34 [==============================] - 0s 6ms/step - loss: 7899.1597 - mae: 7899.1597\n",
            "Epoch 23/150\n",
            "34/34 [==============================] - 0s 6ms/step - loss: 7840.3906 - mae: 7840.3906\n",
            "Epoch 24/150\n",
            "34/34 [==============================] - 0s 5ms/step - loss: 7787.9619 - mae: 7787.9619\n",
            "Epoch 25/150\n",
            "34/34 [==============================] - 0s 5ms/step - loss: 7749.2622 - mae: 7749.2622\n",
            "Epoch 26/150\n",
            "34/34 [==============================] - 0s 5ms/step - loss: 7697.9595 - mae: 7697.9595\n",
            "Epoch 27/150\n",
            "34/34 [==============================] - 0s 5ms/step - loss: 7656.0273 - mae: 7656.0273\n",
            "Epoch 28/150\n",
            "34/34 [==============================] - 0s 6ms/step - loss: 7613.4780 - mae: 7613.4780\n",
            "Epoch 29/150\n",
            "34/34 [==============================] - 0s 5ms/step - loss: 7570.9482 - mae: 7570.9482\n",
            "Epoch 30/150\n",
            "34/34 [==============================] - 0s 6ms/step - loss: 7527.4175 - mae: 7527.4175\n",
            "Epoch 31/150\n",
            "34/34 [==============================] - 0s 5ms/step - loss: 7483.5947 - mae: 7483.5947\n",
            "Epoch 32/150\n",
            "34/34 [==============================] - 0s 5ms/step - loss: 7439.4429 - mae: 7439.4429\n",
            "Epoch 33/150\n",
            "34/34 [==============================] - 0s 5ms/step - loss: 7395.0547 - mae: 7395.0547\n",
            "Epoch 34/150\n",
            "34/34 [==============================] - 0s 5ms/step - loss: 7346.8125 - mae: 7346.8125\n",
            "Epoch 35/150\n",
            "34/34 [==============================] - 0s 5ms/step - loss: 7300.0488 - mae: 7300.0488\n",
            "Epoch 36/150\n",
            "34/34 [==============================] - 0s 5ms/step - loss: 7249.8452 - mae: 7249.8452\n",
            "Epoch 37/150\n",
            "34/34 [==============================] - 0s 4ms/step - loss: 7199.5308 - mae: 7199.5308\n",
            "Epoch 38/150\n",
            "34/34 [==============================] - 0s 5ms/step - loss: 7148.4805 - mae: 7148.4805\n",
            "Epoch 39/150\n",
            "34/34 [==============================] - 0s 5ms/step - loss: 7093.6660 - mae: 7093.6660\n",
            "Epoch 40/150\n",
            "34/34 [==============================] - 0s 6ms/step - loss: 7038.1797 - mae: 7038.1797\n",
            "Epoch 41/150\n",
            "34/34 [==============================] - 0s 5ms/step - loss: 6981.7397 - mae: 6981.7397\n",
            "Epoch 42/150\n",
            "34/34 [==============================] - 0s 5ms/step - loss: 6922.7847 - mae: 6922.7847\n",
            "Epoch 43/150\n",
            "34/34 [==============================] - 0s 6ms/step - loss: 6860.1724 - mae: 6860.1724\n",
            "Epoch 44/150\n",
            "34/34 [==============================] - 0s 5ms/step - loss: 6793.7974 - mae: 6793.7974\n",
            "Epoch 45/150\n",
            "34/34 [==============================] - 0s 5ms/step - loss: 6726.6201 - mae: 6726.6201\n",
            "Epoch 46/150\n",
            "34/34 [==============================] - 0s 5ms/step - loss: 6657.4683 - mae: 6657.4683\n",
            "Epoch 47/150\n",
            "34/34 [==============================] - 0s 5ms/step - loss: 6586.3086 - mae: 6586.3086\n",
            "Epoch 48/150\n",
            "34/34 [==============================] - 0s 5ms/step - loss: 6507.5063 - mae: 6507.5063\n",
            "Epoch 49/150\n",
            "34/34 [==============================] - 0s 5ms/step - loss: 6428.6025 - mae: 6428.6025\n",
            "Epoch 50/150\n",
            "34/34 [==============================] - 0s 5ms/step - loss: 6342.7109 - mae: 6342.7109\n",
            "Epoch 51/150\n",
            "34/34 [==============================] - 0s 5ms/step - loss: 6258.0718 - mae: 6258.0718\n",
            "Epoch 52/150\n",
            "34/34 [==============================] - 0s 4ms/step - loss: 6164.7046 - mae: 6164.7046\n",
            "Epoch 53/150\n",
            "34/34 [==============================] - 0s 5ms/step - loss: 6068.6748 - mae: 6068.6748\n",
            "Epoch 54/150\n",
            "34/34 [==============================] - 0s 5ms/step - loss: 5970.0981 - mae: 5970.0981\n",
            "Epoch 55/150\n",
            "34/34 [==============================] - 0s 6ms/step - loss: 5862.5625 - mae: 5862.5625\n",
            "Epoch 56/150\n",
            "34/34 [==============================] - 0s 6ms/step - loss: 5753.9531 - mae: 5753.9531\n",
            "Epoch 57/150\n",
            "34/34 [==============================] - 0s 5ms/step - loss: 5638.0947 - mae: 5638.0947\n",
            "Epoch 58/150\n",
            "34/34 [==============================] - 0s 5ms/step - loss: 5519.8691 - mae: 5519.8691\n",
            "Epoch 59/150\n",
            "34/34 [==============================] - 0s 6ms/step - loss: 5401.3208 - mae: 5401.3208\n",
            "Epoch 60/150\n",
            "34/34 [==============================] - 0s 5ms/step - loss: 5277.3511 - mae: 5277.3511\n",
            "Epoch 61/150\n",
            "34/34 [==============================] - 0s 4ms/step - loss: 5149.7642 - mae: 5149.7642\n",
            "Epoch 62/150\n",
            "34/34 [==============================] - 0s 5ms/step - loss: 5019.3540 - mae: 5019.3540\n",
            "Epoch 63/150\n",
            "34/34 [==============================] - 0s 6ms/step - loss: 4889.6865 - mae: 4889.6865\n",
            "Epoch 64/150\n",
            "34/34 [==============================] - 0s 6ms/step - loss: 4756.8564 - mae: 4756.8564\n",
            "Epoch 65/150\n",
            "34/34 [==============================] - 0s 6ms/step - loss: 4629.4375 - mae: 4629.4375\n",
            "Epoch 66/150\n",
            "34/34 [==============================] - 0s 6ms/step - loss: 4503.6001 - mae: 4503.6001\n",
            "Epoch 67/150\n",
            "34/34 [==============================] - 0s 6ms/step - loss: 4392.9927 - mae: 4392.9927\n",
            "Epoch 68/150\n",
            "34/34 [==============================] - 0s 5ms/step - loss: 4284.3872 - mae: 4284.3872\n",
            "Epoch 69/150\n",
            "34/34 [==============================] - 0s 6ms/step - loss: 4182.6182 - mae: 4182.6182\n",
            "Epoch 70/150\n",
            "34/34 [==============================] - 0s 6ms/step - loss: 4089.5725 - mae: 4089.5725\n",
            "Epoch 71/150\n",
            "34/34 [==============================] - 0s 5ms/step - loss: 4003.3901 - mae: 4003.3901\n",
            "Epoch 72/150\n",
            "34/34 [==============================] - 0s 6ms/step - loss: 3929.0093 - mae: 3929.0093\n",
            "Epoch 73/150\n",
            "34/34 [==============================] - 0s 5ms/step - loss: 3866.3115 - mae: 3866.3115\n",
            "Epoch 74/150\n",
            "34/34 [==============================] - 0s 7ms/step - loss: 3813.7146 - mae: 3813.7146\n",
            "Epoch 75/150\n",
            "34/34 [==============================] - 0s 5ms/step - loss: 3773.0320 - mae: 3773.0320\n",
            "Epoch 76/150\n",
            "34/34 [==============================] - 0s 5ms/step - loss: 3744.1997 - mae: 3744.1997\n",
            "Epoch 77/150\n",
            "34/34 [==============================] - 0s 6ms/step - loss: 3719.6870 - mae: 3719.6870\n",
            "Epoch 78/150\n",
            "34/34 [==============================] - 0s 5ms/step - loss: 3702.9114 - mae: 3702.9114\n",
            "Epoch 79/150\n",
            "34/34 [==============================] - 0s 6ms/step - loss: 3691.8794 - mae: 3691.8794\n",
            "Epoch 80/150\n",
            "34/34 [==============================] - 0s 6ms/step - loss: 3682.8350 - mae: 3682.8350\n",
            "Epoch 81/150\n",
            "34/34 [==============================] - 0s 6ms/step - loss: 3676.9766 - mae: 3676.9766\n",
            "Epoch 82/150\n",
            "34/34 [==============================] - 0s 5ms/step - loss: 3673.9495 - mae: 3673.9495\n",
            "Epoch 83/150\n",
            "34/34 [==============================] - 0s 6ms/step - loss: 3667.8452 - mae: 3667.8452\n",
            "Epoch 84/150\n",
            "34/34 [==============================] - 0s 4ms/step - loss: 3664.5759 - mae: 3664.5759\n",
            "Epoch 85/150\n",
            "34/34 [==============================] - 0s 5ms/step - loss: 3661.8562 - mae: 3661.8562\n",
            "Epoch 86/150\n",
            "34/34 [==============================] - 0s 6ms/step - loss: 3660.3049 - mae: 3660.3049\n",
            "Epoch 87/150\n",
            "34/34 [==============================] - 0s 5ms/step - loss: 3657.5134 - mae: 3657.5134\n",
            "Epoch 88/150\n",
            "34/34 [==============================] - 0s 6ms/step - loss: 3655.2202 - mae: 3655.2202\n",
            "Epoch 89/150\n",
            "34/34 [==============================] - 0s 6ms/step - loss: 3653.8833 - mae: 3653.8833\n",
            "Epoch 90/150\n",
            "34/34 [==============================] - 0s 6ms/step - loss: 3652.0198 - mae: 3652.0198\n",
            "Epoch 91/150\n",
            "34/34 [==============================] - 0s 6ms/step - loss: 3648.9990 - mae: 3648.9990\n",
            "Epoch 92/150\n",
            "34/34 [==============================] - 0s 5ms/step - loss: 3648.4463 - mae: 3648.4463\n",
            "Epoch 93/150\n",
            "34/34 [==============================] - 0s 5ms/step - loss: 3646.2300 - mae: 3646.2300\n",
            "Epoch 94/150\n",
            "34/34 [==============================] - 0s 5ms/step - loss: 3644.4377 - mae: 3644.4377\n",
            "Epoch 95/150\n",
            "34/34 [==============================] - 0s 5ms/step - loss: 3645.8770 - mae: 3645.8770\n",
            "Epoch 96/150\n",
            "34/34 [==============================] - 0s 5ms/step - loss: 3642.2571 - mae: 3642.2571\n",
            "Epoch 97/150\n",
            "34/34 [==============================] - 0s 5ms/step - loss: 3640.1184 - mae: 3640.1184\n",
            "Epoch 98/150\n",
            "34/34 [==============================] - 0s 5ms/step - loss: 3638.0649 - mae: 3638.0649\n",
            "Epoch 99/150\n",
            "34/34 [==============================] - 0s 5ms/step - loss: 3637.2053 - mae: 3637.2053\n",
            "Epoch 100/150\n",
            "34/34 [==============================] - 0s 5ms/step - loss: 3636.1707 - mae: 3636.1707\n",
            "Epoch 101/150\n",
            "34/34 [==============================] - 0s 5ms/step - loss: 3633.0808 - mae: 3633.0808\n",
            "Epoch 102/150\n",
            "34/34 [==============================] - 0s 6ms/step - loss: 3630.6155 - mae: 3630.6155\n",
            "Epoch 103/150\n",
            "34/34 [==============================] - 0s 6ms/step - loss: 3629.4309 - mae: 3629.4309\n",
            "Epoch 104/150\n",
            "34/34 [==============================] - 0s 6ms/step - loss: 3627.0295 - mae: 3627.0295\n",
            "Epoch 105/150\n",
            "34/34 [==============================] - 0s 5ms/step - loss: 3625.3792 - mae: 3625.3792\n",
            "Epoch 106/150\n",
            "34/34 [==============================] - 0s 6ms/step - loss: 3624.1890 - mae: 3624.1890\n",
            "Epoch 107/150\n",
            "34/34 [==============================] - 0s 5ms/step - loss: 3623.4668 - mae: 3623.4668\n",
            "Epoch 108/150\n",
            "34/34 [==============================] - 0s 5ms/step - loss: 3621.1238 - mae: 3621.1238\n",
            "Epoch 109/150\n",
            "34/34 [==============================] - 0s 6ms/step - loss: 3621.1895 - mae: 3621.1895\n",
            "Epoch 110/150\n",
            "34/34 [==============================] - 0s 5ms/step - loss: 3618.2805 - mae: 3618.2805\n",
            "Epoch 111/150\n",
            "34/34 [==============================] - 0s 5ms/step - loss: 3615.2795 - mae: 3615.2795\n",
            "Epoch 112/150\n",
            "34/34 [==============================] - 0s 6ms/step - loss: 3613.2454 - mae: 3613.2454\n",
            "Epoch 113/150\n",
            "34/34 [==============================] - 0s 5ms/step - loss: 3611.9092 - mae: 3611.9092\n",
            "Epoch 114/150\n",
            "34/34 [==============================] - 0s 4ms/step - loss: 3610.8162 - mae: 3610.8162\n",
            "Epoch 115/150\n",
            "34/34 [==============================] - 0s 5ms/step - loss: 3609.1038 - mae: 3609.1038\n",
            "Epoch 116/150\n",
            "34/34 [==============================] - 0s 5ms/step - loss: 3607.6526 - mae: 3607.6526\n",
            "Epoch 117/150\n",
            "34/34 [==============================] - 0s 5ms/step - loss: 3604.7556 - mae: 3604.7556\n",
            "Epoch 118/150\n",
            "34/34 [==============================] - 0s 5ms/step - loss: 3600.8137 - mae: 3600.8137\n",
            "Epoch 119/150\n",
            "34/34 [==============================] - 0s 5ms/step - loss: 3602.6384 - mae: 3602.6384\n",
            "Epoch 120/150\n",
            "34/34 [==============================] - 0s 6ms/step - loss: 3600.3203 - mae: 3600.3203\n",
            "Epoch 121/150\n",
            "34/34 [==============================] - 0s 6ms/step - loss: 3595.2522 - mae: 3595.2522\n",
            "Epoch 122/150\n",
            "34/34 [==============================] - 0s 5ms/step - loss: 3594.6338 - mae: 3594.6338\n",
            "Epoch 123/150\n",
            "34/34 [==============================] - 0s 5ms/step - loss: 3592.6138 - mae: 3592.6138\n",
            "Epoch 124/150\n",
            "34/34 [==============================] - 0s 5ms/step - loss: 3590.3994 - mae: 3590.3994\n",
            "Epoch 125/150\n",
            "34/34 [==============================] - 0s 5ms/step - loss: 3588.4041 - mae: 3588.4041\n",
            "Epoch 126/150\n",
            "34/34 [==============================] - 0s 6ms/step - loss: 3587.5063 - mae: 3587.5063\n",
            "Epoch 127/150\n",
            "34/34 [==============================] - 0s 6ms/step - loss: 3588.0413 - mae: 3588.0413\n",
            "Epoch 128/150\n",
            "34/34 [==============================] - 0s 6ms/step - loss: 3584.1001 - mae: 3584.1001\n",
            "Epoch 129/150\n",
            "34/34 [==============================] - 0s 6ms/step - loss: 3582.7317 - mae: 3582.7317\n",
            "Epoch 130/150\n",
            "34/34 [==============================] - 0s 5ms/step - loss: 3579.1133 - mae: 3579.1133\n",
            "Epoch 131/150\n",
            "34/34 [==============================] - 0s 6ms/step - loss: 3577.7144 - mae: 3577.7144\n",
            "Epoch 132/150\n",
            "34/34 [==============================] - 0s 5ms/step - loss: 3574.9951 - mae: 3574.9951\n",
            "Epoch 133/150\n",
            "34/34 [==============================] - 0s 6ms/step - loss: 3573.2947 - mae: 3573.2947\n",
            "Epoch 134/150\n",
            "34/34 [==============================] - 0s 5ms/step - loss: 3571.3865 - mae: 3571.3865\n",
            "Epoch 135/150\n",
            "34/34 [==============================] - 0s 5ms/step - loss: 3569.3606 - mae: 3569.3606\n",
            "Epoch 136/150\n",
            "34/34 [==============================] - 0s 5ms/step - loss: 3568.0552 - mae: 3568.0552\n",
            "Epoch 137/150\n",
            "34/34 [==============================] - 0s 5ms/step - loss: 3566.1060 - mae: 3566.1060\n",
            "Epoch 138/150\n",
            "34/34 [==============================] - 0s 6ms/step - loss: 3563.9614 - mae: 3563.9614\n",
            "Epoch 139/150\n",
            "34/34 [==============================] - 0s 6ms/step - loss: 3563.3354 - mae: 3563.3354\n",
            "Epoch 140/150\n",
            "34/34 [==============================] - 0s 5ms/step - loss: 3561.2305 - mae: 3561.2305\n",
            "Epoch 141/150\n",
            "34/34 [==============================] - 0s 5ms/step - loss: 3561.1250 - mae: 3561.1250\n",
            "Epoch 142/150\n",
            "34/34 [==============================] - 0s 6ms/step - loss: 3558.0391 - mae: 3558.0391\n",
            "Epoch 143/150\n",
            "34/34 [==============================] - 0s 5ms/step - loss: 3558.0337 - mae: 3558.0337\n",
            "Epoch 144/150\n",
            "34/34 [==============================] - 0s 6ms/step - loss: 3555.1953 - mae: 3555.1953\n",
            "Epoch 145/150\n",
            "34/34 [==============================] - 0s 5ms/step - loss: 3553.2444 - mae: 3553.2444\n",
            "Epoch 146/150\n",
            "34/34 [==============================] - 0s 5ms/step - loss: 3553.4756 - mae: 3553.4756\n",
            "Epoch 147/150\n",
            "34/34 [==============================] - 0s 6ms/step - loss: 3551.0718 - mae: 3551.0718\n",
            "Epoch 148/150\n",
            "34/34 [==============================] - 0s 5ms/step - loss: 3549.7551 - mae: 3549.7551\n",
            "Epoch 149/150\n",
            "34/34 [==============================] - 0s 4ms/step - loss: 3547.0061 - mae: 3547.0061\n",
            "Epoch 150/150\n",
            "34/34 [==============================] - 0s 5ms/step - loss: 3546.9907 - mae: 3546.9907\n"
          ]
        },
        {
          "output_type": "execute_result",
          "data": {
            "text/plain": [
              "<keras.callbacks.History at 0x7fa3effdc110>"
            ]
          },
          "metadata": {},
          "execution_count": 61
        }
      ]
    },
    {
      "cell_type": "code",
      "source": [
        "#Evaluate  our insurance model normalized on normal data\n",
        "\n",
        "model_normalized.evaluate(X_test_normal,y_test)"
      ],
      "metadata": {
        "colab": {
          "base_uri": "https://localhost:8080/"
        },
        "id": "tEErvuOlHpyJ",
        "outputId": "3ebeba43-713a-4828-f52b-0de11164901d"
      },
      "execution_count": null,
      "outputs": [
        {
          "output_type": "stream",
          "name": "stdout",
          "text": [
            "9/9 [==============================] - 0s 4ms/step - loss: 3291.2900 - mae: 3291.2900\n"
          ]
        },
        {
          "output_type": "execute_result",
          "data": {
            "text/plain": [
              "[3291.2900390625, 3291.2900390625]"
            ]
          },
          "metadata": {},
          "execution_count": 63
        }
      ]
    },
    {
      "cell_type": "code",
      "source": [
        ""
      ],
      "metadata": {
        "id": "fomMTpIYKEpU"
      },
      "execution_count": null,
      "outputs": []
    }
  ]
}