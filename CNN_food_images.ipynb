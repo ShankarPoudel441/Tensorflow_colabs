{
  "nbformat": 4,
  "nbformat_minor": 0,
  "metadata": {
    "colab": {
      "name": "CNN_food_images",
      "provenance": [],
      "authorship_tag": "ABX9TyO2kr037jNJM30guGr5k04L",
      "include_colab_link": true
    },
    "kernelspec": {
      "name": "python3",
      "display_name": "Python 3"
    },
    "language_info": {
      "name": "python"
    }
  },
  "cells": [
    {
      "cell_type": "markdown",
      "metadata": {
        "id": "view-in-github",
        "colab_type": "text"
      },
      "source": [
        "<a href=\"https://colab.research.google.com/github/ShankarPoudel441/Tensorflow_colabs/blob/master/CNN_food_images.ipynb\" target=\"_parent\"><img src=\"https://colab.research.google.com/assets/colab-badge.svg\" alt=\"Open In Colab\"/></a>"
      ]
    },
    {
      "cell_type": "code",
      "execution_count": 3,
      "metadata": {
        "colab": {
          "base_uri": "https://localhost:8080/"
        },
        "id": "SP6HkY_8PVqI",
        "outputId": "24cbea6c-1165-4050-f207-0245b39168b4"
      },
      "outputs": [
        {
          "output_type": "stream",
          "name": "stdout",
          "text": [
            "--2022-01-21 06:13:22--  https://storage.googleapis.com/ztm_tf_course/food_vision/pizza_steak.zip\n",
            "Resolving storage.googleapis.com (storage.googleapis.com)... 142.251.107.128, 173.194.218.128, 64.233.170.128, ...\n",
            "Connecting to storage.googleapis.com (storage.googleapis.com)|142.251.107.128|:443... connected.\n",
            "HTTP request sent, awaiting response... 200 OK\n",
            "Length: 109540975 (104M) [application/zip]\n",
            "Saving to: ‘pizza_steak.zip.1’\n",
            "\n",
            "pizza_steak.zip.1   100%[===================>] 104.47M   323MB/s    in 0.3s    \n",
            "\n",
            "2022-01-21 06:13:22 (323 MB/s) - ‘pizza_steak.zip.1’ saved [109540975/109540975]\n",
            "\n"
          ]
        }
      ],
      "source": [
        "import zipfile\n",
        "\n",
        "# Download zip file of pizza_steak images\n",
        "!wget https://storage.googleapis.com/ztm_tf_course/food_vision/pizza_steak.zip \n",
        "# !wget https://wiki.cancerimagingarchive.net/download/attachments/22516629/Mass-Training_full_mammogram_images_1-doiJNLP-wv6aeYDn.tcia?version=1&modificationDate=1534787720182&api=v2\n",
        "\n",
        "\n",
        "# Unzip the downloaded file\n",
        "zip_ref = zipfile.ZipFile(\"pizza_steak.zip\", \"r\")\n",
        "zip_ref.extractall()\n",
        "zip_ref.close()"
      ]
    },
    {
      "cell_type": "code",
      "source": [
        ""
      ],
      "metadata": {
        "id": "y2eFtHuDPp5R"
      },
      "execution_count": 10,
      "outputs": []
    },
    {
      "cell_type": "code",
      "source": [
        "!ls pizza_steak/\n"
      ],
      "metadata": {
        "colab": {
          "base_uri": "https://localhost:8080/"
        },
        "id": "rIlRJEHZROd-",
        "outputId": "38cc1007-3f01-4e64-a14b-daaf27fcdb56"
      },
      "execution_count": 11,
      "outputs": [
        {
          "output_type": "stream",
          "name": "stdout",
          "text": [
            "test  train\n"
          ]
        }
      ]
    },
    {
      "cell_type": "code",
      "source": [
        "!ls pizza_steak/test/steak"
      ],
      "metadata": {
        "colab": {
          "base_uri": "https://localhost:8080/"
        },
        "id": "2Wh5FMUwRTZ5",
        "outputId": "b094098d-df1a-4bc8-b79f-686179313829"
      },
      "execution_count": 9,
      "outputs": [
        {
          "output_type": "stream",
          "name": "stdout",
          "text": [
            "100274.jpg   1653815.jpg  2307638.jpg  2944161.jpg  3622237.jpg  638678.jpg\n",
            "1012080.jpg  1655387.jpg  2308682.jpg  2945937.jpg  365725.jpg\t 640024.jpg\n",
            "1016217.jpg  1662212.jpg  2315011.jpg  296375.jpg   3662612.jpg  647683.jpg\n",
            "1064847.jpg  168551.jpg   2339231.jpg  2981911.jpg  367422.jpg\t 653303.jpg\n",
            "1082384.jpg  1687010.jpg  2353677.jpg  2984679.jpg  3681340.jpg  66183.jpg\n",
            "108310.jpg   1718949.jpg  2365038.jpg  2989645.jpg  3753767.jpg  66207.jpg\n",
            "1094883.jpg  1778186.jpg  2372048.jpg  3013185.jpg  3757027.jpg  66858.jpg\n",
            "1107549.jpg  1792128.jpg  2382600.jpg  3013404.jpg  378397.jpg\t 670345.jpg\n",
            "1118585.jpg  1794566.jpg  2416973.jpg  3029602.jpg  3786535.jpg  673127.jpg\n",
            "1163050.jpg  1848046.jpg  2475366.jpg  3048920.jpg  3835895.jpg  690177.jpg\n",
            "1166047.jpg  1848936.jpg  2484823.jpg  3060047.jpg  3842125.jpg  690477.jpg\n",
            "1190808.jpg  1868005.jpg  2510026.jpg  3062369.jpg  3873283.jpg  697562.jpg\n",
            "1194662.jpg  1872368.jpg  2512387.jpg  3063435.jpg  3873655.jpg  7056.jpg\n",
            "1206166.jpg  1874088.jpg  2545411.jpg  3088325.jpg  3901703.jpg  717293.jpg\n",
            "1225389.jpg  1879697.jpg  2576310.jpg  30892.jpg    3903517.jpg  721500.jpg\n",
            "1259789.jpg  1882831.jpg  2600656.jpg  3100563.jpg  3905395.jpg  730464.jpg\n",
            "1274725.jpg  1902895.jpg  2619782.jpg  3137334.jpg  391144.jpg\t 746921.jpg\n",
            "1285886.jpg  1951003.jpg  2649745.jpg  3138001.jpg  39461.jpg\t 766575.jpg\n",
            "1288129.jpg  1956040.jpg  2685931.jpg  3173402.jpg  399377.jpg\t 776184.jpg\n",
            "1288540.jpg  1972463.jpg  2716791.jpg  321090.jpg   400530.jpg\t 787462.jpg\n",
            "13023.jpg    1982192.jpg  2720938.jpg  3235645.jpg  400951.jpg\t 790544.jpg\n",
            "1302563.jpg  1983405.jpg  2726773.jpg  324862.jpg   401660.jpg\t 831681.jpg\n",
            "1319758.jpg  2014349.jpg  2738323.jpg  3293212.jpg  40947.jpg\t 835871.jpg\n",
            "1335842.jpg  2056621.jpg  27415.jpg    3293650.jpg  413497.jpg\t 847477.jpg\n",
            "1342025.jpg  2061929.jpg  2752603.jpg  3297938.jpg  429304.jpg\t 864661.jpg\n",
            "1352319.jpg  2069289.jpg  2756200.jpg  3315737.jpg  459522.jpg\t 867610.jpg\n",
            "13719.jpg    2071320.jpg  2772358.jpg  3343970.jpg  476333.jpg\t 86782.jpg\n",
            "1375503.jpg  2077577.jpg  277297.jpg   3352834.jpg  481867.jpg\t 87246.jpg\n",
            "1379840.jpg  2092345.jpg  2802460.jpg  3383942.jpg  48208.jpg\t 894825.jpg\n",
            "138754.jpg   2117351.jpg  2814314.jpg  3424937.jpg  4889.jpg\t 902211.jpg\n",
            "1403881.jpg  2138503.jpg  281731.jpg   3444448.jpg  502076.jpg\t 904856.jpg\n",
            "1415873.jpg  2144308.jpg  2821155.jpg  347745.jpg   504349.jpg\t 906508.jpg\n",
            "144370.jpg   219196.jpg   2824517.jpg  3479599.jpg  515830.jpg\t 90930.jpg\n",
            "1449248.jpg  2193535.jpg  2825105.jpg  3497585.jpg  526186.jpg\t 912108.jpg\n",
            "1451299.jpg  2198931.jpg  284097.jpg   3503350.jpg  550687.jpg\t 918793.jpg\n",
            "1482489.jpg  221604.jpg   2843725.jpg  3504515.jpg  552171.jpg\t 926656.jpg\n",
            "148595.jpg   2229090.jpg  285269.jpg   3541033.jpg  562855.jpg\t 928920.jpg\n",
            "1498778.jpg  2246332.jpg  2861000.jpg  354513.jpg   565095.jpg\t 958704.jpg\n",
            "1499273.jpg  2276476.jpg  289822.jpg   3548389.jpg  595836.jpg\t 966174.jpg\n",
            "1515274.jpg  2285106.jpg  290406.jpg   3553838.jpg  603417.jpg\t 970916.jpg\n",
            "1523026.jpg  228683.jpg   2921355.jpg  3576324.jpg  60819.jpg\n",
            "1627703.jpg  2293470.jpg  2943601.jpg  36042.jpg    6261.jpg\n"
          ]
        }
      ]
    },
    {
      "cell_type": "code",
      "source": [
        "import os\n",
        "\n",
        "# Walk through pizza_steak directory and list number of files\n",
        "for dirpath, dirnames, filenames in os.walk(\"pizza_steak\"):\n",
        "  print(f\"There are {len(dirnames)} directories and {len(filenames)} images in '{dirpath}'.\")"
      ],
      "metadata": {
        "colab": {
          "base_uri": "https://localhost:8080/"
        },
        "id": "RHsKNJdSRhlC",
        "outputId": "30f93974-55eb-48f1-ee8f-72c6bdcdc132"
      },
      "execution_count": 12,
      "outputs": [
        {
          "output_type": "stream",
          "name": "stdout",
          "text": [
            "There are 2 directories and 0 images in 'pizza_steak'.\n",
            "There are 2 directories and 0 images in 'pizza_steak/test'.\n",
            "There are 0 directories and 250 images in 'pizza_steak/test/steak'.\n",
            "There are 0 directories and 250 images in 'pizza_steak/test/pizza'.\n",
            "There are 2 directories and 0 images in 'pizza_steak/train'.\n",
            "There are 0 directories and 750 images in 'pizza_steak/train/steak'.\n",
            "There are 0 directories and 750 images in 'pizza_steak/train/pizza'.\n"
          ]
        }
      ]
    },
    {
      "cell_type": "code",
      "source": [
        ""
      ],
      "metadata": {
        "id": "DoezffMXSH-t"
      },
      "execution_count": null,
      "outputs": []
    }
  ]
}